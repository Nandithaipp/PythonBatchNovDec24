{
 "cells": [
  {
   "cell_type": "code",
   "execution_count": 4,
   "metadata": {},
   "outputs": [
    {
     "name": "stdout",
     "output_type": "stream",
     "text": [
      "16.25\n"
     ]
    }
   ],
   "source": [
    "total_revolutions = 32.5\n",
    "revolutions_in_a_day = 2\n",
    "\n",
    "total_days = total_revolutions / revolutions_in_a_day\n",
    "\n",
    "print(total_days)"
   ]
  },
  {
   "cell_type": "code",
   "execution_count": 3,
   "metadata": {},
   "outputs": [
    {
     "name": "stdout",
     "output_type": "stream",
     "text": [
      "7\n"
     ]
    }
   ],
   "source": [
    "def sod(n):\n",
    "  result = 0\n",
    "  while n > 0:\n",
    "    n, digit = divmod(n, 10)\n",
    "    result += digit\n",
    "  return result\n",
    "\n",
    "print(sod(241))"
   ]
  },
  {
   "cell_type": "markdown",
   "metadata": {},
   "source": [
    "## Absolute numbers\n",
    "Builtin function, to return the absolute value.\n",
    "If a is positive real integer,\n",
    "        abs (a) = a\n",
    "        abs (-a) = a\n",
    "        abs (a+bj) is equal to math. sqrt (pow(a, 2) + pow(b,2))"
   ]
  },
  {
   "cell_type": "code",
   "execution_count": 2,
   "metadata": {},
   "outputs": [
    {
     "name": "stdout",
     "output_type": "stream",
     "text": [
      "abs (3)      = 3\n",
      "abs (-3)     =  3\n",
      "abs (-3234.34234)=  3234.34234\n",
      "abs (0.00000001) =  1e-08\n"
     ]
    }
   ],
   "source": [
    "print(\"abs (3)      =\", abs(3))\n",
    "print(\"abs (-3)     = \", abs (-3))\n",
    "\n",
    "print (\"abs (-3234.34234)= \", abs (-3234.34234))\n",
    "print(\"abs (0.00000001) = \", abs (0.00000001))"
   ]
  },
  {
   "cell_type": "code",
   "execution_count": 4,
   "metadata": {},
   "outputs": [
    {
     "name": "stdout",
     "output_type": "stream",
     "text": [
      "abs (-3 + 4j) = 5.0\n",
      "abs (-3 + 4.0j) =  5.0\n"
     ]
    }
   ],
   "source": [
    "print (\"abs (-3 + 4j) =\", abs (-3 + 4j)) # 5.0\n",
    "print (\"abs (-3 + 4.0j) = \", abs (-3 + 4j)) # 5.0"
   ]
  },
  {
   "cell_type": "code",
   "execution_count": 6,
   "metadata": {},
   "outputs": [],
   "source": [
    "#import a module(library) to use\n",
    "import math"
   ]
  },
  {
   "cell_type": "code",
   "execution_count": 8,
   "metadata": {},
   "outputs": [
    {
     "name": "stdout",
     "output_type": "stream",
     "text": [
      "5.0\n",
      "5.0\n"
     ]
    }
   ],
   "source": [
    "print(math.sqrt(pow(-3,2) + pow(4,2)))\n",
    "print(math.sqrt((-3) ** 2 + 4**2))"
   ]
  },
  {
   "cell_type": "markdown",
   "metadata": {},
   "source": [
    "#### Assignment: sum of digits in a integer number using divmod\n",
    "#### Assignment: If a clock has revolved for 32 times, and is half way, how many days completed\n",
    "\n"
   ]
  },
  {
   "cell_type": "code",
   "execution_count": 1,
   "metadata": {},
   "outputs": [
    {
     "data": {
      "text/plain": [
       "3"
      ]
     },
     "execution_count": 1,
     "metadata": {},
     "output_type": "execute_result"
    }
   ],
   "source": [
    "10//3"
   ]
  },
  {
   "cell_type": "markdown",
   "metadata": {},
   "source": [
    "## Arithmetic Operations\n"
   ]
  }
 ],
 "metadata": {
  "kernelspec": {
   "display_name": "Python 3",
   "language": "python",
   "name": "python3"
  },
  "language_info": {
   "codemirror_mode": {
    "name": "ipython",
    "version": 3
   },
   "file_extension": ".py",
   "mimetype": "text/x-python",
   "name": "python",
   "nbconvert_exporter": "python",
   "pygments_lexer": "ipython3",
   "version": "3.12.1"
  }
 },
 "nbformat": 4,
 "nbformat_minor": 2
}

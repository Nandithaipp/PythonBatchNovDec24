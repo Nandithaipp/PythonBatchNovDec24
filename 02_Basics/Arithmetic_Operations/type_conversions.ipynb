{
 "cells": [
  {
   "cell_type": "code",
   "execution_count": 7,
   "metadata": {},
   "outputs": [
    {
     "name": "stdout",
     "output_type": "stream",
     "text": [
      "-0x17\n",
      "-0x17\n"
     ]
    }
   ],
   "source": [
    "# octal -> hexadecimal\n",
    "print(hex(int(\"-0o27\", base=8)))   # -0x17\n",
    "print(hex(int(\"-27\", base=8)))     # -0x17"
   ]
  },
  {
   "cell_type": "markdown",
   "metadata": {},
   "source": [
    "## Assignment convert hex to oct and vice versa\n",
    "# hexadecimal -> octal\n",
    "print(oct(int(\"-0x17\", base=16)))  # -0o27\n",
    "print(oct(int(\"-17\", base=16)))    # -0o27\n",
    "\n",
    "# octal -> hexadecimal\n",
    "print(hex(int(\"-0o27\", base=8)))   # -0x17\n",
    "print(hex(int(\"-27\", base=8)))     # -0x17"
   ]
  },
  {
   "cell_type": "code",
   "execution_count": 6,
   "metadata": {},
   "outputs": [
    {
     "name": "stdout",
     "output_type": "stream",
     "text": [
      "-0o27\n",
      "-0o27\n"
     ]
    }
   ],
   "source": [
    "# hexadecimal -> octal\n",
    "print(oct(int(\"-0x17\", base=16)))  # -0o27\n",
    "print(oct(int(\"-17\", base=16)))    # -0o27"
   ]
  },
  {
   "cell_type": "code",
   "execution_count": 5,
   "metadata": {},
   "outputs": [
    {
     "name": "stdout",
     "output_type": "stream",
     "text": [
      "-23\n",
      "-23\n",
      "-23\n",
      "-17\n"
     ]
    }
   ],
   "source": [
    "# hexadecimal -> decimal\n",
    "print(int(hex(-23), base=16)) # -23\n",
    "print(int(\"-0x17\", base=16)) # -23\n",
    "print(int (\"-17\", base=16)) # -23\n",
    "print(int(\"-17\")) # -17"
   ]
  },
  {
   "cell_type": "code",
   "execution_count": 4,
   "metadata": {},
   "outputs": [
    {
     "data": {
      "text/plain": [
       "'0b100001'"
      ]
     },
     "execution_count": 4,
     "metadata": {},
     "output_type": "execute_result"
    }
   ],
   "source": [
    "bin(33)"
   ]
  },
  {
   "cell_type": "code",
   "execution_count": 3,
   "metadata": {},
   "outputs": [
    {
     "name": "stdout",
     "output_type": "stream",
     "text": [
      "12 12.0\n"
     ]
    }
   ],
   "source": [
    "print(12, float(12))"
   ]
  },
  {
   "cell_type": "code",
   "execution_count": 2,
   "metadata": {},
   "outputs": [
    {
     "name": "stdout",
     "output_type": "stream",
     "text": [
      "num= 12 <class 'int'>\n"
     ]
    }
   ],
   "source": [
    "num =12\n",
    "print(\"num=\",num, type(num))"
   ]
  },
  {
   "cell_type": "markdown",
   "metadata": {},
   "source": [
    "## Data conversion types\n",
    "        - int, float, boolean, complex, string, None\n",
    "\n",
    "        Int- decimal int(), binary bin(), hexdecimal hex(), octal oct()\n",
    "        float- float()\n",
    "        string - str()\n"
   ]
  }
 ],
 "metadata": {
  "kernelspec": {
   "display_name": "Python 3",
   "language": "python",
   "name": "python3"
  },
  "language_info": {
   "codemirror_mode": {
    "name": "ipython",
    "version": 3
   },
   "file_extension": ".py",
   "mimetype": "text/x-python",
   "name": "python",
   "nbconvert_exporter": "python",
   "pygments_lexer": "ipython3",
   "version": "3.12.1"
  }
 },
 "nbformat": 4,
 "nbformat_minor": 2
}

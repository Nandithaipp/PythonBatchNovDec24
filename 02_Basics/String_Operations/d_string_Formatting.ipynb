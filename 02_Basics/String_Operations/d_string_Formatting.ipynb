{
 "cells": [
  {
   "cell_type": "markdown",
   "metadata": {},
   "source": [
    "# String Formatting\n",
    "\n",
    "            - Types\n",
    "                1. Old Style formatting (or literal formatting)\n",
    "                2. New Style formatting\n",
    "                3. F-Strings  ( works from python 3.6+)\n",
    "\n",
    "\n",
    "    OLD-Style formatting\n",
    "        %d - integer\n",
    "        %i - integer\n",
    "\n",
    "        %c - single char\n",
    "        %s - string/char\n",
    "\n",
    "        %f - floating-point\n",
    "        %F - floating-point\n",
    "\n",
    "        %o - octal\n",
    "        %x - hexadecimal lowercase\n",
    "        %X - hexadecimal uppercase"
   ]
  },
  {
   "cell_type": "code",
   "execution_count": 3,
   "metadata": {},
   "outputs": [
    {
     "name": "stdout",
     "output_type": "stream",
     "text": [
      "My lucky number is %d\n",
      "My lucky number is 12\n",
      "My lucky number is 12\n"
     ]
    }
   ],
   "source": [
    "\n",
    "print(\"My lucky number is %d\")\n",
    "print(\"My lucky number is %d\" % (12))\n",
    "print(\"My lucky number is %i\" % 12)"
   ]
  },
  {
   "cell_type": "code",
   "execution_count": 3,
   "metadata": {},
   "outputs": [
    {
     "name": "stdout",
     "output_type": "stream",
     "text": [
      "My lucky number is 12\n"
     ]
    }
   ],
   "source": [
    "print(\"My lucky number is %d\" % 12.34)  # int(12.34)"
   ]
  },
  {
   "cell_type": "code",
   "execution_count": 6,
   "metadata": {},
   "outputs": [
    {
     "name": "stdout",
     "output_type": "stream",
     "text": [
      "My lucky number is 12.340000\n",
      "My lucky number is 12.000000\n",
      "My lucky number is 0.000000\n"
     ]
    }
   ],
   "source": [
    "print(\"My lucky number is %f\" % 12.34)\n",
    "print(\"My lucky number is %f\" % 12)  # float(12)\n",
    "print(\"My lucky number is %f\" % False)"
   ]
  },
  {
   "cell_type": "code",
   "execution_count": 7,
   "metadata": {},
   "outputs": [
    {
     "name": "stdout",
     "output_type": "stream",
     "text": [
      "\n",
      "My lucky number is True\n",
      "My lucky number is None\n",
      "My lucky number is 1\n",
      "My lucky number is 13.4\n",
      "My lucky number is 133224234\n",
      "My lucky number is python\n"
     ]
    }
   ],
   "source": [
    "print()  # str()\n",
    "print(\"My lucky number is %s\" % True)\n",
    "print(\"My lucky number is %s\" % None)\n",
    "print(\"My lucky number is %s\" % 1)\n",
    "print(\"My lucky number is %s\" % 13.4)\n",
    "print(\"My lucky number is %s\" % 133224234)\n",
    "print(\"My lucky number is %s\" % \"python\")"
   ]
  },
  {
   "cell_type": "code",
   "execution_count": 8,
   "metadata": {},
   "outputs": [
    {
     "name": "stdout",
     "output_type": "stream",
     "text": [
      "\n",
      "My lucky number is True\n",
      "My lucky number is None\n",
      "My lucky number is 1\n",
      "My lucky number is 13.4\n",
      "My lucky number is 133224234\n",
      "My lucky number is 'python'\n"
     ]
    }
   ],
   "source": [
    "print()  # repr()\n",
    "print(\"My lucky number is %r\" % True)\n",
    "print(\"My lucky number is %r\" % None)\n",
    "print(\"My lucky number is %r\" % 1)\n",
    "print(\"My lucky number is %r\" % 13.4)\n",
    "print(\"My lucky number is %r\" % 133224234)\n",
    "print(\"My lucky number is %r\" % \"python\")"
   ]
  },
  {
   "cell_type": "code",
   "execution_count": null,
   "metadata": {},
   "outputs": [
    {
     "name": "stdout",
     "output_type": "stream",
     "text": [
      "42 0o42\n",
      "22 0x22\n"
     ]
    }
   ],
   "source": [
    "# %o octal\n",
    "print(\"%o\" % 34, oct(34))\n",
    "\n",
    "# %x hexadecimal lowercase\n",
    "print(\"%x\" % 34, hex(34))\n"
   ]
  },
  {
   "cell_type": "code",
   "execution_count": null,
   "metadata": {},
   "outputs": [
    {
     "name": "stdout",
     "output_type": "stream",
     "text": [
      "0b1100\n"
     ]
    }
   ],
   "source": [
    "# %b - binary python doesnt support %b \n",
    "print('%b' % (12), bin(12))\n",
    "print( bin(12))"
   ]
  },
  {
   "cell_type": "code",
   "execution_count": 11,
   "metadata": {},
   "outputs": [
    {
     "name": "stdout",
     "output_type": "stream",
     "text": [
      "12\n",
      "1\n",
      "1\n"
     ]
    }
   ],
   "source": [
    "print(\"%s\" % \"12\")\n",
    "print(\"%c\" % \"1\")\n",
    "print(\"%s\" % \"1\")"
   ]
  },
  {
   "cell_type": "code",
   "execution_count": 12,
   "metadata": {},
   "outputs": [
    {
     "ename": "TypeError",
     "evalue": "%c requires int or char",
     "output_type": "error",
     "traceback": [
      "\u001b[0;31m---------------------------------------------------------------------------\u001b[0m",
      "\u001b[0;31mTypeError\u001b[0m                                 Traceback (most recent call last)",
      "Cell \u001b[0;32mIn[12], line 1\u001b[0m\n\u001b[0;32m----> 1\u001b[0m \u001b[38;5;28mprint\u001b[39m(\u001b[38;5;124;43m\"\u001b[39;49m\u001b[38;5;132;43;01m%c\u001b[39;49;00m\u001b[38;5;124;43m\"\u001b[39;49m\u001b[43m \u001b[49m\u001b[38;5;241;43m%\u001b[39;49m\u001b[43m \u001b[49m\u001b[38;5;124;43m\"\u001b[39;49m\u001b[38;5;124;43m12\u001b[39;49m\u001b[38;5;124;43m\"\u001b[39;49m)\n",
      "\u001b[0;31mTypeError\u001b[0m: %c requires int or char"
     ]
    }
   ],
   "source": [
    "print(\"%c\" % \"12\")\n"
   ]
  },
  {
   "cell_type": "code",
   "execution_count": 7,
   "metadata": {},
   "outputs": [
    {
     "name": "stdout",
     "output_type": "stream",
     "text": [
      "My name is Abhi. I am 99 old paying a tax of 18.500000\n"
     ]
    }
   ],
   "source": [
    "print(\"My name is %s. I am %d old paying a tax of %f\" % (\"Abhi\", 99, 18.5))"
   ]
  },
  {
   "cell_type": "code",
   "execution_count": null,
   "metadata": {},
   "outputs": [
    {
     "name": "stdout",
     "output_type": "stream",
     "text": [
      "Python has 002 quote types.\n",
      "Python has 002 quote types.\n"
     ]
    }
   ],
   "source": [
    "#The number 2 is padded with zeros to ensure it has 3 digits, resulting in 002.\n",
    "print(\n",
    "    \"%(language)s has %(My lucky number)03d quote types.\"\n",
    "    % {\"language\": \"Python\", \"My lucky number\": 2}\n",
    ")\n",
    "print(\n",
    "    \"%(language)s has %(My lucky number)03d quote types.\"\n",
    "    % { \"My lucky number\": 2, \"language\": \"Python\"}\n",
    ")"
   ]
  },
  {
   "cell_type": "code",
   "execution_count": 26,
   "metadata": {},
   "outputs": [
    {
     "name": "stdout",
     "output_type": "stream",
     "text": [
      "002\n",
      "002\n",
      "  2\n"
     ]
    }
   ],
   "source": [
    "print(\"2\".zfill(3))     # '002'\n",
    "print(\"%03d\" % 2)       # '002'\n",
    "print(\"%3d\" % 2)        # '  2'"
   ]
  },
  {
   "cell_type": "code",
   "execution_count": null,
   "metadata": {},
   "outputs": [],
   "source": [
    "# Limitations of old style string formatting\n",
    "# 1. same data types need to be passed\n",
    "# 2. If same value need to go more than one time, those many number of times, values need to be passed"
   ]
  },
  {
   "cell_type": "markdown",
   "metadata": {},
   "source": [
    "# New-Style String formatting"
   ]
  },
  {
   "cell_type": "code",
   "execution_count": null,
   "metadata": {},
   "outputs": [
    {
     "name": "stdout",
     "output_type": "stream",
     "text": [
      "d\n",
      "\n"
     ]
    }
   ],
   "source": [
    "print(\"\" % ())          # OLD Style\n",
    "print(\"{}\".format(\"\"))  # New Style\n",
    "# print(format(\"{}\"))"
   ]
  },
  {
   "cell_type": "code",
   "execution_count": 10,
   "metadata": {},
   "outputs": [
    {
     "name": "stdout",
     "output_type": "stream",
     "text": [
      "abhi\n",
      "{}\n",
      "{abhi}\n"
     ]
    }
   ],
   "source": [
    "print(\"{}\".format(\"abhi\"))         # 'abhi'\n",
    "print(\"{{}}\".format(\"abhi\"))       # '{}' {{}} acts as a escape character\n",
    "print(\"{{{}}}\".format(\"abhi\"))     # '{abhi}'"
   ]
  },
  {
   "cell_type": "code",
   "execution_count": 33,
   "metadata": {},
   "outputs": [
    {
     "name": "stdout",
     "output_type": "stream",
     "text": [
      "None and True\n",
      "None and True\n",
      "True and None\n"
     ]
    }
   ],
   "source": [
    "print(\"{} and {}\".format(None, True))\n",
    "print(\"{0} and {1}\".format(None, True))\n",
    "print(\"{1} and {0}\".format(None, True))"
   ]
  },
  {
   "cell_type": "code",
   "execution_count": 35,
   "metadata": {},
   "outputs": [
    {
     "name": "stdout",
     "output_type": "stream",
     "text": [
      "None and None\n"
     ]
    }
   ],
   "source": [
    "print(\"{0} and {0}\".format(None))"
   ]
  },
  {
   "cell_type": "code",
   "execution_count": 13,
   "metadata": {},
   "outputs": [
    {
     "name": "stdout",
     "output_type": "stream",
     "text": [
      "The integer value is 12\n"
     ]
    }
   ],
   "source": [
    "# Assignment: how to take floating point value, and display in new style formating as integer, in the string\n",
    "\n",
    "float_value = 12.34\n",
    "\n",
    "\n",
    "string1 = \"The integer value is {}\".format(int(float_value))\n",
    "\n",
    "print(string1)  # Output: The integer value is 12\n"
   ]
  },
  {
   "cell_type": "code",
   "execution_count": null,
   "metadata": {},
   "outputs": [
    {
     "name": "stdout",
     "output_type": "stream",
     "text": [
      "3.141593\n",
      " 3.141593\n",
      "    3.142\n"
     ]
    }
   ],
   "source": [
    "print(\"{:f}\".format(math.pi))       # 3.141593  f means it should have 6 decimals\n",
    "print(\"{:9f}\".format(math.pi))      # 3.141593 9f means the output must have 9 width\n",
    "print(\"{:9.3f}\".format(math.pi))    #    3.1429 width with three decimals"
   ]
  },
  {
   "cell_type": "code",
   "execution_count": 47,
   "metadata": {},
   "outputs": [
    {
     "name": "stdout",
     "output_type": "stream",
     "text": [
      "314.159265%\n",
      "700.000000%\n"
     ]
    }
   ],
   "source": [
    "# To multiply number with 100 and show % in result\n",
    "print(\"{:%}\".format(math.pi))   # 314.159265%\n",
    "print(\"{:%}\".format(7))         # 700.000000%"
   ]
  },
  {
   "cell_type": "markdown",
   "metadata": {},
   "source": [
    "## real-world Bank transaction"
   ]
  },
  {
   "cell_type": "code",
   "execution_count": 56,
   "metadata": {},
   "outputs": [
    {
     "name": "stdout",
     "output_type": "stream",
     "text": [
      "\n",
      "        Dear Vijay Malya,\n",
      "                Your account ending with 1134 was\n",
      "                deducted 20.5 crores on 12th June 1947 12:34:45.\n",
      "\n",
      "        Thank you for shopping. Visit again!!!\n",
      "         \n"
     ]
    }
   ],
   "source": [
    "# Method 1\n",
    "print(\n",
    "    \"\"\"\n",
    "        Dear {customer},\n",
    "                Your account ending with {accound_last_4_digits} was\n",
    "                deducted {transaction_amount} on {transaction_time}.\n",
    "\n",
    "        Thank you for shopping. Visit again!!!\n",
    "         \"\"\".format(\n",
    "        customer=\"Vijay Malya\",\n",
    "        accound_last_4_digits=1134,\n",
    "        transaction_amount=\"20.5 crores\",\n",
    "        transaction_time=\"12th June 1947 12:34:45\",\n",
    "    )\n",
    ")"
   ]
  },
  {
   "cell_type": "code",
   "execution_count": null,
   "metadata": {},
   "outputs": [
    {
     "name": "stdout",
     "output_type": "stream",
     "text": [
      "\n",
      "        Dear Vijay Malya,\n",
      "                Your account ending with 1134 was\n",
      "                deducted 20.5 crores on 12th June 1947 12:34:45.\n",
      "\n",
      "        Thank you for shopping. Visit again!\n",
      "         \n"
     ]
    }
   ],
   "source": [
    "# Method 2\n",
    "result = {\n",
    "    \"customer\": \"Vijay Malya\",\n",
    "    \"accound_last_4_digits\": 1134,\n",
    "    \"transaction_amount\": \"20.5 crores\",\n",
    "    \"transaction_time\": \"12th June 1947 12:34:45\",\n",
    "}\n",
    "\n",
    "print(\n",
    "    \"\"\"\n",
    "        Dear {customer},\n",
    "                Your account ending with {accound_last_4_digits} was\n",
    "                deducted {transaction_amount} on {transaction_time}.\n",
    "\n",
    "        Thank you for shopping. Visit again!\n",
    "         \"\"\".format(\n",
    "        result  # dictionary unpacking\n",
    "    )\n",
    ")"
   ]
  },
  {
   "cell_type": "code",
   "execution_count": 16,
   "metadata": {},
   "outputs": [
    {
     "name": "stdout",
     "output_type": "stream",
     "text": [
      "\n",
      "        Dear Vijay Malya,\n",
      "                Your account ending with 1134 was\n",
      "                deducted 20.5 crores on 12th June 1947 12:34:45.\n",
      "\n",
      "        Thank you for shopping. Visit again!\n",
      "         \n"
     ]
    }
   ],
   "source": [
    "# Method 2\n",
    "result = { \n",
    "    \"customer\": \"Vijay Malya\",\n",
    "    \"accound_last_4_digits\": 1134,\n",
    "    \"transaction_amount\": \"20.5 crores\",\n",
    "    \"transaction_time\": \"12th June 1947 12:34:45\",\n",
    "} #it is a dictionary\n",
    "\n",
    "print(\n",
    "    \"\"\"\n",
    "        Dear {customer},\n",
    "                Your account ending with {accound_last_4_digits} was\n",
    "                deducted {transaction_amount} on {transaction_time}.\n",
    "\n",
    "        Thank you for shopping. Visit again!\n",
    "         \"\"\".format(\n",
    "        **result  # dictionary unpacking\n",
    "    )\n",
    ")"
   ]
  },
  {
   "cell_type": "code",
   "execution_count": 59,
   "metadata": {},
   "outputs": [
    {
     "name": "stdout",
     "output_type": "stream",
     "text": [
      "\n",
      "        Dear Vijay Malya,\n",
      "                Your account ending with 1134 was\n",
      "                deducted 20.5 crores on 12th June 1947 12:34:45.\n",
      "\n",
      "        Thank you for shopping. Visit again!\n",
      "         \n"
     ]
    }
   ],
   "source": [
    "# Method 3\n",
    "print(\n",
    "    \"\"\"\n",
    "        Dear {customer},\n",
    "                Your account ending with {accound_last_4_digits} was\n",
    "                deducted {transaction_amount} on {transaction_time}.\n",
    "\n",
    "        Thank you for shopping. Visit again!\n",
    "         \"\"\".format_map(\n",
    "        result\n",
    "    )\n",
    ")"
   ]
  },
  {
   "cell_type": "markdown",
   "metadata": {},
   "source": [
    "# f_strings"
   ]
  },
  {
   "cell_type": "code",
   "execution_count": 61,
   "metadata": {},
   "outputs": [
    {
     "name": "stdout",
     "output_type": "stream",
     "text": [
      "Hello {name}\n"
     ]
    }
   ],
   "source": [
    "print(\"Hello {name}\")"
   ]
  },
  {
   "cell_type": "code",
   "execution_count": null,
   "metadata": {},
   "outputs": [
    {
     "name": "stdout",
     "output_type": "stream",
     "text": [
      "Hello world\n"
     ]
    }
   ],
   "source": [
    "print(\"Hello {name}\".format(name=\"world\")) # name is only a label, not a variable"
   ]
  },
  {
   "cell_type": "code",
   "execution_count": 66,
   "metadata": {},
   "outputs": [
    {
     "name": "stdout",
     "output_type": "stream",
     "text": [
      "Hello {name}\n",
      "Hello World\n"
     ]
    }
   ],
   "source": [
    "name = \"World\" # variable; not label\n",
    "print(\"Hello {name}\")\n",
    "print(f\"Hello {name}\")"
   ]
  }
 ],
 "metadata": {
  "kernelspec": {
   "display_name": "Python 3",
   "language": "python",
   "name": "python3"
  },
  "language_info": {
   "codemirror_mode": {
    "name": "ipython",
    "version": 3
   },
   "file_extension": ".py",
   "mimetype": "text/x-python",
   "name": "python",
   "nbconvert_exporter": "python",
   "pygments_lexer": "ipython3",
   "version": "3.12.1"
  }
 },
 "nbformat": 4,
 "nbformat_minor": 2
}

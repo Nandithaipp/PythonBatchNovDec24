{
 "cells": [
  {
   "cell_type": "code",
   "execution_count": null,
   "metadata": {},
   "outputs": [],
   "source": []
  },
  {
   "cell_type": "code",
   "execution_count": 31,
   "metadata": {},
   "outputs": [
    {
     "name": "stdout",
     "output_type": "stream",
     "text": [
      "yadot si a doog yad\n"
     ]
    }
   ],
   "source": [
    "assignment = \"today is a good day\"\n",
    "assignment1 = assignment[18::-1]\n",
    "#today is a good day\n",
    "#01234 5 67 8 9 10 11121314 15 161718\n",
    "assignment1 = assignment[4::-1]    # Reverse \"today\"\n",
    "assignment2 = assignment[7:5:-1]   # Reverse \"is\"\n",
    "assignment3 = assignment[9:8:-1]   # Reverse \"a\"\n",
    "assignment4 = assignment[14:10:-1] # Reverse \"good\"\n",
    "assignment5 = assignment[18:15:-1] # Reverse \"day\"\n",
    "\n",
    "print(assignment1, assignment2,assignment3, assignment4, assignment5)\n",
    "\n",
    "\n"
   ]
  },
  {
   "cell_type": "code",
   "execution_count": 22,
   "metadata": {},
   "outputs": [
    {
     "data": {
      "text/plain": [
       "'dcba'"
      ]
     },
     "execution_count": 22,
     "metadata": {},
     "output_type": "execute_result"
    }
   ],
   "source": [
    "\n",
    "\n",
    "\"abcd\"[::-1]  # [0:4:-1]"
   ]
  },
  {
   "cell_type": "code",
   "execution_count": null,
   "metadata": {},
   "outputs": [],
   "source": [
    "# Assignment: reverse each word in given sentence in same order\n",
    "# input : today is good day\n",
    "# output: yadot si doog yad"
   ]
  },
  {
   "cell_type": "code",
   "execution_count": 9,
   "metadata": {},
   "outputs": [
    {
     "name": "stdout",
     "output_type": "stream",
     "text": [
      "language[::-1] : gnimmargorP nohtyP\n"
     ]
    }
   ],
   "source": [
    "# str reversal  language[17:-1:-1]=> 17,16,15, .... 3, 2, 1, 0\n",
    "print(\"language[::-1] :\", language[::-1])"
   ]
  },
  {
   "cell_type": "code",
   "execution_count": 8,
   "metadata": {},
   "outputs": [
    {
     "name": "stdout",
     "output_type": "stream",
     "text": [
      "language[7:18:-1]= \n"
     ]
    }
   ],
   "source": [
    "print(\"language[7:18:-1]=\", language[7:18:-1])\n",
    "# 7-1 = 6 ; it is not between 7 and 18\n",
    "# [7:18:-1]  =>"
   ]
  },
  {
   "cell_type": "code",
   "execution_count": 7,
   "metadata": {},
   "outputs": [
    {
     "name": "stdout",
     "output_type": "stream",
     "text": [
      "language[18:6:-1] gnimmargorP\n"
     ]
    }
   ],
   "source": [
    "# -> slicing above the limit\n",
    "print(\"language[18:6:-1]\", language[18:6:-1])  # 18-1 = 17\n",
    "# [18:6:-1]  => 18, 17, 16, 15, ......8, 7\n",
    "#  -1           17, 16, 15, 14, ......7"
   ]
  },
  {
   "cell_type": "code",
   "execution_count": 6,
   "metadata": {},
   "outputs": [
    {
     "name": "stdout",
     "output_type": "stream",
     "text": [
      "language[7:18] : Programming\n",
      "language[7:999]: Programming\n",
      "language[45:87]: \n"
     ]
    }
   ],
   "source": [
    "print(\"language[7:18] :\", language[7:18])   # Programming\n",
    "print(\"language[7:999]:\", language[7:999]) # 999 index isn't present\n",
    "print(\"language[45:87]:\", language[45:87])  # indexes are not present"
   ]
  },
  {
   "cell_type": "code",
   "execution_count": 5,
   "metadata": {},
   "outputs": [
    {
     "name": "stdout",
     "output_type": "stream",
     "text": [
      "String Slicing\n",
      "language[0:11] : Python Prog\n"
     ]
    }
   ],
   "source": [
    "# Slicing\n",
    "print(\"String Slicing\")  # [start_index: final_index]\n",
    "print(\"language[0:11] :\", language[0:11])  # Python Prog"
   ]
  },
  {
   "cell_type": "code",
   "execution_count": null,
   "metadata": {},
   "outputs": [],
   "source": [
    "# P   y  t  h  o n   P r  o g  r  a  m  m  i  n  g\n",
    "# 0   1  2  3  4 5 6 7 8  9 10 11 12 13 14 15 16 17    - forward indexing\n",
    "# -18                    -9 -8 -7 -6 -5 -4 -3 -2 -1    - reverse indexing\n",
    "\n",
    "# NOTE: indexing starts with 0"
   ]
  },
  {
   "cell_type": "code",
   "execution_count": 4,
   "metadata": {},
   "outputs": [
    {
     "name": "stdout",
     "output_type": "stream",
     "text": [
      "Today is an awesome day    to learn python\n"
     ]
    }
   ],
   "source": [
    "print(\n",
    "    'Today is an awesome day\\\n",
    "    to learn python'\n",
    ")\n",
    "\n",
    "# \\ line continuation operator"
   ]
  },
  {
   "cell_type": "code",
   "execution_count": 3,
   "metadata": {},
   "outputs": [
    {
     "name": "stdout",
     "output_type": "stream",
     "text": [
      "a\n",
      "b\n",
      "\n"
     ]
    }
   ],
   "source": [
    "print(\"a\\nb\\n\")\n",
    "# '\\''\n",
    "# \"'\"\n",
    "# '\"'\n",
    "# ''' '\"\"' '''\n",
    "# \"\"\" ''' '\"\"' '''' \"\"\"\n",
    "# \"  ''' \""
   ]
  },
  {
   "cell_type": "markdown",
   "metadata": {},
   "source": [
    "String Operations\n",
    "Strings can be represented using\n",
    "single quotes,\n",
    "double quotes, or\n",
    "triple single quotes or\n",
    "triple double quotes\n",
    "\n",
    "NOTE: PEP 8 -> use triple double quotes for doc-strings By default, triple quote strings are designed for multiline"
   ]
  },
  {
   "cell_type": "code",
   "execution_count": null,
   "metadata": {},
   "outputs": [],
   "source": []
  },
  {
   "cell_type": "code",
   "execution_count": 1,
   "metadata": {},
   "outputs": [
    {
     "name": "stdout",
     "output_type": "stream",
     "text": [
      "Python Programming <class 'str'>\n"
     ]
    }
   ],
   "source": [
    "# String with single quotes\n",
    "language = 'Python Programming'\n",
    "print(language, type(language))"
   ]
  }
 ],
 "metadata": {
  "kernelspec": {
   "display_name": "Python 3",
   "language": "python",
   "name": "python3"
  },
  "language_info": {
   "codemirror_mode": {
    "name": "ipython",
    "version": 3
   },
   "file_extension": ".py",
   "mimetype": "text/x-python",
   "name": "python",
   "nbconvert_exporter": "python",
   "pygments_lexer": "ipython3",
   "version": "3.12.1"
  }
 },
 "nbformat": 4,
 "nbformat_minor": 2
}

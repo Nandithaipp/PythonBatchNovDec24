{
 "cells": [
  {
   "cell_type": "code",
   "execution_count": null,
   "metadata": {},
   "outputs": [
    {
     "data": {
      "text/plain": [
       "('Python Produc', 't', 'ion')"
      ]
     },
     "execution_count": 27,
     "metadata": {},
     "output_type": "execute_result"
    }
   ],
   "source": [
    "\"Python Production\".split(\"t\")      # ['Py', 'hon Produc', 'ion']\n",
    "\n",
    "\"Python Production\".partition(\"t\")  # ('Py', 't', 'hon Production')\n",
    "\"Python Production\".rpartition(\"t\")  # ('Python Produc', 't', 'ion')\n",
    "\n",
    "#maxsplit()"
   ]
  },
  {
   "cell_type": "code",
   "execution_count": null,
   "metadata": {},
   "outputs": [
    {
     "name": "stdout",
     "output_type": "stream",
     "text": [
      "123\n",
      "0123\n",
      "0000123\n"
     ]
    },
    {
     "data": {
      "text/plain": [
       "'0000123'"
      ]
     },
     "execution_count": 25,
     "metadata": {},
     "output_type": "execute_result"
    }
   ],
   "source": [
    "print(\"123\".zfill(3))  # '123'\n",
    "print(\"123\".zfill(4))  # '0123'\n",
    "\n",
    "print(\"123\".zfill(7))   # '0000123'\n",
    "\"0\" * 4 + \"123\"         # '0000123'\n",
    "#adds zeroes until it reached specified length"
   ]
  },
  {
   "cell_type": "code",
   "execution_count": 26,
   "metadata": {},
   "outputs": [
    {
     "name": "stdout",
     "output_type": "stream",
     "text": [
      "['Python', 'Production']\n",
      "['Python', 'Production']\n",
      "['Python P', 'oduction']\n",
      "['Py', 'hon Produc', 'ion']\n"
     ]
    }
   ],
   "source": [
    "# How to convert a string to a list\n",
    "print(\"Python Production\".split())      # ['Python', 'Production']\n",
    "print(\"Python Production\".split(\" \"))   # ['Python', 'Production']\n",
    "print(\"Python Production\".split(\"r\"))   # ['Python P', 'oduction']\n",
    "print(\"Python Production\".split(\"t\"))   # ['Py', 'hon Produc', 'ion']"
   ]
  },
  {
   "cell_type": "code",
   "execution_count": null,
   "metadata": {},
   "outputs": [
    {
     "name": "stdout",
     "output_type": "stream",
     "text": [
      "python Production\n",
      "python Production  \n",
      "  python Production\n",
      "Production  \n",
      "  python Producti\n"
     ]
    }
   ],
   "source": [
    "print(\"  python Production  \".strip())\n",
    "print(\"  python Production  \".lstrip())\n",
    "print(\"  python Production  \".rstrip())\n",
    "print(\"  python Production  \".lstrip(\"p thnoy\"))\n",
    "print(\"  python Production  \".rstrip(\"p thnoy\"))\n",
    "\n",
    "\n",
    "# strip removes leading or tracing spaces, lstrip() last strip. rstrip first strip"
   ]
  },
  {
   "cell_type": "code",
   "execution_count": 24,
   "metadata": {},
   "outputs": [
    {
     "name": "stdout",
     "output_type": "stream",
     "text": [
      "language.find(\"n\", 6)     : 16\n",
      "language.rfind(\"n\", 15)   : 16\n"
     ]
    }
   ],
   "source": [
    "print('language.find(\"n\", 6)     :', language.find(\"n\", 6))  # 16\n",
    "print('language.rfind(\"n\", 15)   :', language.rfind(\"n\", 15))  # 16"
   ]
  },
  {
   "cell_type": "code",
   "execution_count": null,
   "metadata": {},
   "outputs": [],
   "source": []
  },
  {
   "cell_type": "code",
   "execution_count": 20,
   "metadata": {},
   "outputs": [
    {
     "name": "stdout",
     "output_type": "stream",
     "text": [
      "language.find(\"t\")        : 2\n"
     ]
    }
   ],
   "source": [
    "# .find() - to get first occurrence of given substring, within bounds\n",
    "print('language.find(\"t\")        :', language.find(\"t\"))  # 2"
   ]
  },
  {
   "cell_type": "code",
   "execution_count": 19,
   "metadata": {},
   "outputs": [
    {
     "name": "stdout",
     "output_type": "stream",
     "text": [
      "True\n",
      "False\n",
      "False\n",
      "True\n",
      "True\n",
      "True\n"
     ]
    }
   ],
   "source": [
    "# assignment : str.isdigit vs str.isnumeric\n",
    "\n",
    "a = \"123\" \n",
    "b = \"Ⅳ\"    \n",
    "c = \"½\"    \n",
    "\n",
    "# Using isdigit()\n",
    "print(a.isdigit()) \n",
    "print(b.isdigit())  \n",
    "print(c.isdigit()) \n",
    "\n",
    "# Using isnumeric()\n",
    "print(a.isnumeric())\n",
    "print(b.isnumeric()) \n",
    "print(c.isnumeric())  \n"
   ]
  },
  {
   "cell_type": "code",
   "execution_count": 18,
   "metadata": {},
   "outputs": [
    {
     "name": "stdout",
     "output_type": "stream",
     "text": [
      "strasse\n",
      "strasse\n",
      "Both texts are equal (case-insensitive).\n"
     ]
    }
   ],
   "source": [
    "# Assignment : identify few examples in different languages for casefold attribute usecase\n",
    "\n",
    "text1 = \"Straße\"\n",
    "text2 = \"strasse\"\n",
    "\n",
    "\n",
    "print(text1.casefold()) \n",
    "print(text2.casefold())  \n",
    "\n",
    "if text1.casefold() == text2.casefold():\n",
    "    print(\"Both texts are equal (case-insensitive).\")\n",
    "else:\n",
    "    print(\"The texts are different.\")"
   ]
  },
  {
   "cell_type": "markdown",
   "metadata": {},
   "source": []
  },
  {
   "cell_type": "code",
   "execution_count": 11,
   "metadata": {},
   "outputs": [
    {
     "name": "stdout",
     "output_type": "stream",
     "text": [
      "language             : Python Programming\n",
      "language.capitalize(): Python programming\n",
      "language.title()     : Python Programming\n",
      "language.upper()     : PYTHON PROGRAMMING\n",
      "language.lower()     : python programming\n",
      "language.swapcase()  : pYTHON pROGRAMMING\n"
     ]
    }
   ],
   "source": [
    "print(\"language             :\", language)\n",
    "print(\"language.capitalize():\", language.capitalize())\n",
    "print(\"language.title()     :\", language.title())\n",
    "print(\"language.upper()     :\", language.upper())\n",
    "print(\"language.lower()     :\", language.lower())\n",
    "print(\"language.swapcase()  :\", language.swapcase())"
   ]
  },
  {
   "cell_type": "code",
   "execution_count": 8,
   "metadata": {},
   "outputs": [
    {
     "name": "stdout",
     "output_type": "stream",
     "text": [
      "str(language)     : Python Programming\n",
      "language.__str__(): Python Programming\n"
     ]
    }
   ],
   "source": [
    "print(\"str(language)     :\", str(language))\n",
    "print(\"language.__str__():\", language.__str__())"
   ]
  },
  {
   "cell_type": "code",
   "execution_count": 6,
   "metadata": {},
   "outputs": [
    {
     "name": "stdout",
     "output_type": "stream",
     "text": [
      "result =  TajMahal\n",
      "result =  TajMahal\n"
     ]
    }
   ],
   "source": [
    "# string concatenation\n",
    "mystr1 = 'Taj'\n",
    "mystr2 = \"Mahal\"\n",
    "result = mystr1 + mystr2\n",
    "print(\"result = \", result)\n",
    "result = mystr1.__add__(mystr2)\n",
    "print(\"result = \", result)"
   ]
  },
  {
   "cell_type": "code",
   "execution_count": 1,
   "metadata": {},
   "outputs": [
    {
     "name": "stdout",
     "output_type": "stream",
     "text": [
      "language       =  Python Programming\n",
      "type(language) =  <class 'str'>\n",
      "len(language)  =  18\n",
      "id(language)   =  129604703886768\n"
     ]
    }
   ],
   "source": [
    "language = \"Python Programming\"\n",
    "print(\"language       = \", language)\n",
    "print(\"type(language) = \", type(language))\n",
    "\n",
    "print(\"len(language)  = \", len(language))\n",
    "print(\"id(language)   = \", id(language))  # address location"
   ]
  }
 ],
 "metadata": {
  "kernelspec": {
   "display_name": "Python 3",
   "language": "python",
   "name": "python3"
  },
  "language_info": {
   "codemirror_mode": {
    "name": "ipython",
    "version": 3
   },
   "file_extension": ".py",
   "mimetype": "text/x-python",
   "name": "python",
   "nbconvert_exporter": "python",
   "pygments_lexer": "ipython3",
   "version": "3.12.1"
  }
 },
 "nbformat": 4,
 "nbformat_minor": 2
}

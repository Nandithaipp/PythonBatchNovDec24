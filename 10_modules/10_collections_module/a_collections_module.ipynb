{
 "cells": [
  {
   "cell_type": "code",
   "execution_count": 10,
   "metadata": {},
   "outputs": [],
   "source": [
    "import collections"
   ]
  },
  {
   "cell_type": "code",
   "execution_count": 11,
   "metadata": {},
   "outputs": [
    {
     "name": "stdout",
     "output_type": "stream",
     "text": [
      "['ChainMap', 'Counter', 'OrderedDict', 'UserDict', 'UserList', 'UserString', '_Link', '_OrderedDictItemsView', '_OrderedDictKeysView', '_OrderedDictValuesView', '__all__', '__builtins__', '__cached__', '__doc__', '__file__', '__loader__', '__name__', '__package__', '__path__', '__spec__', '_chain', '_collections_abc', '_count_elements', '_deque_iterator', '_eq', '_iskeyword', '_itemgetter', '_proxy', '_recursive_repr', '_repeat', '_starmap', '_sys', '_tuplegetter', 'abc', 'defaultdict', 'deque', 'namedtuple']\n"
     ]
    }
   ],
   "source": [
    "print(dir(collections))"
   ]
  },
  {
   "cell_type": "markdown",
   "metadata": {},
   "source": [
    "#collections.Counter\n",
    "    will take only iterable objects"
   ]
  },
  {
   "cell_type": "code",
   "execution_count": 12,
   "metadata": {},
   "outputs": [
    {
     "name": "stdout",
     "output_type": "stream",
     "text": [
      "{'a': 2, 'b': 3, 'c': 1}\n"
     ]
    }
   ],
   "source": [
    "counts = {}\n",
    "for i in [\"a\", \"b\", \"c\", \"a\", \"b\", \"b\"]:\n",
    "    counts[i] = counts.get(i, 0) + 1\n",
    "\n",
    "print(counts)"
   ]
  },
  {
   "cell_type": "code",
   "execution_count": 13,
   "metadata": {},
   "outputs": [
    {
     "data": {
      "text/plain": [
       "Counter({'b': 3, 'a': 2, 'c': 1})"
      ]
     },
     "execution_count": 13,
     "metadata": {},
     "output_type": "execute_result"
    }
   ],
   "source": [
    "collections.Counter([\"a\", \"b\", \"c\", \"a\", \"b\", \"b\"])"
   ]
  },
  {
   "cell_type": "code",
   "execution_count": 14,
   "metadata": {},
   "outputs": [
    {
     "name": "stdout",
     "output_type": "stream",
     "text": [
      "{'p': 2, 'y': 1, 't': 1, 'h': 1, 'o': 2, 'n': 2, ' ': 1, 'r': 2, 'g': 2, 'a': 1, 'm': 2, 'i': 1}\n"
     ]
    }
   ],
   "source": [
    "counts = {}\n",
    "for each_chr in \"python programming\":\n",
    "    counts[each_chr] = counts.get(each_chr, 0) + 1\n",
    "\n",
    "print(counts)"
   ]
  },
  {
   "cell_type": "code",
   "execution_count": 15,
   "metadata": {},
   "outputs": [
    {
     "data": {
      "text/plain": [
       "Counter({'p': 2,\n",
       "         'o': 2,\n",
       "         'n': 2,\n",
       "         'r': 2,\n",
       "         'g': 2,\n",
       "         'm': 2,\n",
       "         'y': 1,\n",
       "         't': 1,\n",
       "         'h': 1,\n",
       "         ' ': 1,\n",
       "         'a': 1,\n",
       "         'i': 1})"
      ]
     },
     "execution_count": 15,
     "metadata": {},
     "output_type": "execute_result"
    }
   ],
   "source": [
    "collections.Counter(\"python programming\")"
   ]
  },
  {
   "cell_type": "code",
   "execution_count": 16,
   "metadata": {},
   "outputs": [
    {
     "data": {
      "text/plain": [
       "Counter({'b': 3, 'a': 2, 'c': 1})"
      ]
     },
     "execution_count": 16,
     "metadata": {},
     "output_type": "execute_result"
    }
   ],
   "source": [
    "collections.Counter({\"a\": 2, \"b\": 3, \"c\": 1})"
   ]
  },
  {
   "cell_type": "code",
   "execution_count": 17,
   "metadata": {},
   "outputs": [
    {
     "data": {
      "text/plain": [
       "Counter({'b': 3, 'a': 2, 'c': 1})"
      ]
     },
     "execution_count": 17,
     "metadata": {},
     "output_type": "execute_result"
    }
   ],
   "source": [
    "collections.Counter(a=2, b=3, c=1)"
   ]
  },
  {
   "cell_type": "code",
   "execution_count": 18,
   "metadata": {},
   "outputs": [
    {
     "data": {
      "text/plain": [
       "(('Yasoob', 'Yellow'),\n",
       " ('Ali', 'Blue'),\n",
       " ('Arham', 'Green'),\n",
       " ('Ali', 'Yellow'),\n",
       " ('Yasoob', 'Red'),\n",
       " ('Ahmed', 'Silver'))"
      ]
     },
     "execution_count": 18,
     "metadata": {},
     "output_type": "execute_result"
    }
   ],
   "source": [
    "colours = (\n",
    "    (\"Yasoob\", \"Yellow\"),\n",
    "    (\"Ali\", \"Blue\"),\n",
    "    (\"Arham\", \"Green\"),\n",
    "    (\"Ali\", \"Yellow\"),\n",
    "    (\"Yasoob\", \"Red\"),\n",
    "    (\"Ahmed\", \"Silver\"),\n",
    ")\n",
    "\n",
    "colours"
   ]
  },
  {
   "cell_type": "code",
   "execution_count": 19,
   "metadata": {},
   "outputs": [
    {
     "data": {
      "text/plain": [
       "Counter({('Yasoob', 'Yellow'): 1,\n",
       "         ('Ali', 'Blue'): 1,\n",
       "         ('Arham', 'Green'): 1,\n",
       "         ('Ali', 'Yellow'): 1,\n",
       "         ('Yasoob', 'Red'): 1,\n",
       "         ('Ahmed', 'Silver'): 1})"
      ]
     },
     "execution_count": 19,
     "metadata": {},
     "output_type": "execute_result"
    }
   ],
   "source": [
    "collections.Counter(colours)"
   ]
  },
  {
   "cell_type": "code",
   "execution_count": 20,
   "metadata": {},
   "outputs": [
    {
     "data": {
      "text/plain": [
       "['Yasoob', 'Ali', 'Arham', 'Ali', 'Yasoob', 'Ahmed']"
      ]
     },
     "execution_count": 20,
     "metadata": {},
     "output_type": "execute_result"
    }
   ],
   "source": [
    "[name for name, colour in colours]"
   ]
  },
  {
   "cell_type": "code",
   "execution_count": 21,
   "metadata": {},
   "outputs": [
    {
     "data": {
      "text/plain": [
       "Counter({'Yasoob': 2, 'Ali': 2, 'Arham': 1, 'Ahmed': 1})"
      ]
     },
     "execution_count": 21,
     "metadata": {},
     "output_type": "execute_result"
    }
   ],
   "source": [
    "collections.Counter(name for name, colour in colours)"
   ]
  },
  {
   "cell_type": "code",
   "execution_count": 22,
   "metadata": {},
   "outputs": [
    {
     "data": {
      "text/plain": [
       "Counter({'Yellow': 2, 'Blue': 1, 'Green': 1, 'Red': 1, 'Silver': 1})"
      ]
     },
     "execution_count": 22,
     "metadata": {},
     "output_type": "execute_result"
    }
   ],
   "source": [
    "collections.Counter(colour for name, colour in colours)"
   ]
  },
  {
   "cell_type": "markdown",
   "metadata": {},
   "source": [
    "#### creating custom counter"
   ]
  },
  {
   "cell_type": "code",
   "execution_count": 23,
   "metadata": {},
   "outputs": [
    {
     "name": "stdout",
     "output_type": "stream",
     "text": [
      "Initial : Counter()\n"
     ]
    }
   ],
   "source": [
    "c = collections.Counter()\n",
    "print(\"Initial :\", c)"
   ]
  },
  {
   "cell_type": "code",
   "execution_count": 24,
   "metadata": {},
   "outputs": [
    {
     "name": "stdout",
     "output_type": "stream",
     "text": [
      "Sequence: Counter({'a': 3, 'b': 2, 'c': 1, 'd': 1})\n"
     ]
    }
   ],
   "source": [
    "c.update(\"abcdaab\")\n",
    "print(\"Sequence:\", c)"
   ]
  },
  {
   "cell_type": "code",
   "execution_count": 25,
   "metadata": {},
   "outputs": [
    {
     "name": "stdout",
     "output_type": "stream",
     "text": [
      "Dict    : Counter({'d': 6, 'a': 4, 'b': 2, 'c': 1})\n"
     ]
    }
   ],
   "source": [
    "c.update({\"a\": 1, \"d\": 5})\n",
    "print(\"Dict    :\", c)"
   ]
  },
  {
   "cell_type": "code",
   "execution_count": 26,
   "metadata": {},
   "outputs": [
    {
     "name": "stdout",
     "output_type": "stream",
     "text": [
      "a : 3\n",
      "b : 2\n",
      "c : 1\n",
      "d : 1\n",
      "e : 0\n"
     ]
    }
   ],
   "source": [
    "c = collections.Counter(\"abcdaab\")\n",
    "\n",
    "for letter in \"abcde\":\n",
    "    print(\"%s : %d\" % (letter, c[letter]))"
   ]
  },
  {
   "cell_type": "code",
   "execution_count": 27,
   "metadata": {},
   "outputs": [
    {
     "name": "stdout",
     "output_type": "stream",
     "text": [
      "Counter({'e': 3, 'x': 1, 't': 1, 'r': 1, 'm': 1, 'l': 1, 'y': 1, 'z': 0})\n"
     ]
    }
   ],
   "source": [
    "c = collections.Counter(\"extremely\")\n",
    "c[\"z\"] = 0\n",
    "\n",
    "print(c)"
   ]
  },
  {
   "cell_type": "code",
   "execution_count": 28,
   "metadata": {},
   "outputs": [
    {
     "data": {
      "text/plain": [
       "dict_keys(['e', 'x', 't', 'r', 'm', 'l', 'y', 'z'])"
      ]
     },
     "execution_count": 28,
     "metadata": {},
     "output_type": "execute_result"
    }
   ],
   "source": [
    "c.keys()"
   ]
  },
  {
   "cell_type": "code",
   "execution_count": 29,
   "metadata": {},
   "outputs": [
    {
     "data": {
      "text/plain": [
       "dict_values([3, 1, 1, 1, 1, 1, 1, 0])"
      ]
     },
     "execution_count": 29,
     "metadata": {},
     "output_type": "execute_result"
    }
   ],
   "source": [
    "c.values()"
   ]
  },
  {
   "cell_type": "code",
   "execution_count": 30,
   "metadata": {},
   "outputs": [
    {
     "data": {
      "text/plain": [
       "dict_items([('e', 3), ('x', 1), ('t', 1), ('r', 1), ('m', 1), ('l', 1), ('y', 1), ('z', 0)])"
      ]
     },
     "execution_count": 30,
     "metadata": {},
     "output_type": "execute_result"
    }
   ],
   "source": [
    "c.items()"
   ]
  },
  {
   "cell_type": "code",
   "execution_count": 31,
   "metadata": {},
   "outputs": [
    {
     "data": {
      "text/plain": [
       "<itertools.chain at 0x7acc1a51d060>"
      ]
     },
     "execution_count": 31,
     "metadata": {},
     "output_type": "execute_result"
    }
   ],
   "source": [
    "c.elements()"
   ]
  },
  {
   "cell_type": "code",
   "execution_count": 32,
   "metadata": {},
   "outputs": [
    {
     "data": {
      "text/plain": [
       "['e', 'e', 'e', 'x', 't', 'r', 'm', 'l', 'y']"
      ]
     },
     "execution_count": 32,
     "metadata": {},
     "output_type": "execute_result"
    }
   ],
   "source": [
    "list(c.elements())"
   ]
  },
  {
   "cell_type": "code",
   "execution_count": 33,
   "metadata": {},
   "outputs": [],
   "source": [
    "c.update(\"daddy\")"
   ]
  },
  {
   "cell_type": "code",
   "execution_count": 34,
   "metadata": {},
   "outputs": [
    {
     "data": {
      "text/plain": [
       "dict_keys(['e', 'x', 't', 'r', 'm', 'l', 'y', 'z', 'd', 'a'])"
      ]
     },
     "execution_count": 34,
     "metadata": {},
     "output_type": "execute_result"
    }
   ],
   "source": [
    "c.keys()"
   ]
  },
  {
   "cell_type": "code",
   "execution_count": 35,
   "metadata": {},
   "outputs": [
    {
     "data": {
      "text/plain": [
       "['e', 'e', 'e', 'x', 't', 'r', 'm', 'l', 'y', 'y', 'd', 'd', 'd', 'a']"
      ]
     },
     "execution_count": 35,
     "metadata": {},
     "output_type": "execute_result"
    }
   ],
   "source": [
    "list(c.elements())"
   ]
  },
  {
   "cell_type": "markdown",
   "metadata": {},
   "source": [
    "##### Character frequency Analyses"
   ]
  },
  {
   "cell_type": "code",
   "execution_count": 37,
   "metadata": {
    "scrolled": true
   },
   "outputs": [
    {
     "name": "stdout",
     "output_type": "stream",
     "text": [
      "Initially c:Counter()\n",
      "<class 'str'>\n",
      "After     c:Counter({' ': 1056, 'e': 809, 't': 584, 'o': 487, 'i': 407, 'a': 390, 'r': 368, 's': 367, 'n': 356, 'm': 309, 'c': 276, '0': 266, 'd': 225, '\\n': 214, 'h': 192, 'l': 188, 'p': 183, 'T': 161, 'S': 143, 'u': 141, '(': 138, ')': 138, '1': 137, ':': 123, '.': 110, 'M': 103, '\\t': 101, 'D': 97, 'E': 95, ',': 93, 'y': 93, \"'\": 88, '-': 85, '/': 77, 'g': 75, 'C': 74, 'f': 73, 'v': 72, '2': 69, 'P': 63, '\"': 56, 'A': 53, 'L': 52, 'b': 51, 'w': 50, 'x': 42, '9': 41, '6': 40, 'I': 40, 'U': 39, 'Y': 39, '4': 38, '3': 37, 'H': 37, '7': 36, 'O': 36, '_': 36, ';': 34, '5': 33, 'R': 33, 'F': 31, '8': 25, 'G': 24, 'N': 24, '%': 24, 'k': 21, '=': 21, 'Q': 18, '[': 16, ']': 16, '+': 16, 'W': 16, 'J': 15, 'z': 11, 'B': 11, 'X': 10, 'j': 10, '*': 10, 'V': 6, '&': 5, 'Z': 5, '{': 5, '}': 5, '?': 4, '#': 4, '@': 4, 'K': 3, '>': 3, '$': 3, '<': 2, '^': 1, '!': 1, 'q': 1, 'ñ': 1, '©': 1})\n",
      "Most common:\n",
      " :    1056\n",
      "e:     809\n",
      "t:     584\n",
      "o:     487\n",
      "i:     407\n"
     ]
    }
   ],
   "source": [
    "import collections\n",
    "\n",
    "c = collections.Counter()\n",
    "\n",
    "print(f\"Initially c:{c}\")\n",
    "\n",
    "with open(\n",
    "    \"myfile.txt\", \"rt\"\n",
    ") as f:\n",
    "    data = f.read()\n",
    "    print(type(data))\n",
    "    c.update(data)\n",
    "\n",
    "print(f\"After     c:{c}\")\n",
    "\n",
    "print(\"Most common:\")\n",
    "for letter, count in c.most_common(5):\n",
    "    print(\"%s: %7d\" % (letter, count))"
   ]
  },
  {
   "cell_type": "markdown",
   "metadata": {},
   "source": [
    "### Arithmetic Operations on counters"
   ]
  },
  {
   "cell_type": "code",
   "execution_count": 38,
   "metadata": {},
   "outputs": [],
   "source": [
    "c1 = collections.Counter([\"a\", \"b\", \"c\", \"a\", \"b\", \"b\"])\n",
    "c2 = collections.Counter(\"alphabet\")"
   ]
  },
  {
   "cell_type": "code",
   "execution_count": 39,
   "metadata": {},
   "outputs": [
    {
     "name": "stdout",
     "output_type": "stream",
     "text": [
      "c1: Counter({'b': 3, 'a': 2, 'c': 1})\n",
      "c2: Counter({'a': 2, 'l': 1, 'p': 1, 'h': 1, 'b': 1, 'e': 1, 't': 1})\n"
     ]
    }
   ],
   "source": [
    "print(\"c1:\", c1)\n",
    "print(\"c2:\", c2)"
   ]
  },
  {
   "cell_type": "code",
   "execution_count": 40,
   "metadata": {},
   "outputs": [
    {
     "name": "stdout",
     "output_type": "stream",
     "text": [
      "Combined counts:\n",
      "Counter({'a': 4, 'b': 4, 'c': 1, 'l': 1, 'p': 1, 'h': 1, 'e': 1, 't': 1})\n"
     ]
    }
   ],
   "source": [
    "print(\"Combined counts:\")\n",
    "print(c1 + c2)"
   ]
  },
  {
   "cell_type": "code",
   "execution_count": 41,
   "metadata": {},
   "outputs": [
    {
     "name": "stdout",
     "output_type": "stream",
     "text": [
      "Subtraction:\n",
      "Counter({'b': 2, 'c': 1})\n"
     ]
    }
   ],
   "source": [
    "print(\"Subtraction:\")\n",
    "print(c1 - c2)"
   ]
  },
  {
   "cell_type": "code",
   "execution_count": 42,
   "metadata": {},
   "outputs": [
    {
     "name": "stdout",
     "output_type": "stream",
     "text": [
      "Intersection (taking positive minimums):\n",
      "Counter({'a': 2, 'b': 1})\n"
     ]
    }
   ],
   "source": [
    "print(\"Intersection (taking positive minimums):\")\n",
    "print(c1 & c2)"
   ]
  },
  {
   "cell_type": "code",
   "execution_count": 43,
   "metadata": {},
   "outputs": [
    {
     "name": "stdout",
     "output_type": "stream",
     "text": [
      "Union (taking maximums):\n",
      "Counter({'b': 3, 'a': 2, 'c': 1, 'l': 1, 'p': 1, 'h': 1, 'e': 1, 't': 1})\n"
     ]
    }
   ],
   "source": [
    "print(\"Union (taking maximums):\")\n",
    "print(c1 | c2)"
   ]
  },
  {
   "cell_type": "markdown",
   "metadata": {},
   "source": [
    "### collections.defaultdict\n",
    "#### Factory Design Pattern"
   ]
  },
  {
   "cell_type": "code",
   "execution_count": 48,
   "metadata": {},
   "outputs": [
    {
     "name": "stdout",
     "output_type": "stream",
     "text": [
      "(('Yasoob', 'Yellow'),\n",
      " ('Ali', 'Blue'),\n",
      " ('Arham', 'Green'),\n",
      " ('Ali', 'Black'),\n",
      " ('Yasoob', 'Red'),\n",
      " ('Ahmed', 'Silver'))\n"
     ]
    }
   ],
   "source": [
    "colours = (\n",
    "    (\"Yasoob\", \"Yellow\"),\n",
    "    (\"Ali\", \"Blue\"),\n",
    "    (\"Arham\", \"Green\"),\n",
    "    (\"Ali\", \"Black\"),\n",
    "    (\"Yasoob\", \"Red\"),\n",
    "    (\"Ahmed\", \"Silver\"),\n",
    ")\n",
    "\n",
    "from pprint import pprint\n",
    "\n",
    "pprint(colours)"
   ]
  },
  {
   "cell_type": "code",
   "execution_count": 46,
   "metadata": {},
   "outputs": [
    {
     "data": {
      "text/plain": [
       "Counter({'cat': 2, 'apple': 1, 'ball': 1, 'dog': 1})"
      ]
     },
     "execution_count": 46,
     "metadata": {},
     "output_type": "execute_result"
    }
   ],
   "source": [
    "collections.Counter([\"apple\", \"ball\", \"cat\", \"dog\", \"cat\"])"
   ]
  },
  {
   "cell_type": "code",
   "execution_count": 47,
   "metadata": {},
   "outputs": [
    {
     "name": "stdout",
     "output_type": "stream",
     "text": [
      "defaultdict(<class 'float'>, {'apple': 1.0, 'ball': 1.0, 'cat': 2.0, 'dog': 1.0})\n"
     ]
    }
   ],
   "source": [
    "words = [\"apple\", \"ball\", \"cat\", \"dog\", \"cat\"]\n",
    "word_count = collections.defaultdict(float)\n",
    "\n",
    "for word in words:\n",
    "    word_count[word] += 1\n",
    "\n",
    "print(word_count)"
   ]
  },
  {
   "cell_type": "code",
   "execution_count": 48,
   "metadata": {},
   "outputs": [
    {
     "name": "stdout",
     "output_type": "stream",
     "text": [
      "defaultdict(<class 'int'>, {'B': 1, 'u': 1, 'b': 2, 'l': 1, 'e': 1, 's': 1})\n"
     ]
    }
   ],
   "source": [
    "name = \"Bubbles\"\n",
    "mydict = collections.defaultdict(int)\n",
    "for i in name:\n",
    "    mydict[i] += 1\n",
    "\n",
    "print(mydict)"
   ]
  },
  {
   "cell_type": "code",
   "execution_count": 49,
   "metadata": {},
   "outputs": [
    {
     "name": "stdout",
     "output_type": "stream",
     "text": [
      "defaultdict(<class 'int'>, {'b': 3, 'u': 1, 'l': 1, 'e': 1, 's': 1})\n"
     ]
    }
   ],
   "source": [
    "name = \"Bubbles\"\n",
    "mydict = collections.defaultdict(int)\n",
    "for i in name:\n",
    "    mydict[i.lower()] += 1  # case insensitive\n",
    "\n",
    "print(mydict)"
   ]
  },
  {
   "cell_type": "markdown",
   "metadata": {},
   "source": [
    "### collections.deque"
   ]
  },
  {
   "cell_type": "markdown",
   "metadata": {},
   "source": [
    "Queue Mechanism"
   ]
  },
  {
   "cell_type": "code",
   "execution_count": 50,
   "metadata": {},
   "outputs": [
    {
     "data": {
      "text/plain": [
       "deque([1, 2, 3, 3, 4, 2, 4])"
      ]
     },
     "execution_count": 50,
     "metadata": {},
     "output_type": "execute_result"
    }
   ],
   "source": [
    "# initializing deque\n",
    "de = collections.deque([1, 2, 3, 3, 4, 2, 4])\n",
    "\n",
    "de"
   ]
  },
  {
   "cell_type": "code",
   "execution_count": 51,
   "metadata": {},
   "outputs": [
    {
     "name": "stdout",
     "output_type": "stream",
     "text": [
      "The deque after appending at right is :\n",
      " deque([1, 2, 3, 3, 4, 2, 4, 4])\n"
     ]
    }
   ],
   "source": [
    "# inserts 4 at the end of deque\n",
    "de.append(4)\n",
    "\n",
    "print(\"The deque after appending at right is :\\n\", de)"
   ]
  },
  {
   "cell_type": "code",
   "execution_count": 52,
   "metadata": {},
   "outputs": [
    {
     "name": "stdout",
     "output_type": "stream",
     "text": [
      "\n",
      "The deque after appending at left is :\n",
      " deque([6, 1, 2, 3, 3, 4, 2, 4, 4])\n"
     ]
    }
   ],
   "source": [
    "# inserts 6 at the beginning of deque\n",
    "de.appendleft(6)\n",
    "\n",
    "print(\"\\nThe deque after appending at left is :\\n\", de)"
   ]
  },
  {
   "cell_type": "code",
   "execution_count": 53,
   "metadata": {},
   "outputs": [
    {
     "name": "stdout",
     "output_type": "stream",
     "text": [
      "4\n"
     ]
    }
   ],
   "source": [
    "# deletes 4 from the right end of deque\n",
    "print(de.pop())"
   ]
  },
  {
   "cell_type": "code",
   "execution_count": 54,
   "metadata": {},
   "outputs": [
    {
     "name": "stdout",
     "output_type": "stream",
     "text": [
      "\n",
      "The deque after deleting from right is :\n",
      " deque([6, 1, 2, 3, 3, 4, 2, 4])\n"
     ]
    }
   ],
   "source": [
    "print(\"\\nThe deque after deleting from right is :\\n\", de)"
   ]
  },
  {
   "cell_type": "code",
   "execution_count": 55,
   "metadata": {},
   "outputs": [
    {
     "name": "stdout",
     "output_type": "stream",
     "text": [
      "6\n",
      "\n",
      "The deque after deleting from left is:\n",
      " deque([1, 2, 3, 3, 4, 2, 4])\n"
     ]
    }
   ],
   "source": [
    "# deletes 6 from the left end of deque\n",
    "print(de.popleft())\n",
    "\n",
    "# printing modified deque\n",
    "print(\"\\nThe deque after deleting from left is:\\n\", de)"
   ]
  },
  {
   "cell_type": "code",
   "execution_count": 56,
   "metadata": {},
   "outputs": [
    {
     "name": "stdout",
     "output_type": "stream",
     "text": [
      "\n",
      "The count of 3 in deque is: 2\n"
     ]
    }
   ],
   "source": [
    "# using count() to count the occurrences of 3\n",
    "print(\"\\nThe count of 3 in deque is:\", de.count(3))"
   ]
  },
  {
   "cell_type": "code",
   "execution_count": 57,
   "metadata": {},
   "outputs": [
    {
     "name": "stdout",
     "output_type": "stream",
     "text": [
      "None\n"
     ]
    }
   ],
   "source": [
    "# using remove() to remove the first occurrence of 3\n",
    "print(de.remove(3))"
   ]
  },
  {
   "cell_type": "code",
   "execution_count": 58,
   "metadata": {},
   "outputs": [
    {
     "name": "stdout",
     "output_type": "stream",
     "text": [
      "\n",
      "The deque after deleting first occurrence of 3:\n",
      "deque([1, 2, 3, 4, 2, 4])\n"
     ]
    }
   ],
   "source": [
    "print(\"\\nThe deque after deleting first occurrence of 3:\")\n",
    "print(de)"
   ]
  },
  {
   "cell_type": "code",
   "execution_count": 59,
   "metadata": {},
   "outputs": [
    {
     "name": "stdout",
     "output_type": "stream",
     "text": [
      "\n",
      "The deque after extending deque at end is:\n",
      " deque([1, 2, 3, 4, 2, 4, 4, 5, 6])\n"
     ]
    }
   ],
   "source": [
    "# adds 4,5,6 to right end\n",
    "de.extend([4, 5, 6])\n",
    "print(\"\\nThe deque after extending deque at end is:\\n\", de)"
   ]
  },
  {
   "cell_type": "code",
   "execution_count": 60,
   "metadata": {},
   "outputs": [
    {
     "name": "stdout",
     "output_type": "stream",
     "text": [
      "\n",
      "The deque after extending deque at beginning:\n",
      " deque([9, 8, 7, 1, 2, 3, 4, 2, 4, 4, 5, 6])\n"
     ]
    }
   ],
   "source": [
    "# adds 7,8,9 to right end\n",
    "de.extendleft([7, 8, 9])\n",
    "print(\"\\nThe deque after extending deque at beginning:\\n\", de)"
   ]
  },
  {
   "cell_type": "code",
   "execution_count": 61,
   "metadata": {},
   "outputs": [
    {
     "name": "stdout",
     "output_type": "stream",
     "text": [
      "\n",
      "The deque after rotating deque is:\n",
      "deque([1, 2, 3, 4, 2, 4, 4, 5, 6, 9, 8, 7])\n"
     ]
    }
   ],
   "source": [
    "# rotates by 3 to left\n",
    "de.rotate(-3)\n",
    "print(\"\\nThe deque after rotating deque is:\")\n",
    "print(de)"
   ]
  },
  {
   "cell_type": "code",
   "execution_count": 62,
   "metadata": {},
   "outputs": [],
   "source": [
    "# using reverse() to reverse the deque\n",
    "de.reverse()"
   ]
  },
  {
   "cell_type": "code",
   "execution_count": 73,
   "metadata": {},
   "outputs": [
    {
     "name": "stdout",
     "output_type": "stream",
     "text": [
      "\n",
      "The deque after reversing deque is:\n",
      "deque([7, 8, 9, 6, 5, 4, 4, 2, 4, 3, 2, 1])\n"
     ]
    }
   ],
   "source": [
    "print(\"\\nThe deque after reversing deque is:\")\n",
    "print(de)"
   ]
  },
  {
   "cell_type": "code",
   "execution_count": 63,
   "metadata": {},
   "outputs": [
    {
     "name": "stdout",
     "output_type": "stream",
     "text": [
      "The number 4 first occurs at a position : \n",
      "5\n"
     ]
    }
   ],
   "source": [
    "# NOTE: below works in python 3 only\n",
    "# using index() to print the first occurrence of 4\n",
    "print(\"The number 4 first occurs at a position : \")\n",
    "print(de.index(4, 2, 10))"
   ]
  },
  {
   "cell_type": "code",
   "execution_count": 64,
   "metadata": {},
   "outputs": [],
   "source": [
    "# using insert() to insert the value 3 at 5th position\n",
    "de.insert(4, 3)"
   ]
  },
  {
   "cell_type": "code",
   "execution_count": 65,
   "metadata": {},
   "outputs": [
    {
     "data": {
      "text/plain": [
       "deque([7, 8, 9, 6, 3, 5, 4, 4, 2, 4, 3, 2, 1])"
      ]
     },
     "execution_count": 65,
     "metadata": {},
     "output_type": "execute_result"
    }
   ],
   "source": [
    "de"
   ]
  },
  {
   "cell_type": "markdown",
   "metadata": {},
   "source": [
    "###  collections.namedtuple"
   ]
  },
  {
   "cell_type": "code",
   "execution_count": 66,
   "metadata": {},
   "outputs": [
    {
     "name": "stdout",
     "output_type": "stream",
     "text": [
      "Representation: ('Bob', 30, 'male')\n"
     ]
    }
   ],
   "source": [
    "bob = (\"Bob\", 30, \"male\")\n",
    "print(\"Representation:\", bob)"
   ]
  },
  {
   "cell_type": "code",
   "execution_count": 67,
   "metadata": {},
   "outputs": [
    {
     "name": "stdout",
     "output_type": "stream",
     "text": [
      "\n",
      "Field by index: Jane\n"
     ]
    }
   ],
   "source": [
    "jane = (\"Jane\", 29, \"female\")\n",
    "print(\"\\nField by index:\", jane[0])"
   ]
  },
  {
   "cell_type": "code",
   "execution_count": 68,
   "metadata": {},
   "outputs": [
    {
     "name": "stdout",
     "output_type": "stream",
     "text": [
      "\n",
      "Fields by index:\n",
      "Bob is a 30 year old male\n",
      "Jane is a 29 year old female\n"
     ]
    }
   ],
   "source": [
    "print(\"\\nFields by index:\")\n",
    "for p in [bob, jane]:\n",
    "    print(\"%s is a %d year old %s\" % p)"
   ]
  },
  {
   "cell_type": "markdown",
   "metadata": {},
   "source": [
    "Using collectsions.namedtuple"
   ]
  },
  {
   "cell_type": "code",
   "execution_count": 69,
   "metadata": {},
   "outputs": [
    {
     "name": "stdout",
     "output_type": "stream",
     "text": [
      "Type of Person: <class 'type'>\n"
     ]
    }
   ],
   "source": [
    "Person = collections.namedtuple(\"Person\", \"name age gender\")\n",
    "\n",
    "print(\"Type of Person:\", type(Person))"
   ]
  },
  {
   "cell_type": "code",
   "execution_count": 70,
   "metadata": {},
   "outputs": [
    {
     "name": "stdout",
     "output_type": "stream",
     "text": [
      "\n",
      "Representation: Person(name='Bob', age=30, gender='male')\n"
     ]
    }
   ],
   "source": [
    "bob = Person(name=\"Bob\", age=30, gender=\"male\")\n",
    "print(\"\\nRepresentation:\", bob)"
   ]
  },
  {
   "cell_type": "code",
   "execution_count": 71,
   "metadata": {},
   "outputs": [
    {
     "data": {
      "text/plain": [
       "Person(name='Jane', age=29, gender='female')"
      ]
     },
     "execution_count": 71,
     "metadata": {},
     "output_type": "execute_result"
    }
   ],
   "source": [
    "jane = Person(name=\"Jane\", age=29, gender=\"female\")\n",
    "\n",
    "jane"
   ]
  },
  {
   "cell_type": "code",
   "execution_count": 72,
   "metadata": {},
   "outputs": [
    {
     "data": {
      "text/plain": [
       "__main__.Person"
      ]
     },
     "execution_count": 72,
     "metadata": {},
     "output_type": "execute_result"
    }
   ],
   "source": [
    "type(jane)"
   ]
  },
  {
   "cell_type": "code",
   "execution_count": 73,
   "metadata": {},
   "outputs": [
    {
     "name": "stdout",
     "output_type": "stream",
     "text": [
      "Field by index: Jane\n",
      "Field by name : Jane\n"
     ]
    }
   ],
   "source": [
    "print(\"Field by index:\", jane[0])\n",
    "print(\"Field by name :\", jane.name)"
   ]
  },
  {
   "cell_type": "code",
   "execution_count": 74,
   "metadata": {},
   "outputs": [
    {
     "name": "stdout",
     "output_type": "stream",
     "text": [
      "Field by index: female\n",
      "Field by name : female\n"
     ]
    }
   ],
   "source": [
    "print(\"Field by index:\", jane[2])\n",
    "print(\"Field by name :\", jane.gender)"
   ]
  },
  {
   "cell_type": "code",
   "execution_count": 75,
   "metadata": {},
   "outputs": [
    {
     "name": "stdout",
     "output_type": "stream",
     "text": [
      "\n",
      "Fields by index:\n",
      "Bob is a 30 year old male\n",
      "Jane is a 29 year old female\n"
     ]
    }
   ],
   "source": [
    "print(\"\\nFields by index:\")\n",
    "for p in [bob, jane]:\n",
    "    print(\"%s is a %d year old %s\" % p)"
   ]
  },
  {
   "cell_type": "code",
   "execution_count": 76,
   "metadata": {},
   "outputs": [
    {
     "name": "stdout",
     "output_type": "stream",
     "text": [
      "Type names and field names cannot be a keyword: 'class'\n"
     ]
    }
   ],
   "source": [
    "try:\n",
    "    collections.namedtuple(\"Person\", \"name class age gender\")\n",
    "except ValueError as err:\n",
    "    print(err)"
   ]
  },
  {
   "cell_type": "code",
   "execution_count": 77,
   "metadata": {},
   "outputs": [
    {
     "name": "stdout",
     "output_type": "stream",
     "text": [
      "('name', '_1', 'age', 'gender')\n"
     ]
    }
   ],
   "source": [
    "with_class = collections.namedtuple(\"Person\", \"name class age gender\", rename=True)\n",
    "print(with_class._fields)"
   ]
  },
  {
   "cell_type": "code",
   "execution_count": 78,
   "metadata": {},
   "outputs": [
    {
     "name": "stdout",
     "output_type": "stream",
     "text": [
      "Encountered duplicate field name: 'age'\n"
     ]
    }
   ],
   "source": [
    "try:\n",
    "    collections.namedtuple(\"Person\", \"name age gender age\")\n",
    "except ValueError as err:\n",
    "    print(err)"
   ]
  },
  {
   "cell_type": "code",
   "execution_count": 79,
   "metadata": {},
   "outputs": [
    {
     "name": "stdout",
     "output_type": "stream",
     "text": [
      "('name', 'age', 'gender', '_3')\n"
     ]
    }
   ],
   "source": [
    "two_ages = collections.namedtuple(\"Person\", \"name age gender age\", rename=True)\n",
    "print(two_ages._fields)"
   ]
  },
  {
   "cell_type": "code",
   "execution_count": 80,
   "metadata": {},
   "outputs": [
    {
     "name": "stdout",
     "output_type": "stream",
     "text": [
      "red.r=255 red.g=0 red.b=0 \n"
     ]
    }
   ],
   "source": [
    "colors = collections.namedtuple(\"colors\", \"r g b\")\n",
    "red = colors(r=255, g=0, b=0)\n",
    "\n",
    "print(\"\"\"red.r={} red.g={} red.b={} \"\"\".format(red.r, red.g, red.b))"
   ]
  },
  {
   "cell_type": "code",
   "execution_count": 81,
   "metadata": {},
   "outputs": [
    {
     "name": "stdout",
     "output_type": "stream",
     "text": [
      "red[0]           255\n",
      "getattr(red,'r') 255\n",
      "red.r            255\n"
     ]
    }
   ],
   "source": [
    "print(\"red[0]          \", red[0])\n",
    "\n",
    "print(\"getattr(red,'r')\", getattr(red, \"r\"))\n",
    "print(\"red.r           \", red.r)"
   ]
  },
  {
   "cell_type": "code",
   "execution_count": 82,
   "metadata": {},
   "outputs": [
    {
     "name": "stdout",
     "output_type": "stream",
     "text": [
      "{'r': 255, 'g': 0, 'b': 0}\n"
     ]
    }
   ],
   "source": [
    "print(red._asdict())  # namedtuple into dictionary"
   ]
  },
  {
   "cell_type": "code",
   "execution_count": 83,
   "metadata": {},
   "outputs": [
    {
     "name": "stdout",
     "output_type": "stream",
     "text": [
      "colors(r='1', g='2', b='3')\n"
     ]
    }
   ],
   "source": [
    "# Iterable to namedtuple\n",
    "print(colors._make([\"1\", \"2\", \"3\"]))"
   ]
  },
  {
   "cell_type": "code",
   "execution_count": 84,
   "metadata": {},
   "outputs": [
    {
     "data": {
      "text/plain": [
       "colors(r='1', g='2', b='3')"
      ]
     },
     "execution_count": 84,
     "metadata": {},
     "output_type": "execute_result"
    }
   ],
   "source": [
    "colors._make(\"123\")"
   ]
  },
  {
   "cell_type": "code",
   "execution_count": 85,
   "metadata": {},
   "outputs": [
    {
     "name": "stdout",
     "output_type": "stream",
     "text": [
      "colors(r=255, g=0, b=0)\n"
     ]
    }
   ],
   "source": [
    "# dictionary to namedtuple\n",
    "print(colors(**{\"r\": 255, \"g\": 0, \"b\": 0}))"
   ]
  },
  {
   "cell_type": "code",
   "execution_count": 86,
   "metadata": {},
   "outputs": [
    {
     "name": "stdout",
     "output_type": "stream",
     "text": [
      "('r', 'g', 'b')\n"
     ]
    }
   ],
   "source": [
    "# To check the fields belonging to a namedtuple\n",
    "print(red._fields)"
   ]
  },
  {
   "cell_type": "code",
   "execution_count": 87,
   "metadata": {},
   "outputs": [
    {
     "name": "stdout",
     "output_type": "stream",
     "text": [
      "colors(r=255, g=3, b=0)\n"
     ]
    }
   ],
   "source": [
    "# namedtuples are immtuable, but to change a value in it\n",
    "print(red._replace(g=3))"
   ]
  },
  {
   "cell_type": "code",
   "execution_count": 88,
   "metadata": {},
   "outputs": [
    {
     "data": {
      "text/plain": [
       "colors(r=255, g=0, b=0)"
      ]
     },
     "execution_count": 88,
     "metadata": {},
     "output_type": "execute_result"
    }
   ],
   "source": [
    "red  # Note that original named tuple is not changed"
   ]
  },
  {
   "cell_type": "markdown",
   "metadata": {},
   "source": [
    "### Collections.OrderedDict"
   ]
  },
  {
   "cell_type": "code",
   "execution_count": 89,
   "metadata": {},
   "outputs": [
    {
     "data": {
      "text/plain": [
       "{'banana': 3, 'apple': 4, 'pear': 1, 'orange': 2}"
      ]
     },
     "execution_count": 89,
     "metadata": {},
     "output_type": "execute_result"
    }
   ],
   "source": [
    "d1 = {\"banana\": 3, \"apple\": 4, \"pear\": 1, \"orange\": 2}\n",
    "\n",
    "d1"
   ]
  },
  {
   "cell_type": "code",
   "execution_count": 90,
   "metadata": {},
   "outputs": [
    {
     "data": {
      "text/plain": [
       "OrderedDict([('banana', 3), ('apple', 4), ('pear', 1), ('orange', 2)])"
      ]
     },
     "execution_count": 90,
     "metadata": {},
     "output_type": "execute_result"
    }
   ],
   "source": [
    "d2 = collections.OrderedDict({\"banana\": 3, \"apple\": 4, \"pear\": 1, \"orange\": 2})\n",
    "\n",
    "d2"
   ]
  },
  {
   "cell_type": "code",
   "execution_count": 91,
   "metadata": {},
   "outputs": [],
   "source": [
    "assert d1 == d2"
   ]
  },
  {
   "cell_type": "markdown",
   "metadata": {},
   "source": [
    "__NOTE:__ from python 3.5 onwards, the basic dictionary is ordered. So, collections.OrderedDict is of no use anymore."
   ]
  }
 ],
 "metadata": {
  "kernelspec": {
   "display_name": "Python 3",
   "language": "python",
   "name": "python3"
  },
  "language_info": {
   "codemirror_mode": {
    "name": "ipython",
    "version": 3
   },
   "file_extension": ".py",
   "mimetype": "text/x-python",
   "name": "python",
   "nbconvert_exporter": "python",
   "pygments_lexer": "ipython3",
   "version": "3.12.1"
  }
 },
 "nbformat": 4,
 "nbformat_minor": 2
}

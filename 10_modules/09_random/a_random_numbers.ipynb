{
 "cells": [
  {
   "cell_type": "markdown",
   "metadata": {},
   "source": [
    "#random module\n",
    "\n",
    "    Python random module, uses pseudo-random generator (PRNG)\n",
    "    called the Mersenne Twister.\n",
    "\n",
    "    NOTE: random module is good enough for many purposes, including simulations,\n",
    "    numerical analysis, and games, but it's definitely not good enough for\n",
    "    cryptographic use.\n",
    "    \n",
    "    In Python3, 'secret' module is used for cryptographic purpose.\n",
    "\n"
   ]
  },
  {
   "cell_type": "code",
   "execution_count": 1,
   "metadata": {},
   "outputs": [],
   "source": [
    "import random"
   ]
  },
  {
   "cell_type": "code",
   "execution_count": 2,
   "metadata": {},
   "outputs": [
    {
     "data": {
      "text/plain": [
       "['BPF',\n",
       " 'LOG4',\n",
       " 'NV_MAGICCONST',\n",
       " 'RECIP_BPF',\n",
       " 'Random',\n",
       " 'SG_MAGICCONST',\n",
       " 'SystemRandom',\n",
       " 'TWOPI',\n",
       " '_ONE',\n",
       " '_Sequence',\n",
       " '__all__',\n",
       " '__builtins__',\n",
       " '__cached__',\n",
       " '__doc__',\n",
       " '__file__',\n",
       " '__loader__',\n",
       " '__name__',\n",
       " '__package__',\n",
       " '__spec__',\n",
       " '_accumulate',\n",
       " '_acos',\n",
       " '_bisect',\n",
       " '_ceil',\n",
       " '_cos',\n",
       " '_e',\n",
       " '_exp',\n",
       " '_fabs',\n",
       " '_floor',\n",
       " '_index',\n",
       " '_inst',\n",
       " '_isfinite',\n",
       " '_lgamma',\n",
       " '_log',\n",
       " '_log2',\n",
       " '_os',\n",
       " '_pi',\n",
       " '_random',\n",
       " '_repeat',\n",
       " '_sha512',\n",
       " '_sin',\n",
       " '_sqrt',\n",
       " '_test',\n",
       " '_test_generator',\n",
       " '_urandom',\n",
       " '_warn',\n",
       " 'betavariate',\n",
       " 'binomialvariate',\n",
       " 'choice',\n",
       " 'choices',\n",
       " 'expovariate',\n",
       " 'gammavariate',\n",
       " 'gauss',\n",
       " 'getrandbits',\n",
       " 'getstate',\n",
       " 'lognormvariate',\n",
       " 'normalvariate',\n",
       " 'paretovariate',\n",
       " 'randbytes',\n",
       " 'randint',\n",
       " 'random',\n",
       " 'randrange',\n",
       " 'sample',\n",
       " 'seed',\n",
       " 'setstate',\n",
       " 'shuffle',\n",
       " 'triangular',\n",
       " 'uniform',\n",
       " 'vonmisesvariate',\n",
       " 'weibullvariate']"
      ]
     },
     "execution_count": 2,
     "metadata": {},
     "output_type": "execute_result"
    }
   ],
   "source": [
    "dir(random)"
   ]
  },
  {
   "cell_type": "code",
   "execution_count": 3,
   "metadata": {},
   "outputs": [
    {
     "name": "stdout",
     "output_type": "stream",
     "text": [
      "random.random()      : 0.7012724850670021\n"
     ]
    }
   ],
   "source": [
    "# Generate a pseudo-random number between 0 and 1.\n",
    "print(\"random.random()      :\", random.random())"
   ]
  },
  {
   "cell_type": "code",
   "execution_count": 4,
   "metadata": {},
   "outputs": [
    {
     "name": "stdout",
     "output_type": "stream",
     "text": [
      "random.random() * 100: 69.8065386348055\n",
      "random.random() * 100: 10.576002721477106\n"
     ]
    }
   ],
   "source": [
    "# Generate a large pseudo-random number\n",
    "print(\"random.random() * 100:\", random.random() * 100)\n",
    "print(\"random.random() * 100:\", random.random() * 100)"
   ]
  },
  {
   "cell_type": "code",
   "execution_count": 5,
   "metadata": {},
   "outputs": [],
   "source": [
    "# if we set the seed, we guarantee that we will get the same answer\n",
    "random.seed(18485)\n",
    "# NOTE: only supported seed types are: None,int, float, str, bytes, and bytearray."
   ]
  },
  {
   "cell_type": "code",
   "execution_count": 7,
   "metadata": {},
   "outputs": [
    {
     "name": "stdout",
     "output_type": "stream",
     "text": [
      "0.21377930193070727\n",
      "0.6876863955879526\n",
      "0.21901937573179298\n"
     ]
    }
   ],
   "source": [
    "print(random.random())  # should give 0.6797936184081204\n",
    "print(random.random())  # should give 0.9122712611873796\n",
    "print(random.random())  # should give 0.12926723301605425"
   ]
  },
  {
   "cell_type": "code",
   "execution_count": 7,
   "metadata": {},
   "outputs": [
    {
     "name": "stdout",
     "output_type": "stream",
     "text": [
      "[0.7725766895236029, 0.850635131875668, 0.11481894112205038]\n"
     ]
    }
   ],
   "source": [
    "random.seed(\"slartibartfast\")\n",
    "s = [random.random() for i in range(3)]\n",
    "print(s)  # should give [0.7725766895236029, 0.850635131875668, 0.11481894112205038]"
   ]
  },
  {
   "cell_type": "code",
   "execution_count": 8,
   "metadata": {},
   "outputs": [
    {
     "name": "stdout",
     "output_type": "stream",
     "text": [
      "os.urandom(1024) b']\\x98\\x16OU\\x1cy\\xfd\\xc63<\\xdd\\xf9\\xe1\\x02N\\xd9\\x1e\\xc1F\\x85\\xfc3\\xb8r\\xa1\\xd9\\r\\x83c\\xb0OR\\x1d\\xb6\\x86\\xec#}\\x01\\x95/!H\\xff\\x9c\\x1b\\xb3d\\xcfl\\xa32\\x1eI\\xc2\\x96t\\xc8B$\\xa9\\x0cb\\xa5\\x1b\\xd4\\xd4\\x1dH\\x88*\\x00\\xcb\\tS\\xbb\\x9a\\x94\\xe6\\x14\\x8f\\x7f\\x1f\\xef\\x0e\\x912\\xae\\xe5_S\\xf9\\x82^G\\xec\"\\xb6/\\x98\\xf4|\\xf7\\xbd\\x0e\\x9a\\x9c\\x81\\x01\\xda\\xc5ip+\\x96N\\xf5\\x84\\xc2\\xd9]\\xfe[\\xc4-x\\x05d\\x87\\xb2\\xa9\\xc1\\xc2r\\x82\\nK\\x14\\xa2\\xfd\\x80\\xff/\\xd2`R_\\x1a/\\x12\\xd1\\x9c\\x0e\\xf3\\x9a\\xdag?0\\x01\\xc5\\x17\\xc9\\x01\\xb6\\x1c\\x84}\\xf7\\xba?\\x81\\xda\\x1b6\\xa4:HP\\xa5\"\\xf8\\xd9Dx\\xf6<\\xfbD\\xb6\\x9f\\xe0\\xbc\\x04\\x1a\\xd7\\x06\\xbf-\\x05\\xb7\\x03F\\xaa\\x1d\\x0c\\x8b\\x91\\xfe,\\x8d3\\xb8\\xde\\xac\\x82:\\n\\xab\\x01\\xd52\\x0e\\x17\\xdf@V\\xbc\\x1a\\xf7\\r\\x83\\x10XLz\\xfeV]\\x83\\xd8*\\xd3\\xcf\\x1aUX\\xb0j\\x8dV\\xb1En\\xd1\\\\\\x1e4=+2N\\x05\\xee\\xae\\xdb\\x8c\\r\\xa9\\x97C\\x8a\\x9csr\\xe9>\\xd8\\xab$\\x13W\\xb4\\xb3\\x90b\\x84Y\\xbb\\xdb\\xae\\xb5\\xf4V\\xf1$\\xd8~\\x13\\x8dj\\x96\\x93\\xf6\\x8e\\xa3\\xc1\\xb1F*\\x91\\x82\\xd9Z\\x9c\\x87\\xb9\\xe0\\x0f\\x8c\\x82\\xbc\\xb7\\xb1cu\\x8f\\x83Z\\xea\\xc1\\x9c6]\\xc1#\\xe5;\\xe9\"/\\x0c\\xa6\\xe06\\xe0_\\xf50`Q+\\xca,\\x89D/\\xf6\\xcbvn\\x10\\xb9P\\xa8KM9\\x87\\xb2\\x94\\xdbU\\x1d\\xe4cS\\x14L4q\\x12#\\x8d:|4\\x06`\\xedn\\xcf\\xbb\\xf0$\\xfd.\\x89+\\x10\\x0c*\\xbcm4\\x9ec\\x8bA\\x00\\xc8Z\\xd5\\xb3\\x97\\xfc\\x9b\\x18\\xc9;Sw\\x02\\x87\\xa0o\\xdb\\x05\\xae\\x0f\\x931\\x9d\\xcf\\xf4\\xff2\\xc1\\xc6\\xcc\\xea*w\\x9e\\xcd%O52+\\x1c\\x1a\\xd3\\xbf\\xb2N\\x84w\\x86)1\\x85?\\x10\\xcboBB`\\x1c[T\\x8e~$<\\x9c\\xd8\\xfa\\x9c\\x16\\xe1\\x90\\xcc\\x9d\\xc5\\xbd7o?{\\x10QKJ\\xe3\\xea\\x7f2\\x04w\\xe7:\\x11.\\xce9\\r\\xd0])}!\\xe5WQ\\x9d\\xfc\\xc6\\xf4C\\x16\\xef\\xbd\\xdc\\x15>]\\x13RiP\\xe8\\xf7;\\xddg\\xcex\\x98\\xd3Guz\\xe0k\\x87\\x98N\\xd0\\xfe\\x8bu\\xa4\\x82\\x91\\x96\\x89\\x1a\\xf4\\xf1\\x9cY9S\\xfa\\x85\\x0ce\\xd3\\xe7(-\\x80\\xa6\\x9e\\xc5\\xf5\\xc8r\\x1d[\\xa4\\xba\\xa4\\xc0\\xfa:F\\x8eh\\xc0\\xff\\xb1q\\xf2<_\\xe0\\x8dt\\t\\xac\\x817k\\xc6\\xc4\\xe3\\xb4Y\\x90[\\x14J\\xf6h\\xdfO)\\x17\\xe9\\x92\\x05\\x98\\xec\\xb3h\\x05\\x02M\\x01\\xd1\\x93\\xd5\\x90\\xc2\\xde\\x99\\xa5A\\xd5u\\xe4-\\xfa\\x9d\\xc5\\xfd\\xd7SW\\x91?\\xfc\\xea\\xb8\\x1e\\xe5\\xce\\xa6@0\\xe9W=EW\\xe1\\x10C\\xfd\\xfa\\x9d\\xfbTu}J\\x03p:\\x822QRTy\\x98\\x92\\xca2\\xed\\x1bS\\x8e\\x96\\xc4\\xe2\\xda\\x0b\\xb9\\xe1W\\xbf\\xe5vc-\\xc6$\\x92Rd\\x0b\\x0c~9\\xe0Nw\\x8a81J\\xfe]1+\\xb2\\xe1\\xa9\\xe2\\x81\\x16\\xf8\\nA\\x1c\\xa6\\xcb\\xa9\\xb3\\xf0\\x95L\\x9d\\x02!m?U\\xdb\"\\xce\\x06\\xc7\\x16\\xc7\\x8dS&\\xc3a\\x07\\x86\\xaf-\\x8cc\\x06L\\xce\\x04\\xe4\\x98g\\xdc\\xcf^\\xe5\\xad\\xb4\\xa0\\xf3\\x9b\\xaf\\xd2-{\\x1f$OB\\xed\\xbd}\\xa6v\\x05\\x19\\xd5\\x84uo\\x9aD%P\\xa4Q-|\\xa4\\xf3\\x99\\x8cO\\xee\\x13$?\\xc2\\xbb\\xb0\\x00j\\xf3h\\xcbt\\xfa\\xf0\\x91Pr\\xea\\x92\\x9aobg\\xce\\xc5P\\x8e^\\x7f\\xa7Jp,\\xe8\\x9f\\xfe\\x03\\xa1\\xca:\\x0b\\xa5!\\xe7\\x871\\xd2J\\\\\\x15\\xb3\\x9e\\xbe\\xfd\\xf9,\\xe3\\x12/\\x9e\\xb6\\xd0ZJ\\xed\\x18hL6\\xcc\\xe9\\xe5n\\xf5\\xf9x\\x82LR\\xe4\\xb7\\x15\\n\\x1bj\\x93\\xfd\\x00\\x9eY\\xfe5G\\x1f\\xabrm\\xb8i\\xf6n\\xc2\\x82\\xde3{tW\\xc9\\xf02\\xa4\\x8f\\x93\\'i\\xdd\\xfc\\x05\\x0b\\xb0\\xcaPV\\x85\\xf0\\x91`U\\x0bC\\x02E\\xc6\\xbb1u\\xf6fb\\r\\xb5\\x1eg\\xb34\\xf6\\xa0\\x00\\n2`h\\xe2\"E\\x03A)\\x1f\\xe3\\xd4~\\xec\\xb1\\xc4\\xf1o\\x11q/\\xb9\\x1fd;\\xe1\\x04\\x8f\\xfb[\\xffLP\\xf0\\x9a\\xce\\x0b\\x9f\\x88\\x04\\x01B\\'\\xeaB\\xd4da2}\\xf8\\x06|\\x17'\n"
     ]
    }
   ],
   "source": [
    "import os\n",
    "\n",
    "print(\"os.urandom(1024)\", os.urandom(1024))\n",
    "random.seed(os.urandom(1024))"
   ]
  },
  {
   "cell_type": "code",
   "execution_count": 10,
   "metadata": {},
   "outputs": [
    {
     "name": "stdout",
     "output_type": "stream",
     "text": [
      "0.5032013260483361\n",
      "0.32825820973248065\n",
      "0.8266618140197116\n"
     ]
    }
   ],
   "source": [
    "print(random.random())\n",
    "print(random.random())\n",
    "print(random.random())"
   ]
  },
  {
   "cell_type": "code",
   "execution_count": 12,
   "metadata": {},
   "outputs": [
    {
     "name": "stdout",
     "output_type": "stream",
     "text": [
      "1\n"
     ]
    }
   ],
   "source": [
    "# Pick a random number between 1 and 100.\n",
    "print(random.randint(1, 100))  # 75\n",
    "# randint also includes the upper bound value\n"
   ]
  },
  {
   "cell_type": "code",
   "execution_count": 13,
   "metadata": {},
   "outputs": [
    {
     "name": "stdout",
     "output_type": "stream",
     "text": [
      "7.010728957137324\n"
     ]
    }
   ],
   "source": [
    "# Pick a random floating point number between 1 and 10\n",
    "# random.uniform(a,b) => a <= N <= b\n",
    "print(random.uniform(1, 10))\n"
   ]
  },
  {
   "cell_type": "code",
   "execution_count": 14,
   "metadata": {},
   "outputs": [
    {
     "name": "stdout",
     "output_type": "stream",
     "text": [
      "0\n",
      "95\n",
      "90\n"
     ]
    }
   ],
   "source": [
    "# Generate a randomly selected element from range(start, stop, step)\n",
    "# random.randrange(start, stop[, step])\n",
    "for i in range(3):\n",
    "    print(random.randrange(0, 101, 5))"
   ]
  },
  {
   "cell_type": "code",
   "execution_count": 15,
   "metadata": {},
   "outputs": [
    {
     "name": "stdout",
     "output_type": "stream",
     "text": [
      "[3]\n",
      "[9, 7, 4, 3]\n"
     ]
    }
   ],
   "source": [
    "items = [1, 2, 3, 4, 5, 6, 7, 8, 9, 10]\n",
    "\n",
    "# Pick a random item from the list\n",
    "x = random.sample(items, 1)\n",
    "print(x)\n",
    "# Pick 4 random items from the list\n",
    "y = random.sample(items, 4)\n",
    "print(y)\n"
   ]
  },
  {
   "cell_type": "code",
   "execution_count": 16,
   "metadata": {},
   "outputs": [
    {
     "name": "stdout",
     "output_type": "stream",
     "text": [
      "Vindhya\n",
      "['Himalayas', 'Vindhya', 'Ural']\n",
      "Vindhya\n"
     ]
    }
   ],
   "source": [
    "mountains = [\"Andes\", \"Himalayas\", \"Alphes\", \"Aplachein\", \"Ural\", \"Vindhya\"]\n",
    "\n",
    "# Pick a random item from the list\n",
    "x = random.sample(mountains, 1)\n",
    "print(x[0])\n",
    "\n",
    "# Pick 3 random items from the list\n",
    "y = random.sample(mountains, 3)\n",
    "print(y)\n",
    "\n",
    "# Pick a random item from the list\n",
    "x = random.choice(mountains)\n",
    "print(x)"
   ]
  },
  {
   "cell_type": "code",
   "execution_count": 17,
   "metadata": {},
   "outputs": [
    {
     "name": "stdout",
     "output_type": "stream",
     "text": [
      "after shuffle [7, 8, 3, 6, 5, 9, 1, 4, 2, 10]\n"
     ]
    }
   ],
   "source": [
    "\n",
    "# # To shuffle a list of elements\n",
    "# def shuffler(mylist):\n",
    "#     new_list = []\n",
    "#     while len(mylist):\n",
    "#         rand_pos = random.randint(0, len(mylist))\n",
    "#         new_list.append(mylist[rand_pos])\n",
    "#         del mylist[rand_pos]\n",
    "#     return new_list\n",
    "\n",
    "\n",
    "# print(shuffler([\"a\", \"b\", \"c\", \"d\", \"e\"]))\n",
    "\n",
    "numbers = [1, 2, 3, 4, 5, 6, 7, 8, 9, 10]\n",
    "random.shuffle(numbers)\n",
    "print(\"after shuffle\", numbers)"
   ]
  },
  {
   "cell_type": "markdown",
   "metadata": {},
   "source": [
    "#tossing_coin"
   ]
  },
  {
   "cell_type": "code",
   "execution_count": 18,
   "metadata": {},
   "outputs": [],
   "source": [
    "\n",
    "outcomes = {\n",
    "    \"heads\": 0,\n",
    "    \"tails\": 0,\n",
    "}\n",
    "sides = list(outcomes.keys())  # ['heads', 'tails']\n"
   ]
  },
  {
   "cell_type": "code",
   "execution_count": 19,
   "metadata": {},
   "outputs": [
    {
     "data": {
      "text/plain": [
       "'heads'"
      ]
     },
     "execution_count": 19,
     "metadata": {},
     "output_type": "execute_result"
    }
   ],
   "source": [
    "random.choice(sides)"
   ]
  },
  {
   "cell_type": "code",
   "execution_count": 20,
   "metadata": {},
   "outputs": [
    {
     "data": {
      "text/plain": [
       "['tails']"
      ]
     },
     "execution_count": 20,
     "metadata": {},
     "output_type": "execute_result"
    }
   ],
   "source": [
    "random.sample(sides, 1)"
   ]
  },
  {
   "cell_type": "code",
   "execution_count": 21,
   "metadata": {},
   "outputs": [
    {
     "name": "stdout",
     "output_type": "stream",
     "text": [
      "In 10000 tosses,\n",
      "\tHeads: 4940\n",
      "\tTails: 5060\n"
     ]
    }
   ],
   "source": [
    "for i in range(10000):\n",
    "    outcome = random.choice(sides)\n",
    "    outcomes[outcome] += 1\n",
    "\n",
    "print(\"In 10000 tosses,\")\n",
    "print(\"\\tHeads:\", outcomes[\"heads\"])\n",
    "print(\"\\tTails:\", outcomes[\"tails\"])"
   ]
  },
  {
   "cell_type": "markdown",
   "metadata": {},
   "source": [
    "random_name_generator"
   ]
  },
  {
   "cell_type": "code",
   "execution_count": 23,
   "metadata": {},
   "outputs": [
    {
     "name": "stdout",
     "output_type": "stream",
     "text": [
      "Mike Jones\n",
      "Tom Jones\n",
      "Drew Jones\n",
      "Tom Brighton\n",
      "Avery Brighton\n"
     ]
    }
   ],
   "source": [
    "import random\n",
    "\n",
    "\n",
    "def random_name_generator(first, second, count):\n",
    "    _names = []\n",
    "    for _ in range(count):\n",
    "        fst_name = random.choice(first)\n",
    "        lst_name = random.choice(second)\n",
    "        name = f\"{fst_name} {lst_name}\"\n",
    "        _names.append(name)\n",
    "    return _names\n",
    "\n",
    "\n",
    "def random_name_generator(first, second, count):\n",
    "    _names = set()\n",
    "    while len(_names) < count:\n",
    "        fst_name = random.choice(first)\n",
    "        lst_name = random.choice(second)\n",
    "        name = f\"{fst_name} {lst_name}\"\n",
    "        _names.add(name)\n",
    "    return _names\n",
    "\n",
    "\n",
    "first_names = [\"Drew\", \"Mike\", \"Landon\", \"Jeremy\", \"Tyler\", \"Tom\", \"Avery\"]\n",
    "last_names = [\"Smith\", \"Jones\", \"Brighton\", \"Taylor\"]\n",
    "names = random_name_generator(first_names, last_names, 5)\n",
    "print(\"\\n\".join(names))\n",
    "\n",
    "\n",
    "# Assignment:\n",
    "# In runtime, take the gender name as input, and generate random name.\n",
    "# HINT: Take a dataset of female first names, and another with male first names\n",
    "# one dataset with last names"
   ]
  },
  {
   "cell_type": "code",
   "execution_count": 24,
   "metadata": {},
   "outputs": [
    {
     "name": "stdout",
     "output_type": "stream",
     "text": [
      "\n",
      "Generated Names:\n",
      "Priya Sharma\n",
      "Meera Reddy\n",
      "Meera Verma\n"
     ]
    }
   ],
   "source": [
    "#Assignment\n",
    "\n",
    "import random\n",
    "\n",
    "# Datasets for names\n",
    "male_first_names = [\"Arjun\", \"Rohan\", \"Vikram\", \"Aakash\", \"Karthik\", \"Rahul\"]\n",
    "female_first_names = [\"Priya\", \"Ananya\", \"Meera\", \"Aditi\", \"Sneha\"]\n",
    "last_names = [\"Sharma\", \"Verma\", \"Gupta\", \"Patel\", \"Reddy\"]\n",
    "\n",
    "# Function to generate random names\n",
    "def random_name_generator(first, second, count):\n",
    "    _names = set()\n",
    "    while len(_names) < count:\n",
    "        fst_name = random.choice(first)\n",
    "        lst_name = random.choice(second)\n",
    "        name = f\"{fst_name} {lst_name}\"\n",
    "        _names.add(name)\n",
    "    return _names\n",
    "\n",
    "# Take user input for gender\n",
    "gender = input(\"Enter gender (male/female): \").strip().lower()\n",
    "if gender == \"male\":\n",
    "    first_names = male_first_names\n",
    "elif gender == \"female\":\n",
    "    first_names = female_first_names\n",
    "else:\n",
    "    print(\"Invalid input. Please enter 'male' or 'female'.\")\n",
    "    exit()\n",
    "\n",
    "# Generate and display random names\n",
    "count = int(input(\"How many names do you want to generate? \"))\n",
    "names = random_name_generator(first_names, last_names, count)\n",
    "print(\"\\nGenerated Names:\")\n",
    "print(\"\\n\".join(names))\n"
   ]
  }
 ],
 "metadata": {
  "kernelspec": {
   "display_name": "Python 3",
   "language": "python",
   "name": "python3"
  },
  "language_info": {
   "codemirror_mode": {
    "name": "ipython",
    "version": 3
   },
   "file_extension": ".py",
   "mimetype": "text/x-python",
   "name": "python",
   "nbconvert_exporter": "python",
   "pygments_lexer": "ipython3",
   "version": "3.12.1"
  }
 },
 "nbformat": 4,
 "nbformat_minor": 2
}

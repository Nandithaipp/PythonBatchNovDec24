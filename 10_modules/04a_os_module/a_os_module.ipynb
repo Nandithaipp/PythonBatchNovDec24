{
 "cells": [
  {
   "cell_type": "markdown",
   "metadata": {},
   "source": [
    "# os module\n",
    "\n",
    "    "
   ]
  },
  {
   "cell_type": "code",
   "execution_count": 1,
   "metadata": {},
   "outputs": [],
   "source": [
    "import os"
   ]
  },
  {
   "cell_type": "code",
   "execution_count": 2,
   "metadata": {},
   "outputs": [
    {
     "data": {
      "text/plain": [
       "<module 'os' (frozen)>"
      ]
     },
     "execution_count": 2,
     "metadata": {},
     "output_type": "execute_result"
    }
   ],
   "source": [
    "os"
   ]
  },
  {
   "cell_type": "code",
   "execution_count": 3,
   "metadata": {},
   "outputs": [
    {
     "data": {
      "text/plain": [
       "['CLD_CONTINUED',\n",
       " 'CLD_DUMPED',\n",
       " 'CLD_EXITED',\n",
       " 'CLD_KILLED',\n",
       " 'CLD_STOPPED',\n",
       " 'CLD_TRAPPED',\n",
       " 'CLONE_FILES',\n",
       " 'CLONE_FS',\n",
       " 'CLONE_NEWCGROUP',\n",
       " 'CLONE_NEWIPC',\n",
       " 'CLONE_NEWNET',\n",
       " 'CLONE_NEWNS',\n",
       " 'CLONE_NEWPID',\n",
       " 'CLONE_NEWUSER',\n",
       " 'CLONE_NEWUTS',\n",
       " 'CLONE_SIGHAND',\n",
       " 'CLONE_SYSVSEM',\n",
       " 'CLONE_THREAD',\n",
       " 'CLONE_VM',\n",
       " 'DirEntry',\n",
       " 'EFD_CLOEXEC',\n",
       " 'EFD_NONBLOCK',\n",
       " 'EFD_SEMAPHORE',\n",
       " 'EX_CANTCREAT',\n",
       " 'EX_CONFIG',\n",
       " 'EX_DATAERR',\n",
       " 'EX_IOERR',\n",
       " 'EX_NOHOST',\n",
       " 'EX_NOINPUT',\n",
       " 'EX_NOPERM',\n",
       " 'EX_NOUSER',\n",
       " 'EX_OK',\n",
       " 'EX_OSERR',\n",
       " 'EX_OSFILE',\n",
       " 'EX_PROTOCOL',\n",
       " 'EX_SOFTWARE',\n",
       " 'EX_TEMPFAIL',\n",
       " 'EX_UNAVAILABLE',\n",
       " 'EX_USAGE',\n",
       " 'F_LOCK',\n",
       " 'F_OK',\n",
       " 'F_TEST',\n",
       " 'F_TLOCK',\n",
       " 'F_ULOCK',\n",
       " 'GRND_NONBLOCK',\n",
       " 'GRND_RANDOM',\n",
       " 'GenericAlias',\n",
       " 'MFD_ALLOW_SEALING',\n",
       " 'MFD_CLOEXEC',\n",
       " 'MFD_HUGETLB',\n",
       " 'MFD_HUGE_16GB',\n",
       " 'MFD_HUGE_16MB',\n",
       " 'MFD_HUGE_1GB',\n",
       " 'MFD_HUGE_1MB',\n",
       " 'MFD_HUGE_256MB',\n",
       " 'MFD_HUGE_2GB',\n",
       " 'MFD_HUGE_2MB',\n",
       " 'MFD_HUGE_32MB',\n",
       " 'MFD_HUGE_512KB',\n",
       " 'MFD_HUGE_512MB',\n",
       " 'MFD_HUGE_64KB',\n",
       " 'MFD_HUGE_8MB',\n",
       " 'MFD_HUGE_MASK',\n",
       " 'MFD_HUGE_SHIFT',\n",
       " 'Mapping',\n",
       " 'MutableMapping',\n",
       " 'NGROUPS_MAX',\n",
       " 'O_ACCMODE',\n",
       " 'O_APPEND',\n",
       " 'O_ASYNC',\n",
       " 'O_CLOEXEC',\n",
       " 'O_CREAT',\n",
       " 'O_DIRECT',\n",
       " 'O_DIRECTORY',\n",
       " 'O_DSYNC',\n",
       " 'O_EXCL',\n",
       " 'O_FSYNC',\n",
       " 'O_LARGEFILE',\n",
       " 'O_NDELAY',\n",
       " 'O_NOATIME',\n",
       " 'O_NOCTTY',\n",
       " 'O_NOFOLLOW',\n",
       " 'O_NONBLOCK',\n",
       " 'O_PATH',\n",
       " 'O_RDONLY',\n",
       " 'O_RDWR',\n",
       " 'O_RSYNC',\n",
       " 'O_SYNC',\n",
       " 'O_TMPFILE',\n",
       " 'O_TRUNC',\n",
       " 'O_WRONLY',\n",
       " 'POSIX_FADV_DONTNEED',\n",
       " 'POSIX_FADV_NOREUSE',\n",
       " 'POSIX_FADV_NORMAL',\n",
       " 'POSIX_FADV_RANDOM',\n",
       " 'POSIX_FADV_SEQUENTIAL',\n",
       " 'POSIX_FADV_WILLNEED',\n",
       " 'POSIX_SPAWN_CLOSE',\n",
       " 'POSIX_SPAWN_DUP2',\n",
       " 'POSIX_SPAWN_OPEN',\n",
       " 'PRIO_PGRP',\n",
       " 'PRIO_PROCESS',\n",
       " 'PRIO_USER',\n",
       " 'P_ALL',\n",
       " 'P_NOWAIT',\n",
       " 'P_NOWAITO',\n",
       " 'P_PGID',\n",
       " 'P_PID',\n",
       " 'P_PIDFD',\n",
       " 'P_WAIT',\n",
       " 'PathLike',\n",
       " 'RTLD_DEEPBIND',\n",
       " 'RTLD_GLOBAL',\n",
       " 'RTLD_LAZY',\n",
       " 'RTLD_LOCAL',\n",
       " 'RTLD_NODELETE',\n",
       " 'RTLD_NOLOAD',\n",
       " 'RTLD_NOW',\n",
       " 'RWF_APPEND',\n",
       " 'RWF_DSYNC',\n",
       " 'RWF_HIPRI',\n",
       " 'RWF_NOWAIT',\n",
       " 'RWF_SYNC',\n",
       " 'R_OK',\n",
       " 'SCHED_BATCH',\n",
       " 'SCHED_FIFO',\n",
       " 'SCHED_IDLE',\n",
       " 'SCHED_OTHER',\n",
       " 'SCHED_RESET_ON_FORK',\n",
       " 'SCHED_RR',\n",
       " 'SEEK_CUR',\n",
       " 'SEEK_DATA',\n",
       " 'SEEK_END',\n",
       " 'SEEK_HOLE',\n",
       " 'SEEK_SET',\n",
       " 'SPLICE_F_MORE',\n",
       " 'SPLICE_F_MOVE',\n",
       " 'SPLICE_F_NONBLOCK',\n",
       " 'ST_APPEND',\n",
       " 'ST_MANDLOCK',\n",
       " 'ST_NOATIME',\n",
       " 'ST_NODEV',\n",
       " 'ST_NODIRATIME',\n",
       " 'ST_NOEXEC',\n",
       " 'ST_NOSUID',\n",
       " 'ST_RDONLY',\n",
       " 'ST_RELATIME',\n",
       " 'ST_SYNCHRONOUS',\n",
       " 'ST_WRITE',\n",
       " 'TMP_MAX',\n",
       " 'WCONTINUED',\n",
       " 'WCOREDUMP',\n",
       " 'WEXITED',\n",
       " 'WEXITSTATUS',\n",
       " 'WIFCONTINUED',\n",
       " 'WIFEXITED',\n",
       " 'WIFSIGNALED',\n",
       " 'WIFSTOPPED',\n",
       " 'WNOHANG',\n",
       " 'WNOWAIT',\n",
       " 'WSTOPPED',\n",
       " 'WSTOPSIG',\n",
       " 'WTERMSIG',\n",
       " 'WUNTRACED',\n",
       " 'W_OK',\n",
       " 'XATTR_CREATE',\n",
       " 'XATTR_REPLACE',\n",
       " 'XATTR_SIZE_MAX',\n",
       " 'X_OK',\n",
       " '_Environ',\n",
       " '__all__',\n",
       " '__builtins__',\n",
       " '__doc__',\n",
       " '__file__',\n",
       " '__loader__',\n",
       " '__name__',\n",
       " '__package__',\n",
       " '__spec__',\n",
       " '_check_methods',\n",
       " '_execvpe',\n",
       " '_exists',\n",
       " '_exit',\n",
       " '_fspath',\n",
       " '_fwalk',\n",
       " '_get_exports_list',\n",
       " '_spawnvef',\n",
       " '_wrap_close',\n",
       " 'abc',\n",
       " 'abort',\n",
       " 'access',\n",
       " 'altsep',\n",
       " 'chdir',\n",
       " 'chmod',\n",
       " 'chown',\n",
       " 'chroot',\n",
       " 'close',\n",
       " 'closerange',\n",
       " 'confstr',\n",
       " 'confstr_names',\n",
       " 'copy_file_range',\n",
       " 'cpu_count',\n",
       " 'ctermid',\n",
       " 'curdir',\n",
       " 'defpath',\n",
       " 'device_encoding',\n",
       " 'devnull',\n",
       " 'dup',\n",
       " 'dup2',\n",
       " 'environ',\n",
       " 'environb',\n",
       " 'error',\n",
       " 'eventfd',\n",
       " 'eventfd_read',\n",
       " 'eventfd_write',\n",
       " 'execl',\n",
       " 'execle',\n",
       " 'execlp',\n",
       " 'execlpe',\n",
       " 'execv',\n",
       " 'execve',\n",
       " 'execvp',\n",
       " 'execvpe',\n",
       " 'extsep',\n",
       " 'fchdir',\n",
       " 'fchmod',\n",
       " 'fchown',\n",
       " 'fdatasync',\n",
       " 'fdopen',\n",
       " 'fork',\n",
       " 'forkpty',\n",
       " 'fpathconf',\n",
       " 'fsdecode',\n",
       " 'fsencode',\n",
       " 'fspath',\n",
       " 'fstat',\n",
       " 'fstatvfs',\n",
       " 'fsync',\n",
       " 'ftruncate',\n",
       " 'fwalk',\n",
       " 'get_blocking',\n",
       " 'get_exec_path',\n",
       " 'get_inheritable',\n",
       " 'get_terminal_size',\n",
       " 'getcwd',\n",
       " 'getcwdb',\n",
       " 'getegid',\n",
       " 'getenv',\n",
       " 'getenvb',\n",
       " 'geteuid',\n",
       " 'getgid',\n",
       " 'getgrouplist',\n",
       " 'getgroups',\n",
       " 'getloadavg',\n",
       " 'getlogin',\n",
       " 'getpgid',\n",
       " 'getpgrp',\n",
       " 'getpid',\n",
       " 'getppid',\n",
       " 'getpriority',\n",
       " 'getrandom',\n",
       " 'getresgid',\n",
       " 'getresuid',\n",
       " 'getsid',\n",
       " 'getuid',\n",
       " 'getxattr',\n",
       " 'initgroups',\n",
       " 'isatty',\n",
       " 'kill',\n",
       " 'killpg',\n",
       " 'lchown',\n",
       " 'linesep',\n",
       " 'link',\n",
       " 'listdir',\n",
       " 'listxattr',\n",
       " 'lockf',\n",
       " 'login_tty',\n",
       " 'lseek',\n",
       " 'lstat',\n",
       " 'major',\n",
       " 'makedev',\n",
       " 'makedirs',\n",
       " 'memfd_create',\n",
       " 'minor',\n",
       " 'mkdir',\n",
       " 'mkfifo',\n",
       " 'mknod',\n",
       " 'name',\n",
       " 'nice',\n",
       " 'open',\n",
       " 'openpty',\n",
       " 'pardir',\n",
       " 'path',\n",
       " 'pathconf',\n",
       " 'pathconf_names',\n",
       " 'pathsep',\n",
       " 'pidfd_open',\n",
       " 'pipe',\n",
       " 'pipe2',\n",
       " 'popen',\n",
       " 'posix_fadvise',\n",
       " 'posix_fallocate',\n",
       " 'posix_spawn',\n",
       " 'posix_spawnp',\n",
       " 'pread',\n",
       " 'preadv',\n",
       " 'putenv',\n",
       " 'pwrite',\n",
       " 'pwritev',\n",
       " 'read',\n",
       " 'readlink',\n",
       " 'readv',\n",
       " 'register_at_fork',\n",
       " 'remove',\n",
       " 'removedirs',\n",
       " 'removexattr',\n",
       " 'rename',\n",
       " 'renames',\n",
       " 'replace',\n",
       " 'rmdir',\n",
       " 'scandir',\n",
       " 'sched_get_priority_max',\n",
       " 'sched_get_priority_min',\n",
       " 'sched_getaffinity',\n",
       " 'sched_getparam',\n",
       " 'sched_getscheduler',\n",
       " 'sched_param',\n",
       " 'sched_rr_get_interval',\n",
       " 'sched_setaffinity',\n",
       " 'sched_setparam',\n",
       " 'sched_setscheduler',\n",
       " 'sched_yield',\n",
       " 'sendfile',\n",
       " 'sep',\n",
       " 'set_blocking',\n",
       " 'set_inheritable',\n",
       " 'setegid',\n",
       " 'seteuid',\n",
       " 'setgid',\n",
       " 'setgroups',\n",
       " 'setns',\n",
       " 'setpgid',\n",
       " 'setpgrp',\n",
       " 'setpriority',\n",
       " 'setregid',\n",
       " 'setresgid',\n",
       " 'setresuid',\n",
       " 'setreuid',\n",
       " 'setsid',\n",
       " 'setuid',\n",
       " 'setxattr',\n",
       " 'spawnl',\n",
       " 'spawnle',\n",
       " 'spawnlp',\n",
       " 'spawnlpe',\n",
       " 'spawnv',\n",
       " 'spawnve',\n",
       " 'spawnvp',\n",
       " 'spawnvpe',\n",
       " 'splice',\n",
       " 'st',\n",
       " 'stat',\n",
       " 'stat_result',\n",
       " 'statvfs',\n",
       " 'statvfs_result',\n",
       " 'strerror',\n",
       " 'supports_bytes_environ',\n",
       " 'supports_dir_fd',\n",
       " 'supports_effective_ids',\n",
       " 'supports_fd',\n",
       " 'supports_follow_symlinks',\n",
       " 'symlink',\n",
       " 'sync',\n",
       " 'sys',\n",
       " 'sysconf',\n",
       " 'sysconf_names',\n",
       " 'system',\n",
       " 'tcgetpgrp',\n",
       " 'tcsetpgrp',\n",
       " 'terminal_size',\n",
       " 'times',\n",
       " 'times_result',\n",
       " 'truncate',\n",
       " 'ttyname',\n",
       " 'umask',\n",
       " 'uname',\n",
       " 'uname_result',\n",
       " 'unlink',\n",
       " 'unsetenv',\n",
       " 'unshare',\n",
       " 'urandom',\n",
       " 'utime',\n",
       " 'wait',\n",
       " 'wait3',\n",
       " 'wait4',\n",
       " 'waitid',\n",
       " 'waitid_result',\n",
       " 'waitpid',\n",
       " 'waitstatus_to_exitcode',\n",
       " 'walk',\n",
       " 'write',\n",
       " 'writev']"
      ]
     },
     "execution_count": 3,
     "metadata": {},
     "output_type": "execute_result"
    }
   ],
   "source": [
    "dir(os)"
   ]
  },
  {
   "cell_type": "code",
   "execution_count": 4,
   "metadata": {},
   "outputs": [
    {
     "name": "stdout",
     "output_type": "stream",
     "text": [
      "OS routines for NT or Posix depending on what system we're on.\n",
      "\n",
      "This exports:\n",
      "  - all functions from posix or nt, e.g. unlink, stat, etc.\n",
      "  - os.path is either posixpath or ntpath\n",
      "  - os.name is either 'posix' or 'nt'\n",
      "  - os.curdir is a string representing the current directory (always '.')\n",
      "  - os.pardir is a string representing the parent directory (always '..')\n",
      "  - os.sep is the (or a most common) pathname separator ('/' or '\\\\')\n",
      "  - os.extsep is the extension separator (always '.')\n",
      "  - os.altsep is the alternate pathname separator (None or '/')\n",
      "  - os.pathsep is the component separator used in $PATH etc\n",
      "  - os.linesep is the line separator in text files ('\\r' or '\\n' or '\\r\\n')\n",
      "  - os.defpath is the default search path for executables\n",
      "  - os.devnull is the file path of the null device ('/dev/null', etc.)\n",
      "\n",
      "Programs that import and use 'os' stand a better chance of being\n",
      "portable between different platforms.  Of course, they must then\n",
      "only use functions that are defined by all platforms (e.g., unlink\n",
      "and opendir), and leave all pathname manipulation to os.path\n",
      "(e.g., split and join).\n",
      "\n"
     ]
    }
   ],
   "source": [
    "print(os.__doc__)"
   ]
  },
  {
   "cell_type": "code",
   "execution_count": 5,
   "metadata": {},
   "outputs": [
    {
     "name": "stdout",
     "output_type": "stream",
     "text": [
      "There are 2 CPU's in this system.\n"
     ]
    }
   ],
   "source": [
    "print(f\"There are {os.cpu_count()} CPU's in this system.\")"
   ]
  },
  {
   "cell_type": "code",
   "execution_count": 6,
   "metadata": {},
   "outputs": [
    {
     "name": "stdout",
     "output_type": "stream",
     "text": [
      "[Errno 6] No such device or address\n"
     ]
    }
   ],
   "source": [
    "try:\n",
    "    f\"logged_in_user_name is {os.getlogin()}\"\n",
    "except OSError as ex:\n",
    "    print(ex)"
   ]
  },
  {
   "cell_type": "code",
   "execution_count": 7,
   "metadata": {},
   "outputs": [
    {
     "name": "stdout",
     "output_type": "stream",
     "text": [
      "Here is a proper 10-byte random number: b'\\xc9m\\xbc\\x84\\xad\\x03>&P\\xf0'.\n"
     ]
    }
   ],
   "source": [
    "print(f\"Here is a proper 10-byte random number: {str(os.urandom(10))}.\")"
   ]
  },
  {
   "cell_type": "code",
   "execution_count": 9,
   "metadata": {},
   "outputs": [
    {
     "name": "stdout",
     "output_type": "stream",
     "text": [
      " \n",
      "os.altsep =None\n",
      "os.curdir ='.'\n",
      "os.extsep ='.'\n",
      "os.linesep='\\n'\n",
      "os.name   ='posix'\n",
      "os.pardir ='..'\n",
      "os.pathsep=':'\n",
      "os.sep    ='/'\n",
      "\n"
     ]
    }
   ],
   "source": [
    "print(\n",
    "    f\"\"\" \n",
    "{os.altsep =}\n",
    "{os.curdir =}\n",
    "{os.extsep =}\n",
    "{os.linesep=}\n",
    "{os.name   =}\n",
    "{os.pardir =}\n",
    "{os.pathsep=}\n",
    "{os.sep    =}\n",
    "\"\"\"\n",
    ")"
   ]
  },
  {
   "cell_type": "code",
   "execution_count": 10,
   "metadata": {},
   "outputs": [
    {
     "data": {
      "text/plain": [
       "'posix'"
      ]
     },
     "execution_count": 10,
     "metadata": {},
     "output_type": "execute_result"
    }
   ],
   "source": [
    "os.name\n",
    "# The name of the operating system dependent module imported.\n",
    "# The following names have currently been registered: 'posix', 'nt', 'java'."
   ]
  },
  {
   "cell_type": "code",
   "execution_count": 11,
   "metadata": {},
   "outputs": [
    {
     "data": {
      "text/plain": [
       "'/dev/null'"
      ]
     },
     "execution_count": 11,
     "metadata": {},
     "output_type": "execute_result"
    }
   ],
   "source": [
    "os.devnull  # The file path of the null device. For example: '/dev/null' for POSIX, 'nul' for Windows"
   ]
  },
  {
   "cell_type": "code",
   "execution_count": 12,
   "metadata": {},
   "outputs": [
    {
     "data": {
      "text/plain": [
       "'/bin:/usr/bin'"
      ]
     },
     "execution_count": 12,
     "metadata": {},
     "output_type": "execute_result"
    }
   ],
   "source": [
    "os.defpath"
   ]
  },
  {
   "cell_type": "markdown",
   "metadata": {},
   "source": [
    "    os.times\n",
    "\n",
    "        user            - user time\n",
    "        system          - system time\n",
    "        children_user   - user time of all child processes\n",
    "        children_system - system time of all child processes\n",
    "        elapsed         - elapsed real time since a fixed point in the past"
   ]
  },
  {
   "cell_type": "code",
   "execution_count": 13,
   "metadata": {},
   "outputs": [
    {
     "data": {
      "text/plain": [
       "posix.times_result(user=0.73, system=0.21, children_user=0.0, children_system=0.0, elapsed=17182755.03)"
      ]
     },
     "execution_count": 13,
     "metadata": {},
     "output_type": "execute_result"
    }
   ],
   "source": [
    "os.times()"
   ]
  },
  {
   "cell_type": "code",
   "execution_count": 14,
   "metadata": {},
   "outputs": [
    {
     "data": {
      "text/plain": [
       "b'\\xfa\\xb8\\x1f\\xd8ObY\\xcd\\n\\xc1'"
      ]
     },
     "execution_count": 14,
     "metadata": {},
     "output_type": "execute_result"
    }
   ],
   "source": [
    "os.urandom(10)"
   ]
  },
  {
   "cell_type": "code",
   "execution_count": 15,
   "metadata": {},
   "outputs": [
    {
     "name": "stdout",
     "output_type": "stream",
     "text": [
      "0 b''\n",
      "1 b'L'\n",
      "2 b'\\x0e\\xe6'\n",
      "3 b'\\x18\\xe6#'\n",
      "4 b'\\x8e\\x84\\xaem'\n",
      "5 b'\\xec>\\xf7\\xd1\\x08'\n",
      "6 b'\\xeb35E\\x9e\\xa1'\n",
      "7 b'^i\\x8f\\xd1\\xb2i\\xcd'\n",
      "8 b'i\\x94\\xc2\\xbd\\x89Q\\x8c~'\n"
     ]
    }
   ],
   "source": [
    "for i in range(0, 9):\n",
    "    print(i, os.urandom(i))"
   ]
  },
  {
   "cell_type": "code",
   "execution_count": 16,
   "metadata": {},
   "outputs": [],
   "source": [
    "# os.environ"
   ]
  },
  {
   "cell_type": "code",
   "execution_count": 17,
   "metadata": {},
   "outputs": [],
   "source": [
    "if os.environ['USER'] != 'codespace':\n",
    "    print(\n",
    "        f\"\"\"\n",
    "    os.environ['OS']                    : {os.environ['OS']}\n",
    "    os.environ['PROCESSOR_ARCHITECTURE']: {os.environ['PROCESSOR_ARCHITECTURE']}\n",
    "    os.environ['PROCESSOR_IDENTIFIER']  : {os.environ['PROCESSOR_IDENTIFIER']}\n",
    "    os.environ['PROCESSOR_LEVEL']       : {os.environ['PROCESSOR_LEVEL']}\n",
    "\n",
    "    os.environ['TEMP']                  : {os.environ['TEMP']}\n",
    "    os.environ['TMP']                   : {os.environ['TMP']}\n",
    "\n",
    "    os.environ['COMPUTERNAME']          : {os.environ['COMPUTERNAME']}\n",
    "    os.environ['HOMEDRIVE']             : {os.environ['HOMEDRIVE']}\n",
    "    os.environ['USERNAME']              : {os.environ['USERNAME']}\n",
    "    os.environ['USERDOMAIN']            : {os.environ['USERDOMAIN']}\n",
    "    \"\"\"\n",
    "    )"
   ]
  },
  {
   "cell_type": "code",
   "execution_count": 18,
   "metadata": {},
   "outputs": [
    {
     "data": {
      "text/plain": [
       "'/usr/local/python/current'"
      ]
     },
     "execution_count": 18,
     "metadata": {},
     "output_type": "execute_result"
    }
   ],
   "source": [
    "os.getenv(\"PYTHON_PATH\", \"No Set Yet\")"
   ]
  },
  {
   "cell_type": "code",
   "execution_count": 19,
   "metadata": {},
   "outputs": [
    {
     "data": {
      "text/plain": [
       "'Not Set Yet'"
      ]
     },
     "execution_count": 19,
     "metadata": {},
     "output_type": "execute_result"
    }
   ],
   "source": [
    "# export PYTHONSTARTUP=/path/to/your/script.py\n",
    "# set PYTHONSTARTUP=C:\\path\\to\\your\\script.py\n",
    "\n",
    "# If set, that script will execute, everytime a new interactive mode of Python is started\n",
    "\n",
    "os.getenv(\"PYTHONSTARTUP\", \"Not Set Yet\")"
   ]
  },
  {
   "cell_type": "code",
   "execution_count": 20,
   "metadata": {},
   "outputs": [],
   "source": [
    "os.getenv(\"TEMP\")"
   ]
  },
  {
   "cell_type": "code",
   "execution_count": 21,
   "metadata": {},
   "outputs": [
    {
     "data": {
      "text/plain": [
       "'No such key'"
      ]
     },
     "execution_count": 21,
     "metadata": {},
     "output_type": "execute_result"
    }
   ],
   "source": [
    "# Adding new environment variable\n",
    "\n",
    "os.putenv(\"A\", \"Apple\")  # wont change the\n",
    "\n",
    "os.getenv(\"A\", \"No such key\")\n"
   ]
  },
  {
   "cell_type": "code",
   "execution_count": 22,
   "metadata": {},
   "outputs": [
    {
     "data": {
      "text/plain": [
       "'Apple'"
      ]
     },
     "execution_count": 22,
     "metadata": {},
     "output_type": "execute_result"
    }
   ],
   "source": [
    "os.environ[\"A\"] = \"Apple\"  # modifies environment variables\n",
    "\n",
    "os.getenv(\"A\", \"No such key\")\n"
   ]
  },
  {
   "cell_type": "code",
   "execution_count": 23,
   "metadata": {},
   "outputs": [
    {
     "name": "stdout",
     "output_type": "stream",
     "text": [
      "/bin\n",
      "/bin\n",
      "/go/bin\n",
      "/go/bin\n",
      "/home/codespace/.dotnet\n",
      "/home/codespace/.dotnet\n",
      "/home/codespace/.dotnet/tools\n",
      "/home/codespace/.dotnet/tools\n",
      "/home/codespace/.local/bin\n",
      "/home/codespace/.local/bin\n",
      "/home/codespace/.local/bin\n",
      "/home/codespace/.local/bin\n",
      "/home/codespace/.php/current/bin\n",
      "/home/codespace/.php/current/bin\n",
      "/home/codespace/.python/current/bin\n",
      "/home/codespace/.python/current/bin\n",
      "/home/codespace/.python/current/bin\n",
      "/home/codespace/.ruby/current/bin\n",
      "/home/codespace/.ruby/current/bin\n",
      "/home/codespace/java/current/bin\n",
      "/home/codespace/java/current/bin\n",
      "/home/codespace/nvm/current/bin\n",
      "/home/codespace/nvm/current/bin\n",
      "/opt/conda/bin\n",
      "/opt/conda/bin\n",
      "/sbin\n",
      "/sbin\n",
      "/usr/bin\n",
      "/usr/bin\n",
      "/usr/local/bin\n",
      "/usr/local/bin\n",
      "/usr/local/go/bin\n",
      "/usr/local/go/bin\n",
      "/usr/local/hugo/bin\n",
      "/usr/local/hugo/bin\n",
      "/usr/local/nvs\n",
      "/usr/local/nvs\n",
      "/usr/local/oryx\n",
      "/usr/local/oryx\n",
      "/usr/local/php/current/bin\n",
      "/usr/local/php/current/bin\n",
      "/usr/local/py-utils/bin\n",
      "/usr/local/py-utils/bin\n",
      "/usr/local/python/current/bin\n",
      "/usr/local/python/current/bin\n",
      "/usr/local/rvm/bin\n",
      "/usr/local/rvm/bin\n",
      "/usr/local/rvm/gems/default/bin\n",
      "/usr/local/rvm/gems/default/bin\n",
      "/usr/local/rvm/gems/default@global/bin\n",
      "/usr/local/rvm/gems/default@global/bin\n",
      "/usr/local/rvm/rubies/default/bin\n",
      "/usr/local/rvm/rubies/default/bin\n",
      "/usr/local/sbin\n",
      "/usr/local/sbin\n",
      "/usr/local/sdkman/bin\n",
      "/usr/local/sdkman/bin\n",
      "/usr/local/sdkman/candidates/ant/current/bin\n",
      "/usr/local/sdkman/candidates/ant/current/bin\n",
      "/usr/local/sdkman/candidates/gradle/current/bin\n",
      "/usr/local/sdkman/candidates/gradle/current/bin\n",
      "/usr/local/sdkman/candidates/java/current/bin\n",
      "/usr/local/sdkman/candidates/java/current/bin\n",
      "/usr/local/sdkman/candidates/maven/current/bin\n",
      "/usr/local/sdkman/candidates/maven/current/bin\n",
      "/usr/local/share/nvm/current/bin\n",
      "/usr/local/share/nvm/current/bin\n",
      "/usr/local/share/rbenv/bin\n",
      "/usr/local/share/rbenv/bin\n",
      "/usr/sbin\n",
      "/usr/sbin\n",
      "/usr/share/dotnet\n",
      "/usr/share/dotnet\n",
      "/vscode/bin/linux-x64/fabdb6a30b49f79a7aba0f2ad9df9b399473380f/bin/remote-cli\n",
      "/vscode/bin/linux-x64/fabdb6a30b49f79a7aba0f2ad9df9b399473380f/bin/remote-cli\n"
     ]
    }
   ],
   "source": [
    "for each_path in sorted(os.get_exec_path()):\n",
    "    print(each_path)\n",
    "# Returns the list of directories that will be searched for a named executable, when launching a process.\n"
   ]
  },
  {
   "cell_type": "code",
   "execution_count": 25,
   "metadata": {},
   "outputs": [],
   "source": [
    "import getpass\n",
    "\n",
    "assert (\n",
    "    getpass.getuser()\n",
    "    # == os.getlogin()\n",
    "    == os.environ[\"USER\"]  # USERNAME\n",
    "    == os.getenv(\"USER\")\n",
    ")"
   ]
  },
  {
   "cell_type": "code",
   "execution_count": 26,
   "metadata": {},
   "outputs": [
    {
     "data": {
      "text/plain": [
       "('codespace', 'codespace')"
      ]
     },
     "execution_count": 26,
     "metadata": {},
     "output_type": "execute_result"
    }
   ],
   "source": [
    "getpass.getuser(), os.environ['USER']"
   ]
  },
  {
   "cell_type": "code",
   "execution_count": 27,
   "metadata": {},
   "outputs": [
    {
     "data": {
      "text/plain": [
       "12973"
      ]
     },
     "execution_count": 27,
     "metadata": {},
     "output_type": "execute_result"
    }
   ],
   "source": [
    "os.getpid()  # Return the parent’s process id."
   ]
  },
  {
   "cell_type": "code",
   "execution_count": 28,
   "metadata": {},
   "outputs": [
    {
     "data": {
      "text/plain": [
       "'/workspaces/PythonNovDec24/10_modules/04a_os_module'"
      ]
     },
     "execution_count": 28,
     "metadata": {},
     "output_type": "execute_result"
    }
   ],
   "source": [
    "os.getcwd()\n"
   ]
  },
  {
   "cell_type": "code",
   "execution_count": 29,
   "metadata": {},
   "outputs": [
    {
     "name": "stdout",
     "output_type": "stream",
     "text": [
      "my\n",
      "ewfolder\n"
     ]
    }
   ],
   "source": [
    "print(\"my\\newfolder\")\n"
   ]
  },
  {
   "cell_type": "code",
   "execution_count": 30,
   "metadata": {},
   "outputs": [
    {
     "name": "stdout",
     "output_type": "stream",
     "text": [
      "my\\newfolder\n"
     ]
    }
   ],
   "source": [
    "print(\"my\\\\newfolder\")\n"
   ]
  },
  {
   "cell_type": "code",
   "execution_count": 31,
   "metadata": {},
   "outputs": [
    {
     "name": "stdout",
     "output_type": "stream",
     "text": [
      "my\\newfolder\n"
     ]
    }
   ],
   "source": [
    "print(r\"my\\newfolder\")\n"
   ]
  },
  {
   "cell_type": "code",
   "execution_count": 32,
   "metadata": {},
   "outputs": [
    {
     "name": "stdout",
     "output_type": "stream",
     "text": [
      "my\\newfolde\\sdas\\asd\\asd\\asd\\asdasd\\asd\\asd\n"
     ]
    }
   ],
   "source": [
    "print(r\"my\\newfolde\\sdas\\asd\\asd\\asd\\asdasd\\asd\\asd\")"
   ]
  },
  {
   "cell_type": "code",
   "execution_count": 33,
   "metadata": {},
   "outputs": [
    {
     "name": "stdout",
     "output_type": "stream",
     "text": [
      "my/newfol/der\n"
     ]
    }
   ],
   "source": [
    "print(\"my/newfol/der\")  # POSIX paths works in NT also"
   ]
  },
  {
   "cell_type": "code",
   "execution_count": 34,
   "metadata": {},
   "outputs": [
    {
     "data": {
      "text/plain": [
       "<posix.ScandirIterator at 0x78675d2f8880>"
      ]
     },
     "execution_count": 34,
     "metadata": {},
     "output_type": "execute_result"
    }
   ],
   "source": [
    "os.scandir(os.getcwd())\n",
    "# os.listdir returns a list, whereas os.scandir will return iterator object\n",
    "# Also, os.scandir is faster and provides info about files like file size, creation time, etc"
   ]
  },
  {
   "cell_type": "code",
   "execution_count": 35,
   "metadata": {},
   "outputs": [
    {
     "name": "stdout",
     "output_type": "stream",
     "text": [
      "File: a_os_module.ipynb\n"
     ]
    }
   ],
   "source": [
    "for entry in os.scandir(os.getcwd()):\n",
    "    if entry.is_file():\n",
    "        print(f\"File: {entry.name}\")\n",
    "    elif entry.is_dir():\n",
    "        print(f\"Directory: {entry.name}\")"
   ]
  },
  {
   "cell_type": "code",
   "execution_count": 36,
   "metadata": {},
   "outputs": [
    {
     "data": {
      "text/plain": [
       "os.stat_result(st_mode=16895, st_ino=1835739, st_dev=1799, st_nlink=2, st_uid=1000, st_gid=1000, st_size=4096, st_atime=1735791436, st_mtime=1735791434, st_ctime=1735791434)"
      ]
     },
     "execution_count": 36,
     "metadata": {},
     "output_type": "execute_result"
    }
   ],
   "source": [
    "os.lstat(\".\")\n"
   ]
  },
  {
   "cell_type": "code",
   "execution_count": 37,
   "metadata": {},
   "outputs": [
    {
     "name": "stdout",
     "output_type": "stream",
     "text": [
      "2025-01-02 04:17:14.994699+00:00\n"
     ]
    }
   ],
   "source": [
    "from datetime import datetime, UTC\n",
    "\n",
    "time_stamp = os.lstat(\".\").st_mtime\n",
    "\n",
    "print(datetime.fromtimestamp(time_stamp, UTC))"
   ]
  },
  {
   "cell_type": "markdown",
   "metadata": {},
   "source": [
    "### working with paths\n"
   ]
  },
  {
   "cell_type": "code",
   "execution_count": 38,
   "metadata": {},
   "outputs": [
    {
     "name": "stdout",
     "output_type": "stream",
     "text": [
      "\n",
      "    os.curdir : .\n",
      "    os.pardir : ..\n",
      "    os.sep    : /\n",
      "    os.altsep : None\n",
      "    os.extsep : .\n",
      "    os.pathsep: :  # ':' for POSIX or ';' for Windows\n",
      "\n"
     ]
    }
   ],
   "source": [
    "print(\n",
    "    f\"\"\"\n",
    "    os.curdir : {os.curdir}\n",
    "    os.pardir : {os.pardir}\n",
    "    os.sep    : {os.sep}\n",
    "    os.altsep : {os.altsep}\n",
    "    os.extsep : {os.extsep}\n",
    "    os.pathsep: {os.pathsep}  # ':' for POSIX or ';' for Windows\n",
    "\"\"\"\n",
    ")"
   ]
  },
  {
   "cell_type": "code",
   "execution_count": 39,
   "metadata": {},
   "outputs": [
    {
     "data": {
      "text/plain": [
       "'\\n'"
      ]
     },
     "execution_count": 39,
     "metadata": {},
     "output_type": "execute_result"
    }
   ],
   "source": [
    "os.linesep  # '\\n' for POSIX, '\\r\\n' for Windows"
   ]
  },
  {
   "cell_type": "markdown",
   "metadata": {},
   "source": [
    "## working with directories/folder\n"
   ]
  },
  {
   "cell_type": "code",
   "execution_count": 40,
   "metadata": {},
   "outputs": [],
   "source": [
    "os.mkdir('myFolder')"
   ]
  },
  {
   "cell_type": "code",
   "execution_count": 41,
   "metadata": {},
   "outputs": [
    {
     "data": {
      "text/plain": [
       "['a_os_module.ipynb', 'myFolder']"
      ]
     },
     "execution_count": 41,
     "metadata": {},
     "output_type": "execute_result"
    }
   ],
   "source": [
    "os.listdir('.')"
   ]
  },
  {
   "cell_type": "code",
   "execution_count": 42,
   "metadata": {},
   "outputs": [
    {
     "ename": "FileExistsError",
     "evalue": "[Errno 17] File exists: 'myFolder'",
     "output_type": "error",
     "traceback": [
      "\u001b[0;31m---------------------------------------------------------------------------\u001b[0m",
      "\u001b[0;31mFileExistsError\u001b[0m                           Traceback (most recent call last)",
      "Cell \u001b[0;32mIn[42], line 1\u001b[0m\n\u001b[0;32m----> 1\u001b[0m \u001b[43mos\u001b[49m\u001b[38;5;241;43m.\u001b[39;49m\u001b[43mmkdir\u001b[49m\u001b[43m(\u001b[49m\u001b[38;5;124;43m'\u001b[39;49m\u001b[38;5;124;43mmyFolder\u001b[39;49m\u001b[38;5;124;43m'\u001b[39;49m\u001b[43m)\u001b[49m\n",
      "\u001b[0;31mFileExistsError\u001b[0m: [Errno 17] File exists: 'myFolder'"
     ]
    }
   ],
   "source": [
    "os.mkdir('myFolder')"
   ]
  },
  {
   "cell_type": "code",
   "execution_count": 43,
   "metadata": {},
   "outputs": [
    {
     "name": "stdout",
     "output_type": "stream",
     "text": [
      "\u001b[0;31mSignature:\u001b[0m \u001b[0mos\u001b[0m\u001b[0;34m.\u001b[0m\u001b[0mmkdir\u001b[0m\u001b[0;34m(\u001b[0m\u001b[0mpath\u001b[0m\u001b[0;34m,\u001b[0m \u001b[0mmode\u001b[0m\u001b[0;34m=\u001b[0m\u001b[0;36m511\u001b[0m\u001b[0;34m,\u001b[0m \u001b[0;34m*\u001b[0m\u001b[0;34m,\u001b[0m \u001b[0mdir_fd\u001b[0m\u001b[0;34m=\u001b[0m\u001b[0;32mNone\u001b[0m\u001b[0;34m)\u001b[0m\u001b[0;34m\u001b[0m\u001b[0;34m\u001b[0m\u001b[0m\n",
      "\u001b[0;31mDocstring:\u001b[0m\n",
      "Create a directory.\n",
      "\n",
      "If dir_fd is not None, it should be a file descriptor open to a directory,\n",
      "  and path should be relative; path will then be relative to that directory.\n",
      "dir_fd may not be implemented on your platform.\n",
      "  If it is unavailable, using it will raise a NotImplementedError.\n",
      "\n",
      "The mode argument is ignored on Windows. Where it is used, the current umask\n",
      "value is first masked out.\n",
      "\u001b[0;31mType:\u001b[0m      builtin_function_or_method"
     ]
    }
   ],
   "source": [
    "os.mkdir?"
   ]
  },
  {
   "cell_type": "code",
   "execution_count": 44,
   "metadata": {},
   "outputs": [
    {
     "ename": "FileExistsError",
     "evalue": "[Errno 17] File exists: 'myFolder'",
     "output_type": "error",
     "traceback": [
      "\u001b[0;31m---------------------------------------------------------------------------\u001b[0m",
      "\u001b[0;31mFileExistsError\u001b[0m                           Traceback (most recent call last)",
      "Cell \u001b[0;32mIn[44], line 1\u001b[0m\n\u001b[0;32m----> 1\u001b[0m \u001b[43mos\u001b[49m\u001b[38;5;241;43m.\u001b[39;49m\u001b[43mmakedirs\u001b[49m\u001b[43m(\u001b[49m\u001b[38;5;124;43m'\u001b[39;49m\u001b[38;5;124;43mmyFolder\u001b[39;49m\u001b[38;5;124;43m'\u001b[39;49m\u001b[43m)\u001b[49m\n",
      "File \u001b[0;32m<frozen os>:225\u001b[0m, in \u001b[0;36mmakedirs\u001b[0;34m(name, mode, exist_ok)\u001b[0m\n",
      "\u001b[0;31mFileExistsError\u001b[0m: [Errno 17] File exists: 'myFolder'"
     ]
    }
   ],
   "source": [
    "os.makedirs('myFolder')"
   ]
  },
  {
   "cell_type": "code",
   "execution_count": 45,
   "metadata": {},
   "outputs": [
    {
     "name": "stdout",
     "output_type": "stream",
     "text": [
      "\u001b[0;31mSignature:\u001b[0m \u001b[0mos\u001b[0m\u001b[0;34m.\u001b[0m\u001b[0mmakedirs\u001b[0m\u001b[0;34m(\u001b[0m\u001b[0mname\u001b[0m\u001b[0;34m,\u001b[0m \u001b[0mmode\u001b[0m\u001b[0;34m=\u001b[0m\u001b[0;36m511\u001b[0m\u001b[0;34m,\u001b[0m \u001b[0mexist_ok\u001b[0m\u001b[0;34m=\u001b[0m\u001b[0;32mFalse\u001b[0m\u001b[0;34m)\u001b[0m\u001b[0;34m\u001b[0m\u001b[0;34m\u001b[0m\u001b[0m\n",
      "\u001b[0;31mDocstring:\u001b[0m\n",
      "makedirs(name [, mode=0o777][, exist_ok=False])\n",
      "\n",
      "Super-mkdir; create a leaf directory and all intermediate ones.  Works like\n",
      "mkdir, except that any intermediate path segment (not just the rightmost)\n",
      "will be created if it does not exist. If the target directory already\n",
      "exists, raise an OSError if exist_ok is False. Otherwise no exception is\n",
      "raised.  This is recursive.\n",
      "\u001b[0;31mFile:\u001b[0m      /workspaces/PythonNovDec24/10_modules/04a_os_module/<frozen os>\n",
      "\u001b[0;31mType:\u001b[0m      function"
     ]
    }
   ],
   "source": [
    "os.makedirs?"
   ]
  },
  {
   "cell_type": "code",
   "execution_count": 46,
   "metadata": {},
   "outputs": [],
   "source": [
    "os.makedirs('myFolder', exist_ok=True)"
   ]
  },
  {
   "cell_type": "code",
   "execution_count": 47,
   "metadata": {},
   "outputs": [],
   "source": [
    "os.makedirs('First/Second/Third', exist_ok=True)"
   ]
  },
  {
   "cell_type": "code",
   "execution_count": 48,
   "metadata": {},
   "outputs": [
    {
     "data": {
      "text/plain": [
       "['a_os_module.ipynb', 'First', 'myFolder']"
      ]
     },
     "execution_count": 48,
     "metadata": {},
     "output_type": "execute_result"
    }
   ],
   "source": [
    "os.listdir()"
   ]
  },
  {
   "cell_type": "code",
   "execution_count": 49,
   "metadata": {},
   "outputs": [
    {
     "name": "stdout",
     "output_type": "stream",
     "text": [
      "\u001b[01;34m.\u001b[00m\n",
      "├── \u001b[01;34mFirst\u001b[00m\n",
      "│   └── \u001b[01;34mSecond\u001b[00m\n",
      "│       └── \u001b[01;34mThird\u001b[00m\n",
      "├── a_os_module.ipynb\n",
      "└── \u001b[01;34mmyFolder\u001b[00m\n",
      "\n",
      "4 directories, 1 file\n"
     ]
    },
    {
     "data": {
      "text/plain": [
       "0"
      ]
     },
     "execution_count": 49,
     "metadata": {},
     "output_type": "execute_result"
    }
   ],
   "source": [
    "os.system('tree')"
   ]
  },
  {
   "cell_type": "code",
   "execution_count": 59,
   "metadata": {},
   "outputs": [],
   "source": [
    "# creating a file\n",
    "f = open(\"myfile.txt\", \"w\")\n",
    "f.write(\"my data\")\n",
    "f.close()"
   ]
  },
  {
   "cell_type": "code",
   "execution_count": 51,
   "metadata": {},
   "outputs": [
    {
     "data": {
      "text/plain": [
       "['a_os_module.ipynb', 'myfile.txt', 'First', 'myFolder']"
      ]
     },
     "execution_count": 51,
     "metadata": {},
     "output_type": "execute_result"
    }
   ],
   "source": [
    "os.listdir()"
   ]
  },
  {
   "cell_type": "code",
   "execution_count": 52,
   "metadata": {},
   "outputs": [],
   "source": [
    "os.rename(\"myfile.txt\", \"otherfile.tsf\")"
   ]
  },
  {
   "cell_type": "code",
   "execution_count": 53,
   "metadata": {},
   "outputs": [
    {
     "data": {
      "text/plain": [
       "['otherfile.tsf', 'a_os_module.ipynb', 'First', 'myFolder']"
      ]
     },
     "execution_count": 53,
     "metadata": {},
     "output_type": "execute_result"
    }
   ],
   "source": [
    "os.listdir()"
   ]
  },
  {
   "cell_type": "code",
   "execution_count": 54,
   "metadata": {},
   "outputs": [],
   "source": [
    "os.rename(\"First\", \"PythonFolder\")"
   ]
  },
  {
   "cell_type": "code",
   "execution_count": 55,
   "metadata": {},
   "outputs": [
    {
     "name": "stdout",
     "output_type": "stream",
     "text": [
      "\u001b[01;34m.\u001b[00m\n",
      "├── \u001b[01;34mPythonFolder\u001b[00m\n",
      "│   └── \u001b[01;34mSecond\u001b[00m\n",
      "│       └── \u001b[01;34mThird\u001b[00m\n",
      "├── a_os_module.ipynb\n",
      "├── \u001b[01;34mmyFolder\u001b[00m\n",
      "└── otherfile.tsf\n",
      "\n",
      "4 directories, 2 files\n"
     ]
    },
    {
     "data": {
      "text/plain": [
       "0"
      ]
     },
     "execution_count": 55,
     "metadata": {},
     "output_type": "execute_result"
    }
   ],
   "source": [
    "os.system('tree')"
   ]
  },
  {
   "cell_type": "code",
   "execution_count": 56,
   "metadata": {},
   "outputs": [
    {
     "name": "stdout",
     "output_type": "stream",
     "text": [
      "\u001b[0;31mSignature:\u001b[0m  \u001b[0mos\u001b[0m\u001b[0;34m.\u001b[0m\u001b[0mrenames\u001b[0m\u001b[0;34m(\u001b[0m\u001b[0mold\u001b[0m\u001b[0;34m,\u001b[0m \u001b[0mnew\u001b[0m\u001b[0;34m)\u001b[0m\u001b[0;34m\u001b[0m\u001b[0;34m\u001b[0m\u001b[0m\n",
      "\u001b[0;31mDocstring:\u001b[0m\n",
      "renames(old, new)\n",
      "\n",
      "Super-rename; create directories as necessary and delete any left\n",
      "empty.  Works like rename, except creation of any intermediate\n",
      "directories needed to make the new pathname good is attempted\n",
      "first.  After the rename, directories corresponding to rightmost\n",
      "path segments of the old name will be pruned until either the\n",
      "whole path is consumed or a nonempty directory is found.\n",
      "\n",
      "Note: this function can fail with the new directory structure made\n",
      "if you lack permissions needed to unlink the leaf directory or\n",
      "file.\n",
      "\u001b[0;31mFile:\u001b[0m      /workspaces/PythonNovDec24/10_modules/04a_os_module/<frozen os>\n",
      "\u001b[0;31mType:\u001b[0m      function"
     ]
    }
   ],
   "source": [
    "? os.renames\n"
   ]
  },
  {
   "cell_type": "code",
   "execution_count": 60,
   "metadata": {},
   "outputs": [],
   "source": [
    "# assignment - try this os.renames\n",
    "\n",
    "os.rename(\"myfile.txt\", \"otherfile.tsf\")"
   ]
  },
  {
   "cell_type": "code",
   "execution_count": 70,
   "metadata": {},
   "outputs": [],
   "source": [
    "os.remove(\"otherfile.tsf\")"
   ]
  },
  {
   "cell_type": "code",
   "execution_count": 61,
   "metadata": {},
   "outputs": [
    {
     "name": "stdout",
     "output_type": "stream",
     "text": [
      "IsADirectoryError(21, 'Is a directory')\n"
     ]
    }
   ],
   "source": [
    "try:\n",
    "    os.remove(\"myFolder\")\n",
    "except (PermissionError, IsADirectoryError) as ex:\n",
    "    print(repr(ex))"
   ]
  },
  {
   "cell_type": "code",
   "execution_count": 62,
   "metadata": {},
   "outputs": [],
   "source": [
    "os.rmdir(\"myFolder\")\n"
   ]
  },
  {
   "cell_type": "code",
   "execution_count": 63,
   "metadata": {},
   "outputs": [
    {
     "name": "stdout",
     "output_type": "stream",
     "text": [
      "\u001b[01;34m.\u001b[00m\n",
      "├── \u001b[01;34mPythonFolder\u001b[00m\n",
      "│   └── \u001b[01;34mSecond\u001b[00m\n",
      "│       └── \u001b[01;34mThird\u001b[00m\n",
      "├── a_os_module.ipynb\n",
      "└── otherfile.tsf\n",
      "\n",
      "3 directories, 2 files\n"
     ]
    },
    {
     "data": {
      "text/plain": [
       "0"
      ]
     },
     "execution_count": 63,
     "metadata": {},
     "output_type": "execute_result"
    }
   ],
   "source": [
    "os.system('tree')"
   ]
  },
  {
   "cell_type": "code",
   "execution_count": 64,
   "metadata": {},
   "outputs": [],
   "source": [
    "os.removedirs(\"PythonFolder/Second/Third\")\n",
    "# first removes 'PythonFolder/second/third', \n",
    "# then 'PythonFolder/second' \n",
    "# and then 'PythonFolder'"
   ]
  },
  {
   "cell_type": "code",
   "execution_count": 66,
   "metadata": {},
   "outputs": [
    {
     "name": "stdout",
     "output_type": "stream",
     "text": [
      "\u001b[01;34m.\u001b[00m\n",
      "├── a_os_module.ipynb\n",
      "└── otherfile.tsf\n",
      "\n",
      "0 directories, 2 files\n"
     ]
    },
    {
     "data": {
      "text/plain": [
       "0"
      ]
     },
     "execution_count": 66,
     "metadata": {},
     "output_type": "execute_result"
    }
   ],
   "source": [
    "os.system('tree')"
   ]
  },
  {
   "cell_type": "markdown",
   "metadata": {},
   "source": [
    "## Executing commands\n"
   ]
  },
  {
   "cell_type": "code",
   "execution_count": 67,
   "metadata": {},
   "outputs": [
    {
     "name": "stderr",
     "output_type": "stream",
     "text": [
      "sh: 1: ipconfig: not found\n"
     ]
    },
    {
     "data": {
      "text/plain": [
       "32512"
      ]
     },
     "execution_count": 67,
     "metadata": {},
     "output_type": "execute_result"
    }
   ],
   "source": [
    "os.system(\"ipconfig\")  # 1 - unsuccessfully executed command"
   ]
  },
  {
   "cell_type": "code",
   "execution_count": 68,
   "metadata": {},
   "outputs": [
    {
     "name": "stdout",
     "output_type": "stream",
     "text": [
      "docker0: flags=4099<UP,BROADCAST,MULTICAST>  mtu 1500\n",
      "        inet 172.17.0.1  netmask 255.255.0.0  broadcast 172.17.255.255\n",
      "        ether 02:42:ac:64:69:a9  txqueuelen 0  (Ethernet)\n",
      "        RX packets 0  bytes 0 (0.0 B)\n",
      "        RX errors 0  dropped 0  overruns 0  frame 0\n",
      "        TX packets 0  bytes 0 (0.0 B)\n",
      "        TX errors 0  dropped 0 overruns 0  carrier 0  collisions 0\n",
      "\n",
      "eth0: flags=4163<UP,BROADCAST,RUNNING,MULTICAST>  mtu 1500\n",
      "        inet 10.0.1.41  netmask 255.255.0.0  broadcast 10.0.255.255\n",
      "        inet6 fe80::7e1e:52ff:fe7c:23d  prefixlen 64  scopeid 0x20<link>\n",
      "        ether 7c:1e:52:7c:02:3d  txqueuelen 1000  (Ethernet)\n",
      "        RX packets 17262428  bytes 24047140980 (24.0 GB)\n",
      "        RX errors 0  dropped 0  overruns 0  frame 0\n",
      "        TX packets 466539  bytes 128191911 (128.1 MB)\n",
      "        TX errors 0  dropped 0 overruns 0  carrier 0  collisions 0\n",
      "\n",
      "lo: flags=73<UP,LOOPBACK,RUNNING>  mtu 65536\n",
      "        inet 127.0.0.1  netmask 255.0.0.0\n",
      "        inet6 ::1  prefixlen 128  scopeid 0x10<host>\n",
      "        loop  txqueuelen 1000  (Local Loopback)\n",
      "        RX packets 28791  bytes 97869182 (97.8 MB)\n",
      "        RX errors 0  dropped 0  overruns 0  frame 0\n",
      "        TX packets 28791  bytes 97869182 (97.8 MB)\n",
      "        TX errors 0  dropped 0 overruns 0  carrier 0  collisions 0\n",
      "\n"
     ]
    },
    {
     "data": {
      "text/plain": [
       "0"
      ]
     },
     "execution_count": 68,
     "metadata": {},
     "output_type": "execute_result"
    }
   ],
   "source": [
    "os.system(\"ifconfig\")  # 0 - successfully executed command"
   ]
  },
  {
   "cell_type": "code",
   "execution_count": 73,
   "metadata": {},
   "outputs": [
    {
     "name": "stderr",
     "output_type": "stream",
     "text": [
      "sh: 1: ping: not found\n"
     ]
    },
    {
     "data": {
      "text/plain": [
       "32512"
      ]
     },
     "execution_count": 73,
     "metadata": {},
     "output_type": "execute_result"
    }
   ],
   "source": [
    "os.system(\"ping google.com\")"
   ]
  },
  {
   "cell_type": "markdown",
   "metadata": {},
   "source": [
    "## Get all the python files in our material\n"
   ]
  },
  {
   "cell_type": "code",
   "execution_count": 85,
   "metadata": {},
   "outputs": [
    {
     "data": {
      "text/plain": [
       "['07_functions_decorators',\n",
       " '10_modules',\n",
       " '01_Introduction',\n",
       " '03_Language_Components',\n",
       " '.git',\n",
       " '.gitignore',\n",
       " '02_Basics',\n",
       " '06_Collections',\n",
       " '09_Iterators_generators_coroutines',\n",
       " '05_Debugging',\n",
       " 'README.md',\n",
       " '04_Exceptions']"
      ]
     },
     "execution_count": 85,
     "metadata": {},
     "output_type": "execute_result"
    }
   ],
   "source": [
    "os.listdir('/workspaces/PythonNovDec24')"
   ]
  },
  {
   "cell_type": "code",
   "execution_count": 92,
   "metadata": {},
   "outputs": [
    {
     "data": {
      "text/plain": [
       "<generator object walk at 0x78675dd1eb60>"
      ]
     },
     "execution_count": 92,
     "metadata": {},
     "output_type": "execute_result"
    }
   ],
   "source": [
    "# os.walk(top, topdown=True, onerror=None, followlinks=False)\n",
    "\n",
    "\n",
    "os.walk('/workspaces/PythonNovDec24')"
   ]
  },
  {
   "cell_type": "code",
   "execution_count": 87,
   "metadata": {},
   "outputs": [
    {
     "name": "stdout",
     "output_type": "stream",
     "text": [
      "3 ('.', [], ['otherfile.tsf', 'a_os_module.ipynb'])\n"
     ]
    }
   ],
   "source": [
    "for each in os.walk(\".\"):\n",
    "    print(len(each), each)\n",
    "    # break"
   ]
  },
  {
   "cell_type": "code",
   "execution_count": 88,
   "metadata": {},
   "outputs": [],
   "source": [
    "for each_dir, list_of_folders, list_of_files in os.walk('/workspaces/PythonNovDec24'):\n",
    "    print(each_dir)"
   ]
  },
  {
   "cell_type": "code",
   "execution_count": 93,
   "metadata": {},
   "outputs": [
    {
     "name": "stdout",
     "output_type": "stream",
     "text": [
      "['07_functions_decorators', '10_modules', '01_Introduction', '03_Language_Components', '.git', '02_Basics', '06_Collections', '09_Iterators_generators_coroutines', '05_Debugging', '04_Exceptions']\n",
      "['02_sys', '03_argparse', '01_math', '04a_os_module']\n",
      "['07_Conditional_Operations', '01_Relational_Operations', '09_Loops', '03_Boolean_Operations', '05_Identity_Operations', '04_Bitwise_Operations', '06_Range_Function', '08_Structural_Pattern_Matching', '10_walrus_operator', '02_Logical_Operations']\n",
      "['objects', 'hooks', 'lfs', 'branches', 'refs', 'logs', 'info']\n",
      "['dd', '2b', 'a1', '9c', '95', '77', '8c', '66', '7f', 'bf', 'aa', 'c8', 'fb', 'b6', '4c', 'a6', '07', 'ce', '94', 'e4', '59', 'ab', '04', '6c', '4b', '1d', '16', '0b', 'd4', 'f1', '89', '51', 'dc', 'ff', '90', '73', 'c9', '6e', 'c2', '69', '29', '4e', 'c5', '80', '45', '4a', 'pack', '3b', 'bc', 'df', '3c', '2c', 'd5', '97', '43', 'f2', '3d', '26', '00', '21', '0e', '23', '88', 'd6', '24', '54', '40', '5a', '9f', '5b', '9b', '32', 'fc', '39', '53', '17', 'ac', '5e', '2d', 'd9', 'c0', '86', '1c', 'a2', '61', '01', '75', '22', '5d', '38', 'cc', 'af', '36', 'b9', 'f8', 'e6', '7e', 'ee', 'a7', 'f3', '2e', '91', '28', '71', 'd3', '9d', 'cf', '18', 'd1', '6d', '60', 'f5', '33', '96', '2f', 'bb', '05', '87', 'ef', 'e0', '6f', '20', 'bd', '06', 'd2', 'c3', '67', 'd0', 'ca', '9e', 'b2', 'e8', 'e1', '78', '9a', '99', '68', '7a', 'ba', '27', '8f', '82', '58', '70', 'a4', '31', '13', '35', '4f', '47', 'b5', '10', 'a9', '02', 'eb', 'e7', '09', '15', 'ec', '4d', '6a', '44', '14', 'f9', '74', '37', 'f7', '62', 'c1', 'f6', '55', '50', 'info', 'fe', '7d']\n",
      "['tmp']\n",
      "['heads', 'tags', 'remotes']\n",
      "['origin']\n",
      "['refs']\n",
      "['heads', 'remotes']\n",
      "['origin']\n",
      "['Arithmetic_Operations', 'String_Operations']\n",
      "['02_Basics']\n",
      "['02_String_Operations']\n",
      "['04_Dicts', '03_Sets', '02_Tuples', '01_Lists']\n",
      "['03_generators', '04_coroutines', '01_Iterables', '02_iterators']\n"
     ]
    }
   ],
   "source": [
    "for each_dir, list_of_folders, list_of_files in os.walk('/workspaces/PythonNovDec24'):\n",
    "    if list_of_folders:\n",
    "        print(list_of_folders)"
   ]
  },
  {
   "cell_type": "code",
   "execution_count": 94,
   "metadata": {},
   "outputs": [
    {
     "name": "stdout",
     "output_type": "stream",
     "text": [
      "['.gitignore', 'README.md']\n",
      "['b_advanced.ipynb', 'a_functional_programming.ipynb']\n",
      "['a_sys_module.ipynb', 'b_command_line_args.py']\n",
      "['a_arg_parse.py']\n",
      "['a_math_module.ipynb']\n",
      "['otherfile.tsf', 'a_os_module.ipynb']\n",
      "['l_multi', 'f_print_syntax.py', 'd_indentation_issue.py', 'a_first.py', 'g_print_syntax.ipynb', 'm_semicolon_operator.py', 'l_multiline_statements.py', 'i_keywords.txt', 'b_hello_world.py', 'j_identifiers.py', 'h_comments.py', 'k_identifier_casing.py', 'e_builtin_functions.txt', 'c_dynamic_typing.py']\n",
      "['a_even_or_odd.py', 'f_temperature_conversion.py', 'e_celsius_to_fahrenheit_conversion.py', 'b_number_guessing_game.py', 'd_vowels_n_consonants.py', 'g_electricity_bill_generation.py', 'c_office_schedule.py']\n",
      "['a_relational_operations.py']\n",
      "['e_multiplication_table.py', 'f_loops.py', 'b_progress_bar_implementation.py', 'd_while_loop.ipynb', 'c_progress_bar.py', 'a_for_loop.ipynb']\n",
      "['a_boolean_operations..ipynb']\n",
      "['a_identity_operations.ipynb']\n",
      "['a_bitwise_operations.ipynb']\n",
      "['a_range_function.ipynb']\n",
      "['b_vowel_char_check.py', 'a_check_number.ipynb', 'c_office_schedule.py']\n",
      "['a_simple_usage.ipynb']\n",
      "['c_short_circuit.py', 'a_logical_operations.py', 'b_logical_operations.py']\n",
      "['config', 'index', 'packed-refs', 'ORIG_HEAD', 'HEAD', 'FETCH_HEAD', 'COMMIT_EDITMSG', 'description']\n",
      "['4b7258951b486b23794ce0c989307821711679', 'feba277e20b74242ebb86075c29f2c9b6d794c']\n",
      "['5060657e39aff28500803baf092c26ac290e7f']\n",
      "['987f701021f5b14feafa8d4eaa0d7d8cb7302b']\n",
      "['3eedf485785821b6cab0b9f6fa2c4876849afd']\n",
      "['aa7644805565c0adde161d02d6c05f0cfc121d', '90dfad1e337089af5a1b045c7e80a8c88a6585']\n",
      "['01b7d5e5f69a3b1605a1f987280eccbd0abddb', 'b7a3b1fbefe4a2b22b78f9e27cd80ad351b5ce']\n",
      "['e2082de0e50e2882f4f71732e86c41b4e51645']\n",
      "['1d9fb9c4c33d7adfb23216a2e048752920aac9']\n",
      "['0cf6f32c7ae0203ce6106d404ab0df82087c50']\n",
      "['4f160c29a6d15def0f8ce9649657b3b9164a3e']\n",
      "['52ea6d0852ac521e98fb85f3bf06ff3a2e4f48', 'df299ba415e977ea7e8404b02ab773667e3818']\n",
      "['ea5a05079c56d4e0b603aee89a4d6238d3bcbb']\n",
      "['894e6757bdd573804eb62dbc43a7071b57d809', '2caa05a881121e0eae7a2a17dc7a121f0f311b', '3ce2515a4616bfc912abe0c38224b427c45136']\n",
      "['14b1710958d204113f25723e07c417681753cf']\n",
      "['51e54e8ff5a8996108d9088b6c4303b7ce67ca', '8f112997c1d7b663887d97120c9a321a17cbbe', '29efe08aec3e3333f78076d1c5d7f3694e5e5d']\n",
      "['2305c7971bfb4f38bdd68cd57ddd62633b8355']\n",
      "['784d7e8896fb198c5d93bfe84fb1a2ca766347', 'e3316a89af2261f9bdf732201d6300a7e54dcf']\n",
      "['bae0548407d25963bdd30878ed2d5268a78994', '137e144acf3a44d293a8d9b7204fb81da50836']\n",
      "['f6f9852a497726c80433536c9ca96a40033cf6', 'e1f4338a9206d4a7340d19afdc5b5ea2be0ade']\n",
      "['328e05f7d33ed3989cba51c2e9008fcfdcba42']\n",
      "['fd91b9457f8cf662e478a0788b1ba87bcbfd78']\n",
      "['46189a6e57bd0b3bcaccc0a448b2f573ffcb64', 'f0cb045e51f5f361ce610136b672b645c6a9de']\n",
      "['6c1d77012041e5d5cd3796dee0e0c1a5d0043c', '0e8c9c8ac1705afed0da46530c4a5ca8847008']\n",
      "['ea70b3555a96614e95e86ab1f1d1ebe58b61ab', 'd89255c07dfe02150d3405b7818b3552fbbd88', '3c122ced32c94cebdf389c260940c914e90121']\n",
      "['068ca6ca3daf2bd0373029ba95fc835db40a3f', 'e77d38ffcba1faaac1ce65f6d73756b4e4e4f8']\n",
      "['5d69be6ac2680f6f2a51910f741a88accc36c5']\n",
      "['f16308d65d97182dba05d48ee2ad6bc4700c0b', '9159c2f50fcfa666698ca41b0671870578ba65']\n",
      "['c6b0c7bdfcdcd0075a88773468021beee2d876', '9b1fe9c871dfcbfb7b18c6a5dbcbdc7eaf0b60']\n",
      "['de9b802cea7c28e4721a76b1f78c7c995a64a6']\n",
      "['0888c56488b21484680aa75fae9e7937fd80df']\n",
      "['d36e8ea2dec1e9433bae3aea837390ae223c6b', 'bc19c1ef8422f497cc761efbf33d2bf264c3f7', '015059fcd558496b58eb7469a70240ffa06ca6']\n",
      "['750bc41bcd28eb68c9e8a59db0e3f7f26c7fd0']\n",
      "['a790fcc44a7f236243a1692b40a7e470b1e3c7', '5bd021445cb5d2e031603efacd92402d7656db']\n",
      "['013d96a1e87f8d82f599349aabd5a9382fb4c5']\n",
      "['53f0551d68220145f8b512cb73e866596f86f4']\n",
      "['8bae037afd9f4c5e94637fdfe13accdb0e91fd']\n",
      "['88a2713cd26039369e2f47ab09d5b61a1c5cdc', '33d5c90299081fdfa067d63298d7a5eb163f73']\n",
      "['b403f90add29d764626d6839d6b53ff6a6ece4']\n",
      "['dcb1cf541b1f452c6d1b7b3a6693a155ec81c3']\n",
      "['e5b1db0e0d4ce879de12c7b8d2a628132c01cd', 'c3c528d3b37ebea8c6e43e86b3351411519163']\n",
      "['70d34097d61d58d08bdc880d7f9a492de934e9', 'd355c99f8c34ccc3d4feb4e3ee22482a81bcef']\n",
      "['09fc5d1e39098bc3ebd7660eee3862b6ddb6f5', '66baca13d1de7ca85fab1cbaac5db661a2310d']\n",
      "['fc29566a6624daef5119f9d8199742137fed64', 'f407313b75302a8ad47285111f6c539d72cec2', '04278f00f6c4ed1629d99398519c05ea7f1d85', 'a7f2f0891c8a21e47079c0aa9baf25e9fc8fde']\n",
      "['5352e159f0c9a68b9f32610aa6cdcd27f52b51', 'b760a0d91af3912bb591679532a0f52f792277']\n",
      "['d482a433cd9b4709c74ecc00f847446075df81', '2bcf7c9d7e244b20d3d474df118f79a618734d', 'd4872729eaf56f08f455ded7453d98f94d78af']\n",
      "['b778a52e5a69e131740b3ed88bab3f259eadfc']\n",
      "['pack-d85dc54104b18f8dcc2d9ffcb341a5971fb70666.idx', 'pack-d85dc54104b18f8dcc2d9ffcb341a5971fb70666.rev', 'pack-d85dc54104b18f8dcc2d9ffcb341a5971fb70666.pack']\n",
      "['4e1008ce326f79a6ce8de8f88f7d6603cd5451']\n",
      "['7d32e78f02525428192f3e1cfa23c344f3ee1e']\n",
      "['db9912839e678602f3d2b422856b65ad50b773']\n",
      "['2e4d383b76db271ffb59f631e105214c8b5f3e', '93458b18e251b7994072eaad8c42bd2e751250']\n",
      "['a3a68f8114413c2e92c76efca9d8af20a37d68']\n",
      "['556b9a2bc3c6cf0d53917685cf56fb286f334e']\n",
      "['38bc8065829f24498187b62d3834b0d1ba701d']\n",
      "['3de5dcd26d291d2bebb110635f350fb3d385e3', '191193d5c9c89f5dace79d229a956b45c2a148']\n",
      "['607c20c5abc7eff356d82f22be7fe5e6001ed5']\n",
      "['12eff4bdffcec2e180c9058f9002519f403b3a', '50086575f76476c7c145e2370208756978898b']\n",
      "['28ef596e75a2f84bd37543db8acfa53323fbba']\n",
      "['950d9ac57ceeabf45f9120c2615199746d35fb', 'e1187250f28a83b146995a8af1c1226111fcb2', 'df6a6348f70d237bc1f21bf18ce1b6437f5f31']\n",
      "['aa6b154c88b0bd78065dd5d720f6370fb293b5', '5c495f1eaeab2c45d08eae4096a7d71deb688f']\n",
      "['5365a52e463b77efa74d06cef88621546ab118']\n",
      "['19bbdcdbf76590373fd0597358526453b6fa5b', 'ef0baf1e5586d161d736ac51fa66bfb1814a7e', 'b1c3a5dd9d4d4eb5e500551d1cbe10d976eb36']\n",
      "['4e7e01c452bc136ce0aede9f13a2d4dc306bb2', '0875b2e5fd0bccd567a01256b8ad14f65d6b16']\n",
      "['13272d07af354dd96165e839fd29939ff96cef', '975c2c5555661bc22a0a52ab80517e1fc1252f']\n",
      "['5792213f21e9d17814ad10657252cecb738024', 'acabf8e87124ac9a80659320172de4f90bd87c', '8159379320f2866fb6e484b2595f0aed53c6ed']\n",
      "['e3f5d73042aead01d1f8a89a02c0e5c8eb2895']\n",
      "['72fde54c59b2ca6cfdcead65917236392b6bc0', '258d5ed45c53d688b0edf13fac09c6040d82ef', 'a186d7e94e1486191c7351beb93f965d2fa286']\n",
      "['886b52b2c172811bc4d14643927f8c1f8fd06b']\n",
      "['9d4fec8e1ef108b33dbdedfd7abdacc5f0c369']\n",
      "['108f1b48fb77d6e51706dde8e72b860cde1263']\n",
      "['ce859d1919008765526c1370045f903948420f']\n",
      "['e133b3d7210f296b1861ac5185aed0fd09775e']\n",
      "['67e4d0b5c2fc72892e1be2493dc5408b1b156c']\n",
      "['5de2126a9b85d03e7e3f4b97aa31136835445b']\n",
      "['06020b96549b751fe5d62c8e6697c69a196d61', 'd804719138a32bb35f17b856ef37abc2c8697d']\n",
      "['2cb4cbc2680ee94d99c6073e0da78545a341b7', '95b2c0b1c8b9a5785881e6221e7af6106112ab']\n",
      "['33f5c009b4b7d2d5996df9b3bf8eef829aa911']\n",
      "['bdc16966577ab4c4c8409d1a37843ab8ee2b6b']\n",
      "['7bd7aff7134db07476509c3a57bd77bffaa71c']\n",
      "['ce5c635134bc8623047bde1eb6dc5b84cefb84', '45d7e45034dde47ea1ed7a7e2ac204a826c37a', '835109e702696b092bfc7c32c4c0d245e838a6']\n",
      "['4fc320df8d02bb8455f60134c81475d4f9cf4f']\n",
      "['7e587423e1c9c2eba92974cc8715fd457c0520', 'b85416a3340aab94bd14d726feda4710425a8d', 'c028fff22ddf7dcaed88972dada97bd1a83697']\n",
      "['cbfdd1a332de084f809990f1b89ff14f0d9c5d', '62c3f58c35b74bc66592359e0cba6a0da056d5']\n",
      "['840005f291b4eccfda61dc9417ffb93de3e200', '06adeabbe1a6a7e0f8d51fecbd8b7fe5ca932f']\n",
      "['a0e747f297970d05f3419862dad66c00296cb5', 'd1785ba460ebd918c3b9fd7e34ebf857af8123']\n",
      "['54cea5a6b0d8958b52054e27c190075a8f95b8']\n",
      "['1ce85650a4e2d8da3876e443f10c13d90e4eb3', '49779f9642185e3a7848a8817fd5d46675102f']\n",
      "['b725f680b8dc6e45ae0f32f8019b4ca1c9c468']\n",
      "['e9e00ac1fe15e0bf2771f35094a28e879f7399']\n",
      "['a924fdcc376548f83d26b2cc536727ceeb4839', 'e795edbbeae40a5e7c3e67f1efa751aa18d595']\n",
      "['2b5c300beea4a6d524697fa317bb54b8bc653d']\n",
      "['f0f57a1da41312846d3134ac268e8637281440', 'b2abc8dd8e264215f20a9a8126f70b1fd50e56']\n",
      "['8dd28895db841dbe77d7722d77e09669192117']\n",
      "['dbdac508a05ce5b95a9ac4fac052355b32589e']\n",
      "['490a96f59d9a07f46e16c440a0aaca9a749bd4']\n",
      "['51c1fc0a57a1c8bc68f598d503c5623a0aa626', '9de29bb2d1d6434b8b29ae775ad8c2e48c5391']\n",
      "['cefc890aa96b33df68096c73d3547df6f94847']\n",
      "['a3385b55d76478ba0b07bbe78e15b274bb95c1']\n",
      "['231ef7e23211a054f0b85bd2489f5da0a74eff']\n",
      "['6f525c7189834f4831131685050a35c290ab4e', 'daf327cb483fda5d582f04c74237294026e47d']\n",
      "['f94328f9999fe54f10e588e2493a6c5116c948']\n",
      "['1119886ed64c6695d8b8ba58d7b2f31b775134']\n",
      "['63d848066410aadf2a58fd5e016163bee7d588']\n",
      "['2446c6c1bc6457de00241348e26d9d30165cf0']\n",
      "['2e3ac3150ae94586f1f40c5e04446c7ff25b66', '4d566e417bdf988943656dec73fe34efc2bfec']\n",
      "['227b9ff8fafb917347eab14c9c897c42d955c5']\n",
      "['acb039f83bfacbf54b55a2aa9469d5fe87ef28']\n",
      "['31e90b4b4b75e447ad86ca8f9f7e1ddd518773']\n",
      "['8143def3ff2937ab72a5c6c41f90375465e379', '55e3ab05d3154b7dc1156abcf76012f66da08f']\n",
      "['2cc93fa87a1f1b31df2da61989518e8d7c6d7e', 'e351c321dbbb604ac902356c8ac8ca67cf7aba', '3e47d77a50ca537ff5900bf8696da4119f6c45']\n",
      "['40569baa55b3b613d7a34e0383dd911312f0fb', '17417bc87c9dc8e17714f8e9e50b3bfe2fe967']\n",
      "['b91f7e40757597848a1894114596ae08a60df0']\n",
      "['716049cb618fd7ece178e010ede94fb7c4313a']\n",
      "['cad7456716444552c57796ae8d9c2b5a5bc761']\n",
      "['6a4e7cbbba1f5df40a4eeb874e369e71cc1d7a', 'd290d5c407202daf24c6191a4ee26ab54e6b12']\n",
      "['5b61d39c753b77e2286b4a148800eab41ff800']\n",
      "['9692969056517e25f6cc932e507fa37b83daae']\n",
      "['110bbb34eab4f28a786c256007ea8acdc5158d']\n",
      "['f3024dc43a8789eac576cd93e55f20145e0960', '951bf34028fadc2c66609ca072d0129193507d', 'f4ea3aaa4bfde0114c802f29a458f399fa627a', 'b114979938f77451b974f5648a0748e848c4fe']\n",
      "['b75606804381aff12130d3ba1f2e262bae691c', '3d2a5d949fac1bcbd1da410f9f7eac3be8515d']\n",
      "['3d5b2d94602c633b206e1001d30c9c4c5874b6']\n",
      "['0e822c4606e25540f639725f10ab4b5e632020', 'a5eb16c681bdfc8cb12d939736ea3379f0603a']\n",
      "['8ce8d1a865784ef7e10050b4148fc4d7fe5a26', 'facd04a77a57824f8cfe3dc31913bcd336e9e5']\n",
      "['8d468460a1e83f6397bab79cdc9c02097a3b1f']\n",
      "['f28a0b6ca053e578a3848bdf877c062fa5b92c', 'ab5586e6d12eb7657afd0f9249cf4c02bf8d2b', '400035ec8c8c31a61cd7fdbfe10826b1a74140']\n",
      "['c5ddaf9112ede1a90a8b972e1841d88b379ee7', '75edba9261b0a9f7738e5cd7421cb6a2321c0a', 'a3c52e3b351b10e8a35bb84c97a57b339fccc5']\n",
      "['03008aec8afcc116ed620e74e5d49a95707f4e']\n",
      "['89acf82564185cdb133696220d46d0f5d98928']\n",
      "['16d9691c857c501bed00b78456b379017b17bc']\n",
      "['4e9cfb301f5e86df863a979c9787f89a022cf8']\n",
      "['44091e23f8c924ff6377df1a1fcd8450f01d2a']\n",
      "['c50fa1abf5c50a72866fd8f0b1d0ede581038f', 'aa044c27f3f6d25e9c33a107e9ab5b890da68f']\n",
      "['605b510d0ab04dd19b4d6f93006118c839c8d1']\n",
      "['ff3bbeb1d30c0a1da5dcf1f4bf4155f3486f6b']\n",
      "['13861a73fc00c2dbb54a03905589304e0224fe']\n",
      "['fa55e6dbf7742c2daf7f48e9058dfccc20bf95']\n",
      "['159050b86d47fef635fd05bf922d70b60987c6', '2a0e053e36f8ec0f42f7540b2e5e8864493580', 'c0119b589d6cbe060e73c01a1bddc42520afe8']\n",
      "['3b88be32a693569991d8039c73589e068d8a5d']\n",
      "['bbeec47ef95188c9e489e1a7d0232f5b453cfd', '288dd4d8e68dc18a265e9994c5cfb5abaf7a3a', '5e53b471bbaae873245a8fcb79d70cb5b35fc5', '7e05fd50496e4e2fe1cd43e74659c159cff904']\n",
      "['4349e59b6704357bc6241e8e3bba708bcf3204']\n",
      "['aef030163f15f3ab568460e38c2384e1b6ddbe']\n",
      "['c354aa779344256e190985f86be3b1b35cbec2']\n",
      "['4b03fd767e5fd0b8b0e8d532914f7ebb1b1cf5']\n",
      "['dc23db87f85ad45df62cc91788f7a33532ebe4']\n",
      "['e54f0c58823d62e961e6b4aeb78fd2305a0204', '80a180ddae632d14cafb317af83e4e1262538d']\n",
      "['52d7ccaa1ae09505885a2884b1158074f76540']\n",
      "['88070150a97d9dd19fb410eb2d2bcb625c99f1']\n",
      "['ccf73a02b63b31cee8a1933143673d0f345a40']\n",
      "['46dde76f3fbc8605b5bea33f30d41ad16a9790', 'a886fe19c266e942664e871951eb773e12c87c']\n",
      "['60cef587dcf3f68f01cd7fa2ca789bf77860b9', '7e6c8971807b788e83e8de5c8040cba1d0a998']\n",
      "['e3516e1f7c580ec46e29f868c61fca6f68bde7', '13688b5ba0685740d50f54945195c5b3749dfd', '7252800d147ac3366f8a5879c6d69c4e32d94c']\n",
      "['9b7798d6591620e3ba3b557525644687ef193c', 'cd4293edc56e63a6faad3e974aa5c080687298']\n",
      "['76fbeaa88071d6f85b1c0735862f1ea959fadc', 'bb418c70918fc61fca77dab5d2c325e0e6950c', 'a6339a0ad02a9d4cd95e9aa9fa4561fe672cb5']\n",
      "['8e3d3e4053c7d4065863eb5a5d4ab81a510d76', '2568efb27c3dbf6129a323431cf750ed22cdac']\n",
      "['58f03dbdcd20ee87c04e26c2720dd4c4d9a3fb']\n",
      "['8e2fdb0474c526bc447c470fd4e293b74551db']\n",
      "['d8738a8bdbc872bcfc9fbd95ebb5eccb799ee5']\n",
      "['09ef30b0ed4322d6cb8b9b7fc621e4ace1b7e4', 'e276bb4377eb1fa0fe5bd5c9dd8d81d649c252', 'c179a9e46d8d04ed2d4a4b559718fec40120d9']\n",
      "['3002e7eff566b03d6762a900222583c3292d2f']\n",
      "['0b18d7c2f6991c859a49cecdc487a67b240427']\n",
      "['6fd54ffe7ddae1885051dfbc83281ac57ab3dd']\n",
      "['0888d82d57c5d6463b13a9e3a6c345357b04e0']\n",
      "['366572ac469c1b47becfeaf61f587859749b92', '7f3cd00831cdeb6c70c371aa402ccb4bfbd9db']\n",
      "['f688b9b4dd8122b86992f21bf3fc3bd132e8a5']\n",
      "['e9c72177b1ad31919deb4892cc2d7aa91e08b1']\n",
      "['b00d236d763600118871906fd23cea05c0a223']\n",
      "['be7b3ad77862e8f76132c11661fb5fc2e9bd5c']\n",
      "['e02578f53327d14088fe6f46ebd00670365cf1']\n",
      "['e7a39a8c52961c1f4fc2200ff586a69336399d', '6d0619dd93ac50a2077d90bab249c5c6dc4348', '829d109e82184a5cc4832cdeab4561a1ad444a']\n",
      "['480ac8cbbe870a9ff37844ab222a2b9780bb89']\n",
      "['6bdbef90f62478dd017ea467e3f50e25976139']\n",
      "['356609d28dee407bb58eeed270cb4491d8e227', 'ab0e1b9c293d92912266b1ff163668c8a5c223', 'cdc5f8402cb046ab71a6c53fa50361f408f6b8']\n",
      "['399a4945837679f9d8af5ebf918c99b77c8f2e']\n",
      "['616db111925041a1916fe2075eaab3a733b6a3']\n",
      "['sendemail-validate.sample', 'post-update.sample', 'pre-push.sample', 'update.sample', 'pre-receive.sample', 'pre-rebase.sample', 'push-to-checkout.sample', 'applypatch-msg.sample', 'commit-msg.sample', 'pre-commit.sample', 'prepare-commit-msg.sample', 'pre-applypatch.sample', 'fsmonitor-watchman.sample', 'pre-merge-commit.sample']\n",
      "['class17', 'class14', 'class13', 'class01', 'class04', 'main', 'class21', 'class08', 'class16', 'class06', 'class19', 'class15', 'class02', 'class20', 'class18', 'class09', 'class10', 'class22', 'class12', 'class03', 'class07', 'class11']\n",
      "['class17', 'class14', 'class13', 'class01', '01_Introduction', 'class04', 'main', 'class21', 'class08', 'class16', 'class06', 'class19', 'class15', 'class02', 'HEAD', 'class20', 'class18', 'class09', 'class10', 'class22', 'class12', 'class03', 'class07', 'class11']\n",
      "['HEAD']\n",
      "['class17', 'class14', 'class13', 'class01', 'class04', 'main', 'class21', 'class08', 'class16', 'class06', 'class19', 'class15', 'class02', 'class20', 'class18', 'class09', 'class10', 'class22', 'class12', 'class03', 'class07', 'class11']\n",
      "['class17', 'class14', 'class13', 'class01', '01_Introduction', 'class04', 'main', 'class21', 'class08', 'class16', 'class06', 'class19', 'class15', 'class02', 'HEAD', 'class20', 'class18', 'class09', 'class10', 'class22', 'class12', 'class03', 'class07', 'class11']\n",
      "['exclude']\n",
      "['usage_of_pydoc.txt', 'b_ration_store.html', 'usage_of_help.py']\n",
      "['arithmetic_operations.ipynb', 'f_bank_loan.py', 'g_feet_to_cms_conversion.py', 'b_ration_store.py', 'type_conversions.ipynb', 'complex_numbers.ipynb', 'c_fruit_store.py', 'e_savings_bank.py', 'd_grocery_store.py']\n",
      "['c_string_attributes.ipynb', 'e_unicode_strings.ipynb', 'f_bytes_operations.ipynb', 'a_string_operations.ipynb', 'd_string_Formatting.ipynb', 'b_palidrome_check.py']\n",
      "['comprehensions.ipynb', 'iterables_operations.ipynb']\n",
      "['a_dict_operations.ipynb']\n",
      "['c_set_operators.ipynb', 'a_set_opertaions.ipynb', 'b_frozenset.ipynb']\n",
      "['a_tuples.ipynb']\n",
      "['a_list_operations.ipynb', 'b_copy_problem.ipynb']\n",
      "['a_generators.ipynb']\n",
      "['a_coroutines.ipynb']\n",
      "['a_iterables.ipynb', 'explanation.txt']\n",
      "['b_zip_map_filter.ipynb', 'a_range.ipynb', 'f_Itertools_module.ipynb', 'c_user_defined_iterators.ipynb']\n",
      "['c_breakpoint_function.py', 'd_using_ipdb.py', '0_explanation.txt', 'b_breakpoint_function.py', 'a_using_pdb.py']\n",
      "['01_exceptions_hierarchy.txt', 'myfile.txt', '02_exceptions_handling.ipynb', '00_explanation.txt', '03_exception_hooks.py']\n"
     ]
    }
   ],
   "source": [
    "for each_dir, list_of_folders, list_of_files in os.walk('/workspaces/PythonNovDec24'):\n",
    "    if list_of_files:\n",
    "        print(list_of_files)"
   ]
  },
  {
   "cell_type": "code",
   "execution_count": 95,
   "metadata": {},
   "outputs": [
    {
     "name": "stdout",
     "output_type": "stream",
     "text": [
      "In this course, there are 42 python files & 39 jupyter notebook files\n"
     ]
    }
   ],
   "source": [
    "py_files = []\n",
    "juypter_notebook_files = []\n",
    "\n",
    "for each_dir, list_of_folders, list_of_files in os.walk('/workspaces/PythonNovDec24'):\n",
    "    if list_of_files:\n",
    "        for each_file in list_of_files:\n",
    "            file_name, file_extn = os.path.splitext(each_file)\n",
    "            if file_extn == '.py':\n",
    "                py_files.append(each_file)\n",
    "            elif file_extn == '.ipynb':\n",
    "                juypter_notebook_files.append(each_file)\n",
    "\n",
    "\n",
    "print(\n",
    "    f\"In this course, there are {len(py_files)} python files & {len(juypter_notebook_files)} jupyter notebook files\"\n",
    ")"
   ]
  },
  {
   "cell_type": "code",
   "execution_count": 99,
   "metadata": {},
   "outputs": [
    {
     "name": "stdout",
     "output_type": "stream",
     "text": [
      "No virus found\n"
     ]
    }
   ],
   "source": [
    "# assignment - like a anti-virus scan, scan all the executables in your operating system. Based on OS, executable need to be taken\n",
    "\n",
    "\n",
    "\n",
    "executables = []\n",
    "\n",
    "def is_executable(file_name):\n",
    "    return file_name.lower().endswith((\".exe\", \".bat\", \".cmd\", \".msi\", \".dll\"))\n",
    "\n",
    "for each_dir, list_of_folders, list_of_files in os.walk('/workspaces/PythonNovDec24'):\n",
    "    if list_of_files:\n",
    "        for each_file in list_of_files:\n",
    "            if is_executable(each_file):\n",
    "                executables.append(each_file)\n",
    "\n",
    "if executables:\n",
    "    print(\"Virus found\")\n",
    "else:\n",
    "    print(\"No virus found\")\n",
    "\n"
   ]
  },
  {
   "cell_type": "markdown",
   "metadata": {},
   "source": [
    "## Working with paths\n"
   ]
  },
  {
   "cell_type": "code",
   "execution_count": 101,
   "metadata": {},
   "outputs": [
    {
     "data": {
      "text/plain": [
       "'temp.txt'"
      ]
     },
     "execution_count": 101,
     "metadata": {},
     "output_type": "execute_result"
    }
   ],
   "source": [
    "os.path.basename(\"/home/user/temp.txt\")  # doesnt check for presence of file"
   ]
  },
  {
   "cell_type": "code",
   "execution_count": 100,
   "metadata": {},
   "outputs": [
    {
     "data": {
      "text/plain": [
       "'/home/user'"
      ]
     },
     "execution_count": 100,
     "metadata": {},
     "output_type": "execute_result"
    }
   ],
   "source": [
    "os.path.dirname(\"/home/user/temp.txt\")\n"
   ]
  },
  {
   "cell_type": "code",
   "execution_count": 102,
   "metadata": {},
   "outputs": [
    {
     "data": {
      "text/plain": [
       "'/workspaces/PythonNovDec24/10_modules/04a_os_module/temp.txt'"
      ]
     },
     "execution_count": 102,
     "metadata": {},
     "output_type": "execute_result"
    }
   ],
   "source": [
    "os.path.abspath(\"temp.txt\")\n"
   ]
  },
  {
   "cell_type": "code",
   "execution_count": 103,
   "metadata": {},
   "outputs": [
    {
     "data": {
      "text/plain": [
       "'/workspaces/PythonNovDec24/10_modules/04a_os_module'"
      ]
     },
     "execution_count": 103,
     "metadata": {},
     "output_type": "execute_result"
    }
   ],
   "source": [
    "os.getcwd()"
   ]
  },
  {
   "cell_type": "code",
   "execution_count": 104,
   "metadata": {},
   "outputs": [
    {
     "data": {
      "text/plain": [
       "'/workspaces/PythonNovDec24/10_modules/04a_os_module/temp.txt'"
      ]
     },
     "execution_count": 104,
     "metadata": {},
     "output_type": "execute_result"
    }
   ],
   "source": [
    "assert os.path.abspath(\"temp.txt\") == os.getcwd() + os.sep + \"temp.txt\"\n",
    "\n",
    "os.getcwd() + os.sep + \"temp.txt\""
   ]
  },
  {
   "cell_type": "code",
   "execution_count": 105,
   "metadata": {},
   "outputs": [
    {
     "data": {
      "text/plain": [
       "'/home/user/temp.txt'"
      ]
     },
     "execution_count": 105,
     "metadata": {},
     "output_type": "execute_result"
    }
   ],
   "source": [
    "os.path.realpath(\"/home/user/temp.txt\")  # no validation for presence of file\n"
   ]
  },
  {
   "cell_type": "code",
   "execution_count": 106,
   "metadata": {},
   "outputs": [
    {
     "data": {
      "text/plain": [
       "('/home/user/temp', '.log')"
      ]
     },
     "execution_count": 106,
     "metadata": {},
     "output_type": "execute_result"
    }
   ],
   "source": [
    "os.path.splitext(\"/home/user/temp.log\")"
   ]
  },
  {
   "cell_type": "code",
   "execution_count": 107,
   "metadata": {},
   "outputs": [
    {
     "data": {
      "text/plain": [
       "('temp', '.log')"
      ]
     },
     "execution_count": 107,
     "metadata": {},
     "output_type": "execute_result"
    }
   ],
   "source": [
    "os.path.splitext(\"temp.log\")"
   ]
  },
  {
   "cell_type": "code",
   "execution_count": 136,
   "metadata": {},
   "outputs": [
    {
     "data": {
      "text/plain": [
       "('', '/home/user/temp.txt')"
      ]
     },
     "execution_count": 136,
     "metadata": {},
     "output_type": "execute_result"
    }
   ],
   "source": [
    "os.path.splitdrive(\"/home/user/temp.txt\")"
   ]
  },
  {
   "cell_type": "code",
   "execution_count": 135,
   "metadata": {},
   "outputs": [
    {
     "data": {
      "text/plain": [
       "('', 'C:/home/user/temp.txt')"
      ]
     },
     "execution_count": 135,
     "metadata": {},
     "output_type": "execute_result"
    }
   ],
   "source": [
    "os.path.splitdrive(\"C:/home/user/temp.txt\")\n"
   ]
  },
  {
   "cell_type": "code",
   "execution_count": 137,
   "metadata": {},
   "outputs": [
    {
     "data": {
      "text/plain": [
       "'.'"
      ]
     },
     "execution_count": 137,
     "metadata": {},
     "output_type": "execute_result"
    }
   ],
   "source": [
    "os.path.extsep\n"
   ]
  },
  {
   "cell_type": "code",
   "execution_count": 138,
   "metadata": {},
   "outputs": [
    {
     "name": "stdout",
     "output_type": "stream",
     "text": [
      "/ /\n"
     ]
    }
   ],
   "source": [
    "import sys\n",
    "\n",
    "if sys.platform == \"win32\":\n",
    "    path_joiner = \"\\\\\"\n",
    "else:\n",
    "    path_joiner = \"/\"\n",
    "\n",
    "print(path_joiner, os.sep)\n",
    "assert path_joiner == os.sep\n"
   ]
  },
  {
   "cell_type": "code",
   "execution_count": 139,
   "metadata": {},
   "outputs": [
    {
     "data": {
      "text/plain": [
       "'css/america'"
      ]
     },
     "execution_count": 139,
     "metadata": {},
     "output_type": "execute_result"
    }
   ],
   "source": [
    "os.path.join(\"css\", \"america\")"
   ]
  },
  {
   "cell_type": "code",
   "execution_count": 112,
   "metadata": {},
   "outputs": [
    {
     "data": {
      "text/plain": [
       "'css/america/asdas/sad/dfgd'"
      ]
     },
     "execution_count": 112,
     "metadata": {},
     "output_type": "execute_result"
    }
   ],
   "source": [
    "os.path.join(\"css\", \"america\", \"asdas\", \"sad\", \"dfgd\")"
   ]
  },
  {
   "cell_type": "code",
   "execution_count": 140,
   "metadata": {},
   "outputs": [
    {
     "data": {
      "text/plain": [
       "'css\\\\america\\\\asdas\\\\sad\\\\dfgd'"
      ]
     },
     "execution_count": 140,
     "metadata": {},
     "output_type": "execute_result"
    }
   ],
   "source": [
    "\"\\\\\".join((\"css\", \"america\", \"asdas\", \"sad\", \"dfgd\"))"
   ]
  },
  {
   "cell_type": "code",
   "execution_count": 115,
   "metadata": {},
   "outputs": [
    {
     "data": {
      "text/plain": [
       "'css/america/asdas/sad/dfgd'"
      ]
     },
     "execution_count": 115,
     "metadata": {},
     "output_type": "execute_result"
    }
   ],
   "source": [
    "(os.sep).join((\"css\", \"america\", \"asdas\", \"sad\", \"dfgd\"))\n"
   ]
  },
  {
   "cell_type": "code",
   "execution_count": 130,
   "metadata": {},
   "outputs": [],
   "source": [
    "assert os.path.join(\"css\", \"america\", \"asdas\", \"sad\", \"dfgd\") == (os.sep).join(\n",
    "    (\"css\", \"america\", \"asdas\", \"sad\", \"dfgd\")\n",
    ")"
   ]
  },
  {
   "cell_type": "code",
   "execution_count": 129,
   "metadata": {},
   "outputs": [
    {
     "data": {
      "text/plain": [
       "'css/america/asdas/sad/dfgd'"
      ]
     },
     "execution_count": 142,
     "metadata": {},
     "output_type": "execute_result"
    }
   ],
   "source": [
    "new_path = os.path.join(\"css\", \"america\", \"asdas\", \"sad\", \"dfgd\")\n",
    "new_path"
   ]
  },
  {
   "cell_type": "code",
   "execution_count": 128,
   "metadata": {},
   "outputs": [
    {
     "data": {
      "text/plain": [
       "True"
      ]
     },
     "execution_count": 143,
     "metadata": {},
     "output_type": "execute_result"
    }
   ],
   "source": [
    "os.path.exists(new_path)"
   ]
  },
  {
   "cell_type": "code",
   "execution_count": 149,
   "metadata": {},
   "outputs": [
    {
     "ename": "FileExistsError",
     "evalue": "[Errno 17] File exists: 'css/america/asdas/sad/dfgd'",
     "output_type": "error",
     "traceback": [
      "\u001b[0;31m---------------------------------------------------------------------------\u001b[0m",
      "\u001b[0;31mFileExistsError\u001b[0m                           Traceback (most recent call last)",
      "Cell \u001b[0;32mIn[149], line 1\u001b[0m\n\u001b[0;32m----> 1\u001b[0m \u001b[43mos\u001b[49m\u001b[38;5;241;43m.\u001b[39;49m\u001b[43mmakedirs\u001b[49m\u001b[43m(\u001b[49m\u001b[43mnew_path\u001b[49m\u001b[43m,\u001b[49m\u001b[43m \u001b[49m\u001b[43mexist_ok\u001b[49m\u001b[38;5;241;43m=\u001b[39;49m\u001b[38;5;28;43;01mFalse\u001b[39;49;00m\u001b[43m)\u001b[49m\n",
      "File \u001b[0;32m<frozen os>:225\u001b[0m, in \u001b[0;36mmakedirs\u001b[0;34m(name, mode, exist_ok)\u001b[0m\n",
      "\u001b[0;31mFileExistsError\u001b[0m: [Errno 17] File exists: 'css/america/asdas/sad/dfgd'"
     ]
    }
   ],
   "source": [
    "os.makedirs(new_path, exist_ok=False)"
   ]
  },
  {
   "cell_type": "code",
   "execution_count": 120,
   "metadata": {},
   "outputs": [
    {
     "name": "stdout",
     "output_type": "stream",
     "text": [
      "\u001b[01;34m.\u001b[00m\n",
      "├── a_os_module.ipynb\n",
      "└── \u001b[01;34mcss\u001b[00m\n",
      "    └── \u001b[01;34mamerica\u001b[00m\n",
      "        └── \u001b[01;34masdas\u001b[00m\n",
      "            └── \u001b[01;34msad\u001b[00m\n",
      "                └── \u001b[01;34mdfgd\u001b[00m\n",
      "\n",
      "5 directories, 1 file\n"
     ]
    },
    {
     "data": {
      "text/plain": [
       "0"
      ]
     },
     "execution_count": 145,
     "metadata": {},
     "output_type": "execute_result"
    }
   ],
   "source": [
    "os.system('tree')"
   ]
  },
  {
   "cell_type": "code",
   "execution_count": 121,
   "metadata": {},
   "outputs": [
    {
     "data": {
      "text/plain": [
       "4096"
      ]
     },
     "execution_count": 146,
     "metadata": {},
     "output_type": "execute_result"
    }
   ],
   "source": [
    "os.path.getsize('css')"
   ]
  },
  {
   "cell_type": "code",
   "execution_count": 122,
   "metadata": {},
   "outputs": [
    {
     "data": {
      "text/plain": [
       "1735793634.7987854"
      ]
     },
     "execution_count": 147,
     "metadata": {},
     "output_type": "execute_result"
    }
   ],
   "source": [
    "os.path.getctime('css')"
   ]
  },
  {
   "cell_type": "code",
   "execution_count": 123,
   "metadata": {},
   "outputs": [
    {
     "data": {
      "text/plain": [
       "os.stat_result(st_mode=16895, st_ino=1835741, st_dev=1799, st_nlink=3, st_uid=1000, st_gid=1000, st_size=4096, st_atime=1735793634, st_mtime=1735793634, st_ctime=1735793634)"
      ]
     },
     "execution_count": 123,
     "metadata": {},
     "output_type": "execute_result"
    }
   ],
   "source": [
    "os.stat('css')"
   ]
  },
  {
   "cell_type": "markdown",
   "metadata": {},
   "source": [
    "### Attributes which work only on Linux\n"
   ]
  },
  {
   "cell_type": "code",
   "execution_count": 124,
   "metadata": {},
   "outputs": [
    {
     "data": {
      "text/plain": [
       "(0.48, 0.28, 0.26)"
      ]
     },
     "execution_count": 124,
     "metadata": {},
     "output_type": "execute_result"
    }
   ],
   "source": [
    "# os.getloadavg(): This function returns the system load average over the last 1, 5, and 15 minutes as a tuple.\n",
    "#  This function is not available on Windows.\n",
    "\n",
    "os.getloadavg()\n"
   ]
  },
  {
   "cell_type": "code",
   "execution_count": 127,
   "metadata": {},
   "outputs": [
    {
     "data": {
      "text/plain": [
       "os.statvfs_result(f_bsize=4096, f_frsize=4096, f_blocks=8211920, f_bfree=5426411, f_bavail=5002887, f_files=2097152, f_ffree=1790268, f_favail=1790268, f_flag=4100, f_namemax=255)"
      ]
     },
     "execution_count": 127,
     "metadata": {},
     "output_type": "execute_result"
    }
   ],
   "source": [
    "# os.statvfs(): This function returns information about a file system such as the total size, free space, and file system block size. This function is not available on Windows.\n",
    "\n",
    "os.statvfs('css')"
   ]
  },
  {
   "cell_type": "markdown",
   "metadata": {},
   "source": [
    "```\n",
    "os.pipe(): This function creates a pair of connected file descriptors, which can be used for interprocess communication. This function is not available on Windows.\n",
    "\n",
    "os.chroot(): This function changes the root directory of the current process to the specified directory. This function is not available on Windows.\n",
    "\n",
    "os.fchown(): This function changes the owner and group of a file, given the file descriptor. This function is not available on Windows.\n",
    "\n",
    "os.setresuid(): This function sets the real, effective, and saved user IDs of the current process. This function is not available on Windows.\n",
    "\n",
    "os.setresgid(): This function sets the real, effective, and saved group IDs of the current process. This function is not available on Windows.\n",
    "```"
   ]
  }
 ],
 "metadata": {
  "kernelspec": {
   "display_name": "Python 3",
   "language": "python",
   "name": "python3"
  },
  "language_info": {
   "codemirror_mode": {
    "name": "ipython",
    "version": 3
   },
   "file_extension": ".py",
   "mimetype": "text/x-python",
   "name": "python",
   "nbconvert_exporter": "python",
   "pygments_lexer": "ipython3",
   "version": "3.12.1"
  }
 },
 "nbformat": 4,
 "nbformat_minor": 2
}

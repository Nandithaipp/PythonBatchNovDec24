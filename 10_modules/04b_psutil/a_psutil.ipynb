{
 "cells": [
  {
   "cell_type": "markdown",
   "metadata": {},
   "source": [
    "# psutil \n",
    "\n",
    "    process level details"
   ]
  },
  {
   "cell_type": "code",
   "execution_count": 1,
   "metadata": {},
   "outputs": [],
   "source": [
    "import psutil\n",
    "import datetime"
   ]
  },
  {
   "cell_type": "code",
   "execution_count": 2,
   "metadata": {},
   "outputs": [
    {
     "name": "stdout",
     "output_type": "stream",
     "text": [
      "System boot time: 2025-01-02 03:29:02\n"
     ]
    }
   ],
   "source": [
    "boot_time = psutil.boot_time()\n",
    "print(\n",
    "    f\"System boot time: {datetime.datetime.fromtimestamp(boot_time).strftime('%Y-%m-%d %H:%M:%S')}\"\n",
    ")"
   ]
  },
  {
   "cell_type": "code",
   "execution_count": 3,
   "metadata": {},
   "outputs": [
    {
     "name": "stdout",
     "output_type": "stream",
     "text": [
      "CPU usage: 8.1%\n"
     ]
    }
   ],
   "source": [
    "cpu_percent = psutil.cpu_percent()\n",
    "print(f\"CPU usage: {cpu_percent}%\")"
   ]
  },
  {
   "cell_type": "code",
   "execution_count": 4,
   "metadata": {},
   "outputs": [
    {
     "name": "stdout",
     "output_type": "stream",
     "text": [
      "Total memory       : 8314740736\n",
      "Available memory   : 5536219136\n",
      "Memory percent used: 33.4%\n"
     ]
    }
   ],
   "source": [
    "mem_info = psutil.virtual_memory()\n",
    "print(f\"Total memory       : {mem_info.total}\")\n",
    "print(f\"Available memory   : {mem_info.available}\")\n",
    "print(f\"Memory percent used: {mem_info.percent}%\")"
   ]
  },
  {
   "cell_type": "code",
   "execution_count": 5,
   "metadata": {},
   "outputs": [
    {
     "name": "stdout",
     "output_type": "stream",
     "text": [
      "Total disk space       : 33636024320\n",
      "Free disk space        : 20490964992\n",
      "Disk space percent used: 35.8%\n"
     ]
    }
   ],
   "source": [
    "disk_usage = psutil.disk_usage(\"/\")\n",
    "print(f\"Total disk space       : {disk_usage.total}\")\n",
    "print(f\"Free disk space        : {disk_usage.free}\")\n",
    "print(f\"Disk space percent used: {disk_usage.percent}%\")"
   ]
  },
  {
   "cell_type": "code",
   "execution_count": 6,
   "metadata": {},
   "outputs": [
    {
     "name": "stdout",
     "output_type": "stream",
     "text": [
      "Number of processes: 20\n"
     ]
    }
   ],
   "source": [
    "# No of running processes\n",
    "\n",
    "num_processes = len(psutil.pids())\n",
    "print(f\"Number of processes: {num_processes}\")"
   ]
  },
  {
   "cell_type": "code",
   "execution_count": 8,
   "metadata": {},
   "outputs": [
    {
     "name": "stdout",
     "output_type": "stream",
     "text": [
      "Process name       : dockerd\n",
      "Process status     : sleeping\n",
      "Process memory info: pmem(rss=82841600, vms=2030850048, shared=54001664, text=31207424, lib=0, data=136208384, dirty=0)\n",
      "Process CPU usage: 0.0%\n",
      "Process memory usage: 82841600\n",
      "Process start time: 1735789868.23\n",
      "Process command line: ['dockerd', '--dns', '168.63.129.16']\n",
      "\n",
      "Process name       : containerd\n",
      "Process status     : sleeping\n",
      "Process memory info: pmem(rss=49606656, vms=1842020352, shared=31326208, text=19578880, lib=0, data=109260800, dirty=0)\n",
      "Process CPU usage: 0.0%\n",
      "Process memory usage: 49606656\n",
      "Process start time: 1735789868.28\n",
      "Process command line: ['containerd', '--config', '/var/run/docker/containerd/containerd.toml']\n",
      "\n",
      "Process name       : python3\n",
      "Process status     : sleeping\n",
      "Process memory info: pmem(rss=83726336, vms=851574784, shared=16777216, text=2752512, lib=0, data=154476544, dirty=0)\n",
      "Process CPU usage: 0.0%\n",
      "Process memory usage: 83726336\n",
      "Process start time: 1735791447.89\n",
      "Process command line: ['/home/codespace/.python/current/bin/python3', '-m', 'ipykernel_launcher', '--f=/home/codespace/.local/share/jupyter/runtime/kernel-v318ae87de3a830f78f530704d7cf61110fae42f87.json']\n",
      "\n",
      "Process name       : node\n",
      "Process status     : sleeping\n",
      "Process memory info: pmem(rss=53694464, vms=1017765888, shared=41943040, text=29884416, lib=0, data=55234560, dirty=0)\n",
      "Process CPU usage: 0.0%\n",
      "Process memory usage: 53694464\n",
      "Process start time: 1735791712.94\n",
      "Process command line: ['/vscode/bin/linux-x64/fabdb6a30b49f79a7aba0f2ad9df9b399473380f/node', '/vscode/bin/linux-x64/fabdb6a30b49f79a7aba0f2ad9df9b399473380f/extensions/markdown-language-features/dist/serverWorkerMain', '--node-ipc', '--clientProcessId=614']\n",
      "\n",
      "Process name       : python3\n",
      "Process status     : running\n",
      "Process memory info: pmem(rss=68284416, vms=699289600, shared=16646144, text=2752512, lib=0, data=135938048, dirty=0)\n",
      "Process CPU usage: 0.0%\n",
      "Process memory usage: 68284416\n",
      "Process start time: 1735794142.34\n",
      "Process command line: ['/home/codespace/.python/current/bin/python3', '-m', 'ipykernel_launcher', '--f=/home/codespace/.local/share/jupyter/runtime/kernel-v3b7520d1498f913160242a21736e0ecd140415218.json']\n",
      "\n"
     ]
    }
   ],
   "source": [
    "pids_5 = list(psutil.pids())[-5:]\n",
    "\n",
    "for pid in pids_5:\n",
    "    process = psutil.Process(pid)\n",
    "    print(f\"Process name       : {process.name()}\")\n",
    "    print(f\"Process status     : {process.status()}\")\n",
    "    print(f\"Process memory info: {process.memory_info()}\")\n",
    "\n",
    "    cpu_percent = process.cpu_percent(interval=1)\n",
    "    print(f\"Process CPU usage: {cpu_percent}%\")\n",
    "\n",
    "    memory_info = process.memory_info()\n",
    "    print(f\"Process memory usage: {memory_info.rss}\")\n",
    "\n",
    "    start_time = process.create_time()\n",
    "    print(f\"Process start time: {start_time}\")\n",
    "\n",
    "    cmdline = process.cmdline()\n",
    "    print(f\"Process command line: {cmdline}\")\n",
    "    print()"
   ]
  },
  {
   "cell_type": "code",
   "execution_count": 9,
   "metadata": {},
   "outputs": [
    {
     "name": "stdout",
     "output_type": "stream",
     "text": [
      "PID of python3: 12973\n",
      "PID of python3: 29718\n"
     ]
    }
   ],
   "source": [
    "# Get the process ID (PID) of a process by name\n",
    "process_name = \"python3\"\n",
    "for proc in psutil.process_iter([\"name\"]):\n",
    "    if proc.info[\"name\"] == process_name:\n",
    "        print(f\"PID of {process_name}: {proc.pid}\")"
   ]
  },
  {
   "cell_type": "code",
   "execution_count": 10,
   "metadata": {},
   "outputs": [
    {
     "data": {
      "text/plain": [
       "{'lo': snetio(bytes_sent=145657556, bytes_recv=145657556, packets_sent=59164, packets_recv=59164, errin=0, errout=0, dropin=0, dropout=0),\n",
       " 'eth0': snetio(bytes_sent=180448396, bytes_recv=24087710048, packets_sent=508761, packets_recv=17317390, errin=0, errout=0, dropin=0, dropout=0),\n",
       " 'docker0': snetio(bytes_sent=0, bytes_recv=0, packets_sent=0, packets_recv=0, errin=0, errout=0, dropin=0, dropout=0)}"
      ]
     },
     "execution_count": 10,
     "metadata": {},
     "output_type": "execute_result"
    }
   ],
   "source": [
    "# Get the network usage for a given network interface\n",
    "\n",
    "net_io_counters = psutil.net_io_counters(pernic=True)\n",
    "\n",
    "net_io_counters"
   ]
  },
  {
   "cell_type": "code",
   "execution_count": 11,
   "metadata": {},
   "outputs": [
    {
     "name": "stdout",
     "output_type": "stream",
     "text": [
      "\n",
      "Bytes sent  : 145657556\n",
      "Bytes received: 145657556\n",
      "Packets sent  : 59164\n",
      "Packets received: 59164\n",
      "DropIn        : 0\n",
      "DropOut       : 0\n",
      "count         : <built-in method count of snetio object at 0x7953e07011c0>\n",
      "\n",
      "Bytes sent  : 180448396\n",
      "Bytes received: 24087710048\n",
      "Packets sent  : 508761\n",
      "Packets received: 17317390\n",
      "DropIn        : 0\n",
      "DropOut       : 0\n",
      "count         : <built-in method count of snetio object at 0x7953e0701150>\n",
      "\n",
      "Bytes sent  : 0\n",
      "Bytes received: 0\n",
      "Packets sent  : 0\n",
      "Packets received: 0\n",
      "DropIn        : 0\n",
      "DropOut       : 0\n",
      "count         : <built-in method count of snetio object at 0x7953e0701230>\n"
     ]
    }
   ],
   "source": [
    "for interface in net_io_counters:\n",
    "    print(f\"\\nBytes sent  : {net_io_counters[interface].bytes_sent}\")\n",
    "    print(f\"Bytes received: {net_io_counters[interface].bytes_recv}\")\n",
    "    print(f\"Packets sent  : {net_io_counters[interface].packets_sent}\")\n",
    "    print(f\"Packets received: {net_io_counters[interface].packets_recv}\")\n",
    "    print(f\"DropIn        : {net_io_counters[interface].dropin}\")\n",
    "    print(f\"DropOut       : {net_io_counters[interface].dropout}\")\n",
    "    print(f\"count         : {net_io_counters[interface].count}\")"
   ]
  },
  {
   "cell_type": "code",
   "execution_count": 13,
   "metadata": {},
   "outputs": [
    {
     "name": "stdout",
     "output_type": "stream",
     "text": [
      "Number of connections: 57\n"
     ]
    }
   ],
   "source": [
    "num_connections = len(psutil.net_connections())\n",
    "print(f\"Number of connections: {num_connections}\")"
   ]
  },
  {
   "cell_type": "code",
   "execution_count": 12,
   "metadata": {},
   "outputs": [
    {
     "name": "stdout",
     "output_type": "stream",
     "text": [
      "/\n",
      "/proc\n",
      "/dev\n",
      "/dev/pts\n",
      "/sys\n",
      "/sys/fs/cgroup\n",
      "/dev/mqueue\n",
      "/dev/shm\n",
      "/usr/sbin/docker-init\n",
      "/tmp\n",
      "/vscode\n",
      "/workspaces\n",
      "/.codespaces/bin\n",
      "/etc/resolv.conf\n",
      "/etc/hostname\n",
      "/etc/hosts\n",
      "/home/vscode/.minikube\n",
      "/var/lib/docker\n",
      "/workspaces/.codespaces/.persistedshare\n",
      "/workspaces/.codespaces/shared\n",
      "/sys/kernel/security\n"
     ]
    }
   ],
   "source": [
    "# Get the list of mounted file systems\n",
    "\n",
    "partitions = psutil.disk_partitions(all=True)\n",
    "for partition in partitions:\n",
    "    print(partition.mountpoint)"
   ]
  },
  {
   "cell_type": "code",
   "execution_count": 13,
   "metadata": {},
   "outputs": [
    {
     "name": "stdout",
     "output_type": "stream",
     "text": [
      "Battery information not available\n"
     ]
    }
   ],
   "source": [
    "battery = psutil.sensors_battery()\n",
    "if battery is not None:\n",
    "    plugged = \"Plugged in\" if battery.power_plugged else \"Not plugged in\"\n",
    "    print(f\"Battery level: {battery.percent}% ({plugged})\")\n",
    "else:\n",
    "    print(\"Battery information not available\")"
   ]
  }
 ],
 "metadata": {
  "kernelspec": {
   "display_name": "Python 3",
   "language": "python",
   "name": "python3"
  },
  "language_info": {
   "codemirror_mode": {
    "name": "ipython",
    "version": 3
   },
   "file_extension": ".py",
   "mimetype": "text/x-python",
   "name": "python",
   "nbconvert_exporter": "python",
   "pygments_lexer": "ipython3",
   "version": "3.12.1"
  }
 },
 "nbformat": 4,
 "nbformat_minor": 2
}

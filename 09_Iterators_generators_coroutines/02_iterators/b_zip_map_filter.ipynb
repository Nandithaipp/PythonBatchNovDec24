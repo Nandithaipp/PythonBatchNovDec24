{
 "cells": [
  {
   "cell_type": "markdown",
   "metadata": {},
   "source": [
    "# zip(), map(), filter() result objects\n",
    "    - lazy loading  object (or) on-demand loading object\n",
    "    - Iterators are disposable objects\n",
    "        - one time use only"
   ]
  },
  {
   "cell_type": "code",
   "execution_count": 2,
   "metadata": {},
   "outputs": [],
   "source": [
    "# iterables\n",
    "alpha = {\"a\", \"e\", \"i\", \"o\", \"u\"}\n",
    "nums = (\"1\", \"2\", \"3\", \"4\")"
   ]
  },
  {
   "cell_type": "code",
   "execution_count": 3,
   "metadata": {},
   "outputs": [
    {
     "name": "stdout",
     "output_type": "stream",
     "text": [
      "pairs: <class 'zip'> <zip object at 0x72b0f216d340>\n"
     ]
    }
   ],
   "source": [
    "pairs = zip(alpha, nums)  # zip object at 0x00000165AE6CBEC0>\n",
    "print(f\"pairs: {type(pairs)} {pairs}\")"
   ]
  },
  {
   "cell_type": "code",
   "execution_count": 4,
   "metadata": {},
   "outputs": [
    {
     "name": "stdout",
     "output_type": "stream",
     "text": [
      "('i', '1')\n",
      "('a', '2')\n",
      "('o', '3')\n",
      "('u', '4')\n"
     ]
    }
   ],
   "source": [
    "# Method 1: Iterate over the object\n",
    "for ech_pair in pairs:\n",
    "    print(ech_pair)"
   ]
  },
  {
   "cell_type": "code",
   "execution_count": 5,
   "metadata": {},
   "outputs": [
    {
     "name": "stdout",
     "output_type": "stream",
     "text": [
      "pairs1: <class 'list'> []\n",
      "pairs2: <class 'tuple'> ()\n",
      "pairs3: <class 'set'> set()\n",
      "pairs4: <class 'str'> <zip object at 0x72b0f216d340>\n"
     ]
    }
   ],
   "source": [
    "# Method 2: Convert to other iterables\n",
    "pairs1 = list(pairs)\n",
    "print(f\"pairs1: {type(pairs1)} {pairs1}\")\n",
    "\n",
    "pairs2 = tuple(pairs)\n",
    "print(f\"pairs2: {type(pairs2)} {pairs2}\")\n",
    "\n",
    "pairs3 = set(pairs)\n",
    "print(f\"pairs3: {type(pairs3)} {pairs3}\")\n",
    "\n",
    "pairs4 = str(pairs)\n",
    "print(f\"pairs4: {type(pairs4)} {pairs4}\")\n"
   ]
  },
  {
   "cell_type": "markdown",
   "metadata": {},
   "source": [
    "#### NOTE: Iterators are disposable objects. can give values only once"
   ]
  },
  {
   "cell_type": "code",
   "execution_count": 6,
   "metadata": {},
   "outputs": [
    {
     "name": "stdout",
     "output_type": "stream",
     "text": [
      "pairs1: <class 'list'> [('e', '1'), ('i', '2'), ('o', '3'), ('u', '4')]\n"
     ]
    }
   ],
   "source": [
    "# re-assign to retrieve values again\n",
    "pairs = zip(alpha, nums)\n",
    "pairs1 = list(pairs)\n",
    "print(f\"pairs1: {type(pairs1)} {pairs1}\")"
   ]
  },
  {
   "cell_type": "code",
   "execution_count": 7,
   "metadata": {},
   "outputs": [
    {
     "name": "stdout",
     "output_type": "stream",
     "text": [
      "pairs2: <class 'tuple'> (('e', '1'), ('i', '2'), ('o', '3'), ('u', '4'))\n"
     ]
    }
   ],
   "source": [
    "pairs = zip(alpha, nums)\n",
    "pairs2 = tuple(pairs)\n",
    "print(f\"pairs2: {type(pairs2)} {pairs2}\")"
   ]
  },
  {
   "cell_type": "code",
   "execution_count": 6,
   "metadata": {},
   "outputs": [
    {
     "name": "stdout",
     "output_type": "stream",
     "text": [
      "pairs3: <class 'set'> {('i', '1'), ('a', '2'), ('o', '3'), ('u', '4')}\n"
     ]
    }
   ],
   "source": [
    "pairs = zip(alpha, nums)\n",
    "pairs3 = set(pairs)\n",
    "print(f\"pairs3: {type(pairs3)} {pairs3}\")"
   ]
  },
  {
   "cell_type": "code",
   "execution_count": 7,
   "metadata": {},
   "outputs": [
    {
     "name": "stdout",
     "output_type": "stream",
     "text": [
      "pairs4: <class 'str'> <zip object at 0x72b0f2191080>\n"
     ]
    }
   ],
   "source": [
    "pairs = zip(alpha, nums)\n",
    "pairs4 = str(pairs)  # <zip object at 0x0000000002606688>\n",
    "print(f\"pairs4: {type(pairs4)} {pairs4}\")"
   ]
  },
  {
   "cell_type": "code",
   "execution_count": 8,
   "metadata": {},
   "outputs": [
    {
     "name": "stdout",
     "output_type": "stream",
     "text": [
      "pairs5: <class 'dict'> {'i': '1', 'a': '2', 'o': '3', 'u': '4'}\n"
     ]
    }
   ],
   "source": [
    "pairs = zip(alpha, nums)\n",
    "pairs5 = dict(pairs)\n",
    "print(f\"pairs5: {type(pairs5)} {pairs5}\")"
   ]
  },
  {
   "cell_type": "code",
   "execution_count": 10,
   "metadata": {},
   "outputs": [
    {
     "name": "stdout",
     "output_type": "stream",
     "text": [
      "Mapped alpha (list): ['I', 'A', 'O', 'U', 'E']\n",
      "Mapped nums (tuple): (1, 2, 3, 4)\n",
      "Filtered alpha (set): {'a', 'o'}\n",
      "Filtered nums (list): ['2', '4']\n"
     ]
    }
   ],
   "source": [
    "## Assignment: similarly, apply on the map and filter\n",
    "\n",
    "alpha = {\"a\", \"e\", \"i\", \"o\", \"u\"}\n",
    "nums = (\"1\", \"2\", \"3\", \"4\")\n",
    "\n",
    "# Map example\n",
    "mapped_alpha = map(str.upper, alpha)  #Convert vowels to uppercase\n",
    "mapped_nums = map(int, nums)          #Convert strings to integers\n",
    "\n",
    "# Filter example\n",
    "filtered_alpha = filter(lambda x: x in {\"a\", \"o\"}, alpha)  #Keep 'a' and 'o'\n",
    "filtered_nums = filter(lambda x: int(x) % 2 == 0, nums)    #Keep even numbers\n",
    "\n",
    "# Convert and display results\n",
    "print(f\"Mapped alpha (list): {list(mapped_alpha)}\")\n",
    "print(f\"Mapped nums (tuple): {tuple(mapped_nums)}\")\n",
    "print(f\"Filtered alpha (set): {set(filtered_alpha)}\")\n",
    "print(f\"Filtered nums (list): {list(filtered_nums)}\")\n"
   ]
  }
 ],
 "metadata": {
  "kernelspec": {
   "display_name": "Python 3",
   "language": "python",
   "name": "python3"
  },
  "language_info": {
   "codemirror_mode": {
    "name": "ipython",
    "version": 3
   },
   "file_extension": ".py",
   "mimetype": "text/x-python",
   "name": "python",
   "nbconvert_exporter": "python",
   "pygments_lexer": "ipython3",
   "version": "3.12.1"
  }
 },
 "nbformat": 4,
 "nbformat_minor": 2
}

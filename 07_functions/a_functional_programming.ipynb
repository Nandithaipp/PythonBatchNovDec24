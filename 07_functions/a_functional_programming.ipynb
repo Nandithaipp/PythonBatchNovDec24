{
 "cells": [
  {
   "cell_type": "markdown",
   "metadata": {},
   "source": [
    "#### Advantage of Functional Programming\n",
    "\n",
    "- Code reusability\n",
    "- To modularize the problem \n",
    "- Better maintenance of the code \n",
    "    - Pure functions are easier to reason about\n",
    "    - Testing is easier, and pure functions lend themselves well to techniques like property-based testing\n",
    "    - Debugging is easier\n"
   ]
  },
  {
   "cell_type": "code",
   "execution_count": 5,
   "metadata": {},
   "outputs": [],
   "source": [
    "# Function Definition\n",
    "def hello():\n",
    "    print(\"Hello world\")\n",
    "    # return None - default"
   ]
  },
  {
   "cell_type": "code",
   "execution_count": 6,
   "metadata": {},
   "outputs": [
    {
     "name": "stdout",
     "output_type": "stream",
     "text": [
      "<function hello at 0x7071449fc0e0>\n"
     ]
    }
   ],
   "source": [
    "print(hello)"
   ]
  },
  {
   "cell_type": "markdown",
   "metadata": {},
   "source": [
    "__NOTE:__ Function are treated as first-class objects in Python. "
   ]
  },
  {
   "cell_type": "code",
   "execution_count": 3,
   "metadata": {},
   "outputs": [
    {
     "data": {
      "text/plain": [
       "function"
      ]
     },
     "execution_count": 3,
     "metadata": {},
     "output_type": "execute_result"
    }
   ],
   "source": [
    "type(hello)"
   ]
  },
  {
   "cell_type": "code",
   "execution_count": 7,
   "metadata": {},
   "outputs": [
    {
     "data": {
      "text/plain": [
       "'<function hello at 0x7071449fc0e0>'"
      ]
     },
     "execution_count": 7,
     "metadata": {},
     "output_type": "execute_result"
    }
   ],
   "source": [
    "repr(hello)"
   ]
  },
  {
   "cell_type": "code",
   "execution_count": 8,
   "metadata": {},
   "outputs": [
    {
     "data": {
      "text/plain": [
       "'hello'"
      ]
     },
     "execution_count": 8,
     "metadata": {},
     "output_type": "execute_result"
    }
   ],
   "source": [
    "hello.__qualname__  # introduced in Python 3.3"
   ]
  },
  {
   "cell_type": "code",
   "execution_count": 10,
   "metadata": {},
   "outputs": [
    {
     "data": {
      "text/plain": [
       "144"
      ]
     },
     "execution_count": 10,
     "metadata": {},
     "output_type": "execute_result"
    }
   ],
   "source": [
    "hello.__sizeof__()"
   ]
  },
  {
   "cell_type": "code",
   "execution_count": 9,
   "metadata": {},
   "outputs": [
    {
     "data": {
      "text/plain": [
       "7726986558478"
      ]
     },
     "execution_count": 9,
     "metadata": {},
     "output_type": "execute_result"
    }
   ],
   "source": [
    "hello.__hash__()"
   ]
  },
  {
   "cell_type": "code",
   "execution_count": 10,
   "metadata": {},
   "outputs": [
    {
     "data": {
      "text/plain": [
       "<code object hello at 0x707144bb9a70, file \"/tmp/ipykernel_33703/3139197744.py\", line 2>"
      ]
     },
     "execution_count": 10,
     "metadata": {},
     "output_type": "execute_result"
    }
   ],
   "source": [
    "hello.__code__"
   ]
  },
  {
   "cell_type": "code",
   "execution_count": 11,
   "metadata": {},
   "outputs": [
    {
     "data": {
      "text/plain": [
       "True"
      ]
     },
     "execution_count": 11,
     "metadata": {},
     "output_type": "execute_result"
    }
   ],
   "source": [
    "callable(hello)"
   ]
  },
  {
   "cell_type": "code",
   "execution_count": 12,
   "metadata": {},
   "outputs": [
    {
     "name": "stdout",
     "output_type": "stream",
     "text": [
      "Hello world\n"
     ]
    }
   ],
   "source": [
    "hello.__call__()"
   ]
  },
  {
   "cell_type": "code",
   "execution_count": 13,
   "metadata": {},
   "outputs": [
    {
     "name": "stdout",
     "output_type": "stream",
     "text": [
      "Hello world\n"
     ]
    }
   ],
   "source": [
    "hello()"
   ]
  },
  {
   "cell_type": "code",
   "execution_count": 14,
   "metadata": {},
   "outputs": [
    {
     "data": {
      "text/plain": [
       "False"
      ]
     },
     "execution_count": 14,
     "metadata": {},
     "output_type": "execute_result"
    }
   ],
   "source": [
    "fruit = \"apple\"\n",
    "callable(fruit)"
   ]
  },
  {
   "cell_type": "code",
   "execution_count": 15,
   "metadata": {},
   "outputs": [],
   "source": [
    "# funtion Definition\n",
    "def hello_world(name):\n",
    "    return f\"Hello World! {name}\""
   ]
  },
  {
   "cell_type": "code",
   "execution_count": 17,
   "metadata": {},
   "outputs": [
    {
     "data": {
      "text/plain": [
       "'Hello World! Programmer!!!'"
      ]
     },
     "execution_count": 17,
     "metadata": {},
     "output_type": "execute_result"
    }
   ],
   "source": [
    "hello_world(\"Programmer!!!\")"
   ]
  },
  {
   "cell_type": "code",
   "execution_count": 18,
   "metadata": {},
   "outputs": [
    {
     "ename": "TypeError",
     "evalue": "hello_world() takes 1 positional argument but 2 were given",
     "output_type": "error",
     "traceback": [
      "\u001b[0;31m---------------------------------------------------------------------------\u001b[0m",
      "\u001b[0;31mTypeError\u001b[0m                                 Traceback (most recent call last)",
      "Cell \u001b[0;32mIn[18], line 1\u001b[0m\n\u001b[0;32m----> 1\u001b[0m \u001b[43mhello_world\u001b[49m\u001b[43m(\u001b[49m\u001b[38;5;124;43m\"\u001b[39;49m\u001b[38;5;124;43mProgrammer!!!\u001b[39;49m\u001b[38;5;124;43m\"\u001b[39;49m\u001b[43m,\u001b[49m\u001b[43m \u001b[49m\u001b[38;5;124;43m\"\u001b[39;49m\u001b[38;5;124;43mSprinter\u001b[39;49m\u001b[38;5;124;43m\"\u001b[39;49m\u001b[43m)\u001b[49m\n",
      "\u001b[0;31mTypeError\u001b[0m: hello_world() takes 1 positional argument but 2 were given"
     ]
    }
   ],
   "source": [
    "hello_world(\"Programmer!!!\", \"Sprinter\")"
   ]
  },
  {
   "cell_type": "code",
   "execution_count": 19,
   "metadata": {},
   "outputs": [],
   "source": [
    "def person_details(name, age):\n",
    "    return f\"{name} is {age} years old\""
   ]
  },
  {
   "cell_type": "markdown",
   "metadata": {},
   "source": [
    "__NOTE:__  Ensure to pass the exact number of arguments in function call, as in function definition."
   ]
  },
  {
   "cell_type": "code",
   "execution_count": 26,
   "metadata": {},
   "outputs": [
    {
     "name": "stdout",
     "output_type": "stream",
     "text": [
      "result = None <class 'NoneType'>\n"
     ]
    }
   ],
   "source": [
    "def some_function():\n",
    "    pass\n",
    "    # default return is None type object\n",
    "\n",
    "result = some_function()\n",
    "print(\"result =\", result, type(result))"
   ]
  },
  {
   "cell_type": "code",
   "execution_count": 21,
   "metadata": {},
   "outputs": [
    {
     "name": "stdout",
     "output_type": "stream",
     "text": [
      "result = 12 <class 'int'>\n"
     ]
    }
   ],
   "source": [
    "def some_function():\n",
    "    return 12\n",
    "\n",
    "\n",
    "result = some_function()\n",
    "print(\"result =\", result, type(result))"
   ]
  },
  {
   "cell_type": "code",
   "execution_count": 22,
   "metadata": {},
   "outputs": [
    {
     "name": "stdout",
     "output_type": "stream",
     "text": [
      "result = 12.0 <class 'float'>\n"
     ]
    }
   ],
   "source": [
    "def some_function():\n",
    "    return 12.0\n",
    "\n",
    "\n",
    "result = some_function()\n",
    "print(\"result =\", result, type(result))"
   ]
  },
  {
   "cell_type": "code",
   "execution_count": 23,
   "metadata": {},
   "outputs": [
    {
     "name": "stdout",
     "output_type": "stream",
     "text": [
      "result = {12: 34} <class 'dict'>\n"
     ]
    }
   ],
   "source": [
    "def some_function():\n",
    "    return {12: 34}\n",
    "\n",
    "\n",
    "result = some_function()\n",
    "print(\"result =\", result, type(result))"
   ]
  },
  {
   "cell_type": "code",
   "execution_count": 24,
   "metadata": {},
   "outputs": [
    {
     "name": "stdout",
     "output_type": "stream",
     "text": [
      "result = Gudo's age is 67 <class 'str'>\n"
     ]
    }
   ],
   "source": [
    "def some_function():\n",
    "    return \"%s's age is %d\" % (\"Gudo\", 67)\n",
    "\n",
    "\n",
    "result = some_function()\n",
    "print(\"result =\", result, type(result))"
   ]
  },
  {
   "cell_type": "code",
   "execution_count": 25,
   "metadata": {},
   "outputs": [
    {
     "name": "stdout",
     "output_type": "stream",
     "text": [
      "result = (12.0,) <class 'tuple'>\n"
     ]
    }
   ],
   "source": [
    "def some_function():\n",
    "    return 12.0,  # ,(comma) at the end of statement makes the difference\n",
    "\n",
    "\n",
    "result = some_function()\n",
    "print(\"result =\", result, type(result))"
   ]
  },
  {
   "cell_type": "code",
   "execution_count": 26,
   "metadata": {},
   "outputs": [
    {
     "name": "stdout",
     "output_type": "stream",
     "text": [
      "result = ((12,),) <class 'tuple'>\n"
     ]
    }
   ],
   "source": [
    "def some_function():\n",
    "    return (12,),\n",
    "\n",
    "\n",
    "result = some_function()\n",
    "print(\"result =\", result, type(result))"
   ]
  },
  {
   "cell_type": "code",
   "execution_count": 27,
   "metadata": {},
   "outputs": [
    {
     "name": "stdout",
     "output_type": "stream",
     "text": [
      "result = (123, 45) <class 'tuple'>\n"
     ]
    }
   ],
   "source": [
    "def some_other_function():\n",
    "    return 123, 45\n",
    "\n",
    "\n",
    "result = some_other_function()\n",
    "print(\"result =\", result, type(result))"
   ]
  },
  {
   "cell_type": "code",
   "execution_count": 28,
   "metadata": {},
   "outputs": [
    {
     "name": "stdout",
     "output_type": "stream",
     "text": [
      "result1      = 123\n",
      "result2      = 45\n"
     ]
    }
   ],
   "source": [
    "def some_other_function():\n",
    "    return 123, 45\n",
    "\n",
    "\n",
    "# tuple unpacking\n",
    "result1, result2 = some_other_function()\n",
    "print(\"result1      =\", result1)\n",
    "print(\"result2      =\", result2)"
   ]
  },
  {
   "cell_type": "code",
   "execution_count": 29,
   "metadata": {},
   "outputs": [
    {
     "name": "stdout",
     "output_type": "stream",
     "text": [
      "11 22 33\n"
     ]
    }
   ],
   "source": [
    "# list unpacking\n",
    "r1, r2, r3 = [11, 22, 33]\n",
    "print(r1, r2, r3)"
   ]
  },
  {
   "cell_type": "code",
   "execution_count": 31,
   "metadata": {},
   "outputs": [
    {
     "name": "stdout",
     "output_type": "stream",
     "text": [
      "m1 = 11\n",
      "m2 = [22, 33]\n"
     ]
    }
   ],
   "source": [
    "m1, *m2 = [11, 22, 33]\n",
    "\n",
    "print(f'{m1 = }')\n",
    "print(f'{m2 = }')"
   ]
  },
  {
   "cell_type": "code",
   "execution_count": 32,
   "metadata": {},
   "outputs": [
    {
     "name": "stdout",
     "output_type": "stream",
     "text": [
      "result1      = 123\n",
      "result2      = [45]\n"
     ]
    }
   ],
   "source": [
    "result1, *result2 = some_other_function()\n",
    "print(\"result1      =\", result1)\n",
    "print(\"result2      =\", result2)"
   ]
  },
  {
   "cell_type": "markdown",
   "metadata": {},
   "source": [
    "#### Function Overwriting"
   ]
  },
  {
   "cell_type": "code",
   "execution_count": 33,
   "metadata": {},
   "outputs": [
    {
     "name": "stdout",
     "output_type": "stream",
     "text": [
      "786\n"
     ]
    }
   ],
   "source": [
    "lucky_number = 1111\n",
    "lucky_number = 786\n",
    "print(lucky_number)"
   ]
  },
  {
   "cell_type": "code",
   "execution_count": 35,
   "metadata": {},
   "outputs": [
    {
     "name": "stdout",
     "output_type": "stream",
     "text": [
      "5\n"
     ]
    },
    {
     "ename": "TypeError",
     "evalue": "myfunc() takes 2 positional arguments but 3 were given",
     "output_type": "error",
     "traceback": [
      "\u001b[0;31m---------------------------------------------------------------------------\u001b[0m",
      "\u001b[0;31mTypeError\u001b[0m                                 Traceback (most recent call last)",
      "Cell \u001b[0;32mIn[35], line 24\u001b[0m\n\u001b[1;32m     20\u001b[0m     \u001b[38;5;28;01mreturn\u001b[39;00m num1 \u001b[38;5;241m+\u001b[39m num2\n\u001b[1;32m     23\u001b[0m \u001b[38;5;28mprint\u001b[39m(myfunc(\u001b[38;5;241m2\u001b[39m, \u001b[38;5;241m3\u001b[39m))\n\u001b[0;32m---> 24\u001b[0m \u001b[38;5;28mprint\u001b[39m(\u001b[43mmyfunc\u001b[49m\u001b[43m(\u001b[49m\u001b[38;5;241;43m2\u001b[39;49m\u001b[43m,\u001b[49m\u001b[43m \u001b[49m\u001b[38;5;241;43m3\u001b[39;49m\u001b[43m,\u001b[49m\u001b[43m \u001b[49m\u001b[38;5;241;43m5\u001b[39;49m\u001b[43m)\u001b[49m)\n",
      "\u001b[0;31mTypeError\u001b[0m: myfunc() takes 2 positional arguments but 3 were given"
     ]
    }
   ],
   "source": [
    "# Two functions with same name, but different number of arguments in definition\n",
    "def myfunc(var1, var2, var3):\n",
    "    \"\"\"\n",
    "    Function to perform arithmetic Multiplication operation\n",
    "    :param var1: Number\n",
    "    :param var2: Number\n",
    "    :param var3: Number\n",
    "    :return: result of addition operation\n",
    "    \"\"\"\n",
    "    return var1 + var2 + var3\n",
    "\n",
    "\n",
    "def myfunc(num1, num2):\n",
    "    \"\"\"\n",
    "    Function to perform arithmetic Addition operation\n",
    "    :param num1: Number\n",
    "    :param num2: Number\n",
    "    :return: result of addition operation\n",
    "    \"\"\"\n",
    "    return num1 + num2\n",
    "\n",
    "\n",
    "print(myfunc(2, 3))\n",
    "print(myfunc(2, 3, 5))"
   ]
  },
  {
   "cell_type": "code",
   "execution_count": 36,
   "metadata": {},
   "outputs": [
    {
     "name": "stdout",
     "output_type": "stream",
     "text": [
      "10\n"
     ]
    },
    {
     "ename": "TypeError",
     "evalue": "myfunc() missing 1 required positional argument: 'var3'",
     "output_type": "error",
     "traceback": [
      "\u001b[0;31m---------------------------------------------------------------------------\u001b[0m",
      "\u001b[0;31mTypeError\u001b[0m                                 Traceback (most recent call last)",
      "Cell \u001b[0;32mIn[36], line 24\u001b[0m\n\u001b[1;32m     20\u001b[0m     \u001b[38;5;28;01mreturn\u001b[39;00m var1 \u001b[38;5;241m+\u001b[39m var2 \u001b[38;5;241m+\u001b[39m var3\n\u001b[1;32m     23\u001b[0m \u001b[38;5;28mprint\u001b[39m(myfunc(\u001b[38;5;241m2\u001b[39m, \u001b[38;5;241m3\u001b[39m, \u001b[38;5;241m5\u001b[39m))\n\u001b[0;32m---> 24\u001b[0m \u001b[38;5;28mprint\u001b[39m(\u001b[43mmyfunc\u001b[49m\u001b[43m(\u001b[49m\u001b[38;5;241;43m2\u001b[39;49m\u001b[43m,\u001b[49m\u001b[43m \u001b[49m\u001b[38;5;241;43m3\u001b[39;49m\u001b[43m)\u001b[49m)\n",
      "\u001b[0;31mTypeError\u001b[0m: myfunc() missing 1 required positional argument: 'var3'"
     ]
    }
   ],
   "source": [
    "# Two functions with same name, but different number of arguments in definition\n",
    "def myfunc(num1, num2):\n",
    "    \"\"\"\n",
    "    Function to perform arithmetic Addition operation\n",
    "    :param num1: Number\n",
    "    :param num2: Number\n",
    "    :return: result of addition operation\n",
    "    \"\"\"\n",
    "    return num1 + num2\n",
    "\n",
    "\n",
    "def myfunc(var1, var2, var3):\n",
    "    \"\"\"\n",
    "    Function to perform arithmetic Multiplication operation\n",
    "    :param var1: Number\n",
    "    :param var2: Number\n",
    "    :param var3: Number\n",
    "    :return: result of addition operation\n",
    "    \"\"\"\n",
    "    return var1 + var2 + var3\n",
    "\n",
    "\n",
    "print(myfunc(2, 3, 5))\n",
    "print(myfunc(2, 3))"
   ]
  },
  {
   "cell_type": "markdown",
   "metadata": {},
   "source": [
    "#### Default Arguments"
   ]
  },
  {
   "cell_type": "code",
   "execution_count": 38,
   "metadata": {},
   "outputs": [],
   "source": [
    "def greetings(name, msg=\"Birthday\"):\n",
    "    return f\"Hi, {name}! Happy {msg}!!!\""
   ]
  },
  {
   "cell_type": "code",
   "execution_count": 39,
   "metadata": {},
   "outputs": [
    {
     "name": "stdout",
     "output_type": "stream",
     "text": [
      "['__annotations__', '__builtins__', '__call__', '__class__', '__closure__', '__code__', '__defaults__', '__delattr__', '__dict__', '__dir__', '__doc__', '__eq__', '__format__', '__ge__', '__get__', '__getattribute__', '__getstate__', '__globals__', '__gt__', '__hash__', '__init__', '__init_subclass__', '__kwdefaults__', '__le__', '__lt__', '__module__', '__name__', '__ne__', '__new__', '__qualname__', '__reduce__', '__reduce_ex__', '__repr__', '__setattr__', '__sizeof__', '__str__', '__subclasshook__', '__type_params__']\n"
     ]
    }
   ],
   "source": [
    "print(dir(greetings))"
   ]
  },
  {
   "cell_type": "code",
   "execution_count": 46,
   "metadata": {},
   "outputs": [
    {
     "data": {
      "text/plain": [
       "('Birthday',)"
      ]
     },
     "execution_count": 46,
     "metadata": {},
     "output_type": "execute_result"
    }
   ],
   "source": [
    "greetings.__defaults__"
   ]
  },
  {
   "cell_type": "code",
   "execution_count": 40,
   "metadata": {},
   "outputs": [
    {
     "ename": "TypeError",
     "evalue": "greetings() missing 1 required positional argument: 'name'",
     "output_type": "error",
     "traceback": [
      "\u001b[0;31m---------------------------------------------------------------------------\u001b[0m",
      "\u001b[0;31mTypeError\u001b[0m                                 Traceback (most recent call last)",
      "Cell \u001b[0;32mIn[40], line 1\u001b[0m\n\u001b[0;32m----> 1\u001b[0m \u001b[43mgreetings\u001b[49m\u001b[43m(\u001b[49m\u001b[43m)\u001b[49m\n",
      "\u001b[0;31mTypeError\u001b[0m: greetings() missing 1 required positional argument: 'name'"
     ]
    }
   ],
   "source": [
    "greetings()"
   ]
  },
  {
   "cell_type": "code",
   "execution_count": 41,
   "metadata": {},
   "outputs": [
    {
     "data": {
      "text/plain": [
       "'Hi, Udhay! Happy Birthday!!!'"
      ]
     },
     "execution_count": 41,
     "metadata": {},
     "output_type": "execute_result"
    }
   ],
   "source": [
    "greetings(\"Abhi\")"
   ]
  },
  {
   "cell_type": "code",
   "execution_count": 42,
   "metadata": {},
   "outputs": [
    {
     "data": {
      "text/plain": [
       "'Hi, Nanditha! Happy Wedding Anniversary!!!'"
      ]
     },
     "execution_count": 42,
     "metadata": {},
     "output_type": "execute_result"
    }
   ],
   "source": [
    "greetings(\"Nanditha\", \"Wedding Anniversary\")"
   ]
  },
  {
   "cell_type": "markdown",
   "metadata": {},
   "source": [
    "__NOTE:__ Non-default arguments must be passed during function call"
   ]
  },
  {
   "cell_type": "code",
   "execution_count": 43,
   "metadata": {},
   "outputs": [
    {
     "ename": "SyntaxError",
     "evalue": "parameter without a default follows parameter with a default (3265384258.py, line 1)",
     "output_type": "error",
     "traceback": [
      "\u001b[0;36m  Cell \u001b[0;32mIn[43], line 1\u001b[0;36m\u001b[0m\n\u001b[0;31m    def greetings(msg = 'Birthday', name):\u001b[0m\n\u001b[0m                                    ^\u001b[0m\n\u001b[0;31mSyntaxError\u001b[0m\u001b[0;31m:\u001b[0m parameter without a default follows parameter with a default\n"
     ]
    }
   ],
   "source": [
    "def greetings(msg = 'Birthday', name):\n",
    "    return f'Hi, {name}! Happy {msg}!!!'"
   ]
  },
  {
   "cell_type": "code",
   "execution_count": 44,
   "metadata": {},
   "outputs": [
    {
     "name": "stdout",
     "output_type": "stream",
     "text": [
      "0 27 1\n"
     ]
    },
    {
     "data": {
      "text/plain": [
       "'Honorificabilitudinitatibus'"
      ]
     },
     "execution_count": 44,
     "metadata": {},
     "output_type": "execute_result"
    }
   ],
   "source": [
    "def string_slicing(input_string, start_index=0, final_index=None, step=1):\n",
    "    if final_index is None:\n",
    "        final_index = len(input_string)\n",
    "\n",
    "    print(start_index, final_index, step)\n",
    "    return input_string[start_index:final_index:step]\n",
    "\n",
    "\n",
    "string_slicing(\"Honorificabilitudinitatibus\")"
   ]
  },
  {
   "cell_type": "code",
   "execution_count": 45,
   "metadata": {},
   "outputs": [
    {
     "name": "stdout",
     "output_type": "stream",
     "text": [
      "0 27 1\n"
     ]
    },
    {
     "data": {
      "text/plain": [
       "'Honorificabilitudinitatibus'"
      ]
     },
     "execution_count": 45,
     "metadata": {},
     "output_type": "execute_result"
    }
   ],
   "source": [
    "def string_slicing(input_string, start_index=0, final_index=None, step=1):\n",
    "    final_index = final_index or len(input_string)\n",
    "\n",
    "    print(start_index, final_index, step)\n",
    "    return input_string[start_index:final_index:step]\n",
    "\n",
    "\n",
    "string_slicing(\"Honorificabilitudinitatibus\")"
   ]
  },
  {
   "cell_type": "code",
   "execution_count": 46,
   "metadata": {},
   "outputs": [
    {
     "name": "stdout",
     "output_type": "stream",
     "text": [
      "3 19 2\n"
     ]
    },
    {
     "data": {
      "text/plain": [
       "'oiiaiiui'"
      ]
     },
     "execution_count": 46,
     "metadata": {},
     "output_type": "execute_result"
    }
   ],
   "source": [
    "string_slicing(\"Honorificabilitudinitatibus\", 3, 19, 2)"
   ]
  },
  {
   "cell_type": "code",
   "execution_count": 47,
   "metadata": {},
   "outputs": [
    {
     "data": {
      "text/plain": [
       "(0, None, 1)"
      ]
     },
     "execution_count": 47,
     "metadata": {},
     "output_type": "execute_result"
    }
   ],
   "source": [
    "string_slicing.__defaults__"
   ]
  },
  {
   "cell_type": "markdown",
   "metadata": {},
   "source": [
    "#### Function Overloading workaround"
   ]
  },
  {
   "cell_type": "code",
   "execution_count": 48,
   "metadata": {},
   "outputs": [
    {
     "name": "stdout",
     "output_type": "stream",
     "text": [
      "var1=2\t var2=3\t var3=0\n",
      "5\n",
      "var1=2\t var2=3\t var3=5\n",
      "10\n"
     ]
    }
   ],
   "source": [
    "# Two functions with same name, but different number of arguments in definition\n",
    "def myfunc(var1, var2, var3=0):\n",
    "    \"\"\"\n",
    "    Function to perform arithmetic Multiplication operation\n",
    "    :param var1: Number\n",
    "    :param var2: Number\n",
    "    :param var3: Number\n",
    "    :return: result of addition operation\n",
    "    \"\"\"\n",
    "    print(f\"var1={var1}\\t var2={var2}\\t var3={var3}\")\n",
    "    return var1 + var2 + var3\n",
    "\n",
    "\n",
    "print(myfunc(2, 3))\n",
    "print(myfunc(2, 3, 5))"
   ]
  },
  {
   "cell_type": "markdown",
   "metadata": {},
   "source": [
    "##### Problem with mutable default arguments"
   ]
  },
  {
   "cell_type": "code",
   "execution_count": 49,
   "metadata": {},
   "outputs": [],
   "source": [
    "def extend_list(val, mylist=[]):\n",
    "    print(f\"id(mylist) = {id(mylist)} mylist={mylist}  \")\n",
    "    mylist.append(val)\n",
    "    return mylist"
   ]
  },
  {
   "cell_type": "code",
   "execution_count": 50,
   "metadata": {},
   "outputs": [
    {
     "data": {
      "text/plain": [
       "([],)"
      ]
     },
     "execution_count": 50,
     "metadata": {},
     "output_type": "execute_result"
    }
   ],
   "source": [
    "extend_list.__defaults__"
   ]
  },
  {
   "cell_type": "code",
   "execution_count": 51,
   "metadata": {},
   "outputs": [
    {
     "name": "stdout",
     "output_type": "stream",
     "text": [
      "id(mylist) = 123631785532480 mylist=[]  \n"
     ]
    },
    {
     "data": {
      "text/plain": [
       "[10]"
      ]
     },
     "execution_count": 51,
     "metadata": {},
     "output_type": "execute_result"
    }
   ],
   "source": [
    "list1 = extend_list(10)\n",
    "list1"
   ]
  },
  {
   "cell_type": "code",
   "execution_count": 52,
   "metadata": {},
   "outputs": [
    {
     "name": "stdout",
     "output_type": "stream",
     "text": [
      "id(mylist) = 123631786737472 mylist=[]  \n"
     ]
    },
    {
     "data": {
      "text/plain": [
       "[123]"
      ]
     },
     "execution_count": 52,
     "metadata": {},
     "output_type": "execute_result"
    }
   ],
   "source": [
    "list2 = extend_list(123, [])\n",
    "list2"
   ]
  },
  {
   "cell_type": "code",
   "execution_count": 53,
   "metadata": {},
   "outputs": [
    {
     "name": "stdout",
     "output_type": "stream",
     "text": [
      "id(mylist) = 123631785532480 mylist=[10]  \n"
     ]
    },
    {
     "data": {
      "text/plain": [
       "[10, 'a']"
      ]
     },
     "execution_count": 53,
     "metadata": {},
     "output_type": "execute_result"
    }
   ],
   "source": [
    "list3 = extend_list(\"a\")\n",
    "list3"
   ]
  },
  {
   "cell_type": "code",
   "execution_count": 54,
   "metadata": {},
   "outputs": [
    {
     "data": {
      "text/plain": [
       "(123631785532480, 123631786737472, 123631785532480)"
      ]
     },
     "execution_count": 54,
     "metadata": {},
     "output_type": "execute_result"
    }
   ],
   "source": [
    "id(list1), id(list2), id(list3)"
   ]
  },
  {
   "cell_type": "markdown",
   "metadata": {},
   "source": [
    "__NOTE:__ Best practice is to use a sentinel value to denote an empty list or dictionary or set."
   ]
  },
  {
   "cell_type": "code",
   "execution_count": 55,
   "metadata": {},
   "outputs": [],
   "source": [
    "# Best practice\n",
    "\n",
    "\n",
    "# def extend_list(val, mylist= []):\n",
    "#     print(f'id(mylist) = {id(mylist)} mylist={mylist}  ')\n",
    "#     mylist.append(val)\n",
    "#     return mylist\n",
    "\n",
    "\n",
    "def extend_list(val, mylist=None):\n",
    "    if mylist is None:\n",
    "        mylist = []\n",
    "    print(f\"id(mylist) = {id(mylist)} mylist={mylist}  \")\n",
    "    mylist.append(val)\n",
    "    return mylist"
   ]
  },
  {
   "cell_type": "code",
   "execution_count": 57,
   "metadata": {},
   "outputs": [
    {
     "name": "stdout",
     "output_type": "stream",
     "text": [
      "id(mylist) = 123631785528000 mylist=[]  \n",
      "[10]\n",
      "id(mylist) = 123631785559616 mylist=[]  \n",
      "[123]\n",
      "id(mylist) = 123631785524672 mylist=[]  \n",
      "['a']\n"
     ]
    }
   ],
   "source": [
    "list1 = extend_list(10)\n",
    "print(list1)\n",
    "\n",
    "list2 = extend_list(123, [])\n",
    "print(list2)\n",
    "\n",
    "list3 = extend_list(\"a\")\n",
    "print(list3)"
   ]
  },
  {
   "cell_type": "code",
   "execution_count": 58,
   "metadata": {},
   "outputs": [
    {
     "data": {
      "text/plain": [
       "(123631785528000, 123631785559616, 123631785524672)"
      ]
     },
     "execution_count": 58,
     "metadata": {},
     "output_type": "execute_result"
    }
   ],
   "source": [
    "id(list1), id(list2), id(list3)"
   ]
  },
  {
   "cell_type": "code",
   "execution_count": 59,
   "metadata": {},
   "outputs": [
    {
     "data": {
      "text/plain": [
       "(None,)"
      ]
     },
     "execution_count": 59,
     "metadata": {},
     "output_type": "execute_result"
    }
   ],
   "source": [
    "extend_list.__defaults__"
   ]
  },
  {
   "cell_type": "markdown",
   "metadata": {},
   "source": [
    "### Variadic Functions\n",
    "\n",
    "Function which can accept any number of arguments\n",
    "\n",
    "Ex: print() function"
   ]
  },
  {
   "cell_type": "code",
   "execution_count": 60,
   "metadata": {},
   "outputs": [
    {
     "name": "stdout",
     "output_type": "stream",
     "text": [
      "\n"
     ]
    }
   ],
   "source": [
    "print()"
   ]
  },
  {
   "cell_type": "code",
   "execution_count": 61,
   "metadata": {},
   "outputs": [
    {
     "name": "stdout",
     "output_type": "stream",
     "text": [
      "12\n"
     ]
    }
   ],
   "source": [
    "print(12)"
   ]
  },
  {
   "cell_type": "code",
   "execution_count": 62,
   "metadata": {},
   "outputs": [
    {
     "name": "stdout",
     "output_type": "stream",
     "text": [
      "12 34 None {12: '34'} [10]\n"
     ]
    }
   ],
   "source": [
    "print(12, \"34\", None, {12: \"34\"}, list1)"
   ]
  },
  {
   "cell_type": "code",
   "execution_count": 63,
   "metadata": {},
   "outputs": [
    {
     "name": "stdout",
     "output_type": "stream",
     "text": [
      "None\n"
     ]
    }
   ],
   "source": [
    "print(hello.__defaults__)"
   ]
  },
  {
   "cell_type": "code",
   "execution_count": 64,
   "metadata": {},
   "outputs": [
    {
     "name": "stdout",
     "output_type": "stream",
     "text": [
      "None\n"
     ]
    }
   ],
   "source": [
    "print(hello.__kwdefaults__)"
   ]
  },
  {
   "cell_type": "code",
   "execution_count": 65,
   "metadata": {},
   "outputs": [
    {
     "name": "stdout",
     "output_type": "stream",
     "text": [
      "\n",
      "type(given)   <class 'tuple'>\n",
      "given ()\n",
      "--------------------\n",
      "\n",
      "type(given)   <class 'tuple'>\n",
      "given (99,)\n",
      "--------------------\n",
      "\n",
      "type(given)   <class 'tuple'>\n",
      "given (99, -0.2312)\n",
      "--------------------\n",
      "\n",
      "type(given)   <class 'tuple'>\n",
      "given (99, -0.2312, 12, '34', None, {12: '34'}, [10])\n",
      "--------------------\n"
     ]
    }
   ],
   "source": [
    "# Function Definition\n",
    "def hello(*given):\n",
    "    print(\"\\ntype(given)  \", type(given))\n",
    "\n",
    "    print(\"given \" + str(given))\n",
    "    print(\"-\" * 20)\n",
    "\n",
    "\n",
    "# works for any number of arguments\n",
    "hello()\n",
    "hello(99)\n",
    "hello(99, -0.2312)\n",
    "hello(99, -0.2312, 12, \"34\", None, {12: \"34\"}, list1)"
   ]
  },
  {
   "cell_type": "markdown",
   "metadata": {},
   "source": [
    "#### Function with keyword ONLY arguments (only in python 3.x)\n",
    "- Named arguments appearing after '*' can only be passed by keyword"
   ]
  },
  {
   "cell_type": "code",
   "execution_count": 68,
   "metadata": {},
   "outputs": [
    {
     "name": "stdout",
     "output_type": "stream",
     "text": [
      "\n",
      "type(maxsize)   <class 'int'>\n",
      "type(block)  <class 'bool'>\n",
      "maxsize   8192\n",
      "block False\n",
      "--------------------\n"
     ]
    }
   ],
   "source": [
    "# Function Definition\n",
    "def recv(maxsize, *, block=True):\n",
    "    print(\"\\ntype(maxsize)  \", type(maxsize))\n",
    "    print(\"type(block) \", type(block))\n",
    "\n",
    "    print(\"maxsize   \" + str(maxsize))\n",
    "    print(\"block \" + str(block))\n",
    "    print(\"-\" * 20)\n",
    "\n",
    "\n",
    "# Function Call\n",
    "recv(8192, block=False)"
   ]
  },
  {
   "cell_type": "code",
   "execution_count": 73,
   "metadata": {},
   "outputs": [
    {
     "name": "stdout",
     "output_type": "stream",
     "text": [
      "\n",
      "type(maxsize)   <class 'int'>\n",
      "type(block)  <class 'bool'>\n",
      "maxsize   8192\n",
      "block False\n",
      "--------------------\n"
     ]
    }
   ],
   "source": [
    "recv(8192, False)"
   ]
  },
  {
   "cell_type": "code",
   "execution_count": 71,
   "metadata": {},
   "outputs": [
    {
     "name": "stdout",
     "output_type": "stream",
     "text": [
      "\n",
      "type(maxsize)   <class 'int'>\n",
      "type(block)  <class 'bool'>\n",
      "maxsize   8192\n",
      "block False\n",
      "--------------------\n"
     ]
    }
   ],
   "source": [
    "# Function Definition\n",
    "def recv(maxsize, /, block=True):\n",
    "    print(\"\\ntype(maxsize)  \", type(maxsize))\n",
    "    print(\"type(block) \", type(block))\n",
    "\n",
    "    print(\"maxsize   \" + str(maxsize))\n",
    "    print(\"block \" + str(block))\n",
    "    print(\"-\" * 20)\n",
    "\n",
    "\n",
    "# Function Call\n",
    "recv(8192, block=False)"
   ]
  },
  {
   "cell_type": "code",
   "execution_count": 72,
   "metadata": {},
   "outputs": [
    {
     "name": "stdout",
     "output_type": "stream",
     "text": [
      "\n",
      "type(maxsize)   <class 'int'>\n",
      "type(block)  <class 'bool'>\n",
      "maxsize   8192\n",
      "block False\n",
      "--------------------\n"
     ]
    }
   ],
   "source": [
    "recv(8192, False)"
   ]
  },
  {
   "cell_type": "code",
   "execution_count": 74,
   "metadata": {},
   "outputs": [
    {
     "ename": "TypeError",
     "evalue": "recv() got some positional-only arguments passed as keyword arguments: 'maxsize'",
     "output_type": "error",
     "traceback": [
      "\u001b[0;31m---------------------------------------------------------------------------\u001b[0m",
      "\u001b[0;31mTypeError\u001b[0m                                 Traceback (most recent call last)",
      "Cell \u001b[0;32mIn[74], line 1\u001b[0m\n\u001b[0;32m----> 1\u001b[0m \u001b[43mrecv\u001b[49m\u001b[43m(\u001b[49m\u001b[43mmaxsize\u001b[49m\u001b[38;5;241;43m=\u001b[39;49m\u001b[38;5;241;43m8192\u001b[39;49m\u001b[43m,\u001b[49m\u001b[43m \u001b[49m\u001b[43mblock\u001b[49m\u001b[38;5;241;43m=\u001b[39;49m\u001b[38;5;28;43;01mFalse\u001b[39;49;00m\u001b[43m)\u001b[49m\n",
      "\u001b[0;31mTypeError\u001b[0m: recv() got some positional-only arguments passed as keyword arguments: 'maxsize'"
     ]
    }
   ],
   "source": [
    "recv(maxsize=8192, block=False)"
   ]
  },
  {
   "cell_type": "markdown",
   "metadata": {},
   "source": [
    "### Scoping - Global vs Local\n",
    "- Variables can accessed within functions, without passing as args in function call"
   ]
  },
  {
   "cell_type": "code",
   "execution_count": 75,
   "metadata": {},
   "outputs": [
    {
     "name": "stdout",
     "output_type": "stream",
     "text": [
      "in      --- alphabets {'a': 1, 'b': 2}\n",
      "outside --- alphabets {'a': 1, 'b': 2}\n"
     ]
    }
   ],
   "source": [
    "alphabets = {\"a\": 1, \"b\": 2}  # mutable object\n",
    "\n",
    "\n",
    "def computation():\n",
    "    print(\"in      --- alphabets\", alphabets)\n",
    "\n",
    "\n",
    "computation()\n",
    "print(\"outside --- alphabets\", alphabets)"
   ]
  },
  {
   "cell_type": "code",
   "execution_count": 76,
   "metadata": {},
   "outputs": [
    {
     "name": "stdout",
     "output_type": "stream",
     "text": [
      "in - before - alphabets {'a': 1, 'b': 2}\n",
      "in - after - alphabets {'a': 1, 'b': 2, 'c': 3}\n",
      "outside --- alphabets {'a': 1, 'b': 2, 'c': 3}\n"
     ]
    }
   ],
   "source": [
    "alphabets = {\"a\": 1, \"b\": 2}  # mutable object\n",
    "\n",
    "\n",
    "def computation():\n",
    "    print(\"in - before - alphabets\", alphabets)\n",
    "    alphabets[\"c\"] = 3\n",
    "    print(\"in - after - alphabets\", alphabets)\n",
    "\n",
    "\n",
    "computation()\n",
    "print(\"outside --- alphabets\", alphabets)   # data leakage"
   ]
  },
  {
   "cell_type": "code",
   "execution_count": 78,
   "metadata": {},
   "outputs": [
    {
     "data": {
      "text/plain": [
       "'Bahubali: The Beginning is good movie to watch'"
      ]
     },
     "execution_count": 78,
     "metadata": {},
     "output_type": "execute_result"
    }
   ],
   "source": [
    "def movie_review():\n",
    "    return f\"{movie_watched} is good movie to watch\"\n",
    "\n",
    "\n",
    "movie_watched = \"Bahubali: The Beginning\"  # immutable object\n",
    "\n",
    "movie_review()"
   ]
  },
  {
   "cell_type": "code",
   "execution_count": 79,
   "metadata": {},
   "outputs": [
    {
     "data": {
      "text/plain": [
       "'The Prisioner is good movie to watch'"
      ]
     },
     "execution_count": 79,
     "metadata": {},
     "output_type": "execute_result"
    }
   ],
   "source": [
    "def movie_review(movie_watched=\"The Prisioner\"):\n",
    "    return f\"{movie_watched} is good movie to watch\"\n",
    "\n",
    "\n",
    "movie_watched = \"Baahubali: The Beginning\"  # immutable object\n",
    "\n",
    "movie_review()"
   ]
  },
  {
   "cell_type": "code",
   "execution_count": 80,
   "metadata": {},
   "outputs": [
    {
     "data": {
      "text/plain": [
       "'The Social Network is good movie to watch'"
      ]
     },
     "execution_count": 80,
     "metadata": {},
     "output_type": "execute_result"
    }
   ],
   "source": [
    "def movie_review(movie_watched=\"The Prisioner\"):  # Enclosing scope\n",
    "    movie_watched = \"The Social Network\"  # Local scope\n",
    "    return f\"{movie_watched} is good movie to watch\"\n",
    "\n",
    "\n",
    "movie_watched = \"Baahubali: The Beginning\"  # Global\n",
    "\n",
    "movie_review()"
   ]
  },
  {
   "cell_type": "markdown",
   "metadata": {},
   "source": [
    "__NOTE:__\n",
    " Python scope resolution is based on the __LEGB__ rule, which is shorthand for Local, Enclosing, Global, Built-in."
   ]
  },
  {
   "cell_type": "code",
   "execution_count": 81,
   "metadata": {},
   "outputs": [
    {
     "name": "stdout",
     "output_type": "stream",
     "text": [
      "The Social Network is good movie to watch\n",
      "outside - function - movie_watched:Baahubali: The Beginning\n"
     ]
    }
   ],
   "source": [
    "def movie_review(movie_watched):\n",
    "    movie_watched = \"The Social Network\"  # Local scope\n",
    "    return f\"{movie_watched} is good movie to watch\"\n",
    "\n",
    "\n",
    "movie_watched = \"Baahubali: The Beginning\"  # Global\n",
    "\n",
    "print(movie_review(movie_watched))\n",
    "print(f\"outside - function - movie_watched:{movie_watched}\")"
   ]
  },
  {
   "cell_type": "markdown",
   "metadata": {},
   "source": [
    "__NOTE:__ changes made within function are not reflected globally(script level)"
   ]
  },
  {
   "cell_type": "markdown",
   "metadata": {},
   "source": [
    "__call by value__   - changes within the function will not reflect at the global level \n"
   ]
  },
  {
   "cell_type": "code",
   "execution_count": 82,
   "metadata": {},
   "outputs": [
    {
     "ename": "SyntaxError",
     "evalue": "name 'movie_watched' is parameter and global (4230393904.py, line 2)",
     "output_type": "error",
     "traceback": [
      "\u001b[0;36m  Cell \u001b[0;32mIn[82], line 2\u001b[0;36m\u001b[0m\n\u001b[0;31m    global movie_watched\u001b[0m\n\u001b[0m    ^\u001b[0m\n\u001b[0;31mSyntaxError\u001b[0m\u001b[0;31m:\u001b[0m name 'movie_watched' is parameter and global\n"
     ]
    }
   ],
   "source": [
    "def movie_review(movie_watched):\n",
    "    global movie_watched\n",
    "    movie_watched = \"The Social Network\"  # Local scope\n",
    "    return f\"{movie_watched} is good movie to watch\"\n",
    "\n",
    "\n",
    "movie_watched = \"Bahubali: The Beginning\"  # Global\n",
    "\n",
    "print(movie_review(movie_watched))\n",
    "print(f\"outside - function - movie_watched:{movie_watched}\")"
   ]
  },
  {
   "cell_type": "code",
   "execution_count": 84,
   "metadata": {},
   "outputs": [
    {
     "name": "stdout",
     "output_type": "stream",
     "text": [
      "The Social Network is good movie to watch\n",
      "outside - function - movie_watched:The Social Network\n"
     ]
    }
   ],
   "source": [
    "def movie_review():\n",
    "    global movie_watched  # Global Scope\n",
    "    movie_watched = \"The Social Network\"  # Local scope\n",
    "    return f\"{movie_watched} is good movie to watch\"\n",
    "\n",
    "\n",
    "movie_watched = \"Bahubali: The Beginning\"  # Global\n",
    "\n",
    "print(movie_review())\n",
    "print(f\"outside - function - movie_watched:{movie_watched}\")"
   ]
  },
  {
   "cell_type": "markdown",
   "metadata": {},
   "source": [
    "mutable \n",
    "    local changes reflected outside --- call by reference\n",
    "    copy()  -- locall changes not relfected outside -- call by value\n",
    "\n",
    "immutables \n",
    "    local changes not reflected outside -- call by values\n",
    "    with global keyword, changes reflected outside -- call by reference"
   ]
  },
  {
   "cell_type": "markdown",
   "metadata": {},
   "source": [
    "__call by reference__ - changes within the function will reflect at the global level "
   ]
  },
  {
   "cell_type": "markdown",
   "metadata": {},
   "source": [
    "### Partial Functions"
   ]
  },
  {
   "cell_type": "code",
   "execution_count": 85,
   "metadata": {},
   "outputs": [
    {
     "name": "stdout",
     "output_type": "stream",
     "text": [
      "dbl functools.partial(<function multiply at 0x707144918a40>, 2)\n",
      "type(dbl) <class 'functools.partial'>\n",
      "8\n",
      "28\n",
      "6\n"
     ]
    }
   ],
   "source": [
    "from functools import partial\n",
    "\n",
    "\n",
    "def multiply(x, y):\n",
    "    return x * y\n",
    "\n",
    "\n",
    "# create a new function that multiplies by 2\n",
    "dbl = partial(multiply, 2)\n",
    "\n",
    "print(\"dbl\", dbl)\n",
    "print(\"type(dbl)\", type(dbl))\n",
    "\n",
    "print(dbl(4))\n",
    "print(dbl(14))\n",
    "print(dbl(3))"
   ]
  },
  {
   "cell_type": "code",
   "execution_count": 86,
   "metadata": {},
   "outputs": [
    {
     "name": "stdout",
     "output_type": "stream",
     "text": [
      "['__call__', '__class__', '__class_getitem__', '__delattr__', '__dict__', '__dir__', '__doc__', '__eq__', '__format__', '__ge__', '__getattribute__', '__getstate__', '__gt__', '__hash__', '__init__', '__init_subclass__', '__le__', '__lt__', '__module__', '__ne__', '__new__', '__reduce__', '__reduce_ex__', '__repr__', '__setattr__', '__setstate__', '__sizeof__', '__str__', '__subclasshook__', '__vectorcalloffset__', 'args', 'func', 'keywords']\n"
     ]
    }
   ],
   "source": [
    "print(dir(dbl))"
   ]
  },
  {
   "cell_type": "code",
   "execution_count": 87,
   "metadata": {},
   "outputs": [
    {
     "data": {
      "text/plain": [
       "{}"
      ]
     },
     "execution_count": 87,
     "metadata": {},
     "output_type": "execute_result"
    }
   ],
   "source": [
    "dbl.keywords"
   ]
  },
  {
   "cell_type": "code",
   "execution_count": 88,
   "metadata": {},
   "outputs": [
    {
     "data": {
      "text/plain": [
       "(2,)"
      ]
     },
     "execution_count": 88,
     "metadata": {},
     "output_type": "execute_result"
    }
   ],
   "source": [
    "dbl.args"
   ]
  },
  {
   "cell_type": "code",
   "execution_count": 89,
   "metadata": {},
   "outputs": [
    {
     "data": {
      "text/plain": [
       "<function __main__.multiply(x, y)>"
      ]
     },
     "execution_count": 89,
     "metadata": {},
     "output_type": "execute_result"
    }
   ],
   "source": [
    "dbl.func"
   ]
  },
  {
   "cell_type": "markdown",
   "metadata": {},
   "source": [
    "### Recursive Functions"
   ]
  },
  {
   "cell_type": "markdown",
   "metadata": {},
   "source": [
    "Three Laws of Recursion:\n",
    "\n",
    "1. A recursive algorithm must have a base case.\n",
    "2. A recursive algorithm must change its state and move toward the base case.\n",
    "3. A recursive algorithm must call itself, recursively.\n"
   ]
  },
  {
   "cell_type": "markdown",
   "metadata": {},
   "source": [
    "pseudo-code:\n",
    "\n",
    "    def funcName(<input paramaters>):\n",
    "        <some logic>\n",
    "        return funcName(<input parameters>)\n"
   ]
  },
  {
   "cell_type": "markdown",
   "metadata": {},
   "source": [
    "Recursion is a programming technique in which a call to a function results in another call to that same function.\n",
    "\n",
    "Iteration is calling an object, and moving over it.\n"
   ]
  },
  {
   "cell_type": "code",
   "execution_count": 90,
   "metadata": {},
   "outputs": [
    {
     "name": "stdout",
     "output_type": "stream",
     "text": [
      "616\n"
     ]
    }
   ],
   "source": [
    "# calculating sum of a list of numbers\n",
    "\n",
    "\n",
    "# Non-recursive implementation\n",
    "def sumOfList(num_list):  # conventional implementation\n",
    "    total = 0\n",
    "    for i in num_list:\n",
    "        total += i\n",
    "    return total\n",
    "\n",
    "\n",
    "print(sumOfList([12, 23, 34, 546, 1]))"
   ]
  },
  {
   "cell_type": "code",
   "execution_count": 92,
   "metadata": {},
   "outputs": [
    {
     "name": "stdout",
     "output_type": "stream",
     "text": [
      "616\n"
     ]
    }
   ],
   "source": [
    "# calculating sum of a list of numbers\n",
    "\n",
    "\n",
    "# implementation using recursions\n",
    "def sumOfListRec(num_list):\n",
    "    if len(num_list) == 1:\n",
    "        return num_list[0]\n",
    "    else:\n",
    "        return num_list[0] + sumOfListRec(num_list[1:])\n",
    "\n",
    "\n",
    "print(sumOfListRec([12, 23, 34, 546, 1]))"
   ]
  },
  {
   "cell_type": "code",
   "execution_count": 93,
   "metadata": {},
   "outputs": [
    {
     "name": "stdout",
     "output_type": "stream",
     "text": [
      "5\n"
     ]
    }
   ],
   "source": [
    "def fib(n):\n",
    "    if n == 0:\n",
    "        return 0\n",
    "    elif n == 1:\n",
    "        return 1\n",
    "    else:\n",
    "        return fib(n - 1) + fib(n - 2)\n",
    "\n",
    "\n",
    "# 5th element    # fib(4)+fib(3)\n",
    "# fib(4) -> fib(3)+fib(2);\n",
    "# fib(3) -> fib(2)+fib(1)\n",
    "# fib(2) -> fib(1)+ fib(0) = 1+ 0\n",
    "#             fib ...\n",
    "print(fib(5))\n",
    "\n",
    "# print '='*80\n",
    "# factorial(5) = 5*4*3*2*1 ="
   ]
  },
  {
   "cell_type": "code",
   "execution_count": 94,
   "metadata": {},
   "outputs": [
    {
     "name": "stdout",
     "output_type": "stream",
     "text": [
      "1\n",
      "1\n",
      "6\n",
      "120\n",
      "120\n"
     ]
    }
   ],
   "source": [
    "def factorial(n):\n",
    "    if n == 0:\n",
    "        return 1\n",
    "    else:\n",
    "        return abs(n) * factorial(abs(n) - 1)\n",
    "\n",
    "\n",
    "print(factorial(0))\n",
    "print(factorial(1))\n",
    "print(factorial(3))\n",
    "print(factorial(5))\n",
    "\n",
    "print(factorial(-5))"
   ]
  },
  {
   "cell_type": "code",
   "execution_count": null,
   "metadata": {},
   "outputs": [],
   "source": [
    "global noOfRecursions\n",
    "noOfRecursions = 0\n",
    "\n",
    "\n",
    "# Infinite loop\n",
    "def loop(noOfRecursions):\n",
    "    print(\"Hi! I am in Loop \")\n",
    "    # to get the count of number of recursions occurred\n",
    "    noOfRecursions += 1\n",
    "    print(\"This is Loop %d\" % noOfRecursions)\n",
    "    return loop(noOfRecursions)\n",
    "\n",
    "\n",
    "loop(noOfRecursions)"
   ]
  },
  {
   "cell_type": "markdown",
   "metadata": {},
   "source": [
    "### mutual recursion"
   ]
  },
  {
   "cell_type": "code",
   "execution_count": 98,
   "metadata": {},
   "outputs": [
    {
     "name": "stdout",
     "output_type": "stream",
     "text": [
      "func1\n",
      "func2\n",
      "func1\n",
      "func2\n",
      "func1\n",
      "func2\n",
      "func1\n",
      "func2\n",
      "func1\n",
      "func2\n",
      "func1\n",
      "func2\n",
      "func1\n",
      "func2\n",
      "func1\n",
      "func2\n",
      "func1\n",
      "func2\n",
      "func1\n",
      "func2\n",
      "func1\n",
      "func2\n",
      "func1\n",
      "func2\n",
      "func1\n",
      "func2\n",
      "func1\n",
      "func2\n",
      "func1\n",
      "func2\n",
      "func1\n",
      "func2\n",
      "func1\n",
      "func2\n",
      "func1\n",
      "func2\n",
      "func1\n",
      "func2\n",
      "func1\n",
      "func2\n",
      "func1\n",
      "func2\n",
      "func1\n",
      "func2\n",
      "func1\n",
      "func2\n",
      "func1\n",
      "func2\n",
      "func1\n",
      "func2\n",
      "func1\n",
      "func2\n",
      "func1\n",
      "func2\n",
      "func1\n",
      "func2\n",
      "func1\n",
      "func2\n",
      "func1\n",
      "func2\n",
      "func1\n",
      "func2\n",
      "func1\n",
      "func2\n",
      "func1\n",
      "func2\n",
      "func1\n",
      "func2\n",
      "func1\n",
      "func2\n",
      "func1\n",
      "func2\n",
      "func1\n",
      "func2\n",
      "func1\n",
      "func2\n",
      "func1\n",
      "func2\n",
      "func1\n",
      "func2\n",
      "func1\n",
      "func2\n",
      "func1\n",
      "func2\n",
      "func1\n",
      "func2\n",
      "func1\n",
      "func2\n",
      "func1\n",
      "func2\n",
      "func1\n",
      "func2\n",
      "func1\n",
      "func2\n",
      "func1\n",
      "func2\n",
      "func1\n",
      "func2\n",
      "func1\n",
      "func2\n",
      "func1\n",
      "func2\n",
      "func1\n",
      "func2\n",
      "func1\n",
      "func2\n",
      "func1\n",
      "func2\n",
      "func1\n",
      "func2\n",
      "func1\n",
      "func2\n",
      "func1\n",
      "func2\n",
      "func1\n",
      "func2\n",
      "func1\n",
      "func2\n",
      "func1\n",
      "func2\n",
      "func1\n",
      "func2\n",
      "func1\n",
      "func2\n",
      "func1\n",
      "func2\n",
      "func1\n",
      "func2\n",
      "func1\n",
      "func2\n",
      "func1\n",
      "func2\n",
      "func1\n",
      "func2\n",
      "func1\n",
      "func2\n",
      "func1\n",
      "func2\n",
      "func1\n",
      "func2\n",
      "func1\n",
      "func2\n",
      "func1\n",
      "func2\n",
      "func1\n",
      "func2\n",
      "func1\n",
      "func2\n",
      "func1\n",
      "func2\n",
      "func1\n",
      "func2\n",
      "func1\n",
      "func2\n",
      "func1\n",
      "func2\n",
      "func1\n",
      "func2\n",
      "func1\n",
      "func2\n",
      "func1\n",
      "func2\n",
      "func1\n",
      "func2\n",
      "func1\n",
      "func2\n",
      "func1\n",
      "func2\n",
      "func1\n",
      "func2\n",
      "func1\n",
      "func2\n",
      "func1\n",
      "func2\n",
      "func1\n",
      "func2\n",
      "func1\n",
      "func2\n",
      "func1\n",
      "func2\n",
      "func1\n",
      "func2\n",
      "func1\n",
      "func2\n",
      "func1\n",
      "func2\n",
      "func1\n",
      "func2\n",
      "func1\n",
      "func2\n",
      "func1\n",
      "func2\n",
      "func1\n",
      "func2\n",
      "func1\n",
      "func2\n",
      "func1\n",
      "func2\n",
      "func1\n",
      "func2\n",
      "func1\n",
      "func2\n",
      "func1\n",
      "func2\n",
      "func1\n",
      "func2\n",
      "func1\n",
      "func2\n",
      "func1\n",
      "func2\n",
      "func1\n",
      "func2\n",
      "func1\n",
      "func2\n",
      "func1\n",
      "func2\n",
      "func1\n",
      "func2\n",
      "func1\n",
      "func2\n",
      "func1\n",
      "func2\n",
      "func1\n",
      "func2\n",
      "func1\n",
      "func2\n",
      "func1\n",
      "func2\n",
      "func1\n",
      "func2\n",
      "func1\n",
      "func2\n",
      "func1\n",
      "func2\n",
      "func1\n",
      "func2\n",
      "func1\n",
      "func2\n",
      "func1\n",
      "func2\n",
      "func1\n",
      "func2\n",
      "func1\n",
      "func2\n",
      "func1\n",
      "func2\n",
      "func1\n",
      "func2\n",
      "func1\n",
      "func2\n",
      "func1\n",
      "func2\n",
      "func1\n",
      "func2\n",
      "func1\n",
      "func2\n",
      "func1\n",
      "func2\n",
      "func1\n",
      "func2\n",
      "func1\n",
      "func2\n",
      "func1\n",
      "func2\n",
      "func1\n",
      "func2\n",
      "func1\n",
      "func2\n",
      "func1\n",
      "func2\n",
      "func1\n",
      "func2\n",
      "func1\n",
      "func2\n",
      "func1\n",
      "func2\n",
      "func1\n",
      "func2\n",
      "func1\n",
      "func2\n",
      "func1\n",
      "func2\n",
      "func1\n",
      "func2\n",
      "func1\n",
      "func2\n",
      "func1\n",
      "func2\n",
      "func1\n",
      "func2\n",
      "func1\n",
      "func2\n",
      "func1\n",
      "func2\n",
      "func1\n",
      "func2\n",
      "func1\n",
      "func2\n",
      "func1\n",
      "func2\n",
      "func1\n",
      "func2\n",
      "func1\n",
      "func2\n",
      "func1\n",
      "func2\n",
      "func1\n",
      "func2\n",
      "func1\n",
      "func2\n",
      "func1\n",
      "func2\n",
      "func1\n",
      "func2\n",
      "func1\n",
      "func2\n",
      "func1\n",
      "func2\n",
      "func1\n",
      "func2\n",
      "func1\n",
      "func2\n",
      "func1\n",
      "func2\n",
      "func1\n",
      "func2\n",
      "func1\n",
      "func2\n",
      "func1\n",
      "func2\n",
      "func1\n",
      "func2\n",
      "func1\n",
      "func2\n",
      "func1\n",
      "func2\n",
      "func1\n",
      "func2\n",
      "func1\n",
      "func2\n",
      "func1\n",
      "func2\n",
      "func1\n",
      "func2\n",
      "func1\n",
      "func2\n",
      "func1\n",
      "func2\n",
      "func1\n",
      "func2\n",
      "func1\n",
      "func2\n",
      "func1\n",
      "func2\n",
      "func1\n",
      "func2\n",
      "func1\n",
      "func2\n",
      "func1\n",
      "func2\n",
      "func1\n",
      "func2\n",
      "func1\n",
      "func2\n",
      "func1\n",
      "func2\n",
      "func1\n",
      "func2\n",
      "func1\n",
      "func2\n",
      "func1\n",
      "func2\n",
      "func1\n",
      "func2\n",
      "func1\n",
      "func2\n",
      "func1\n",
      "func2\n",
      "func1\n",
      "func2\n",
      "func1\n",
      "func2\n",
      "func1\n",
      "func2\n",
      "func1\n",
      "func2\n",
      "func1\n",
      "func2\n",
      "func1\n",
      "func2\n",
      "func1\n",
      "func2\n",
      "func1\n",
      "func2\n",
      "func1\n",
      "func2\n",
      "func1\n",
      "func2\n",
      "func1\n",
      "func2\n",
      "func1\n",
      "func2\n",
      "func1\n",
      "func2\n",
      "func1\n",
      "func2\n",
      "func1\n",
      "func2\n",
      "func1\n",
      "func2\n",
      "func1\n",
      "func2\n",
      "func1\n",
      "func2\n",
      "func1\n",
      "func2\n",
      "func1\n",
      "func2\n",
      "func1\n",
      "func2\n",
      "func1\n",
      "func2\n",
      "func1\n",
      "func2\n",
      "func1\n",
      "func2\n",
      "func1\n",
      "func2\n",
      "func1\n",
      "func2\n",
      "func1\n",
      "func2\n",
      "func1\n",
      "func2\n",
      "func1\n",
      "func2\n",
      "func1\n",
      "func2\n",
      "func1\n",
      "func2\n",
      "func1\n",
      "func2\n",
      "func1\n",
      "func2\n",
      "func1\n",
      "func2\n",
      "func1\n",
      "func2\n",
      "func1\n",
      "func2\n",
      "func1\n",
      "func2\n",
      "func1\n",
      "func2\n",
      "func1\n",
      "func2\n",
      "func1\n",
      "func2\n",
      "func1\n",
      "func2\n",
      "func1\n",
      "func2\n",
      "func1\n",
      "func2\n",
      "func1\n",
      "func2\n",
      "func1\n",
      "func2\n",
      "func1\n",
      "func2\n",
      "func1\n",
      "func2\n",
      "func1\n",
      "func2\n",
      "func1\n",
      "func2\n",
      "func1\n",
      "func2\n",
      "func1\n",
      "func2\n",
      "func1\n",
      "func2\n",
      "func1\n",
      "func2\n",
      "func1\n",
      "func2\n",
      "func1\n",
      "func2\n",
      "func1\n",
      "func2\n",
      "func1\n",
      "func2\n",
      "func1\n",
      "func2\n",
      "func1\n",
      "func2\n",
      "func1\n",
      "func2\n",
      "func1\n",
      "func2\n",
      "func1\n",
      "func2\n",
      "func1\n",
      "func2\n",
      "func1\n",
      "func2\n",
      "func1\n",
      "func2\n",
      "func1\n",
      "func2\n",
      "func1\n",
      "func2\n",
      "func1\n",
      "func2\n",
      "func1\n",
      "func2\n",
      "func1\n",
      "func2\n",
      "func1\n",
      "func2\n",
      "func1\n",
      "func2\n",
      "func1\n",
      "func2\n",
      "func1\n",
      "func2\n",
      "func1\n",
      "func2\n",
      "func1\n",
      "func2\n",
      "func1\n",
      "func2\n",
      "func1\n",
      "func2\n",
      "func1\n",
      "func2\n",
      "func1\n",
      "func2\n",
      "func1\n",
      "func2\n",
      "func1\n",
      "func2\n",
      "func1\n",
      "func2\n",
      "func1\n",
      "func2\n",
      "func1\n",
      "func2\n",
      "func1\n",
      "func2\n",
      "func1\n",
      "func2\n",
      "func1\n",
      "func2\n",
      "func1\n",
      "func2\n",
      "func1\n",
      "func2\n",
      "func1\n",
      "func2\n",
      "func1\n",
      "func2\n",
      "func1\n",
      "func2\n",
      "func1\n",
      "func2\n",
      "func1\n",
      "func2\n",
      "func1\n",
      "func2\n",
      "func1\n",
      "func2\n",
      "func1\n",
      "func2\n",
      "func1\n",
      "func2\n",
      "func1\n",
      "func2\n",
      "func1\n",
      "func2\n",
      "func1\n",
      "func2\n",
      "func1\n",
      "func2\n",
      "func1\n",
      "func2\n",
      "func1\n",
      "func2\n",
      "func1\n",
      "func2\n",
      "func1\n",
      "func2\n",
      "func1\n",
      "func2\n",
      "func1\n",
      "func2\n",
      "func1\n",
      "func2\n",
      "func1\n",
      "func2\n",
      "func1\n",
      "func2\n",
      "func1\n",
      "func2\n",
      "func1\n",
      "func2\n",
      "func1\n",
      "func2\n",
      "func1\n",
      "func2\n",
      "func1\n",
      "func2\n",
      "func1\n",
      "func2\n",
      "func1\n",
      "func2\n",
      "func1\n",
      "func2\n",
      "func1\n",
      "func2\n",
      "func1\n",
      "func2\n",
      "func1\n",
      "func2\n",
      "func1\n",
      "func2\n",
      "func1\n",
      "func2\n",
      "func1\n",
      "func2\n",
      "func1\n",
      "func2\n",
      "func1\n",
      "func2\n",
      "func1\n",
      "func2\n",
      "func1\n",
      "func2\n",
      "func1\n",
      "func2\n",
      "func1\n",
      "func2\n",
      "func1\n",
      "func2\n",
      "func1\n",
      "func2\n",
      "func1\n",
      "func2\n",
      "func1\n",
      "func2\n",
      "func1\n",
      "func2\n",
      "func1\n",
      "func2\n",
      "func1\n",
      "func2\n",
      "func1\n",
      "func2\n",
      "func1\n",
      "func2\n",
      "func1\n",
      "func2\n",
      "func1\n",
      "func2\n",
      "func1\n",
      "func2\n",
      "func1\n",
      "func2\n",
      "func1\n",
      "func2\n",
      "func1\n",
      "func2\n",
      "func1\n",
      "func2\n",
      "func1\n",
      "func2\n",
      "func1\n",
      "func2\n",
      "func1\n",
      "func2\n",
      "func1\n",
      "func2\n",
      "func1\n",
      "func2\n",
      "func1\n",
      "func2\n",
      "func1\n",
      "func2\n",
      "func1\n",
      "func2\n",
      "func1\n",
      "func2\n",
      "func1\n",
      "func2\n",
      "func1\n",
      "func2\n",
      "func1\n",
      "func2\n",
      "func1\n",
      "func2\n",
      "func1\n",
      "func2\n",
      "func1\n",
      "func2\n",
      "func1\n",
      "func2\n",
      "func1\n",
      "func2\n",
      "func1\n",
      "func2\n",
      "func1\n",
      "func2\n",
      "func1\n",
      "func2\n",
      "func1\n",
      "func2\n",
      "func1\n",
      "func2\n",
      "func1\n",
      "func2\n",
      "func1\n",
      "func2\n",
      "func1\n",
      "func2\n",
      "func1\n",
      "func2\n",
      "func1\n",
      "func2\n",
      "func1\n",
      "func2\n",
      "func1\n",
      "func2\n",
      "func1\n",
      "func2\n",
      "func1\n",
      "func2\n",
      "func1\n",
      "func2\n",
      "func1\n",
      "func2\n",
      "func1\n",
      "func2\n",
      "func1\n",
      "func2\n",
      "func1\n",
      "func2\n",
      "func1\n",
      "func2\n",
      "func1\n",
      "func2\n",
      "func1\n",
      "func2\n",
      "func1\n",
      "func2\n",
      "func1\n",
      "func2\n",
      "func1\n",
      "func2\n",
      "func1\n",
      "func2\n",
      "func1\n",
      "func2\n",
      "func1\n",
      "func2\n",
      "func1\n",
      "func2\n",
      "func1\n",
      "func2\n",
      "func1\n",
      "func2\n",
      "func1\n",
      "func2\n",
      "func1\n",
      "func2\n",
      "func1\n",
      "func2\n",
      "func1\n",
      "func2\n",
      "func1\n",
      "func2\n",
      "func1\n",
      "func2\n",
      "func1\n",
      "func2\n",
      "func1\n",
      "func2\n",
      "func1\n",
      "func2\n",
      "func1\n",
      "func2\n",
      "func1\n",
      "func2\n",
      "func1\n",
      "func2\n",
      "func1\n",
      "func2\n",
      "func1\n",
      "func2\n",
      "func1\n",
      "func2\n",
      "func1\n",
      "func2\n",
      "func1\n",
      "func2\n",
      "func1\n",
      "func2\n",
      "func1\n",
      "func2\n",
      "func1\n",
      "func2\n",
      "func1\n",
      "func2\n",
      "func1\n",
      "func2\n",
      "func1\n",
      "func2\n",
      "func1\n",
      "func2\n",
      "func1\n",
      "func2\n",
      "func1\n",
      "func2\n",
      "func1\n",
      "func2\n",
      "func1\n",
      "func2\n",
      "func1\n",
      "func2\n",
      "func1\n",
      "func2\n",
      "func1\n",
      "func2\n",
      "func1\n",
      "func2\n",
      "func1\n",
      "func2\n",
      "func1\n",
      "func2\n",
      "func1\n",
      "func2\n",
      "func1\n",
      "func2\n",
      "func1\n",
      "func2\n",
      "func1\n",
      "func2\n",
      "func1\n",
      "func2\n",
      "func1\n",
      "func2\n",
      "func1\n",
      "func2\n",
      "func1\n",
      "func2\n",
      "func1\n",
      "func2\n",
      "func1\n",
      "func2\n",
      "func1\n",
      "func2\n",
      "func1\n",
      "func2\n",
      "func1\n",
      "func2\n",
      "func1\n",
      "func2\n",
      "func1\n",
      "func2\n",
      "func1\n",
      "func2\n",
      "func1\n",
      "func2\n",
      "func1\n",
      "func2\n",
      "func1\n",
      "func2\n",
      "func1\n",
      "func2\n",
      "func1\n",
      "func2\n",
      "func1\n",
      "func2\n",
      "func1\n",
      "func2\n",
      "func1\n",
      "func2\n",
      "func1\n",
      "func2\n",
      "func1\n",
      "func2\n",
      "func1\n",
      "func2\n",
      "func1\n",
      "func2\n",
      "func1\n",
      "func2\n",
      "func1\n",
      "func2\n",
      "func1\n",
      "func2\n",
      "func1\n",
      "func2\n",
      "func1\n",
      "func2\n",
      "func1\n",
      "func2\n",
      "func1\n",
      "func2\n",
      "func1\n",
      "func2\n",
      "func1\n",
      "func2\n",
      "func1\n",
      "func2\n",
      "func1\n",
      "func2\n",
      "func1\n",
      "func2\n",
      "func1\n",
      "func2\n",
      "func1\n",
      "func2\n",
      "func1\n",
      "func2\n",
      "func1\n",
      "func2\n",
      "func1\n",
      "func2\n",
      "func1\n",
      "func2\n",
      "func1\n",
      "func2\n",
      "func1\n",
      "func2\n",
      "func1\n",
      "func2\n",
      "func1\n",
      "func2\n",
      "func1\n",
      "func2\n",
      "func1\n",
      "func2\n",
      "func1\n",
      "func2\n",
      "func1\n",
      "func2\n",
      "func1\n",
      "func2\n",
      "func1\n",
      "func2\n",
      "func1\n",
      "func2\n",
      "func1\n",
      "func2\n",
      "func1\n",
      "func2\n",
      "func1\n",
      "func2\n",
      "func1\n",
      "func2\n",
      "func1\n",
      "func2\n",
      "func1\n",
      "func2\n",
      "func1\n",
      "func2\n",
      "func1\n",
      "func2\n",
      "func1\n",
      "func2\n",
      "func1\n",
      "func2\n",
      "func1\n",
      "func2\n",
      "func1\n",
      "func2\n",
      "func1\n",
      "func2\n",
      "func1\n",
      "func2\n",
      "func1\n",
      "func2\n",
      "func1\n",
      "func2\n",
      "func1\n",
      "func2\n",
      "func1\n",
      "func2\n",
      "func1\n",
      "func2\n",
      "func1\n",
      "func2\n",
      "func1\n",
      "func2\n",
      "func1\n",
      "func2\n",
      "func1\n",
      "func2\n",
      "func1\n",
      "func2\n",
      "func1\n",
      "func2\n",
      "func1\n",
      "func2\n",
      "func1\n",
      "func2\n",
      "func1\n",
      "func2\n",
      "func1\n",
      "func2\n",
      "func1\n",
      "func2\n",
      "func1\n",
      "func2\n",
      "func1\n",
      "func2\n",
      "func1\n",
      "func2\n",
      "func1\n",
      "func2\n",
      "func1\n",
      "func2\n",
      "func1\n",
      "func2\n",
      "func1\n",
      "func2\n",
      "func1\n",
      "func2\n",
      "func1\n",
      "func2\n",
      "func1\n",
      "func2\n",
      "func1\n",
      "func2\n",
      "func1\n",
      "func2\n",
      "func1\n",
      "func2\n",
      "func1\n",
      "func2\n",
      "func1\n",
      "func2\n",
      "func1\n",
      "func2\n",
      "func1\n",
      "func2\n",
      "func1\n",
      "func2\n",
      "func1\n",
      "func2\n",
      "func1\n",
      "func2\n",
      "func1\n",
      "func2\n",
      "func1\n",
      "func2\n",
      "func1\n",
      "func2\n",
      "func1\n",
      "func2\n",
      "func1\n",
      "func2\n",
      "func1\n",
      "func2\n",
      "func1\n",
      "func2\n",
      "func1\n",
      "func2\n",
      "func1\n",
      "func2\n",
      "func1\n",
      "func2\n",
      "func1\n",
      "func2\n",
      "func1\n",
      "func2\n",
      "func1\n",
      "func2\n",
      "func1\n",
      "func2\n",
      "func1\n",
      "func2\n",
      "func1\n",
      "func2\n",
      "func1\n",
      "func2\n",
      "func1\n",
      "func2\n",
      "func1\n",
      "func2\n",
      "func1\n",
      "func2\n",
      "func1\n",
      "func2\n",
      "func1\n",
      "func2\n",
      "func1\n",
      "func2\n",
      "func1\n",
      "func2\n",
      "func1\n",
      "func2\n",
      "func1\n",
      "func2\n",
      "func1\n",
      "func2\n",
      "func1\n",
      "func2\n",
      "func1\n",
      "func2\n",
      "func1\n",
      "func2\n",
      "func1\n",
      "func2\n",
      "func1\n",
      "func2\n",
      "func1\n",
      "func2\n",
      "func1\n",
      "func2\n",
      "func1\n",
      "func2\n",
      "func1\n",
      "func2\n",
      "func1\n",
      "func2\n",
      "func1\n",
      "func2\n",
      "func1\n",
      "func2\n",
      "func1\n",
      "func2\n",
      "func1\n",
      "func2\n",
      "func1\n",
      "func2\n",
      "func1\n",
      "func2\n",
      "func1\n",
      "func2\n",
      "func1\n",
      "func2\n",
      "func1\n",
      "func2\n",
      "func1\n",
      "func2\n",
      "func1\n",
      "func2\n",
      "func1\n",
      "func2\n",
      "func1\n",
      "func2\n",
      "func1\n",
      "func2\n",
      "func1\n",
      "func2\n",
      "func1\n",
      "func2\n",
      "func1\n",
      "func2\n",
      "func1\n",
      "func2\n",
      "func1\n",
      "func2\n",
      "func1\n",
      "func2\n",
      "func1\n",
      "func2\n",
      "func1\n",
      "func2\n",
      "func1\n",
      "func2\n",
      "func1\n",
      "func2\n",
      "func1\n",
      "func2\n",
      "func1\n",
      "func2\n",
      "func1\n",
      "func2\n",
      "func1\n",
      "func2\n",
      "func1\n",
      "func2\n",
      "func1\n",
      "func2\n",
      "func1\n",
      "func2\n",
      "func1\n",
      "func2\n",
      "func1\n",
      "func2\n",
      "func1\n",
      "func2\n",
      "func1\n",
      "func2\n",
      "func1\n",
      "func2\n",
      "func1\n",
      "func2\n",
      "func1\n",
      "func2\n",
      "func1\n",
      "func2\n",
      "func1\n",
      "func2\n",
      "func1\n",
      "func2\n",
      "func1\n",
      "func2\n",
      "func1\n",
      "func2\n",
      "func1\n",
      "func2\n",
      "func1\n",
      "func2\n",
      "func1\n",
      "func2\n",
      "func1\n",
      "func2\n",
      "func1\n",
      "func2\n",
      "func1\n",
      "func2\n",
      "func1\n",
      "func2\n",
      "func1\n",
      "func2\n",
      "func1\n",
      "func2\n",
      "func1\n",
      "func2\n",
      "func1\n",
      "func2\n",
      "func1\n",
      "func2\n",
      "func1\n",
      "func2\n",
      "func1\n",
      "func2\n",
      "func1\n",
      "func2\n",
      "func1\n",
      "func2\n",
      "func1\n",
      "func2\n",
      "func1\n",
      "func2\n",
      "func1\n",
      "func2\n",
      "func1\n",
      "func2\n",
      "func1\n",
      "func2\n",
      "func1\n",
      "func2\n",
      "func1\n",
      "func2\n",
      "func1\n",
      "func2\n",
      "func1\n",
      "func2\n",
      "func1\n",
      "func2\n",
      "func1\n",
      "func2\n",
      "func1\n",
      "func2\n",
      "func1\n",
      "func2\n",
      "func1\n",
      "func2\n",
      "func1\n",
      "func2\n",
      "func1\n",
      "func2\n",
      "func1\n",
      "func2\n",
      "func1\n",
      "func2\n",
      "func1\n",
      "func2\n",
      "func1\n",
      "func2\n",
      "func1\n",
      "func2\n",
      "func1\n",
      "func2\n",
      "func1\n",
      "func2\n",
      "func1\n",
      "func2\n",
      "func1\n",
      "func2\n",
      "func1\n",
      "func2\n",
      "func1\n",
      "func2\n",
      "func1\n",
      "func2\n",
      "func1\n",
      "func2\n",
      "func1\n",
      "func2\n",
      "func1\n",
      "func2\n",
      "func1\n",
      "func2\n",
      "func1\n",
      "func2\n",
      "func1\n",
      "func2\n",
      "func1\n",
      "func2\n",
      "func1\n",
      "func2\n",
      "func1\n",
      "func2\n",
      "func1\n",
      "func2\n",
      "func1\n",
      "func2\n",
      "func1\n",
      "func2\n",
      "func1\n",
      "func2\n",
      "func1\n",
      "func2\n",
      "func1\n",
      "func2\n",
      "func1\n",
      "func2\n",
      "func1\n",
      "func2\n",
      "func1\n",
      "func2\n",
      "func1\n",
      "func2\n",
      "func1\n",
      "func2\n",
      "func1\n",
      "func2\n",
      "func1\n",
      "func2\n",
      "func1\n",
      "func2\n",
      "func1\n",
      "func2\n",
      "func1\n",
      "func2\n",
      "func1\n",
      "func2\n",
      "func1\n",
      "func2\n",
      "func1\n",
      "func2\n",
      "func1\n",
      "func2\n",
      "func1\n",
      "func2\n",
      "func1\n",
      "func2\n",
      "func1\n",
      "func2\n",
      "func1\n",
      "func2\n",
      "func1\n",
      "func2\n",
      "func1\n",
      "func2\n",
      "func1\n",
      "func2\n",
      "func1\n",
      "func2\n",
      "func1\n",
      "func2\n",
      "func1\n",
      "func2\n",
      "func1\n",
      "func2\n",
      "func1\n",
      "func2\n",
      "func1\n",
      "func2\n",
      "func1\n",
      "func2\n",
      "func1\n",
      "func2\n",
      "func1\n",
      "func2\n",
      "func1\n",
      "func2\n",
      "func1\n",
      "func2\n",
      "func1\n",
      "func2\n",
      "func1\n",
      "func2\n",
      "func1\n",
      "func2\n",
      "func1\n",
      "func2\n",
      "func1\n",
      "func2\n",
      "func1\n",
      "func2\n",
      "func1\n",
      "func2\n",
      "func1\n",
      "func2\n",
      "func1\n",
      "func2\n",
      "func1\n",
      "func2\n",
      "func1\n",
      "func2\n",
      "func1\n",
      "func2\n",
      "func1\n",
      "func2\n",
      "func1\n",
      "func2\n",
      "func1\n",
      "func2\n",
      "func1\n",
      "func2\n",
      "func1\n",
      "func2\n",
      "func1\n",
      "func2\n",
      "func1\n",
      "func2\n",
      "func1\n",
      "func2\n",
      "func1\n",
      "func2\n",
      "func1\n",
      "func2\n",
      "func1\n",
      "func2\n",
      "func1\n",
      "func2\n",
      "func1\n",
      "func2\n",
      "func1\n",
      "func2\n",
      "func1\n",
      "func2\n",
      "func1\n",
      "func2\n",
      "func1\n",
      "func2\n",
      "func1\n",
      "func2\n",
      "func1\n",
      "func2\n",
      "func1\n",
      "func2\n",
      "func1\n",
      "func2\n",
      "func1\n",
      "func2\n",
      "func1\n",
      "func2\n",
      "func1\n",
      "func2\n",
      "func1\n",
      "func2\n",
      "func1\n",
      "func2\n",
      "func1\n",
      "func2\n",
      "func1\n",
      "func2\n",
      "func1\n",
      "func2\n",
      "func1\n",
      "func2\n",
      "func1\n",
      "func2\n",
      "func1\n",
      "func2\n",
      "func1\n",
      "func2\n",
      "func1\n",
      "func2\n",
      "func1\n",
      "func2\n",
      "func1\n",
      "func2\n",
      "func1\n",
      "func2\n",
      "func1\n",
      "func2\n",
      "func1\n",
      "func2\n",
      "func1\n",
      "func2\n",
      "func1\n",
      "func2\n",
      "func1\n",
      "func2\n",
      "func1\n",
      "func2\n",
      "func1\n",
      "func2\n",
      "func1\n",
      "func2\n",
      "func1\n",
      "func2\n",
      "func1\n",
      "func2\n",
      "func1\n",
      "func2\n",
      "func1\n",
      "func2\n",
      "func1\n",
      "func2\n",
      "func1\n",
      "func2\n",
      "func1\n",
      "func2\n",
      "func1\n",
      "func2\n",
      "func1\n",
      "func2\n",
      "func1\n",
      "func2\n",
      "func1\n",
      "func2\n",
      "func1\n",
      "func2\n",
      "func1\n",
      "func2\n",
      "func1\n",
      "func2\n",
      "func1\n",
      "func2\n",
      "func1\n",
      "func2\n",
      "func1\n",
      "func2\n",
      "func1\n",
      "func2\n",
      "func1\n",
      "func2\n",
      "func1\n",
      "func2\n",
      "func1\n",
      "func2\n",
      "func1\n",
      "func2\n",
      "func1\n",
      "func2\n",
      "func1\n",
      "func2\n",
      "func1\n",
      "func2\n",
      "func1\n",
      "func2\n",
      "func1\n",
      "func2\n",
      "func1\n",
      "func2\n",
      "func1\n",
      "func2\n",
      "func1\n",
      "func2\n",
      "func1\n",
      "func2\n",
      "func1\n",
      "func2\n",
      "func1\n",
      "func2\n",
      "func1\n",
      "func2\n",
      "func1\n",
      "func2\n",
      "func1\n",
      "func2\n",
      "func1\n",
      "func2\n",
      "func1\n",
      "func2\n",
      "func1\n",
      "func2\n",
      "func1\n",
      "func2\n",
      "func1\n",
      "func2\n",
      "func1\n",
      "func2\n",
      "func1\n",
      "func2\n",
      "func1\n",
      "func2\n",
      "func1\n",
      "func2\n",
      "func1\n",
      "func2\n",
      "func1\n",
      "func2\n",
      "func1\n",
      "func2\n",
      "func1\n",
      "func2\n",
      "func1\n",
      "func2\n",
      "func1\n",
      "func2\n",
      "func1\n",
      "func2\n",
      "func1\n",
      "func2\n",
      "func1\n",
      "func2\n",
      "func1\n",
      "func2\n",
      "func1\n",
      "func2\n",
      "func1\n",
      "func2\n",
      "func1\n",
      "func2\n",
      "func1\n",
      "func2\n",
      "func1\n",
      "func2\n",
      "func1\n",
      "func2\n",
      "func1\n",
      "func2\n",
      "func1\n",
      "func2\n",
      "func1\n",
      "func2\n",
      "func1\n",
      "func2\n",
      "func1\n",
      "func2\n",
      "func1\n",
      "func2\n",
      "func1\n",
      "func2\n",
      "func1\n",
      "func2\n",
      "func1\n",
      "func2\n",
      "func1\n",
      "func2\n",
      "func1\n",
      "func2\n",
      "func1\n",
      "func2\n",
      "func1\n",
      "func2\n",
      "func1\n",
      "func2\n",
      "func1\n",
      "func2\n",
      "func1\n",
      "func2\n",
      "func1\n",
      "func2\n",
      "func1\n",
      "func2\n",
      "func1\n",
      "func2\n",
      "func1\n",
      "func2\n",
      "func1\n",
      "func2\n",
      "func1\n",
      "func2\n",
      "func1\n",
      "func2\n",
      "func1\n",
      "func2\n",
      "func1\n",
      "func2\n",
      "func1\n",
      "func2\n",
      "func1\n",
      "func2\n",
      "func1\n",
      "func2\n",
      "func1\n",
      "func2\n",
      "func1\n",
      "func2\n",
      "func1\n",
      "func2\n",
      "func1\n",
      "func2\n",
      "func1\n",
      "func2\n",
      "func1\n",
      "func2\n",
      "func1\n",
      "func2\n",
      "func1\n",
      "func2\n",
      "func1\n",
      "func2\n",
      "func1\n",
      "func2\n",
      "func1\n",
      "func2\n",
      "func1\n",
      "func2\n",
      "func1\n",
      "func2\n",
      "func1\n",
      "func2\n",
      "func1\n",
      "func2\n",
      "func1\n",
      "func2\n",
      "func1\n",
      "func2\n",
      "func1\n",
      "func2\n",
      "func1\n",
      "func2\n",
      "func1\n",
      "func2\n",
      "func1\n",
      "func2\n",
      "func1\n",
      "func2\n",
      "func1\n",
      "func2\n",
      "func1\n",
      "func2\n",
      "func1\n",
      "func2\n",
      "func1\n",
      "func2\n",
      "func1\n",
      "func2\n",
      "func1\n",
      "func2\n",
      "func1\n",
      "func2\n",
      "func1\n",
      "func2\n",
      "func1\n",
      "func2\n",
      "func1\n",
      "func2\n",
      "func1\n",
      "func2\n",
      "func1\n",
      "func2\n",
      "func1\n",
      "func2\n",
      "func1\n",
      "func2\n",
      "func1\n",
      "func2\n",
      "func1\n",
      "func2\n",
      "func1\n",
      "func2\n",
      "func1\n",
      "func2\n",
      "func1\n",
      "func2\n",
      "func1\n",
      "func2\n",
      "func1\n",
      "func2\n",
      "func1\n",
      "func2\n",
      "func1\n",
      "func2\n",
      "func1\n",
      "func2\n",
      "func1\n",
      "func2\n",
      "func1\n",
      "func2\n",
      "func1\n",
      "func2\n",
      "func1\n",
      "func2\n",
      "func1\n",
      "func2\n",
      "func1\n",
      "func2\n",
      "func1\n",
      "func2\n",
      "func1\n",
      "func2\n",
      "func1\n",
      "func2\n",
      "func1\n",
      "func2\n",
      "func1\n",
      "func2\n",
      "func1\n",
      "func2\n",
      "func1\n",
      "func2\n",
      "func1\n",
      "func2\n",
      "func1\n",
      "func2\n",
      "func1\n",
      "func2\n",
      "func1\n",
      "func2\n",
      "func1\n",
      "func2\n",
      "func1\n",
      "func2\n",
      "func1\n",
      "func2\n",
      "func1\n",
      "func2\n",
      "func1\n",
      "func2\n",
      "func1\n",
      "func2\n",
      "func1\n",
      "func2\n",
      "func1\n",
      "func2\n",
      "func1\n",
      "func2\n",
      "func1\n",
      "func2\n",
      "func1\n",
      "func2\n",
      "func1\n",
      "func2\n",
      "func1\n",
      "func2\n",
      "func1\n",
      "func2\n",
      "func1\n",
      "func2\n",
      "func1\n",
      "func2\n",
      "func1\n",
      "func2\n",
      "func1\n",
      "func2\n",
      "func1\n",
      "func2\n",
      "func1\n",
      "func2\n",
      "func1\n",
      "func2\n",
      "func1\n",
      "func2\n",
      "func1\n",
      "func2\n",
      "func1\n",
      "func2\n",
      "func1\n",
      "func2\n",
      "func1\n",
      "func2\n",
      "func1\n",
      "func2\n",
      "func1\n",
      "func2\n",
      "func1\n",
      "func2\n",
      "func1\n",
      "func2\n",
      "func1\n",
      "func2\n",
      "func1\n",
      "func2\n",
      "func1\n",
      "func2\n",
      "func1\n",
      "func2\n",
      "func1\n",
      "func2\n",
      "func1\n",
      "func2\n",
      "func1\n",
      "func2\n",
      "func1\n",
      "func2\n",
      "func1\n",
      "func2\n",
      "func1\n",
      "func2\n",
      "func1\n",
      "func2\n",
      "func1\n",
      "func2\n",
      "func1\n",
      "func2\n",
      "func1\n",
      "func2\n",
      "func1\n",
      "func2\n",
      "func1\n",
      "func2\n",
      "func1\n",
      "func2\n",
      "func1\n",
      "func2\n",
      "func1\n",
      "func2\n",
      "func1\n",
      "func2\n",
      "func1\n",
      "func2\n",
      "func1\n",
      "func2\n",
      "func1\n",
      "func2\n",
      "func1\n",
      "func2\n",
      "func1\n",
      "func2\n",
      "func1\n",
      "func2\n",
      "func1\n",
      "func2\n",
      "func1\n",
      "func2\n",
      "func1\n",
      "func2\n",
      "func1\n",
      "func2\n",
      "func1\n",
      "func2\n",
      "func1\n",
      "func2\n",
      "func1\n",
      "func2\n",
      "func1\n",
      "func2\n",
      "func1\n",
      "func2\n",
      "func1\n",
      "func2\n",
      "func1\n",
      "func2\n",
      "func1\n",
      "func2\n",
      "func1\n",
      "func2\n",
      "func1\n",
      "func2\n",
      "func1\n",
      "func2\n",
      "func1\n",
      "func2\n",
      "func1\n",
      "func2\n",
      "func1\n",
      "func2\n",
      "func1\n",
      "func2\n",
      "func1\n",
      "func2\n",
      "func1\n",
      "func2\n",
      "func1\n",
      "func2\n",
      "func1\n",
      "func2\n",
      "func1\n",
      "func2\n",
      "func1\n",
      "func2\n",
      "func1\n",
      "func2\n",
      "func1\n",
      "func2\n",
      "func1\n",
      "func2\n",
      "func1\n",
      "func2\n",
      "func1\n",
      "func2\n",
      "func1\n",
      "func2\n",
      "func1\n",
      "func2\n",
      "func1\n",
      "func2\n",
      "func1\n",
      "func2\n",
      "func1\n",
      "func2\n",
      "func1\n",
      "func2\n",
      "func1\n",
      "func2\n",
      "func1\n",
      "func2\n",
      "func1\n",
      "func2\n",
      "func1\n",
      "func2\n",
      "func1\n",
      "func2\n",
      "func1\n",
      "func2\n",
      "func1\n",
      "func2\n",
      "func1\n",
      "func2\n",
      "func1\n",
      "func2\n",
      "func1\n",
      "func2\n",
      "func1\n",
      "func2\n",
      "func1\n",
      "func2\n",
      "func1\n",
      "func2\n",
      "func1\n",
      "func2\n",
      "func1\n",
      "func2\n",
      "func1\n",
      "func2\n",
      "func1\n",
      "func2\n",
      "func1\n",
      "func2\n",
      "func1\n",
      "func2\n",
      "func1\n",
      "func2\n",
      "func1\n",
      "func2\n",
      "func1\n",
      "func2\n",
      "func1\n",
      "func2\n",
      "func1\n",
      "func2\n",
      "func1\n",
      "func2\n",
      "func1\n",
      "func2\n",
      "func1\n",
      "func2\n",
      "func1\n",
      "func2\n",
      "func1\n",
      "func2\n",
      "func1\n",
      "func2\n",
      "func1\n",
      "func2\n",
      "func1\n",
      "func2\n",
      "func1\n",
      "func2\n",
      "func1\n",
      "func2\n",
      "func1\n",
      "func2\n",
      "func1\n",
      "func2\n",
      "func1\n",
      "func2\n",
      "func1\n",
      "func2\n",
      "func1\n",
      "func2\n",
      "func1\n",
      "func2\n",
      "func1\n",
      "func2\n",
      "func1\n",
      "func2\n",
      "func1\n",
      "func2\n",
      "func1\n",
      "func2\n",
      "func1\n",
      "func2\n",
      "func1\n",
      "func2\n",
      "func1\n",
      "func2\n",
      "func1\n",
      "func2\n",
      "func1\n",
      "func2\n",
      "func1\n",
      "func2\n",
      "func1\n",
      "func2\n",
      "func1\n",
      "func2\n",
      "func1\n",
      "func2\n",
      "func1\n",
      "func2\n",
      "func1\n",
      "func2\n",
      "func1\n",
      "func2\n",
      "func1\n",
      "func2\n",
      "func1\n",
      "func2\n",
      "func1\n",
      "func2\n",
      "func1\n",
      "func2\n",
      "func1\n",
      "func2\n",
      "func1\n",
      "func2\n",
      "func1\n",
      "func2\n",
      "func1\n",
      "func2\n",
      "func1\n",
      "func2\n",
      "func1\n",
      "func2\n",
      "func1\n",
      "func2\n",
      "func1\n",
      "func2\n",
      "func1\n",
      "func2\n",
      "func1\n",
      "func2\n",
      "func1\n",
      "func2\n",
      "func1\n",
      "func2\n",
      "func1\n",
      "func2\n",
      "func1\n",
      "func2\n",
      "func1\n",
      "func2\n",
      "func1\n",
      "func2\n",
      "func1\n",
      "func2\n",
      "func1\n",
      "func2\n",
      "func1\n",
      "func2\n",
      "func1\n",
      "func2\n",
      "func1\n",
      "func2\n",
      "func1\n",
      "func2\n",
      "func1\n",
      "func2\n",
      "func1\n",
      "func2\n",
      "func1\n",
      "func2\n",
      "func1\n",
      "func2\n",
      "func1\n",
      "func2\n",
      "func1\n",
      "func2\n",
      "func1\n",
      "func2\n",
      "func1\n",
      "func2\n",
      "func1\n",
      "func2\n",
      "func1\n",
      "func2\n",
      "func1\n",
      "func2\n",
      "func1\n",
      "func2\n",
      "func1\n",
      "func2\n",
      "func1\n",
      "func2\n",
      "func1\n",
      "func2\n",
      "func1\n",
      "func2\n",
      "func1\n",
      "func2\n",
      "func1\n",
      "func2\n",
      "func1\n",
      "func2\n",
      "func1\n",
      "func2\n",
      "func1\n",
      "func2\n",
      "func1\n",
      "func2\n",
      "func1\n",
      "func2\n",
      "func1\n",
      "func2\n",
      "func1\n",
      "func2\n",
      "func1\n",
      "func2\n",
      "func1\n",
      "func2\n",
      "func1\n",
      "func2\n",
      "func1\n",
      "func2\n",
      "func1\n",
      "func2\n",
      "func1\n",
      "func2\n",
      "func1\n",
      "func2\n",
      "func1\n",
      "func2\n",
      "func1\n",
      "func2\n",
      "func1\n",
      "func2\n",
      "func1\n",
      "func2\n",
      "func1\n",
      "func2\n",
      "func1\n",
      "func2\n",
      "func1\n",
      "func2\n",
      "func1\n",
      "func2\n",
      "func1\n",
      "func2\n",
      "func1\n",
      "func2\n",
      "func1\n",
      "func2\n",
      "func1\n",
      "func2\n",
      "func1\n",
      "func2\n",
      "func1\n",
      "func2\n",
      "func1\n",
      "func2\n",
      "func1\n",
      "func2\n",
      "func1\n",
      "func2\n",
      "func1\n",
      "func2\n",
      "func1\n",
      "func2\n",
      "func1\n",
      "func2\n",
      "func1\n",
      "func2\n",
      "func1\n",
      "func2\n",
      "func1\n",
      "func2\n",
      "func1\n",
      "func2\n",
      "func1\n",
      "func2\n",
      "func1\n",
      "func2\n",
      "func1\n",
      "func2\n",
      "func1\n",
      "func2\n",
      "func1\n",
      "func2\n",
      "func1\n",
      "func2\n",
      "func1\n",
      "func2\n",
      "func1\n",
      "func2\n",
      "func1\n",
      "func2\n",
      "func1\n",
      "func2\n",
      "func1\n",
      "func2\n",
      "func1\n",
      "func2\n",
      "func1\n",
      "func2\n",
      "func1\n",
      "func2\n",
      "func1\n",
      "func2\n",
      "func1\n",
      "func2\n",
      "func1\n",
      "func2\n",
      "func1\n",
      "func2\n",
      "func1\n",
      "func2\n",
      "func1\n",
      "func2\n",
      "func1\n",
      "func2\n",
      "func1\n",
      "func2\n",
      "func1\n",
      "func2\n",
      "func1\n",
      "func2\n",
      "func1\n",
      "func2\n",
      "func1\n",
      "func2\n",
      "func1\n",
      "func2\n",
      "func1\n",
      "func2\n",
      "func1\n",
      "func2\n",
      "func1\n",
      "func2\n",
      "func1\n",
      "func2\n",
      "func1\n",
      "func2\n",
      "func1\n",
      "func2\n",
      "func1\n",
      "func2\n",
      "func1\n",
      "func2\n",
      "func1\n",
      "func2\n",
      "func1\n",
      "func2\n",
      "func1\n",
      "func2\n",
      "func1\n",
      "func2\n",
      "func1\n",
      "func2\n",
      "func1\n",
      "func2\n",
      "func1\n",
      "func2\n",
      "func1\n",
      "func2\n",
      "func1\n",
      "func2\n",
      "func1\n",
      "func2\n",
      "func1\n",
      "func2\n",
      "func1\n",
      "func2\n",
      "func1\n",
      "func2\n",
      "func1\n",
      "func2\n",
      "func1\n",
      "func2\n",
      "func1\n",
      "func2\n",
      "func1\n",
      "func2\n",
      "func1\n",
      "func2\n",
      "func1\n",
      "func2\n",
      "func1\n",
      "func2\n",
      "func1\n",
      "func2\n",
      "func1\n",
      "func2\n",
      "func1\n",
      "func2\n",
      "func1\n",
      "func2\n",
      "func1\n",
      "func2\n",
      "func1\n",
      "func2\n",
      "func1\n",
      "func2\n",
      "func1\n",
      "func2\n",
      "func1\n",
      "func2\n",
      "func1\n",
      "func2\n",
      "func1\n",
      "func2\n",
      "func1\n",
      "func2\n",
      "func1\n",
      "func2\n",
      "func1\n",
      "func2\n",
      "func1\n",
      "func2\n",
      "func1\n",
      "func2\n",
      "func1\n",
      "func2\n",
      "func1\n",
      "func2\n",
      "func1\n",
      "func2\n",
      "func1\n",
      "func2\n",
      "func1\n",
      "func2\n",
      "func1\n",
      "func2\n",
      "func1\n",
      "func2\n",
      "func1\n",
      "func2\n",
      "func1\n",
      "func2\n",
      "func1\n",
      "func2\n",
      "func1\n",
      "func2\n",
      "func1\n",
      "func2\n",
      "func1\n",
      "func2\n",
      "func1\n",
      "func2\n",
      "func1\n",
      "func2\n",
      "func1\n",
      "func2\n",
      "func1\n",
      "func2\n",
      "func1\n",
      "func2\n",
      "func1\n",
      "func2\n",
      "func1\n",
      "func2\n",
      "func1\n",
      "func2\n",
      "func1\n",
      "func2\n",
      "func1\n",
      "func2\n",
      "func1\n",
      "func2\n",
      "func1\n",
      "func2\n",
      "func1\n",
      "func2\n",
      "func1\n",
      "func2\n",
      "func1\n",
      "func2\n",
      "func1\n",
      "func2\n",
      "func1\n",
      "func2\n",
      "func1\n",
      "func2\n",
      "func1\n",
      "func2\n",
      "func1\n",
      "func2\n",
      "func1\n",
      "func2\n",
      "func1\n",
      "func2\n",
      "func1\n",
      "func2\n",
      "func1\n",
      "func2\n",
      "func1\n",
      "func2\n",
      "func1\n",
      "func2\n",
      "func1\n",
      "func2\n",
      "func1\n",
      "func2\n",
      "func1\n",
      "func2\n",
      "func1\n",
      "func2\n",
      "func1\n",
      "func2\n",
      "func1\n",
      "func2\n",
      "func1\n",
      "func2\n",
      "func1\n",
      "func2\n",
      "func1\n",
      "func2\n",
      "func1\n",
      "func2\n",
      "func1\n",
      "func2\n",
      "func1\n",
      "func2\n",
      "func1\n",
      "func2\n",
      "func1\n",
      "func2\n",
      "func1\n",
      "func2\n",
      "func1\n",
      "func2\n",
      "func1\n",
      "func2\n",
      "func1\n",
      "func2\n",
      "func1\n",
      "func2\n",
      "func1\n",
      "func2\n",
      "func1\n",
      "func2\n",
      "func1\n",
      "func2\n",
      "func1\n",
      "func2\n",
      "func1\n",
      "func2\n",
      "func1\n",
      "func2\n",
      "func1\n",
      "func2\n",
      "func1\n",
      "func2\n",
      "func1\n",
      "func2\n",
      "func1\n",
      "func2\n",
      "func1\n",
      "func2\n",
      "func1\n",
      "func2\n",
      "func1\n",
      "func2\n",
      "func1\n",
      "func2\n",
      "func1\n",
      "func2\n",
      "func1\n",
      "func2\n",
      "func1\n",
      "func2\n",
      "func1\n",
      "func2\n",
      "func1\n",
      "func2\n",
      "func1\n",
      "func2\n",
      "func1\n",
      "func2\n",
      "func1\n",
      "func2\n",
      "func1\n",
      "func2\n",
      "func1\n",
      "func2\n",
      "func1\n",
      "func2\n",
      "func1\n",
      "func2\n",
      "func1\n",
      "func2\n",
      "func1\n",
      "func2\n",
      "func1\n",
      "func2\n",
      "func1\n",
      "func2\n",
      "func1\n",
      "func2\n",
      "func1\n",
      "func2\n",
      "func1\n",
      "func2\n",
      "func1\n",
      "func2\n",
      "func1\n",
      "func2\n",
      "func1\n",
      "func2\n",
      "func1\n",
      "func2\n",
      "func1\n",
      "func2\n",
      "func1\n",
      "func2\n",
      "func1\n",
      "func2\n",
      "func1\n",
      "func2\n",
      "func1\n",
      "func2\n",
      "func1\n",
      "func2\n",
      "func1\n",
      "func2\n",
      "func1\n",
      "func2\n",
      "func1\n",
      "func2\n",
      "func1\n",
      "func2\n",
      "func1\n",
      "func2\n",
      "func1\n",
      "func2\n",
      "func1\n",
      "func2\n",
      "func1\n",
      "func2\n",
      "func1\n",
      "func2\n",
      "func1\n",
      "func2\n",
      "func1\n",
      "func2\n",
      "func1\n",
      "func2\n",
      "func1\n",
      "func2\n",
      "func1\n",
      "func2\n",
      "func1\n",
      "func2\n",
      "func1\n",
      "func2\n",
      "func1\n",
      "func2\n",
      "func1\n",
      "func2\n",
      "func1\n",
      "func2\n",
      "func1\n",
      "func2\n",
      "func1\n",
      "func2\n",
      "func1\n",
      "func2\n",
      "func1\n",
      "func2\n",
      "func1\n",
      "func2\n",
      "func1\n",
      "func2\n",
      "func1\n",
      "func2\n",
      "func1\n",
      "func2\n",
      "func1\n",
      "func2\n",
      "func1\n",
      "func2\n",
      "func1\n",
      "func2\n",
      "func1\n",
      "func2\n",
      "func1\n",
      "func2\n",
      "func1\n",
      "func2\n",
      "func1\n",
      "func2\n",
      "func1\n",
      "func2\n",
      "func1\n",
      "func2\n",
      "func1\n",
      "func2\n",
      "func1\n",
      "func2\n",
      "func1\n",
      "func2\n",
      "func1\n",
      "func2\n",
      "func1\n",
      "func2\n",
      "func1\n",
      "func2\n",
      "func1\n",
      "func2\n",
      "func1\n",
      "func2\n",
      "func1\n",
      "func2\n",
      "func1\n",
      "func2\n",
      "func1\n",
      "func2\n",
      "func1\n",
      "func2\n",
      "func1\n",
      "func2\n",
      "func1\n",
      "func2\n",
      "func1\n",
      "func2\n",
      "func1\n",
      "func2\n",
      "func1\n",
      "func2\n",
      "func1\n",
      "func2\n",
      "func1\n",
      "func2\n",
      "func1\n",
      "func2\n",
      "func1\n",
      "func2\n",
      "func1\n",
      "func2\n",
      "func1\n",
      "func2\n",
      "func1\n",
      "func2\n",
      "func1\n",
      "func2\n",
      "func1\n",
      "func2\n",
      "func1\n",
      "func2\n",
      "func1\n",
      "func2\n",
      "func1\n",
      "func2\n",
      "func1\n",
      "func2\n",
      "func1\n",
      "func2\n",
      "func1\n",
      "func2\n",
      "func1\n",
      "func2\n",
      "func1\n",
      "func2\n",
      "func1\n",
      "func2\n",
      "func1\n",
      "func2\n",
      "func1\n",
      "func2\n",
      "func1\n",
      "func2\n",
      "func1\n",
      "func2\n",
      "func1\n",
      "func2\n",
      "func1\n",
      "func2\n",
      "func1\n",
      "func2\n",
      "func1\n",
      "func2\n",
      "func1\n",
      "func2\n",
      "func1\n",
      "func2\n",
      "func1\n",
      "func2\n",
      "func1\n",
      "func2\n",
      "func1\n",
      "func2\n",
      "func1\n",
      "func2\n",
      "func1\n",
      "func2\n",
      "func1\n",
      "func2\n",
      "func1\n",
      "func2\n",
      "func1\n",
      "func2\n",
      "func1\n",
      "func2\n",
      "func1\n",
      "func2\n",
      "func1\n",
      "func2\n",
      "func1\n",
      "func2\n",
      "func1\n",
      "func2\n",
      "func1\n",
      "func2\n",
      "func1\n",
      "func2\n",
      "func1\n",
      "func2\n",
      "func1\n",
      "func2\n",
      "func1\n",
      "func2\n",
      "func1\n",
      "func2\n",
      "func1\n",
      "func2\n",
      "func1\n",
      "func2\n",
      "func1\n",
      "func2\n",
      "func1\n",
      "func2\n",
      "func1\n",
      "func2\n",
      "func1\n",
      "func2\n",
      "func1\n",
      "func2\n",
      "func1\n",
      "func2\n",
      "func1\n",
      "func2\n",
      "func1\n",
      "func2\n",
      "func1\n",
      "func2\n",
      "func1\n",
      "func2\n",
      "func1\n",
      "func2\n",
      "func1\n",
      "func2\n",
      "func1\n",
      "func2\n",
      "func1\n",
      "func2\n",
      "func1\n",
      "func2\n",
      "func1\n",
      "func2\n",
      "func1\n",
      "func2\n",
      "func1\n",
      "func2\n",
      "func1\n",
      "func2\n",
      "func1\n",
      "func2\n",
      "func1\n",
      "func2\n",
      "func1\n",
      "func2\n",
      "func1\n",
      "func2\n",
      "func1\n",
      "func2\n",
      "func1\n",
      "func2\n",
      "func1\n",
      "func2\n",
      "func1\n",
      "func2\n",
      "func1\n",
      "func2\n",
      "func1\n",
      "func2\n",
      "func1\n",
      "func2\n",
      "func1\n",
      "func2\n",
      "func1\n",
      "func2\n",
      "func1\n",
      "func2\n",
      "func1\n",
      "func2\n",
      "func1\n",
      "func2\n",
      "func1\n",
      "func2\n",
      "func1\n",
      "func2\n",
      "func1\n",
      "func2\n",
      "func1\n",
      "func2\n",
      "func1\n",
      "func2\n",
      "func1\n",
      "func2\n",
      "func1\n",
      "func2\n",
      "func1\n",
      "func2\n",
      "func1\n",
      "func2\n",
      "func1\n",
      "func2\n",
      "func1\n",
      "func2\n",
      "func1\n",
      "func2\n",
      "func1\n",
      "func2\n",
      "func1\n",
      "func2\n",
      "func1\n",
      "func2\n",
      "func1\n",
      "func2\n",
      "func1\n",
      "func2\n",
      "func1\n",
      "func2\n",
      "func1\n",
      "func2\n",
      "func1\n",
      "func2\n",
      "func1\n",
      "func2\n",
      "func1\n",
      "func2\n",
      "func1\n",
      "func2\n",
      "func1\n",
      "func2\n",
      "func1\n",
      "func2\n",
      "func1\n",
      "func2\n",
      "func1\n",
      "func2\n",
      "func1\n",
      "func2\n",
      "func1\n",
      "func2\n",
      "func1\n",
      "func2\n",
      "func1\n",
      "func2\n",
      "func1\n",
      "func2\n",
      "func1\n",
      "func2\n",
      "func1\n",
      "func2\n",
      "func1\n",
      "func2\n",
      "func1\n",
      "func2\n",
      "func1\n",
      "func2\n",
      "func1\n",
      "func2\n",
      "func1\n",
      "func2\n",
      "func1\n",
      "func2\n",
      "func1\n",
      "func2\n",
      "func1\n",
      "func2\n",
      "func1\n"
     ]
    },
    {
     "ename": "RecursionError",
     "evalue": "maximum recursion depth exceeded",
     "output_type": "error",
     "traceback": [
      "\u001b[0;31m---------------------------------------------------------------------------\u001b[0m",
      "\u001b[0;31mRecursionError\u001b[0m                            Traceback (most recent call last)",
      "Cell \u001b[0;32mIn[98], line 11\u001b[0m\n\u001b[1;32m      7\u001b[0m     \u001b[38;5;28mprint\u001b[39m(\u001b[38;5;124m\"\u001b[39m\u001b[38;5;124mfunc2\u001b[39m\u001b[38;5;124m\"\u001b[39m)\n\u001b[1;32m      8\u001b[0m     \u001b[38;5;28;01mreturn\u001b[39;00m func1()\n\u001b[0;32m---> 11\u001b[0m \u001b[43mfunc1\u001b[49m\u001b[43m(\u001b[49m\u001b[43m)\u001b[49m\n",
      "Cell \u001b[0;32mIn[98], line 3\u001b[0m, in \u001b[0;36mfunc1\u001b[0;34m()\u001b[0m\n\u001b[1;32m      1\u001b[0m \u001b[38;5;28;01mdef\u001b[39;00m \u001b[38;5;21mfunc1\u001b[39m():\n\u001b[1;32m      2\u001b[0m     \u001b[38;5;28mprint\u001b[39m(\u001b[38;5;124m\"\u001b[39m\u001b[38;5;124mfunc1\u001b[39m\u001b[38;5;124m\"\u001b[39m)\n\u001b[0;32m----> 3\u001b[0m     \u001b[38;5;28;01mreturn\u001b[39;00m \u001b[43mfunc2\u001b[49m\u001b[43m(\u001b[49m\u001b[43m)\u001b[49m\n",
      "Cell \u001b[0;32mIn[98], line 8\u001b[0m, in \u001b[0;36mfunc2\u001b[0;34m()\u001b[0m\n\u001b[1;32m      6\u001b[0m \u001b[38;5;28;01mdef\u001b[39;00m \u001b[38;5;21mfunc2\u001b[39m():\n\u001b[1;32m      7\u001b[0m     \u001b[38;5;28mprint\u001b[39m(\u001b[38;5;124m\"\u001b[39m\u001b[38;5;124mfunc2\u001b[39m\u001b[38;5;124m\"\u001b[39m)\n\u001b[0;32m----> 8\u001b[0m     \u001b[38;5;28;01mreturn\u001b[39;00m \u001b[43mfunc1\u001b[49m\u001b[43m(\u001b[49m\u001b[43m)\u001b[49m\n",
      "Cell \u001b[0;32mIn[98], line 3\u001b[0m, in \u001b[0;36mfunc1\u001b[0;34m()\u001b[0m\n\u001b[1;32m      1\u001b[0m \u001b[38;5;28;01mdef\u001b[39;00m \u001b[38;5;21mfunc1\u001b[39m():\n\u001b[1;32m      2\u001b[0m     \u001b[38;5;28mprint\u001b[39m(\u001b[38;5;124m\"\u001b[39m\u001b[38;5;124mfunc1\u001b[39m\u001b[38;5;124m\"\u001b[39m)\n\u001b[0;32m----> 3\u001b[0m     \u001b[38;5;28;01mreturn\u001b[39;00m \u001b[43mfunc2\u001b[49m\u001b[43m(\u001b[49m\u001b[43m)\u001b[49m\n",
      "Cell \u001b[0;32mIn[98], line 8\u001b[0m, in \u001b[0;36mfunc2\u001b[0;34m()\u001b[0m\n\u001b[1;32m      6\u001b[0m \u001b[38;5;28;01mdef\u001b[39;00m \u001b[38;5;21mfunc2\u001b[39m():\n\u001b[1;32m      7\u001b[0m     \u001b[38;5;28mprint\u001b[39m(\u001b[38;5;124m\"\u001b[39m\u001b[38;5;124mfunc2\u001b[39m\u001b[38;5;124m\"\u001b[39m)\n\u001b[0;32m----> 8\u001b[0m     \u001b[38;5;28;01mreturn\u001b[39;00m \u001b[43mfunc1\u001b[49m\u001b[43m(\u001b[49m\u001b[43m)\u001b[49m\n",
      "    \u001b[0;31m[... skipping similar frames: func1 at line 3 (1485 times), func2 at line 8 (1484 times)]\u001b[0m\n",
      "Cell \u001b[0;32mIn[98], line 8\u001b[0m, in \u001b[0;36mfunc2\u001b[0;34m()\u001b[0m\n\u001b[1;32m      6\u001b[0m \u001b[38;5;28;01mdef\u001b[39;00m \u001b[38;5;21mfunc2\u001b[39m():\n\u001b[1;32m      7\u001b[0m     \u001b[38;5;28mprint\u001b[39m(\u001b[38;5;124m\"\u001b[39m\u001b[38;5;124mfunc2\u001b[39m\u001b[38;5;124m\"\u001b[39m)\n\u001b[0;32m----> 8\u001b[0m     \u001b[38;5;28;01mreturn\u001b[39;00m \u001b[43mfunc1\u001b[49m\u001b[43m(\u001b[49m\u001b[43m)\u001b[49m\n",
      "Cell \u001b[0;32mIn[98], line 3\u001b[0m, in \u001b[0;36mfunc1\u001b[0;34m()\u001b[0m\n\u001b[1;32m      1\u001b[0m \u001b[38;5;28;01mdef\u001b[39;00m \u001b[38;5;21mfunc1\u001b[39m():\n\u001b[1;32m      2\u001b[0m     \u001b[38;5;28mprint\u001b[39m(\u001b[38;5;124m\"\u001b[39m\u001b[38;5;124mfunc1\u001b[39m\u001b[38;5;124m\"\u001b[39m)\n\u001b[0;32m----> 3\u001b[0m     \u001b[38;5;28;01mreturn\u001b[39;00m \u001b[43mfunc2\u001b[49m\u001b[43m(\u001b[49m\u001b[43m)\u001b[49m\n",
      "Cell \u001b[0;32mIn[98], line 7\u001b[0m, in \u001b[0;36mfunc2\u001b[0;34m()\u001b[0m\n\u001b[1;32m      6\u001b[0m \u001b[38;5;28;01mdef\u001b[39;00m \u001b[38;5;21mfunc2\u001b[39m():\n\u001b[0;32m----> 7\u001b[0m     \u001b[38;5;28;43mprint\u001b[39;49m\u001b[43m(\u001b[49m\u001b[38;5;124;43m\"\u001b[39;49m\u001b[38;5;124;43mfunc2\u001b[39;49m\u001b[38;5;124;43m\"\u001b[39;49m\u001b[43m)\u001b[49m\n\u001b[1;32m      8\u001b[0m     \u001b[38;5;28;01mreturn\u001b[39;00m func1()\n",
      "File \u001b[0;32m~/.local/lib/python3.12/site-packages/ipykernel/iostream.py:664\u001b[0m, in \u001b[0;36mOutStream.write\u001b[0;34m(self, string)\u001b[0m\n\u001b[1;32m    655\u001b[0m \u001b[38;5;28;01mdef\u001b[39;00m \u001b[38;5;21mwrite\u001b[39m(\u001b[38;5;28mself\u001b[39m, string: \u001b[38;5;28mstr\u001b[39m) \u001b[38;5;241m-\u001b[39m\u001b[38;5;241m>\u001b[39m Optional[\u001b[38;5;28mint\u001b[39m]:  \u001b[38;5;66;03m# type:ignore[override]\u001b[39;00m\n\u001b[1;32m    656\u001b[0m \u001b[38;5;250m    \u001b[39m\u001b[38;5;124;03m\"\"\"Write to current stream after encoding if necessary\u001b[39;00m\n\u001b[1;32m    657\u001b[0m \n\u001b[1;32m    658\u001b[0m \u001b[38;5;124;03m    Returns\u001b[39;00m\n\u001b[0;32m   (...)\u001b[0m\n\u001b[1;32m    662\u001b[0m \n\u001b[1;32m    663\u001b[0m \u001b[38;5;124;03m    \"\"\"\u001b[39;00m\n\u001b[0;32m--> 664\u001b[0m     parent \u001b[38;5;241m=\u001b[39m \u001b[38;5;28;43mself\u001b[39;49m\u001b[38;5;241;43m.\u001b[39;49m\u001b[43mparent_header\u001b[49m\n\u001b[1;32m    666\u001b[0m     \u001b[38;5;28;01mif\u001b[39;00m \u001b[38;5;129;01mnot\u001b[39;00m \u001b[38;5;28misinstance\u001b[39m(string, \u001b[38;5;28mstr\u001b[39m):\n\u001b[1;32m    667\u001b[0m         msg \u001b[38;5;241m=\u001b[39m \u001b[38;5;124mf\u001b[39m\u001b[38;5;124m\"\u001b[39m\u001b[38;5;124mwrite() argument must be str, not \u001b[39m\u001b[38;5;132;01m{\u001b[39;00m\u001b[38;5;28mtype\u001b[39m(string)\u001b[38;5;132;01m}\u001b[39;00m\u001b[38;5;124m\"\u001b[39m  \u001b[38;5;66;03m# type:ignore[unreachable]\u001b[39;00m\n",
      "\u001b[0;31mRecursionError\u001b[0m: maximum recursion depth exceeded"
     ]
    }
   ],
   "source": [
    "def func1():\n",
    "    print(\"func1\")\n",
    "    return func2()\n",
    "\n",
    "\n",
    "def func2():\n",
    "    print(\"func2\")\n",
    "    return func1()\n",
    "\n",
    "\n",
    "func1()"
   ]
  },
  {
   "cell_type": "markdown",
   "metadata": {},
   "source": [
    "### Lambdas(or Anonymous Functions)"
   ]
  },
  {
   "cell_type": "code",
   "execution_count": 99,
   "metadata": {},
   "outputs": [
    {
     "data": {
      "text/plain": [
       "46"
      ]
     },
     "execution_count": 99,
     "metadata": {},
     "output_type": "execute_result"
    }
   ],
   "source": [
    "def double(num):\n",
    "    return num * 2\n",
    "\n",
    "\n",
    "double(23)"
   ]
  },
  {
   "cell_type": "code",
   "execution_count": 100,
   "metadata": {},
   "outputs": [
    {
     "data": {
      "text/plain": [
       "function"
      ]
     },
     "execution_count": 100,
     "metadata": {},
     "output_type": "execute_result"
    }
   ],
   "source": [
    "p = lambda x: x * 2\n",
    "\n",
    "type(p)"
   ]
  },
  {
   "cell_type": "code",
   "execution_count": 101,
   "metadata": {},
   "outputs": [
    {
     "data": {
      "text/plain": [
       "46"
      ]
     },
     "execution_count": 101,
     "metadata": {},
     "output_type": "execute_result"
    }
   ],
   "source": [
    "p(23)"
   ]
  },
  {
   "cell_type": "code",
   "execution_count": 102,
   "metadata": {},
   "outputs": [
    {
     "data": {
      "text/plain": [
       "1454.6"
      ]
     },
     "execution_count": 102,
     "metadata": {},
     "output_type": "execute_result"
    }
   ],
   "source": [
    "def calculation(x, y, z):\n",
    "    return 2 * x**3 + 3.4 * x - 34\n",
    "\n",
    "\n",
    "calculation(9, 23, 2)"
   ]
  },
  {
   "cell_type": "code",
   "execution_count": 103,
   "metadata": {},
   "outputs": [
    {
     "data": {
      "text/plain": [
       "<function __main__.<lambda>(x, y, z)>"
      ]
     },
     "execution_count": 103,
     "metadata": {},
     "output_type": "execute_result"
    }
   ],
   "source": [
    "lambda x, y, z: 2 * x**3 + 3.4 * x - 34"
   ]
  },
  {
   "cell_type": "code",
   "execution_count": 104,
   "metadata": {},
   "outputs": [
    {
     "data": {
      "text/plain": [
       "1454.6"
      ]
     },
     "execution_count": 104,
     "metadata": {},
     "output_type": "execute_result"
    }
   ],
   "source": [
    "(lambda x, y, z: 2 * x**3 + 3.4 * x - 34)(9, 23, 2)"
   ]
  },
  {
   "cell_type": "code",
   "execution_count": 105,
   "metadata": {},
   "outputs": [
    {
     "data": {
      "text/plain": [
       "1454.6"
      ]
     },
     "execution_count": 105,
     "metadata": {},
     "output_type": "execute_result"
    }
   ],
   "source": [
    "result = lambda x, y, z: 2 * x**3 + 3.4 * x - 34\n",
    "result(9, 23, 2)"
   ]
  },
  {
   "cell_type": "code",
   "execution_count": 106,
   "metadata": {},
   "outputs": [
    {
     "data": {
      "text/plain": [
       "'My name is udhay'"
      ]
     },
     "execution_count": 106,
     "metadata": {},
     "output_type": "execute_result"
    }
   ],
   "source": [
    "(lambda name: f\"My name is {name}\")(\"udhay\")"
   ]
  },
  {
   "cell_type": "markdown",
   "metadata": {},
   "source": [
    "#### Higher Order Functions"
   ]
  },
  {
   "cell_type": "code",
   "execution_count": 107,
   "metadata": {},
   "outputs": [
    {
     "data": {
      "text/plain": [
       "range(0, 9)"
      ]
     },
     "execution_count": 107,
     "metadata": {},
     "output_type": "execute_result"
    }
   ],
   "source": [
    "range(9)"
   ]
  },
  {
   "cell_type": "code",
   "execution_count": 108,
   "metadata": {},
   "outputs": [
    {
     "data": {
      "text/plain": [
       "[0, 1, 2, 3, 4, 5, 6, 7, 8]"
      ]
     },
     "execution_count": 108,
     "metadata": {},
     "output_type": "execute_result"
    }
   ],
   "source": [
    "list(range(9))"
   ]
  },
  {
   "cell_type": "code",
   "execution_count": 109,
   "metadata": {},
   "outputs": [
    {
     "data": {
      "text/plain": [
       "range(0, 9)"
      ]
     },
     "execution_count": 109,
     "metadata": {},
     "output_type": "execute_result"
    }
   ],
   "source": [
    "range(9)[::]"
   ]
  },
  {
   "cell_type": "code",
   "execution_count": 110,
   "metadata": {},
   "outputs": [
    {
     "data": {
      "text/plain": [
       "<map at 0x707144e60160>"
      ]
     },
     "execution_count": 110,
     "metadata": {},
     "output_type": "execute_result"
    }
   ],
   "source": [
    "map(double, range(9))"
   ]
  },
  {
   "cell_type": "code",
   "execution_count": 111,
   "metadata": {},
   "outputs": [
    {
     "data": {
      "text/plain": [
       "[0, 2, 4, 6, 8, 10, 12, 14, 16]"
      ]
     },
     "execution_count": 111,
     "metadata": {},
     "output_type": "execute_result"
    }
   ],
   "source": [
    "list(map(double, range(9)))"
   ]
  },
  {
   "cell_type": "code",
   "execution_count": 112,
   "metadata": {},
   "outputs": [
    {
     "data": {
      "text/plain": [
       "[0, 2, 4, 6, 8, 10, 12, 14, 16]"
      ]
     },
     "execution_count": 112,
     "metadata": {},
     "output_type": "execute_result"
    }
   ],
   "source": [
    "list(map(p, range(9)))"
   ]
  },
  {
   "cell_type": "code",
   "execution_count": 113,
   "metadata": {},
   "outputs": [
    {
     "data": {
      "text/plain": [
       "[0, 2, 4, 6, 8, 10, 12, 14, 16]"
      ]
     },
     "execution_count": 113,
     "metadata": {},
     "output_type": "execute_result"
    }
   ],
   "source": [
    "list(map(lambda X: X * 2, range(9)))"
   ]
  },
  {
   "cell_type": "code",
   "execution_count": 114,
   "metadata": {},
   "outputs": [
    {
     "data": {
      "text/plain": [
       "['My name is savitha',\n",
       " 'My name is Rakesh',\n",
       " 'My name is krishna',\n",
       " 'My name is RReddy']"
      ]
     },
     "execution_count": 114,
     "metadata": {},
     "output_type": "execute_result"
    }
   ],
   "source": [
    "list(map(lambda name: f\"My name is {name}\", (\"savitha\", \"Rakesh\", \"krishna\", \"RReddy\")))"
   ]
  },
  {
   "cell_type": "code",
   "execution_count": 115,
   "metadata": {},
   "outputs": [],
   "source": [
    "def even_test(num):\n",
    "    return num % 2 == 0"
   ]
  },
  {
   "cell_type": "code",
   "execution_count": 116,
   "metadata": {},
   "outputs": [
    {
     "data": {
      "text/plain": [
       "[True, False, True, False, True, False, True, False, True]"
      ]
     },
     "execution_count": 116,
     "metadata": {},
     "output_type": "execute_result"
    }
   ],
   "source": [
    "list(map(even_test, range(9)))"
   ]
  },
  {
   "cell_type": "code",
   "execution_count": 117,
   "metadata": {},
   "outputs": [
    {
     "data": {
      "text/plain": [
       "[True, False, True, False, True, False, True, False, True]"
      ]
     },
     "execution_count": 117,
     "metadata": {},
     "output_type": "execute_result"
    }
   ],
   "source": [
    "list(map(lambda m: m % 2 == 0, range(9)))"
   ]
  },
  {
   "cell_type": "code",
   "execution_count": 118,
   "metadata": {},
   "outputs": [
    {
     "data": {
      "text/plain": [
       "[0, 2, 4, 6, 8]"
      ]
     },
     "execution_count": 118,
     "metadata": {},
     "output_type": "execute_result"
    }
   ],
   "source": [
    "list(filter(even_test, range(9)))"
   ]
  },
  {
   "cell_type": "code",
   "execution_count": 119,
   "metadata": {},
   "outputs": [
    {
     "data": {
      "text/plain": [
       "[0, 2, 4, 6, 8]"
      ]
     },
     "execution_count": 119,
     "metadata": {},
     "output_type": "execute_result"
    }
   ],
   "source": [
    "list(filter(lambda m: m % 2 == 0, range(9)))"
   ]
  },
  {
   "cell_type": "code",
   "execution_count": 120,
   "metadata": {},
   "outputs": [
    {
     "data": {
      "text/plain": [
       "[1, 3, 5, 7]"
      ]
     },
     "execution_count": 120,
     "metadata": {},
     "output_type": "execute_result"
    }
   ],
   "source": [
    "list(filter(lambda m: m % 2 != 0, range(9)))"
   ]
  },
  {
   "cell_type": "code",
   "execution_count": 121,
   "metadata": {},
   "outputs": [
    {
     "data": {
      "text/plain": [
       "[77, 45]"
      ]
     },
     "execution_count": 121,
     "metadata": {},
     "output_type": "execute_result"
    }
   ],
   "source": [
    "list(filter(lambda m: m % 2 != 0, {12, 34, 34, 45, 56, 77, 554}))"
   ]
  },
  {
   "cell_type": "code",
   "execution_count": 122,
   "metadata": {},
   "outputs": [
    {
     "data": {
      "text/plain": [
       "1.0"
      ]
     },
     "execution_count": 122,
     "metadata": {},
     "output_type": "execute_result"
    }
   ],
   "source": [
    "float(1)"
   ]
  },
  {
   "cell_type": "code",
   "execution_count": 123,
   "metadata": {},
   "outputs": [
    {
     "data": {
      "text/plain": [
       "[0.0, 1.0, 2.0, 3.0, 4.0, 5.0, 6.0, 7.0, 8.0]"
      ]
     },
     "execution_count": 123,
     "metadata": {},
     "output_type": "execute_result"
    }
   ],
   "source": [
    "list(map(float, range(9)))"
   ]
  },
  {
   "cell_type": "code",
   "execution_count": 124,
   "metadata": {},
   "outputs": [
    {
     "data": {
      "text/plain": [
       "['0', '1', '2', '3', '4', '5', '6', '7', '8']"
      ]
     },
     "execution_count": 124,
     "metadata": {},
     "output_type": "execute_result"
    }
   ],
   "source": [
    "list(map(str, range(9)))"
   ]
  },
  {
   "cell_type": "code",
   "execution_count": 125,
   "metadata": {},
   "outputs": [
    {
     "data": {
      "text/plain": [
       "4982008777236823305"
      ]
     },
     "execution_count": 125,
     "metadata": {},
     "output_type": "execute_result"
    }
   ],
   "source": [
    "hash(\"0\")"
   ]
  },
  {
   "cell_type": "code",
   "execution_count": 126,
   "metadata": {},
   "outputs": [
    {
     "name": "stdout",
     "output_type": "stream",
     "text": [
      "[4982008777236823305, 6509267512625830441, 8921176412308221471, -2460278724818305280]\n"
     ]
    }
   ],
   "source": [
    "print(list(map(hash, [\"0\", \"1\", \"2\", \"3\"])))"
   ]
  },
  {
   "cell_type": "code",
   "execution_count": 127,
   "metadata": {},
   "outputs": [
    {
     "data": {
      "text/plain": [
       "0"
      ]
     },
     "execution_count": 127,
     "metadata": {},
     "output_type": "execute_result"
    }
   ],
   "source": [
    "hash(0)"
   ]
  },
  {
   "cell_type": "code",
   "execution_count": 128,
   "metadata": {},
   "outputs": [
    {
     "data": {
      "text/plain": [
       "[0, 1, 2, 3]"
      ]
     },
     "execution_count": 128,
     "metadata": {},
     "output_type": "execute_result"
    }
   ],
   "source": [
    "list(map(hash, [0, 1, 2, 3]))"
   ]
  },
  {
   "cell_type": "markdown",
   "metadata": {},
   "source": [
    "#### What is the difference between map and itertools.reduce?"
   ]
  },
  {
   "cell_type": "code",
   "execution_count": 129,
   "metadata": {},
   "outputs": [],
   "source": [
    "from functools import reduce"
   ]
  },
  {
   "cell_type": "code",
   "execution_count": 130,
   "metadata": {},
   "outputs": [
    {
     "data": {
      "text/plain": [
       "15"
      ]
     },
     "execution_count": 130,
     "metadata": {},
     "output_type": "execute_result"
    }
   ],
   "source": [
    "reduce(lambda p, q: p + q, range(6))"
   ]
  },
  {
   "cell_type": "code",
   "execution_count": 131,
   "metadata": {},
   "outputs": [
    {
     "data": {
      "text/plain": [
       "15"
      ]
     },
     "execution_count": 131,
     "metadata": {},
     "output_type": "execute_result"
    }
   ],
   "source": [
    "reduce(lambda p, q: p + q, [0, 1, 2, 3, 4, 5])"
   ]
  },
  {
   "cell_type": "code",
   "execution_count": 132,
   "metadata": {},
   "outputs": [
    {
     "data": {
      "text/plain": [
       "[0, 2, 4, 6, 8, 10]"
      ]
     },
     "execution_count": 132,
     "metadata": {},
     "output_type": "execute_result"
    }
   ],
   "source": [
    "list(map(lambda p, q: p + q, range(6), range(6)))"
   ]
  },
  {
   "cell_type": "code",
   "execution_count": 133,
   "metadata": {},
   "outputs": [],
   "source": [
    "mystrings = (\"I\", \"am\", \"confident\", \"about\", \"myself\")"
   ]
  },
  {
   "cell_type": "code",
   "execution_count": 134,
   "metadata": {},
   "outputs": [
    {
     "name": "stdout",
     "output_type": "stream",
     "text": [
      "I am confident about myself\n"
     ]
    }
   ],
   "source": [
    "print(\" \".join(mystrings))"
   ]
  },
  {
   "cell_type": "code",
   "execution_count": 135,
   "metadata": {},
   "outputs": [
    {
     "data": {
      "text/plain": [
       "'I am confident about myself'"
      ]
     },
     "execution_count": 135,
     "metadata": {},
     "output_type": "execute_result"
    }
   ],
   "source": [
    "reduce(lambda ch1, ch2: ch1 + \" \" + ch2, mystrings)"
   ]
  },
  {
   "cell_type": "code",
   "execution_count": 136,
   "metadata": {},
   "outputs": [
    {
     "name": "stdout",
     "output_type": "stream",
     "text": [
      "362880\n",
      "362880\n"
     ]
    }
   ],
   "source": [
    "# factorial 9 - 9 * 8 * 7 * 6 * 5 * 4 * 3 * 2 * 1\n",
    "def my_factorial(given_num):\n",
    "    result = 1\n",
    "    for each_num in range(1, given_num + 1):\n",
    "        # result = result * each_num\n",
    "        result *= each_num\n",
    "    return result\n",
    "\n",
    "\n",
    "print(my_factorial(9))\n",
    "\n",
    "print(reduce(lambda num1, num2: num1 * num2, range(1, 9 + 1)))"
   ]
  },
  {
   "cell_type": "code",
   "execution_count": 137,
   "metadata": {},
   "outputs": [
    {
     "name": "stdout",
     "output_type": "stream",
     "text": [
      "17\n",
      "180\n"
     ]
    }
   ],
   "source": [
    "import operator\n",
    "\n",
    "print(reduce(operator.add, [1, 3, 5, 6, 2]))\n",
    "print(reduce(operator.mul, [1, 3, 5, 6, 2]))"
   ]
  },
  {
   "cell_type": "code",
   "execution_count": 138,
   "metadata": {},
   "outputs": [
    {
     "name": "stdout",
     "output_type": "stream",
     "text": [
      "Iamconfidentaboutmyself\n"
     ]
    }
   ],
   "source": [
    "print(reduce(operator.add, mystrings))"
   ]
  },
  {
   "cell_type": "code",
   "execution_count": 139,
   "metadata": {},
   "outputs": [
    {
     "data": {
      "text/plain": [
       "17"
      ]
     },
     "execution_count": 139,
     "metadata": {},
     "output_type": "execute_result"
    }
   ],
   "source": [
    "reduce(lambda x, y: x + y, [1, 3, 5, 6, 2])"
   ]
  },
  {
   "cell_type": "code",
   "execution_count": 140,
   "metadata": {},
   "outputs": [
    {
     "name": "stdout",
     "output_type": "stream",
     "text": [
      "[1, 4, 9, 15, 17]\n"
     ]
    }
   ],
   "source": [
    "import itertools\n",
    "\n",
    "# to get the intermediate values, using reduce operation\n",
    "print(list(itertools.accumulate([1, 3, 5, 6, 2], lambda x, y: x + y)))"
   ]
  },
  {
   "cell_type": "code",
   "execution_count": 141,
   "metadata": {},
   "outputs": [
    {
     "data": {
      "text/plain": [
       "<zip at 0x707144767c80>"
      ]
     },
     "execution_count": 141,
     "metadata": {},
     "output_type": "execute_result"
    }
   ],
   "source": [
    "zip([1], [3])"
   ]
  },
  {
   "cell_type": "code",
   "execution_count": 142,
   "metadata": {},
   "outputs": [
    {
     "data": {
      "text/plain": [
       "[(1, 3)]"
      ]
     },
     "execution_count": 142,
     "metadata": {},
     "output_type": "execute_result"
    }
   ],
   "source": [
    "list(zip([1], [3]))"
   ]
  },
  {
   "cell_type": "code",
   "execution_count": 143,
   "metadata": {},
   "outputs": [
    {
     "data": {
      "text/plain": [
       "[('a', 'b'), ('a', 'c'), ('a', 'd')]"
      ]
     },
     "execution_count": 143,
     "metadata": {},
     "output_type": "execute_result"
    }
   ],
   "source": [
    "list(zip(\"aaa\", \"bcd\"))"
   ]
  },
  {
   "cell_type": "code",
   "execution_count": 144,
   "metadata": {},
   "outputs": [
    {
     "data": {
      "text/plain": [
       "[('a', 'b'), ('a', 'c')]"
      ]
     },
     "execution_count": 144,
     "metadata": {},
     "output_type": "execute_result"
    }
   ],
   "source": [
    "list(zip(\"aaa\", \"bc\"))"
   ]
  },
  {
   "cell_type": "code",
   "execution_count": 145,
   "metadata": {},
   "outputs": [
    {
     "data": {
      "text/plain": [
       "[('a', 'b'), ('a', 'c'), ('a', None)]"
      ]
     },
     "execution_count": 145,
     "metadata": {},
     "output_type": "execute_result"
    }
   ],
   "source": [
    "list(itertools.zip_longest(\"aaa\", \"bc\"))"
   ]
  },
  {
   "cell_type": "code",
   "execution_count": 146,
   "metadata": {},
   "outputs": [
    {
     "data": {
      "text/plain": [
       "[('a', 'b'), ('a', 'c'), ('a', '-')]"
      ]
     },
     "execution_count": 146,
     "metadata": {},
     "output_type": "execute_result"
    }
   ],
   "source": [
    "list(itertools.zip_longest(\"aaa\", \"bc\", fillvalue=\"-\"))"
   ]
  },
  {
   "cell_type": "code",
   "execution_count": 147,
   "metadata": {},
   "outputs": [
    {
     "data": {
      "text/plain": [
       "[('a', 'b'), ('a', 'c'), ('a', 'd')]"
      ]
     },
     "execution_count": 147,
     "metadata": {},
     "output_type": "execute_result"
    }
   ],
   "source": [
    "list(map(lambda x, y: (x, y), \"aaa\", \"bcd\"))"
   ]
  },
  {
   "cell_type": "code",
   "execution_count": 148,
   "metadata": {},
   "outputs": [
    {
     "data": {
      "text/plain": [
       "[('a', 'b'), ('a', 'c')]"
      ]
     },
     "execution_count": 148,
     "metadata": {},
     "output_type": "execute_result"
    }
   ],
   "source": [
    "list(map(lambda x, y: (x, y), \"aaa\", \"bc\"))"
   ]
  },
  {
   "cell_type": "code",
   "execution_count": 149,
   "metadata": {},
   "outputs": [
    {
     "name": "stdout",
     "output_type": "stream",
     "text": [
      "ORIGINAL matrix: [(1, 2, 3), [4, 5, 6], (7, 8, 9)]\n",
      "(1, 2, 3)\n",
      "[4, 5, 6]\n",
      "(7, 8, 9)\n"
     ]
    }
   ],
   "source": [
    "matrix = [(1, 2, 3), [4, 5, 6], (7, 8, 9)]\n",
    "print(\"ORIGINAL matrix:\", matrix)\n",
    "for row in matrix:\n",
    "    print(row)"
   ]
  },
  {
   "cell_type": "code",
   "execution_count": 150,
   "metadata": {},
   "outputs": [
    {
     "name": "stdout",
     "output_type": "stream",
     "text": [
      "\n",
      "TRANSPOSED matrix: [(1, 4, 7), (2, 5, 8), (3, 6, 9)]\n",
      "(1, 4, 7)\n",
      "(2, 5, 8)\n",
      "(3, 6, 9)\n"
     ]
    }
   ],
   "source": [
    "# transposed_matrix = zip(matrix[0], matrix[1], matrix[2])\n",
    "transposed_matrix = list(zip(*matrix))\n",
    "\n",
    "print()\n",
    "print(\"TRANSPOSED matrix:\", transposed_matrix)\n",
    "for row in transposed_matrix:\n",
    "    print(row)"
   ]
  },
  {
   "cell_type": "markdown",
   "metadata": {},
   "source": [
    "### Inner Functions"
   ]
  },
  {
   "cell_type": "code",
   "execution_count": 151,
   "metadata": {},
   "outputs": [],
   "source": [
    "def outer():\n",
    "    print(\"In outer function\")\n",
    "    nnum = 786\n",
    "\n",
    "    def inner():\n",
    "        print(\"In Inner function\", nnum)\n",
    "\n",
    "    inner()"
   ]
  },
  {
   "cell_type": "code",
   "execution_count": 152,
   "metadata": {},
   "outputs": [
    {
     "name": "stdout",
     "output_type": "stream",
     "text": [
      "In outer function\n",
      "In Inner function 786\n"
     ]
    }
   ],
   "source": [
    "outer()"
   ]
  },
  {
   "cell_type": "markdown",
   "metadata": {},
   "source": [
    "### Closures\n",
    "- Closures can avoid the use of global values and provides some form \n",
    "of __data hiding__. \n",
    "\n",
    "- It can also provide an object oriented solution to the problem.\n"
   ]
  },
  {
   "cell_type": "code",
   "execution_count": 153,
   "metadata": {},
   "outputs": [
    {
     "name": "stdout",
     "output_type": "stream",
     "text": [
      "In outer function\n",
      "inner.__closure__:786\n",
      "In Inner function 786\n",
      "result <class 'NoneType'> None\n"
     ]
    }
   ],
   "source": [
    "def outer():\n",
    "    print(\"In outer function\")\n",
    "    nnum = 786\n",
    "\n",
    "    def inner():\n",
    "        print(\"In Inner function\", nnum)\n",
    "\n",
    "    print(f\"inner.__closure__:{inner.__closure__[0].cell_contents}\")\n",
    "    inner()\n",
    "\n",
    "\n",
    "result = outer()\n",
    "print(\"result\", type(result), result)"
   ]
  },
  {
   "cell_type": "code",
   "execution_count": 154,
   "metadata": {},
   "outputs": [
    {
     "name": "stdout",
     "output_type": "stream",
     "text": [
      "In outer function\n",
      "inner.__closure__                 :(<cell at 0x707144e5d030: int object at 0x70714473c4d0>,)\n",
      "inner.__closure__[0].cell_contents:786\n",
      "result <class 'function'> <function outer.<locals>.inner at 0x707144a9b100>\n"
     ]
    }
   ],
   "source": [
    "def outer():\n",
    "    print(\"In outer function\")\n",
    "    nnum = 786\n",
    "    num2 = 999\n",
    "\n",
    "    def inner():\n",
    "        print(\"In Inner function\", nnum)\n",
    "\n",
    "    print(f\"inner.__closure__                 :{inner.__closure__}\")\n",
    "    print(f\"inner.__closure__[0].cell_contents:{inner.__closure__[0].cell_contents}\")\n",
    "    return inner  # ----- closure \n",
    "\n",
    "\n",
    "result = outer()\n",
    "print(\"result\", type(result), result)"
   ]
  },
  {
   "cell_type": "code",
   "execution_count": 155,
   "metadata": {},
   "outputs": [
    {
     "name": "stdout",
     "output_type": "stream",
     "text": [
      "In Inner function 786\n"
     ]
    }
   ],
   "source": [
    "result()"
   ]
  },
  {
   "cell_type": "code",
   "execution_count": 156,
   "metadata": {},
   "outputs": [
    {
     "name": "stdout",
     "output_type": "stream",
     "text": [
      "In outer function\n",
      "inner.__closure__                 :(<cell at 0x707144e63d30: int object at 0x70714473c4d0>,)\n",
      "inner.__closure__[0].cell_contents:786\n",
      "In Inner function 786\n"
     ]
    }
   ],
   "source": [
    "outer()()"
   ]
  },
  {
   "cell_type": "markdown",
   "metadata": {},
   "source": [
    "__closure__ is None or a tuple of cells that contain binding for the function's free variables.\n",
    "\n",
    "Also, it is NOT writable.\n",
    "\n"
   ]
  },
  {
   "cell_type": "markdown",
   "metadata": {},
   "source": [
    "## Decorators"
   ]
  },
  {
   "cell_type": "markdown",
   "metadata": {},
   "source": [
    "#### Without decorators\n"
   ]
  },
  {
   "cell_type": "code",
   "execution_count": 158,
   "metadata": {},
   "outputs": [
    {
     "data": {
      "text/plain": [
       "30"
      ]
     },
     "execution_count": 158,
     "metadata": {},
     "output_type": "execute_result"
    }
   ],
   "source": [
    "def add(n1, n2):\n",
    "    return n1 + n2\n",
    "\n",
    "add(10, 20)"
   ]
  },
  {
   "cell_type": "code",
   "execution_count": 159,
   "metadata": {},
   "outputs": [
    {
     "data": {
      "text/plain": [
       "'1020'"
      ]
     },
     "execution_count": 159,
     "metadata": {},
     "output_type": "execute_result"
    }
   ],
   "source": [
    "add('10', '20')"
   ]
  },
  {
   "cell_type": "code",
   "execution_count": 31,
   "metadata": {},
   "outputs": [
    {
     "data": {
      "text/plain": [
       "5.0"
      ]
     },
     "execution_count": 31,
     "metadata": {},
     "output_type": "execute_result"
    }
   ],
   "source": [
    "def div(n1, n2):\n",
    "    return n1 / n2\n",
    "\n",
    "\n",
    "div(10, 2)"
   ]
  },
  {
   "cell_type": "code",
   "execution_count": 161,
   "metadata": {},
   "outputs": [
    {
     "name": "stdout",
     "output_type": "stream",
     "text": [
      "div(10, 2)   =5.0\n",
      "div(10, '2') =TypeError(\"unsupported operand type(s) for /: 'int' and 'str'\")\n",
      "div(10, 0)   =ZeroDivisionError('division by zero')\n"
     ]
    }
   ],
   "source": [
    "def div(a, b):\n",
    "    try:\n",
    "        a / b\n",
    "    except Exception as e:\n",
    "        return e\n",
    "    else:\n",
    "        return a / b\n",
    "\n",
    "print(f\"{div(10, 2)   =}\")\n",
    "print(f\"{div(10, '2') =}\")\n",
    "print(f\"{div(10, 0)   =}\")"
   ]
  },
  {
   "cell_type": "code",
   "execution_count": 162,
   "metadata": {},
   "outputs": [
    {
     "name": "stdout",
     "output_type": "stream",
     "text": [
      "2.0\n",
      "division by zero\n",
      "5\n",
      "can only concatenate str (not \"int\") to str\n"
     ]
    }
   ],
   "source": [
    "def div(a, b):\n",
    "    try:\n",
    "        a / b\n",
    "    except Exception as e:\n",
    "        return e\n",
    "    else:\n",
    "        return a / b\n",
    "\n",
    "\n",
    "def add(a, b):\n",
    "    try:\n",
    "        a + b\n",
    "    except Exception as e:\n",
    "        return e\n",
    "    else:\n",
    "        return a + b\n",
    "\n",
    "\n",
    "print(div(4, 2))\n",
    "print(div(4, 0))\n",
    "\n",
    "print(add(2, 3))\n",
    "print(add(\"a\", 3))"
   ]
  },
  {
   "cell_type": "code",
   "execution_count": 163,
   "metadata": {},
   "outputs": [
    {
     "name": "stdout",
     "output_type": "stream",
     "text": [
      "<function except_handler.<locals>.inner at 0x707154640ea0>\n"
     ]
    }
   ],
   "source": [
    "def except_handler(func):  # passing function as input arg\n",
    "    def inner(a, b):\n",
    "        try:\n",
    "            a / b\n",
    "        except Exception as e:\n",
    "            return e\n",
    "        else:\n",
    "            return a / b\n",
    "    return inner\n",
    "\n",
    "\n",
    "def div(n1, n2):\n",
    "    return n1 / n2\n",
    "\n",
    "div_with_exception__handling =  except_handler(div)\n",
    "print(div_with_exception__handling) # except_handler.<locals>.inner\n"
   ]
  },
  {
   "cell_type": "code",
   "execution_count": 164,
   "metadata": {},
   "outputs": [
    {
     "data": {
      "text/plain": [
       "5.0"
      ]
     },
     "execution_count": 164,
     "metadata": {},
     "output_type": "execute_result"
    }
   ],
   "source": [
    "div_with_exception__handling(10, 2)"
   ]
  },
  {
   "cell_type": "code",
   "execution_count": 165,
   "metadata": {},
   "outputs": [
    {
     "name": "stdout",
     "output_type": "stream",
     "text": [
      "<function except_handler.<locals>.inner at 0x707144719d00>\n"
     ]
    }
   ],
   "source": [
    "def except_handler(func):  # passing function as input arg\n",
    "    def inner(a, b):\n",
    "        try:\n",
    "            a + b               #   a / b\n",
    "        except Exception as e:\n",
    "            return e\n",
    "        else:\n",
    "            return a + b        # a / b\n",
    "    return inner\n",
    "\n",
    "\n",
    "\n",
    "# def add(a, b):\n",
    "#     try:\n",
    "#         a + b\n",
    "#     except Exception as e:\n",
    "#         return e\n",
    "#     else:\n",
    "#         return a + b\n",
    "\n",
    "\n",
    "def add(a, b):\n",
    "    return a + b\n",
    "\n",
    "add_with_excedption_handling = except_handler(add)\n",
    "print(add_with_excedption_handling)  # except_handler.<locals>.inner"
   ]
  },
  {
   "cell_type": "code",
   "execution_count": 166,
   "metadata": {},
   "outputs": [
    {
     "data": {
      "text/plain": [
       "15"
      ]
     },
     "execution_count": 166,
     "metadata": {},
     "output_type": "execute_result"
    }
   ],
   "source": [
    "add_with_excedption_handling(10, 5)"
   ]
  },
  {
   "cell_type": "code",
   "execution_count": 167,
   "metadata": {},
   "outputs": [
    {
     "name": "stdout",
     "output_type": "stream",
     "text": [
      "<function except_handler.<locals>.inner at 0x707144918860>\n"
     ]
    }
   ],
   "source": [
    "def except_handler(func):  # passing function as input arg\n",
    "    def inner(a, b):\n",
    "        try:\n",
    "            result = func(a, b)  # a + b               #   a / b\n",
    "        except Exception as e:\n",
    "            return e\n",
    "        else:\n",
    "            return result         # a + b        # a / b\n",
    "    return inner\n",
    "\n",
    "\n",
    "\n",
    "# def add(a, b):\n",
    "#     try:\n",
    "#         a + b\n",
    "#     except Exception as e:\n",
    "#         return e\n",
    "#     else:\n",
    "#         return a + b\n",
    "\n",
    "\n",
    "def add(a, b):\n",
    "    return a + b\n",
    "\n",
    "add_with_excedption_handling = except_handler(add)\n",
    "print(add_with_excedption_handling)  # except_handler.<locals>.inner"
   ]
  },
  {
   "cell_type": "code",
   "execution_count": 168,
   "metadata": {},
   "outputs": [
    {
     "name": "stdout",
     "output_type": "stream",
     "text": [
      "div_with_exception__handling =<function except_handler.<locals>.inner at 0x707144a98d60>\n",
      "add_with_excedption_handling = <function except_handler.<locals>.inner at 0x7071447194e0>\n",
      "2.0\n",
      "division by zero\n",
      "5\n",
      "can only concatenate str (not \"int\") to str\n"
     ]
    }
   ],
   "source": [
    "def except_handler(func):  # passing function as input arg\n",
    "    def inner(a, b):\n",
    "        try:\n",
    "            result = func(a, b)     # a + b   #   a / b\n",
    "        except Exception as e:\n",
    "            return e\n",
    "        else:\n",
    "            return result           # a + b        # a / b\n",
    "    return inner\n",
    "\n",
    "\n",
    "def div(n1, n2):\n",
    "    return n1 / n2\n",
    "\n",
    "\n",
    "def add(a, b):\n",
    "    return a + b\n",
    "\n",
    "\n",
    "\n",
    "div_with_exception__handling =  except_handler(div)\n",
    "print(f'{div_with_exception__handling =}')\n",
    "\n",
    "add_with_excedption_handling = except_handler(add)\n",
    "print(f'{add_with_excedption_handling = }')  # except_handler.<locals>.inner\n",
    "\n",
    "\n",
    "print(div_with_exception__handling(4, 2))\n",
    "print(div_with_exception__handling(4, 0))\n",
    "\n",
    "print(add_with_excedption_handling(2, 3))\n",
    "print(add_with_excedption_handling(\"a\", 3))"
   ]
  },
  {
   "cell_type": "code",
   "execution_count": 170,
   "metadata": {},
   "outputs": [
    {
     "name": "stdout",
     "output_type": "stream",
     "text": [
      "add_with_excedption_handling=<function except_handler.<locals>.inner at 0x707144a9a700>\n"
     ]
    }
   ],
   "source": [
    "def addition(n1, n2, n3):\n",
    "    return n1 + n2 + n3\n",
    "\n",
    "\n",
    "add_with_excedption_handling = except_handler(addition)\n",
    "print(f'{add_with_excedption_handling=}')  # except_handler.<locals>.inner"
   ]
  },
  {
   "cell_type": "code",
   "execution_count": 171,
   "metadata": {},
   "outputs": [
    {
     "data": {
      "text/plain": [
       "60"
      ]
     },
     "execution_count": 171,
     "metadata": {},
     "output_type": "execute_result"
    }
   ],
   "source": [
    "addition(10, 20, 30)"
   ]
  },
  {
   "cell_type": "code",
   "execution_count": 173,
   "metadata": {},
   "outputs": [
    {
     "name": "stdout",
     "output_type": "stream",
     "text": [
      "add_with_excedption_handling = <function except_handler.<locals>.inner at 0x7071449193a0>\n",
      "5\n",
      "can only concatenate str (not \"int\") to str\n",
      "add_with_excedption_handling=<function except_handler.<locals>.inner at 0x707154641080>\n",
      "9\n"
     ]
    }
   ],
   "source": [
    "def except_handler(func):  # passing function as input arg\n",
    "    def inner(*args, **kwargs):        # a, b  -- passing variable arguments\n",
    "        try:\n",
    "            result = func(*args, **kwargs) \n",
    "        except Exception as e:\n",
    "            return e\n",
    "        else:\n",
    "            return result \n",
    "    return inner\n",
    "\n",
    "\n",
    "def add(a, b):    # 2 args\n",
    "    return a + b\n",
    "\n",
    "\n",
    "add_with_excedption_handling = except_handler(add)\n",
    "print(f'{add_with_excedption_handling = }')  # except_handler.<locals>.inner\n",
    "\n",
    "print(add_with_excedption_handling(2, 3))\n",
    "print(add_with_excedption_handling(\"a\", 3))\n",
    "\n",
    "\n",
    "def addition(n1, n2, n3):  # 3rgs\n",
    "    return n1 + n2 + n3\n",
    "\n",
    "\n",
    "add_with_excedption_handling = except_handler(addition)\n",
    "print(f'{add_with_excedption_handling=}')  # except_handler.<locals>.inner\n",
    "\n",
    "print(add_with_excedption_handling(2, 3, 4))\n"
   ]
  },
  {
   "cell_type": "markdown",
   "metadata": {},
   "source": [
    "#### Decorator syntactic sugar"
   ]
  },
  {
   "cell_type": "code",
   "execution_count": 174,
   "metadata": {},
   "outputs": [
    {
     "name": "stdout",
     "output_type": "stream",
     "text": [
      "2.0\n",
      "division by zero\n"
     ]
    }
   ],
   "source": [
    "@except_handler  # comment this line and observe difference\n",
    "def div(a, b):    # indirectly  except_handler(div)\n",
    "    return a / b\n",
    "\n",
    "\n",
    "print(div(4, 2))\n",
    "print(div(4, 0))"
   ]
  },
  {
   "cell_type": "code",
   "execution_count": 175,
   "metadata": {},
   "outputs": [
    {
     "name": "stdout",
     "output_type": "stream",
     "text": [
      "5\n",
      "can only concatenate str (not \"int\") to str\n"
     ]
    }
   ],
   "source": [
    "@except_handler\n",
    "def add(a, b):\n",
    "    return a + b\n",
    "\n",
    "\n",
    "print(add(2, 3))\n",
    "print(add(\"a\", 3))"
   ]
  },
  {
   "cell_type": "markdown",
   "metadata": {},
   "source": [
    "__NOTE:__ Decorators slow down the function call. Keep that in mind."
   ]
  },
  {
   "cell_type": "code",
   "execution_count": 176,
   "metadata": {},
   "outputs": [],
   "source": [
    "def makebold(fn):\n",
    "    def wrapped(*args, **kwargs):\n",
    "        print(\"makebold - args\", args)\n",
    "        print(\"makebold  - kwargs\", kwargs)\n",
    "        print()\n",
    "        return \"<b>\" + fn(*args, **kwargs) + \"</b>\"\n",
    "\n",
    "    return wrapped\n",
    "\n",
    "\n",
    "def makeitalic(fn):\n",
    "    def wrapped(*args, **kwargs):\n",
    "        print(\"makeitalic - args\", args)\n",
    "        print(\"makeitalic  - kwargs\", kwargs)\n",
    "        print()\n",
    "        return \"<i>\" + fn(*args, **kwargs) + \"</i>\"\n",
    "\n",
    "    return wrapped"
   ]
  },
  {
   "cell_type": "code",
   "execution_count": 182,
   "metadata": {},
   "outputs": [
    {
     "name": "stdout",
     "output_type": "stream",
     "text": [
      "makeitalic - args ('abhi', 9000000)\n",
      "makeitalic  - kwargs {}\n",
      "\n",
      "makebold - args ('abhi', 9000000)\n",
      "makebold  - kwargs {}\n",
      "\n",
      "<i><b>hello world:abhi\t salary:9000000</b></i>\n"
     ]
    }
   ],
   "source": [
    "@makeitalic\n",
    "@makebold\n",
    "def hello(name, salary=20000000):\n",
    "    return f\"hello world:{name}\\t salary:{salary}\"\n",
    "\n",
    "\n",
    "print(hello(\"abhi\", 9000000))  ## returns \"<i><b>hello world:abhi\t salary:9000000</b></i>\n",
    "\n"
   ]
  },
  {
   "cell_type": "code",
   "execution_count": 183,
   "metadata": {},
   "outputs": [],
   "source": [
    "# NOTE: decorators will execute in top to bottom orderr"
   ]
  },
  {
   "cell_type": "code",
   "execution_count": 185,
   "metadata": {},
   "outputs": [
    {
     "name": "stdout",
     "output_type": "stream",
     "text": [
      "makebold - args ('abhi', 9000000)\n",
      "makebold  - kwargs {}\n",
      "\n",
      "makeitalic - args ('abhi', 9000000)\n",
      "makeitalic  - kwargs {}\n",
      "\n",
      "<b><i>hello world:abhi\t salary:9000000</i></b>\n"
     ]
    }
   ],
   "source": [
    "@makebold\n",
    "@makeitalic\n",
    "def hello(name, salary=20000000):\n",
    "    return f\"hello world:{name}\\t salary:{salary}\"\n",
    "\n",
    "\n",
    "print(hello(\"abhi\", 9000000))  ## returns \"<b><i>hello world:abhi\t salary:9000000</i></b>\""
   ]
  },
  {
   "cell_type": "code",
   "execution_count": 186,
   "metadata": {},
   "outputs": [
    {
     "name": "stdout",
     "output_type": "stream",
     "text": [
      "function -start \n",
      "function - before end\n",
      "46\n",
      "function -start \n",
      "function - before end\n",
      "408\n"
     ]
    }
   ],
   "source": [
    "def addition(num1, num2):\n",
    "    print(\"function -start \")\n",
    "    result = num1 + num2\n",
    "    print(\"function - before end\")\n",
    "    return result\n",
    "\n",
    "\n",
    "def multiplication(num1, num2):\n",
    "    print(\"function -start \")\n",
    "    result = num1 * num2\n",
    "    print(\"function - before end\")\n",
    "    return result\n",
    "\n",
    "\n",
    "print(addition(12, 34))\n",
    "print(multiplication(12, 34))"
   ]
  },
  {
   "cell_type": "code",
   "execution_count": 187,
   "metadata": {},
   "outputs": [
    {
     "name": "stdout",
     "output_type": "stream",
     "text": [
      "\n",
      "===USING DECORATORS\n",
      "function -start \n",
      "function - before end\n",
      "36\n",
      "function -start \n",
      "function - before end\n",
      "46\n"
     ]
    }
   ],
   "source": [
    "print(\"\\n===USING DECORATORS\")\n",
    "\n",
    "\n",
    "def print_statements(func):\n",
    "    def inner(*args, **kwargs):\n",
    "        print(\"function -start \")\n",
    "        # print 'In print_statemenst decorator', func\n",
    "        myresult = func(*args, **kwargs)\n",
    "        print(\"function - before end\")\n",
    "        return myresult\n",
    "\n",
    "    return inner\n",
    "\n",
    "\n",
    "@print_statements\n",
    "def addition11111(num1, num2):\n",
    "    result = num1 + num2\n",
    "    return result\n",
    "\n",
    "\n",
    "@print_statements\n",
    "def multiplication1111(num1, num2):\n",
    "    result = num1 * num2\n",
    "    return result\n",
    "\n",
    "\n",
    "print(multiplication1111(12, 3))\n",
    "print(addition11111(12, 34))"
   ]
  },
  {
   "cell_type": "code",
   "execution_count": 190,
   "metadata": {},
   "outputs": [
    {
     "name": "stdout",
     "output_type": "stream",
     "text": [
      "[0, 2, 4, 6, 8, 10, 12, 14, 16, 18, 20, 22, 24, 26, 28, 30, 32, 34, 36, 38, 40, 42, 44, 46, 48, 50, 52, 54, 56, 58, 60, 62, 64, 66, 68, 70, 72, 74, 76, 78, 80, 82, 84, 86, 88, 90, 92, 94, 96, 98]\n",
      "[0, 2, 4, 6, 8, 10, 12, 14, 16, 18, 20, 22, 24, 26, 28, 30, 32, 34, 36, 38, 40, 42, 44, 46, 48, 50, 52, 54, 56, 58, 60, 62, 64, 66, 68, 70, 72, 74, 76, 78, 80, 82, 84, 86, 88, 90, 92, 94, 96, 98, 100, 102, 104, 106, 108, 110, 112, 114, 116, 118, 120, 122, 124, 126, 128, 130, 132, 134, 136, 138, 140, 142, 144, 146, 148, 150, 152, 154, 156, 158, 160, 162, 164, 166, 168, 170, 172, 174, 176, 178, 180, 182, 184, 186, 188, 190, 192, 194, 196, 198, 200, 202, 204, 206, 208, 210, 212, 214, 216, 218, 220, 222, 224, 226, 228, 230, 232, 234, 236, 238, 240, 242, 244, 246, 248, 250, 252, 254, 256, 258, 260, 262, 264, 266, 268, 270, 272, 274, 276, 278, 280, 282, 284, 286, 288, 290, 292, 294, 296, 298, 300, 302, 304, 306, 308, 310, 312, 314, 316, 318, 320, 322, 324, 326, 328, 330, 332, 334, 336, 338, 340, 342, 344, 346, 348, 350, 352, 354, 356, 358, 360, 362, 364, 366, 368, 370, 372, 374, 376, 378, 380, 382, 384, 386, 388, 390, 392, 394, 396, 398, 400, 402, 404, 406, 408, 410, 412, 414, 416, 418, 420, 422, 424, 426, 428, 430, 432, 434, 436, 438, 440, 442, 444, 446, 448, 450, 452, 454, 456, 458, 460, 462, 464, 466, 468, 470, 472, 474, 476, 478, 480, 482, 484, 486, 488, 490, 492, 494, 496, 498, 500, 502, 504, 506, 508, 510, 512, 514, 516, 518, 520, 522, 524, 526, 528, 530, 532, 534, 536, 538, 540, 542, 544, 546, 548, 550, 552, 554, 556, 558, 560, 562, 564, 566, 568, 570, 572, 574, 576, 578, 580, 582, 584, 586, 588, 590, 592, 594, 596, 598, 600, 602, 604, 606, 608, 610, 612, 614, 616, 618, 620, 622, 624, 626, 628, 630, 632, 634, 636, 638, 640, 642, 644, 646, 648, 650, 652, 654, 656, 658, 660, 662, 664, 666, 668, 670, 672, 674, 676, 678, 680, 682, 684, 686, 688, 690, 692, 694, 696, 698, 700, 702, 704, 706, 708, 710, 712, 714, 716, 718, 720, 722, 724, 726, 728, 730, 732, 734, 736, 738, 740, 742, 744, 746, 748, 750, 752, 754, 756, 758, 760, 762, 764, 766, 768, 770, 772, 774, 776, 778, 780, 782, 784, 786, 788, 790, 792, 794, 796, 798, 800, 802, 804, 806, 808, 810, 812, 814, 816, 818, 820, 822, 824, 826, 828, 830, 832, 834, 836, 838, 840, 842, 844, 846, 848, 850, 852, 854, 856, 858, 860, 862, 864, 866, 868, 870, 872, 874, 876, 878, 880, 882, 884, 886, 888, 890, 892, 894, 896, 898, 900, 902, 904, 906, 908, 910, 912, 914, 916, 918, 920, 922, 924, 926, 928, 930, 932, 934, 936, 938, 940, 942, 944, 946, 948, 950, 952, 954, 956, 958, 960, 962, 964, 966, 968, 970, 972, 974, 976, 978, 980, 982, 984, 986, 988, 990, 992, 994, 996, 998]\n"
     ]
    }
   ],
   "source": [
    "# decorator to calculate the time taken by a function\n",
    "\n",
    "def get_even_number(num):\n",
    "    even_numbers = []\n",
    "    for i in range(num):\n",
    "        if i % 2 == 0:\n",
    "            even_numbers.append(i)\n",
    "    return even_numbers\n",
    "\n",
    "\n",
    "print(get_even_number(100))\n",
    "print(get_even_number(1000))"
   ]
  },
  {
   "cell_type": "code",
   "execution_count": 189,
   "metadata": {},
   "outputs": [
    {
     "data": {
      "text/plain": [
       "5182470687137"
      ]
     },
     "execution_count": 189,
     "metadata": {},
     "output_type": "execute_result"
    }
   ],
   "source": [
    "import time \n",
    "\n",
    "time.perf_counter_ns()"
   ]
  },
  {
   "cell_type": "code",
   "execution_count": 191,
   "metadata": {},
   "outputs": [
    {
     "name": "stdout",
     "output_type": "stream",
     "text": [
      "TIME_TAKEN = 7424 ns\n",
      "[0, 2, 4, 6, 8, 10, 12, 14, 16, 18, 20, 22, 24, 26, 28, 30, 32, 34, 36, 38, 40, 42, 44, 46, 48, 50, 52, 54, 56, 58, 60, 62, 64, 66, 68, 70, 72, 74, 76, 78, 80, 82, 84, 86, 88, 90, 92, 94, 96, 98]\n",
      "TIME_TAKEN = 44393 ns\n",
      "[0, 2, 4, 6, 8, 10, 12, 14, 16, 18, 20, 22, 24, 26, 28, 30, 32, 34, 36, 38, 40, 42, 44, 46, 48, 50, 52, 54, 56, 58, 60, 62, 64, 66, 68, 70, 72, 74, 76, 78, 80, 82, 84, 86, 88, 90, 92, 94, 96, 98, 100, 102, 104, 106, 108, 110, 112, 114, 116, 118, 120, 122, 124, 126, 128, 130, 132, 134, 136, 138, 140, 142, 144, 146, 148, 150, 152, 154, 156, 158, 160, 162, 164, 166, 168, 170, 172, 174, 176, 178, 180, 182, 184, 186, 188, 190, 192, 194, 196, 198, 200, 202, 204, 206, 208, 210, 212, 214, 216, 218, 220, 222, 224, 226, 228, 230, 232, 234, 236, 238, 240, 242, 244, 246, 248, 250, 252, 254, 256, 258, 260, 262, 264, 266, 268, 270, 272, 274, 276, 278, 280, 282, 284, 286, 288, 290, 292, 294, 296, 298, 300, 302, 304, 306, 308, 310, 312, 314, 316, 318, 320, 322, 324, 326, 328, 330, 332, 334, 336, 338, 340, 342, 344, 346, 348, 350, 352, 354, 356, 358, 360, 362, 364, 366, 368, 370, 372, 374, 376, 378, 380, 382, 384, 386, 388, 390, 392, 394, 396, 398, 400, 402, 404, 406, 408, 410, 412, 414, 416, 418, 420, 422, 424, 426, 428, 430, 432, 434, 436, 438, 440, 442, 444, 446, 448, 450, 452, 454, 456, 458, 460, 462, 464, 466, 468, 470, 472, 474, 476, 478, 480, 482, 484, 486, 488, 490, 492, 494, 496, 498, 500, 502, 504, 506, 508, 510, 512, 514, 516, 518, 520, 522, 524, 526, 528, 530, 532, 534, 536, 538, 540, 542, 544, 546, 548, 550, 552, 554, 556, 558, 560, 562, 564, 566, 568, 570, 572, 574, 576, 578, 580, 582, 584, 586, 588, 590, 592, 594, 596, 598, 600, 602, 604, 606, 608, 610, 612, 614, 616, 618, 620, 622, 624, 626, 628, 630, 632, 634, 636, 638, 640, 642, 644, 646, 648, 650, 652, 654, 656, 658, 660, 662, 664, 666, 668, 670, 672, 674, 676, 678, 680, 682, 684, 686, 688, 690, 692, 694, 696, 698, 700, 702, 704, 706, 708, 710, 712, 714, 716, 718, 720, 722, 724, 726, 728, 730, 732, 734, 736, 738, 740, 742, 744, 746, 748, 750, 752, 754, 756, 758, 760, 762, 764, 766, 768, 770, 772, 774, 776, 778, 780, 782, 784, 786, 788, 790, 792, 794, 796, 798, 800, 802, 804, 806, 808, 810, 812, 814, 816, 818, 820, 822, 824, 826, 828, 830, 832, 834, 836, 838, 840, 842, 844, 846, 848, 850, 852, 854, 856, 858, 860, 862, 864, 866, 868, 870, 872, 874, 876, 878, 880, 882, 884, 886, 888, 890, 892, 894, 896, 898, 900, 902, 904, 906, 908, 910, 912, 914, 916, 918, 920, 922, 924, 926, 928, 930, 932, 934, 936, 938, 940, 942, 944, 946, 948, 950, 952, 954, 956, 958, 960, 962, 964, 966, 968, 970, 972, 974, 976, 978, 980, 982, 984, 986, 988, 990, 992, 994, 996, 998]\n"
     ]
    }
   ],
   "source": [
    "\n",
    "def get_even_number(num):\n",
    "    start_time = time.perf_counter_ns()\n",
    "\n",
    "    even_numbers = []\n",
    "    for i in range(num):\n",
    "        if i % 2 == 0:\n",
    "            even_numbers.append(i)\n",
    "    end_time = time.perf_counter_ns()\n",
    "    print(f'TIME_TAKEN = {end_time - start_time} ns')\n",
    "    return even_numbers\n",
    "\n",
    "\n",
    "print(get_even_number(100))\n",
    "print(get_even_number(1000))"
   ]
  },
  {
   "cell_type": "code",
   "execution_count": 192,
   "metadata": {},
   "outputs": [
    {
     "name": "stdout",
     "output_type": "stream",
     "text": [
      "TIME_TAKEN = 852 ns\n",
      "Hello python! welcome to the world\n",
      "TIME_TAKEN = 681 ns\n",
      "Hello golang! welcome to the world\n"
     ]
    }
   ],
   "source": [
    "\n",
    "def hello_word(name):\n",
    "    start_time = time.perf_counter_ns()\n",
    "\n",
    "    greeting = f'Hello {name}! welcome to the world'\n",
    "\n",
    "    end_time = time.perf_counter_ns()\n",
    "    print(f'TIME_TAKEN = {end_time - start_time} ns')\n",
    "    return greeting\n",
    "\n",
    "\n",
    "print(hello_word('python'))\n",
    "print(hello_word('golang'))"
   ]
  },
  {
   "cell_type": "code",
   "execution_count": 74,
   "metadata": {},
   "outputs": [
    {
     "name": "stdout",
     "output_type": "stream",
     "text": [
      "TIME_TAKEN = 7385 ns\n",
      "[0, 2, 4, 6, 8, 10, 12, 14, 16, 18, 20, 22, 24, 26, 28, 30, 32, 34, 36, 38, 40, 42, 44, 46, 48, 50, 52, 54, 56, 58, 60, 62, 64, 66, 68, 70, 72, 74, 76, 78, 80, 82, 84, 86, 88, 90, 92, 94, 96, 98]\n",
      "TIME_TAKEN = 44334 ns\n",
      "[0, 2, 4, 6, 8, 10, 12, 14, 16, 18, 20, 22, 24, 26, 28, 30, 32, 34, 36, 38, 40, 42, 44, 46, 48, 50, 52, 54, 56, 58, 60, 62, 64, 66, 68, 70, 72, 74, 76, 78, 80, 82, 84, 86, 88, 90, 92, 94, 96, 98, 100, 102, 104, 106, 108, 110, 112, 114, 116, 118, 120, 122, 124, 126, 128, 130, 132, 134, 136, 138, 140, 142, 144, 146, 148, 150, 152, 154, 156, 158, 160, 162, 164, 166, 168, 170, 172, 174, 176, 178, 180, 182, 184, 186, 188, 190, 192, 194, 196, 198, 200, 202, 204, 206, 208, 210, 212, 214, 216, 218, 220, 222, 224, 226, 228, 230, 232, 234, 236, 238, 240, 242, 244, 246, 248, 250, 252, 254, 256, 258, 260, 262, 264, 266, 268, 270, 272, 274, 276, 278, 280, 282, 284, 286, 288, 290, 292, 294, 296, 298, 300, 302, 304, 306, 308, 310, 312, 314, 316, 318, 320, 322, 324, 326, 328, 330, 332, 334, 336, 338, 340, 342, 344, 346, 348, 350, 352, 354, 356, 358, 360, 362, 364, 366, 368, 370, 372, 374, 376, 378, 380, 382, 384, 386, 388, 390, 392, 394, 396, 398, 400, 402, 404, 406, 408, 410, 412, 414, 416, 418, 420, 422, 424, 426, 428, 430, 432, 434, 436, 438, 440, 442, 444, 446, 448, 450, 452, 454, 456, 458, 460, 462, 464, 466, 468, 470, 472, 474, 476, 478, 480, 482, 484, 486, 488, 490, 492, 494, 496, 498, 500, 502, 504, 506, 508, 510, 512, 514, 516, 518, 520, 522, 524, 526, 528, 530, 532, 534, 536, 538, 540, 542, 544, 546, 548, 550, 552, 554, 556, 558, 560, 562, 564, 566, 568, 570, 572, 574, 576, 578, 580, 582, 584, 586, 588, 590, 592, 594, 596, 598, 600, 602, 604, 606, 608, 610, 612, 614, 616, 618, 620, 622, 624, 626, 628, 630, 632, 634, 636, 638, 640, 642, 644, 646, 648, 650, 652, 654, 656, 658, 660, 662, 664, 666, 668, 670, 672, 674, 676, 678, 680, 682, 684, 686, 688, 690, 692, 694, 696, 698, 700, 702, 704, 706, 708, 710, 712, 714, 716, 718, 720, 722, 724, 726, 728, 730, 732, 734, 736, 738, 740, 742, 744, 746, 748, 750, 752, 754, 756, 758, 760, 762, 764, 766, 768, 770, 772, 774, 776, 778, 780, 782, 784, 786, 788, 790, 792, 794, 796, 798, 800, 802, 804, 806, 808, 810, 812, 814, 816, 818, 820, 822, 824, 826, 828, 830, 832, 834, 836, 838, 840, 842, 844, 846, 848, 850, 852, 854, 856, 858, 860, 862, 864, 866, 868, 870, 872, 874, 876, 878, 880, 882, 884, 886, 888, 890, 892, 894, 896, 898, 900, 902, 904, 906, 908, 910, 912, 914, 916, 918, 920, 922, 924, 926, 928, 930, 932, 934, 936, 938, 940, 942, 944, 946, 948, 950, 952, 954, 956, 958, 960, 962, 964, 966, 968, 970, 972, 974, 976, 978, 980, 982, 984, 986, 988, 990, 992, 994, 996, 998]\n",
      "TIME_TAKEN = 748 ns\n",
      "Hello python! welcome to the world\n",
      "TIME_TAKEN = 456 ns\n",
      "Hello golang! welcome to the world\n"
     ]
    }
   ],
   "source": [
    "def time_taken(func):\n",
    "    def inner(*args, **kwargs):\n",
    "        start_time = time.perf_counter_ns()\n",
    "        \n",
    "        result = func(*args, **kwargs)\n",
    "        \n",
    "        end_time = time.perf_counter_ns()\n",
    "        print(f'TIME_TAKEN = {end_time - start_time} ns')\n",
    "\n",
    "        return result\n",
    "    return inner\n",
    "\n",
    "\n",
    "@time_taken\n",
    "def get_even_number(num):\n",
    "    even_numbers = []\n",
    "    for i in range(num):\n",
    "        if i % 2 == 0:\n",
    "            even_numbers.append(i)\n",
    "    return even_numbers\n",
    "\n",
    "\n",
    "print(get_even_number(100))\n",
    "print(get_even_number(1000))\n",
    "\n",
    "\n",
    "@time_taken\n",
    "def hello_word(name):\n",
    "    greeting = f'Hello {name}! welcome to the world'\n",
    "    return greeting\n",
    "\n",
    "\n",
    "print(hello_word('python'))\n",
    "print(hello_word('golang'))"
   ]
  },
  {
   "cell_type": "code",
   "execution_count": 193,
   "metadata": {},
   "outputs": [
    {
     "name": "stdout",
     "output_type": "stream",
     "text": [
      "function took 0.021 sec, returning None, arguments (1000,) and {}\n"
     ]
    }
   ],
   "source": [
    "import time\n",
    "\n",
    "\n",
    "def function_logger(func):\n",
    "    def wrapper(*args, **kwargs):\n",
    "        start_time, temp = time.time(), func(*args, **kwargs)\n",
    "        elasped = time.time() - start_time\n",
    "        print(\n",
    "            \"{} took {:.3f} sec, returning {}, arguments {} and {}\".format(\n",
    "                func.__code__.co_name, elasped, temp, args, kwargs\n",
    "            )\n",
    "        )\n",
    "        return temp\n",
    "\n",
    "    return wrapper\n",
    "\n",
    "\n",
    "@function_logger\n",
    "def function(*args, **kwargs):\n",
    "    for i in range(int(args[0])):\n",
    "        for j in range(int(args[0])):\n",
    "            pass\n",
    "\n",
    "\n",
    "function(1000)"
   ]
  },
  {
   "cell_type": "code",
   "execution_count": 194,
   "metadata": {},
   "outputs": [
    {
     "name": "stdout",
     "output_type": "stream",
     "text": [
      "How about party today?\n",
      "How about party today? Please! I am poor :(\n"
     ]
    }
   ],
   "source": [
    "from functools import wraps\n",
    "\n",
    "\n",
    "def beg(target_function):\n",
    "    @wraps(target_function)\n",
    "    def wrapper(*args, **kwargs):\n",
    "        msg, say_please = target_function(*args, **kwargs)\n",
    "        if say_please:\n",
    "            return \"{} {}\".format(msg, \"Please! I am poor :(\")\n",
    "        return msg\n",
    "\n",
    "    return wrapper\n",
    "\n",
    "\n",
    "@beg\n",
    "def say(say_please=False):\n",
    "    msg = \"How about party today?\"\n",
    "    return msg, say_please\n",
    "\n",
    "\n",
    "print(say())  # How about party today?\n",
    "print(say(say_please=True))  # How about party today? Please! I am poor :("
   ]
  },
  {
   "cell_type": "markdown",
   "metadata": {},
   "source": [
    "### Class Decorator"
   ]
  },
  {
   "cell_type": "code",
   "execution_count": 195,
   "metadata": {},
   "outputs": [
    {
     "name": "stdout",
     "output_type": "stream",
     "text": [
      "<b><i>hi</i></b>\n"
     ]
    }
   ],
   "source": [
    "class bol:\n",
    "    def __init__(self, f):\n",
    "        self.f = f\n",
    "\n",
    "    def __call__(self):\n",
    "        return \"<b>{}</b>\".format(self.f())\n",
    "\n",
    "\n",
    "class ita:\n",
    "    def __init__(self, f):\n",
    "        self.f = f\n",
    "\n",
    "    def __call__(self):\n",
    "        return \"<i>{}</i>\".format(self.f())\n",
    "\n",
    "\n",
    "\n",
    "@bol\n",
    "@ita\n",
    "def sayhi():\n",
    "    return \"hi\"\n",
    "\n",
    "\n",
    "print(sayhi())\n"
   ]
  },
  {
   "cell_type": "code",
   "execution_count": 196,
   "metadata": {},
   "outputs": [
    {
     "name": "stdout",
     "output_type": "stream",
     "text": [
      "<b><i>hi</i></b>\n"
     ]
    }
   ],
   "source": [
    "class sty(object):\n",
    "    def __init__(self, tag):\n",
    "        self.tag = tag\n",
    "\n",
    "    def __call__(self, f):\n",
    "        def newf():\n",
    "            return \"<{tag}>{res}</{tag}>\".format(res=f(), tag=self.tag)\n",
    "\n",
    "        return newf\n",
    "\n",
    "\n",
    "@sty(\"b\")\n",
    "@sty(\"i\")\n",
    "def sayhi():\n",
    "    return \"hi\"\n",
    "\n",
    "\n",
    "print(sayhi())"
   ]
  },
  {
   "cell_type": "code",
   "execution_count": 197,
   "metadata": {},
   "outputs": [
    {
     "name": "stdout",
     "output_type": "stream",
     "text": [
      "Call 1 of 'say_whee'\n",
      "\t\t\tWhee!\n",
      "Call 2 of 'say_whee'\n",
      "\t\t\tWhee!\n",
      "Call 3 of 'say_whee'\n",
      "\t\t\tWhee!\n"
     ]
    }
   ],
   "source": [
    "import functools\n",
    "\n",
    "\n",
    "class CountCalls:\n",
    "    def __init__(self, func):\n",
    "        functools.update_wrapper(self, func)\n",
    "        self.func = func\n",
    "        self.num_calls = 0\n",
    "\n",
    "    def __call__(self, *args, **kwargs):\n",
    "        self.num_calls += 1\n",
    "        print(f\"Call {self.num_calls} of {self.func.__name__!r}\")\n",
    "        return self.func(*args, **kwargs)\n",
    "\n",
    "\n",
    "@CountCalls\n",
    "def say_whee():\n",
    "    print(\"\\t\\t\\tWhee!\")\n",
    "\n",
    "\n",
    "if __name__ == \"__main__\":\n",
    "    say_whee()\n",
    "    say_whee()\n",
    "    say_whee()"
   ]
  }
 ],
 "metadata": {
  "kernelspec": {
   "display_name": "Python 3",
   "language": "python",
   "name": "python3"
  },
  "language_info": {
   "codemirror_mode": {
    "name": "ipython",
    "version": 3
   },
   "file_extension": ".py",
   "mimetype": "text/x-python",
   "name": "python",
   "nbconvert_exporter": "python",
   "pygments_lexer": "ipython3",
   "version": "3.12.1"
  }
 },
 "nbformat": 4,
 "nbformat_minor": 2
}
